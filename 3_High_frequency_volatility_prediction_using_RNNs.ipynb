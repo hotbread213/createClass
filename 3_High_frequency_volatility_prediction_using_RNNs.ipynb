{
  "nbformat": 4,
  "nbformat_minor": 0,
  "metadata": {
    "colab": {
      "name": "3 - High frequency volatility prediction using RNNs.ipynb",
      "version": "0.3.2",
      "provenance": [],
      "collapsed_sections": [],
      "include_colab_link": true
    },
    "language_info": {
      "codemirror_mode": {
        "name": "ipython",
        "version": 3
      },
      "file_extension": ".py",
      "mimetype": "text/x-python",
      "name": "python",
      "nbconvert_exporter": "python",
      "pygments_lexer": "ipython3",
      "version": "3.6.8"
    },
    "kernelspec": {
      "name": "python3",
      "display_name": "Python 3"
    },
    "accelerator": "GPU"
  },
  "cells": [
    {
      "cell_type": "markdown",
      "metadata": {
        "id": "view-in-github",
        "colab_type": "text"
      },
      "source": [
        "<a href=\"https://colab.research.google.com/github/hotbread213/createClass/blob/master/3_High_frequency_volatility_prediction_using_RNNs.ipynb\" target=\"_parent\"><img src=\"https://colab.research.google.com/assets/colab-badge.svg\" alt=\"Open In Colab\"/></a>"
      ]
    },
    {
      "cell_type": "markdown",
      "metadata": {
        "id": "yOxekWavo1Cb",
        "colab_type": "text"
      },
      "source": [
        "# IVADO Workshop Day 3 - Deep Learning"
      ]
    },
    {
      "cell_type": "markdown",
      "metadata": {
        "id": "ST5ow-3Ao1Cc",
        "colab_type": "text"
      },
      "source": [
        "In this notebook, we will try to predict future price volatility of cryptocurrencies using a simple LSTM network using Keras. At the end, we will try to reproduce what we have done, but with the PyTorch library."
      ]
    },
    {
      "cell_type": "code",
      "metadata": {
        "id": "CqbP3NXzo1Cd",
        "colab_type": "code",
        "colab": {}
      },
      "source": [
        "import time\n",
        "import pandas as pd\n",
        "import numpy as np\n",
        "import requests\n",
        "from keras.models import Sequential\n",
        "from keras.layers import Dense, LSTM\n",
        "import matplotlib.pyplot as plt"
      ],
      "execution_count": 0,
      "outputs": []
    },
    {
      "cell_type": "markdown",
      "metadata": {
        "id": "Ls_c_VL5o1Ci",
        "colab_type": "text"
      },
      "source": [
        "We will start by fetching some 1 min. price and volume data from a cryptocurrency exchange"
      ]
    },
    {
      "cell_type": "code",
      "metadata": {
        "id": "dQBemaLVo1Cj",
        "colab_type": "code",
        "colab": {}
      },
      "source": [
        "import requests\n",
        "\n",
        "market = 'BTCUSDT'\n",
        "tick_interval = '1m'\n",
        "\n",
        "n = 20\n",
        "\n",
        "endTime = int(time.time()*1000)\n",
        "startTime = endTime - n*60000*1000\n",
        "\n",
        "ohlc = []\n",
        "for i in range(200):\n",
        "    url = 'https://api.binance.com/api/v1/klines?limit=1000&symbol='+market+\\\n",
        "    '&interval='+tick_interval+\\\n",
        "    '&endTime='+str(startTime+(i+1)*60000*1000)+\\\n",
        "    '&startTime='+str(startTime+i*60000*1000)\n",
        "    \n",
        "    data = requests.get(url).json()\n",
        "    ohlc = ohlc + data\n"
      ],
      "execution_count": 0,
      "outputs": []
    },
    {
      "cell_type": "markdown",
      "metadata": {
        "id": "faISZu2oo1Cl",
        "colab_type": "text"
      },
      "source": [
        "We have a dataset composed of approximately 20000 prices and volumes"
      ]
    },
    {
      "cell_type": "code",
      "metadata": {
        "id": "v7yjArWwo1Cm",
        "colab_type": "code",
        "colab": {}
      },
      "source": [
        "len(ohlc)"
      ],
      "execution_count": 0,
      "outputs": []
    },
    {
      "cell_type": "code",
      "metadata": {
        "id": "HOgaDa0Qo1Co",
        "colab_type": "code",
        "colab": {}
      },
      "source": [
        "df = pd.DataFrame(ohlc)\n",
        "df = df.iloc[:,:6].astype(np.float32)\n",
        "df.columns = ['time','open','high','low','close','volume']\n",
        "df.head()"
      ],
      "execution_count": 0,
      "outputs": []
    },
    {
      "cell_type": "markdown",
      "metadata": {
        "id": "JRo_8D1do1Cq",
        "colab_type": "text"
      },
      "source": [
        "Let's create some features and a target"
      ]
    },
    {
      "cell_type": "code",
      "metadata": {
        "id": "L_2C_FxAo1Cr",
        "colab_type": "code",
        "colab": {}
      },
      "source": [
        "df['mean_price'] = df[['open','high','low','close']].mean(axis=1)"
      ],
      "execution_count": 0,
      "outputs": []
    },
    {
      "cell_type": "code",
      "metadata": {
        "id": "vS14KiS0o1Ct",
        "colab_type": "code",
        "colab": {}
      },
      "source": [
        "df['last_60_vol'] = df.mean_price.pct_change().rolling(60).std()*100"
      ],
      "execution_count": 0,
      "outputs": []
    },
    {
      "cell_type": "code",
      "metadata": {
        "id": "p4xzc0MZo1Cu",
        "colab_type": "code",
        "colab": {}
      },
      "source": [
        "df['next_60_vol'] = df.mean_price.pct_change().iloc[::-1].rolling(60).std().iloc[::-1]*100"
      ],
      "execution_count": 0,
      "outputs": []
    },
    {
      "cell_type": "code",
      "metadata": {
        "id": "tIGUz4A_o1Cx",
        "colab_type": "code",
        "colab": {}
      },
      "source": [
        "df['norm_volume']=(df.volume-df.volume.rolling(60).mean())/df.volume.rolling(60).std()"
      ],
      "execution_count": 0,
      "outputs": []
    },
    {
      "cell_type": "code",
      "metadata": {
        "id": "jafnpEuyo1Cz",
        "colab_type": "code",
        "colab": {}
      },
      "source": [
        "df.dropna(inplace=True)"
      ],
      "execution_count": 0,
      "outputs": []
    },
    {
      "cell_type": "markdown",
      "metadata": {
        "id": "M30uQ4oNo1C0",
        "colab_type": "text"
      },
      "source": [
        "We shape some examples that we are going to feed into an LSTM network"
      ]
    },
    {
      "cell_type": "code",
      "metadata": {
        "id": "lgX5pRZSo1C1",
        "colab_type": "code",
        "colab": {}
      },
      "source": [
        "def make_examples(X, y):\n",
        "    n = len(X)\n",
        "    \n",
        "    examples=[]\n",
        "    targets=[]\n",
        "    \n",
        "    for i in range(n//5):\n",
        "        examples.append(X[i*5:(i+1)*5])\n",
        "        targets.append(y[(i+1)*5])\n",
        "        \n",
        "    return examples, targets"
      ],
      "execution_count": 0,
      "outputs": []
    },
    {
      "cell_type": "code",
      "metadata": {
        "id": "N-4RKyiho1C2",
        "colab_type": "code",
        "colab": {}
      },
      "source": [
        "X = df[['last_60_vol','norm_volume']].values\n",
        "y = df.next_60_vol.values"
      ],
      "execution_count": 0,
      "outputs": []
    },
    {
      "cell_type": "code",
      "metadata": {
        "id": "Yhy9qRsUo1C4",
        "colab_type": "code",
        "colab": {}
      },
      "source": [
        "X, y = make_examples(X, y)"
      ],
      "execution_count": 0,
      "outputs": []
    },
    {
      "cell_type": "code",
      "metadata": {
        "id": "iCc6YIWvo1C6",
        "colab_type": "code",
        "colab": {}
      },
      "source": [
        "X = np.stack(X)\n",
        "y = np.stack(y)"
      ],
      "execution_count": 0,
      "outputs": []
    },
    {
      "cell_type": "code",
      "metadata": {
        "id": "fuk0puiro1C8",
        "colab_type": "code",
        "colab": {}
      },
      "source": [
        "split = int(0.7*len(X))"
      ],
      "execution_count": 0,
      "outputs": []
    },
    {
      "cell_type": "code",
      "metadata": {
        "id": "LgetGM-Ho1C-",
        "colab_type": "code",
        "colab": {}
      },
      "source": [
        "X_train, y_train = X[:split], y[:split]\n",
        "X_valid, y_valid = X[split:], y[split:]"
      ],
      "execution_count": 0,
      "outputs": []
    },
    {
      "cell_type": "markdown",
      "metadata": {
        "id": "ja6VJyN5o1DA",
        "colab_type": "text"
      },
      "source": [
        "Finally, let's fit a simple Keras neural network on our data"
      ]
    },
    {
      "cell_type": "code",
      "metadata": {
        "id": "NlKilwQdo1DA",
        "colab_type": "code",
        "colab": {}
      },
      "source": [
        "model = Sequential()\n",
        "\n",
        "model.add(LSTM(16,input_shape=(5,2,)))\n",
        "model.add(Dense(16,activation='relu'))\n",
        "model.add(Dense(1))\n",
        "\n",
        "model.compile(optimizer='adam', loss='mse')\n",
        "\n",
        "model.fit(X_train, y_train, validation_data=(X_valid, y_valid), epochs=100)"
      ],
      "execution_count": 0,
      "outputs": []
    },
    {
      "cell_type": "code",
      "metadata": {
        "id": "PWJUUjYOo1DE",
        "colab_type": "code",
        "colab": {}
      },
      "source": [
        "plt.figure(figsize=(12,8))\n",
        "plt.plot(y_valid[:100], label='Real')\n",
        "plt.plot(model.predict(X_valid)[:100], label='Predicted')\n",
        "plt.legend()\n",
        "plt.title('Real vs. Predicted volatility on the validation set')"
      ],
      "execution_count": 0,
      "outputs": []
    },
    {
      "cell_type": "markdown",
      "metadata": {
        "id": "JXIZavXDo1DH",
        "colab_type": "text"
      },
      "source": [
        "# Reproduce in PyTorch"
      ]
    },
    {
      "cell_type": "code",
      "metadata": {
        "id": "yCg0Yn07o1DI",
        "colab_type": "code",
        "colab": {}
      },
      "source": [
        ""
      ],
      "execution_count": 0,
      "outputs": []
    }
  ]
}