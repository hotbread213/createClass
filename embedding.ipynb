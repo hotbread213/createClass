{
  "nbformat": 4,
  "nbformat_minor": 0,
  "metadata": {
    "colab": {
      "name": "embedding.ipynb",
      "version": "0.3.2",
      "provenance": [],
      "include_colab_link": true
    },
    "kernelspec": {
      "name": "python3",
      "display_name": "Python 3"
    },
    "accelerator": "TPU"
  },
  "cells": [
    {
      "cell_type": "markdown",
      "metadata": {
        "id": "view-in-github",
        "colab_type": "text"
      },
      "source": [
        "<a href=\"https://colab.research.google.com/github/hotbread213/createClass/blob/master/embedding.ipynb\" target=\"_parent\"><img src=\"https://colab.research.google.com/assets/colab-badge.svg\" alt=\"Open In Colab\"/></a>"
      ]
    },
    {
      "cell_type": "markdown",
      "metadata": {
        "id": "sqwjKm6u8RDD",
        "colab_type": "text"
      },
      "source": [
        "# Introductions to embedding"
      ]
    },
    {
      "cell_type": "markdown",
      "metadata": {
        "id": "IyeQB69BjA1W",
        "colab_type": "text"
      },
      "source": [
        "## What does embedding means?\n",
        "\n",
        "Projecting an input into a better representation space. For example, consider a linear regression:\n",
        "\n",
        "Without feature mapping:\n",
        "\n",
        "\\begin{equation}\n",
        "    f(\\mathbf{x}) = \\mathbf{w}^\\top \\mathbf{x}+ b\n",
        "\\end{equation}\n",
        "\n",
        "With feature mapping:\n",
        "\n",
        "\\begin{equation}\n",
        "    f(\\mathbf{x}) = \\tilde{\\mathbf{w}}^\\top \\phi(\\mathbf{x})+ b\n",
        "\\end{equation}\n"
      ]
    },
    {
      "cell_type": "markdown",
      "metadata": {
        "id": "5gpgnkCymGut",
        "colab_type": "text"
      },
      "source": [
        "## A simple example: One-hot Encoding\n",
        "\n",
        "- One-hot encoding is an example of deterministic embedding\n",
        "\n",
        "<img src=\"https://drive.google.com/uc?export=view&id=1Sj1FSqc6JsVcg5zZGMj1bpE1C02f4uy8\">"
      ]
    },
    {
      "cell_type": "markdown",
      "metadata": {
        "id": "_E7EyzzC8Wij",
        "colab_type": "text"
      },
      "source": [
        "## Dataset and task for the tutorial\n",
        "\n",
        "- The [Twitter sentiment analysis](https://www.kaggle.com/c/twitter-sentiment-analysis2/overview) is an open source dataset available on Kaggle. It contains 100000 twits labeled as either negative (0) or positive (1). \n",
        "\n",
        "- The task consist in writing a model that takes a twits as input and output 1 if the sentiment is positive or 0 if the sentiment is negative."
      ]
    },
    {
      "cell_type": "markdown",
      "metadata": {
        "id": "RQFWBZ478aG8",
        "colab_type": "text"
      },
      "source": [
        "### Import required libraries"
      ]
    },
    {
      "cell_type": "code",
      "metadata": {
        "id": "54gJlXOp8MbH",
        "colab_type": "code",
        "colab": {}
      },
      "source": [
        "import time\n",
        "import random\n",
        "import os\n",
        "import pandas\n",
        "import numpy\n",
        "import zipfile\n",
        "\n",
        "from sklearn.feature_extraction.text import CountVectorizer\n",
        "from sklearn.linear_model import LogisticRegression\n",
        "from sklearn.metrics import accuracy_score\n",
        "\n",
        "import torch\n",
        "import torch.nn as nn\n",
        "import torch.optim as optim\n",
        "from torch.nn import functional as F\n",
        "from torchtext.data import Field, TabularDataset, Iterator\n",
        "\n",
        "from google_drive_downloader import GoogleDriveDownloader\n",
        "\n",
        "import spacy\n",
        "\n",
        "spacy_en = spacy.load('en')"
      ],
      "execution_count": 0,
      "outputs": []
    },
    {
      "cell_type": "markdown",
      "metadata": {
        "id": "Ak39Q00cD9Yx",
        "colab_type": "text"
      },
      "source": [
        "### Define some constants"
      ]
    },
    {
      "cell_type": "code",
      "metadata": {
        "id": "nyOhKQoIEMeI",
        "colab_type": "code",
        "colab": {}
      },
      "source": [
        "class Constants:\n",
        "    \n",
        "    DATA_FILE_ID = '1wrfQmCShiTmbIsr7LpZhEiYw7dhuaOhk'                     # Google drive id to be able to download from drive\n",
        "    \n",
        "    SEED = 1                                                               # random seed for reproductability\n",
        "    \n",
        "    DATA_DIR = 'data/twitter/'                                             # path to the csv data\n",
        "    DATA_ZIP_FILE = f'{DATA_DIR}data.zip'                                  # path where to dowload the zipped data\n",
        "    DATA_PATH = '{}data.csv'.format(DATA_DIR)                              # path to the news data\n",
        "    TRAIN_PATH = '{}train.csv'.format(DATA_DIR)\n",
        "    VALID_PATH = '{}valid.csv'.format(DATA_DIR)\n",
        "    TEST_PATH = '{}test.csv'.format(DATA_DIR)\n",
        "    \n",
        "    DEVICE = torch.device(\"cuda\" if torch.cuda.is_available() else \"cpu\")  # set device to GPU if availale\n",
        "\n",
        "constants = Constants"
      ],
      "execution_count": 0,
      "outputs": []
    },
    {
      "cell_type": "markdown",
      "metadata": {
        "id": "_mK-xikbpfz-",
        "colab_type": "text"
      },
      "source": [
        "### Fix random seed for reproductability"
      ]
    },
    {
      "cell_type": "code",
      "metadata": {
        "id": "Zby9fXxOpK2M",
        "colab_type": "code",
        "colab": {}
      },
      "source": [
        "numpy.random.seed(constants.SEED)\n",
        "random.seed(constants.SEED)\n",
        "torch.manual_seed(constants.SEED)\n",
        "torch.backends.cudnn.deterministic = True"
      ],
      "execution_count": 0,
      "outputs": []
    },
    {
      "cell_type": "markdown",
      "metadata": {
        "id": "8vsIB-qL8fW7",
        "colab_type": "text"
      },
      "source": [
        "### Download the data on your local server"
      ]
    },
    {
      "cell_type": "code",
      "metadata": {
        "id": "MoTKIkm8pnmr",
        "colab_type": "code",
        "outputId": "67ee076a-6068-4ae4-9bba-d7fbf7169b18",
        "colab": {
          "base_uri": "https://localhost:8080/",
          "height": 54
        }
      },
      "source": [
        "GoogleDriveDownloader.download_file_from_google_drive(file_id=constants.DATA_FILE_ID, dest_path=constants.DATA_ZIP_FILE, unzip=False)\n",
        "\n",
        "zip_ref = zipfile.ZipFile(constants.DATA_ZIP_FILE, 'r')\n",
        "zip_ref.extractall(constants.DATA_DIR)\n",
        "zip_ref.close()\n",
        "\n",
        "os.rename(f'{constants.DATA_DIR}train.csv', f'{constants.DATA_DIR}data.csv')\n",
        "!rm data/twitter/test.csv\n",
        "\n",
        "!ls data/twitter"
      ],
      "execution_count": 0,
      "outputs": [
        {
          "output_type": "stream",
          "text": [
            "Downloading 1wrfQmCShiTmbIsr7LpZhEiYw7dhuaOhk into data/twitter/data.zip... Done.\n",
            "data.csv  data.zip\n"
          ],
          "name": "stdout"
        }
      ]
    },
    {
      "cell_type": "markdown",
      "metadata": {
        "id": "RrVhiYEbrIDV",
        "colab_type": "text"
      },
      "source": [
        "### Visualize the data with `pandas.DataFrame`"
      ]
    },
    {
      "cell_type": "code",
      "metadata": {
        "id": "6OAaVzzJ8Q2U",
        "colab_type": "code",
        "outputId": "93dfe151-1903-4562-a8b4-a4cd519f809f",
        "colab": {
          "base_uri": "https://localhost:8080/",
          "height": 198
        }
      },
      "source": [
        "data = pandas.read_csv(constants.DATA_PATH, encoding=\"ISO-8859-1\") # weird encoding: https://stackoverflow.com/questions/18171739/unicodedecodeerror-when-reading-csv-file-in-pandas-with-python\n",
        "data.head()"
      ],
      "execution_count": 0,
      "outputs": [
        {
          "output_type": "execute_result",
          "data": {
            "text/html": [
              "<div>\n",
              "<style scoped>\n",
              "    .dataframe tbody tr th:only-of-type {\n",
              "        vertical-align: middle;\n",
              "    }\n",
              "\n",
              "    .dataframe tbody tr th {\n",
              "        vertical-align: top;\n",
              "    }\n",
              "\n",
              "    .dataframe thead th {\n",
              "        text-align: right;\n",
              "    }\n",
              "</style>\n",
              "<table border=\"1\" class=\"dataframe\">\n",
              "  <thead>\n",
              "    <tr style=\"text-align: right;\">\n",
              "      <th></th>\n",
              "      <th>ItemID</th>\n",
              "      <th>Sentiment</th>\n",
              "      <th>SentimentText</th>\n",
              "    </tr>\n",
              "  </thead>\n",
              "  <tbody>\n",
              "    <tr>\n",
              "      <th>0</th>\n",
              "      <td>1</td>\n",
              "      <td>0</td>\n",
              "      <td>is so sad for my APL frie...</td>\n",
              "    </tr>\n",
              "    <tr>\n",
              "      <th>1</th>\n",
              "      <td>2</td>\n",
              "      <td>0</td>\n",
              "      <td>I missed the New Moon trail...</td>\n",
              "    </tr>\n",
              "    <tr>\n",
              "      <th>2</th>\n",
              "      <td>3</td>\n",
              "      <td>1</td>\n",
              "      <td>omg its already 7:30 :O</td>\n",
              "    </tr>\n",
              "    <tr>\n",
              "      <th>3</th>\n",
              "      <td>4</td>\n",
              "      <td>0</td>\n",
              "      <td>.. Omgaga. Im sooo  im gunna CRy. I'...</td>\n",
              "    </tr>\n",
              "    <tr>\n",
              "      <th>4</th>\n",
              "      <td>5</td>\n",
              "      <td>0</td>\n",
              "      <td>i think mi bf is cheating on me!!!   ...</td>\n",
              "    </tr>\n",
              "  </tbody>\n",
              "</table>\n",
              "</div>"
            ],
            "text/plain": [
              "   ItemID  Sentiment                                      SentimentText\n",
              "0       1          0                       is so sad for my APL frie...\n",
              "1       2          0                     I missed the New Moon trail...\n",
              "2       3          1                            omg its already 7:30 :O\n",
              "3       4          0            .. Omgaga. Im sooo  im gunna CRy. I'...\n",
              "4       5          0           i think mi bf is cheating on me!!!   ..."
            ]
          },
          "metadata": {
            "tags": []
          },
          "execution_count": 5
        }
      ]
    },
    {
      "cell_type": "markdown",
      "metadata": {
        "id": "J_a2D59Lz8iy",
        "colab_type": "text"
      },
      "source": [
        "### Dataset validation"
      ]
    },
    {
      "cell_type": "code",
      "metadata": {
        "id": "TJbC7koxyLVG",
        "colab_type": "code",
        "colab": {}
      },
      "source": [
        "N_OBS = len(data)\n",
        "\n",
        "assert N_OBS == 99989\n",
        "\n",
        "N_POSITIVE_LABEL = len(data[data.Sentiment == 1])\n",
        "N_NEGATIVE_LABEL = len(data[data.Sentiment == 0])\n",
        "\n",
        "assert N_POSITIVE_LABEL == 56457\n",
        "assert N_NEGATIVE_LABEL == 43532\n",
        "assert N_POSITIVE_LABEL + N_NEGATIVE_LABEL == N_OBS\n",
        "\n",
        "assert len(data.dropna()) == N_OBS  # Make sure there is no nan"
      ],
      "execution_count": 0,
      "outputs": []
    },
    {
      "cell_type": "markdown",
      "metadata": {
        "id": "R__F-itRriUy",
        "colab_type": "text"
      },
      "source": [
        "### Split the data into a train and a validation set and print some informations (split percentage, class distribution)"
      ]
    },
    {
      "cell_type": "code",
      "metadata": {
        "id": "1pCOJ7IFz5CW",
        "colab_type": "code",
        "colab": {}
      },
      "source": [
        "TRAIN_SIZE = round(0.6 * N_OBS)\n",
        "VALID_SIZE = round(0.2 * N_OBS)\n",
        "TEST_SIZE = round(0.2 * N_OBS)\n",
        "assert TRAIN_SIZE + VALID_SIZE + TEST_SIZE == N_OBS"
      ],
      "execution_count": 0,
      "outputs": []
    },
    {
      "cell_type": "code",
      "metadata": {
        "id": "v4V4ktvjrsCz",
        "colab_type": "code",
        "colab": {}
      },
      "source": [
        "# shuffle the indices\n",
        "examples = set(range(N_OBS))\n",
        "train_indices = set(random.sample(examples, TRAIN_SIZE))\n",
        "examples = set(i for i in examples if i not in train_indices)\n",
        "valid_indices = set(random.sample(examples, VALID_SIZE))\n",
        "test_indices = [i for i in examples if i not in valid_indices]"
      ],
      "execution_count": 0,
      "outputs": []
    },
    {
      "cell_type": "code",
      "metadata": {
        "id": "OUexVVWS1lNz",
        "colab_type": "code",
        "colab": {}
      },
      "source": [
        "# Split the data\n",
        "train_df = data.iloc[list(train_indices)]\n",
        "valid_df = data.iloc[list(valid_indices)]\n",
        "test_df = data.iloc[list(test_indices)]"
      ],
      "execution_count": 0,
      "outputs": []
    },
    {
      "cell_type": "code",
      "metadata": {
        "id": "tI-RFbD5vdj9",
        "colab_type": "code",
        "outputId": "d5d9c60f-f558-4ac0-efb4-2ffae5559020",
        "colab": {
          "base_uri": "https://localhost:8080/",
          "height": 68
        }
      },
      "source": [
        "n_train = len(train_df)\n",
        "n_train_positive = len(train_df[train_df.Sentiment == 1])\n",
        "\n",
        "n_valid = len(valid_df)\n",
        "n_valid_positive = len(valid_df[valid_df.Sentiment == 1])\n",
        "\n",
        "n_test = len(test_df)\n",
        "n_test_positive = len(test_df[test_df.Sentiment == 1])\n",
        "\n",
        "print('# train example: {} ({:.2f} %) | positive: {:.2f} % | negative: {:.2f} %'.format(n_train, n_train / N_OBS * 100, n_train_positive / n_train * 100, 100 - n_train_positive / n_train * 100))\n",
        "print('# valid example: {} ({:.2f} %) | positive: {:.2f} % | negative: {:.2f} %'.format(n_valid, n_valid / N_OBS * 100, n_valid_positive / n_valid * 100, 100 - n_valid_positive / n_valid * 100))\n",
        "print('# test example: {} ({:.2f} %) | positive: {:.2f} % | negative: {:.2f} %'.format(n_test, n_test / N_OBS * 100, n_test_positive / n_test * 100, 100 - n_test_positive / n_test * 100))"
      ],
      "execution_count": 0,
      "outputs": [
        {
          "output_type": "stream",
          "text": [
            "# train example: 59993 (60.00 %) | positive: 56.53 % | negative: 43.47 %\n",
            "# valid example: 19998 (20.00 %) | positive: 56.35 % | negative: 43.65 %\n",
            "# test example: 19998 (20.00 %) | positive: 56.37 % | negative: 43.63 %\n"
          ],
          "name": "stdout"
        }
      ]
    },
    {
      "cell_type": "code",
      "metadata": {
        "id": "2LIA_AanvjRF",
        "colab_type": "code",
        "outputId": "0f9be32a-8c1a-445d-af11-415ad54e9818",
        "colab": {
          "base_uri": "https://localhost:8080/",
          "height": 34
        }
      },
      "source": [
        "train_df.to_csv(constants.TRAIN_PATH, encoding='utf-8')\n",
        "valid_df.to_csv(constants.VALID_PATH, encoding='utf-8')\n",
        "test_df.to_csv(constants.TEST_PATH, encoding='utf-8')\n",
        "\n",
        "!ls data/twitter"
      ],
      "execution_count": 0,
      "outputs": [
        {
          "output_type": "stream",
          "text": [
            "data.csv  data.zip  test.csv  train.csv  valid.csv\n"
          ],
          "name": "stdout"
        }
      ]
    },
    {
      "cell_type": "markdown",
      "metadata": {
        "id": "xwVJ4gSnwINq",
        "colab_type": "text"
      },
      "source": [
        "## Representing words with one-hot encoding"
      ]
    },
    {
      "cell_type": "code",
      "metadata": {
        "id": "_z3gDd0awf3t",
        "colab_type": "code",
        "colab": {}
      },
      "source": [
        "train_inputs = train_df.SentimentText\n",
        "train_labels = train_df.Sentiment\n",
        "\n",
        "valid_inputs = valid_df.SentimentText\n",
        "valid_labels = valid_df.Sentiment"
      ],
      "execution_count": 0,
      "outputs": []
    },
    {
      "cell_type": "markdown",
      "metadata": {
        "id": "YtvTfny1wZOt",
        "colab_type": "text"
      },
      "source": [
        "#### Vecorizing the features with `CountVecoctorizer` [[docs]](https://scikit-learn.org/stable/modules/generated/sklearn.feature_extraction.text.CountVectorizer.html)"
      ]
    },
    {
      "cell_type": "code",
      "metadata": {
        "id": "K_0Usb0wrBg0",
        "colab_type": "code",
        "outputId": "69300839-4ccd-42b9-f42e-1da32e369c45",
        "colab": {
          "base_uri": "https://localhost:8080/",
          "height": 68
        }
      },
      "source": [
        "fake_twit = \"GOT is kind of weird this year...\"\n",
        "\n",
        "fake_vectorizer = CountVectorizer()\n",
        "fake_vectorizer = fake_vectorizer.fit([fake_twit])\n",
        "\n",
        "print(fake_vectorizer.vocabulary_)\n",
        "\n",
        "onehot_GOT = fake_vectorizer.transform(['GOT']).toarray()[0]\n",
        "print(onehot_GOT)\n",
        "\n",
        "onehot_year = fake_vectorizer.transform(['year']).toarray()[0]\n",
        "print(onehot_year)"
      ],
      "execution_count": 0,
      "outputs": [
        {
          "output_type": "stream",
          "text": [
            "{'got': 0, 'is': 1, 'kind': 2, 'of': 3, 'weird': 5, 'this': 4, 'year': 6}\n",
            "[1 0 0 0 0 0 0]\n",
            "[0 0 0 0 0 0 1]\n"
          ],
          "name": "stdout"
        }
      ]
    },
    {
      "cell_type": "code",
      "metadata": {
        "id": "perQKuRaF88u",
        "colab_type": "code",
        "colab": {}
      },
      "source": [
        "vectorizer = CountVectorizer()\n",
        "vectorizer = vectorizer.fit(train_inputs)"
      ],
      "execution_count": 0,
      "outputs": []
    },
    {
      "cell_type": "code",
      "metadata": {
        "id": "IOzAiK5Xp8m2",
        "colab_type": "code",
        "outputId": "3cba20a0-21e2-4ef4-fb52-05ad673479e8",
        "colab": {
          "base_uri": "https://localhost:8080/",
          "height": 51
        }
      },
      "source": [
        "x = train_inputs[0]\n",
        "print(f'Twit: {x}')\n",
        "bow = vectorizer.transform([x]).toarray()[0]\n",
        "print(f'Sum of one-hot: {bow}')"
      ],
      "execution_count": 0,
      "outputs": [
        {
          "output_type": "stream",
          "text": [
            "Twit:                      is so sad for my APL friend.............\n",
            "Sum of one-hot: [0 0 0 ... 0 0 0]\n"
          ],
          "name": "stdout"
        }
      ]
    },
    {
      "cell_type": "code",
      "metadata": {
        "id": "K5jaVSV4p54k",
        "colab_type": "code",
        "colab": {}
      },
      "source": [
        "train_bow = vectorizer.transform(train_inputs)\n",
        "valid_bow = vectorizer.transform(valid_inputs)"
      ],
      "execution_count": 0,
      "outputs": []
    },
    {
      "cell_type": "markdown",
      "metadata": {
        "id": "vK-YcLUpNG_w",
        "colab_type": "text"
      },
      "source": [
        "#### Classifying twits with logistic regression [[docs]](https://scikit-learn.org/stable/modules/generated/sklearn.linear_model.LogisticRegression.html)\n",
        "\n",
        "\\begin{equation}\n",
        "    y = (1+e^{-\\mathbf{w}^\\top - b})^{-1}\n",
        "\\end{equation}"
      ]
    },
    {
      "cell_type": "code",
      "metadata": {
        "id": "DSx3YoOw6nqV",
        "colab_type": "code",
        "colab": {}
      },
      "source": [
        "# Initialize the classifier. `lbfgs` is the default optimizer. \n",
        "# Set `max_iter` to 1000 to avoid annoying convergence warning\n",
        "lr = LogisticRegression(solver='lbfgs', max_iter=1000)"
      ],
      "execution_count": 0,
      "outputs": []
    },
    {
      "cell_type": "code",
      "metadata": {
        "id": "1P_sxXVLNPzA",
        "colab_type": "code",
        "colab": {}
      },
      "source": [
        "# optimize the parameters of the classifier\n",
        "lr = lr.fit(train_bow, train_labels)"
      ],
      "execution_count": 0,
      "outputs": []
    },
    {
      "cell_type": "code",
      "metadata": {
        "id": "eWFsTfJ069Y9",
        "colab_type": "code",
        "outputId": "d5d4f296-833d-41b7-98e2-030d08e7b954",
        "colab": {
          "base_uri": "https://localhost:8080/",
          "height": 51
        }
      },
      "source": [
        "# Evaluate the accuracy of our baseline model\n",
        "train_predictions = lr.predict(train_bow)\n",
        "valid_predictions = lr.predict(valid_bow)\n",
        "\n",
        "print('Train accuracy: {:.2f} %'.format(accuracy_score(train_predictions, train_labels) * 100))\n",
        "print('Valid accuracy: {:.2f} %'.format(accuracy_score(valid_predictions, valid_labels) * 100))"
      ],
      "execution_count": 0,
      "outputs": [
        {
          "output_type": "stream",
          "text": [
            "Train accuracy: 90.91 %\n",
            "Valid accuracy: 76.42 %\n"
          ],
          "name": "stdout"
        }
      ]
    },
    {
      "cell_type": "markdown",
      "metadata": {
        "id": "NJ8Au6haQrhQ",
        "colab_type": "text"
      },
      "source": [
        "## Representing words with *embeddings*"
      ]
    },
    {
      "cell_type": "markdown",
      "metadata": {
        "id": "HVZniHekSHDo",
        "colab_type": "text"
      },
      "source": [
        "### Tokenization"
      ]
    },
    {
      "cell_type": "code",
      "metadata": {
        "id": "cO9h73aT_038",
        "colab_type": "code",
        "outputId": "ecab7917-bbe0-4de0-ff87-300aed77fff2",
        "colab": {
          "base_uri": "https://localhost:8080/",
          "height": 34
        }
      },
      "source": [
        "def tokenizer(text):\n",
        "    \"\"\"\n",
        "    Tokenizes English text from a string into a list of strings (tokens)\n",
        "    \"\"\"\n",
        "    return [tok.text for tok in spacy_en.tokenizer(text)]\n",
        "\n",
        "# example\n",
        "tokenizer(fake_twit)"
      ],
      "execution_count": 0,
      "outputs": [
        {
          "output_type": "execute_result",
          "data": {
            "text/plain": [
              "['GOT', 'is', 'kind', 'of', 'weird', 'this', 'year', '...']"
            ]
          },
          "metadata": {
            "tags": []
          },
          "execution_count": 20
        }
      ]
    },
    {
      "cell_type": "markdown",
      "metadata": {
        "id": "abgAuPTUTdbd",
        "colab_type": "text"
      },
      "source": [
        "#### Loading and preprocessing `csv` file with `torchtext.data.TabularDataset`"
      ]
    },
    {
      "cell_type": "code",
      "metadata": {
        "id": "BtrgwdEnSYqX",
        "colab_type": "code",
        "colab": {}
      },
      "source": [
        "# Defining `Field`s with `torchtext.data.Field`\n",
        "input_field = Field(sequential=True, tokenize=tokenizer, lower=True, batch_first=True, fix_length=42)\n",
        "label_field = Field(sequential=False, use_vocab=False, is_target=True, unk_token=None, batch_first=True, dtype=torch.float32)\n",
        "\n",
        "fields = {\n",
        "    'SentimentText': ('input', input_field),\n",
        "    'Sentiment': ('label', label_field)\n",
        "}\n",
        "\n",
        "train_data = TabularDataset(path=constants.TRAIN_PATH, format='csv', fields=fields)\n",
        "valid_data = TabularDataset(path=constants.VALID_PATH, format='csv', fields=fields)"
      ],
      "execution_count": 0,
      "outputs": []
    },
    {
      "cell_type": "code",
      "metadata": {
        "id": "mNG23puHUWFN",
        "colab_type": "code",
        "outputId": "a42c30f0-24c9-4907-f35b-3285830ae4d5",
        "colab": {
          "base_uri": "https://localhost:8080/",
          "height": 51
        }
      },
      "source": [
        "print(train_df.SentimentText.iloc[4])\n",
        "print(vars(train_data.examples[4]))"
      ],
      "execution_count": 0,
      "outputs": [
        {
          "output_type": "stream",
          "text": [
            "       Sunny Again        Work Tomorrow  :-|       TV Tonight\n",
            "{'input': ['       ', 'sunny', 'again', '       ', 'work', 'tomorrow', ' ', ':-|', '      ', 'tv', 'tonight'], 'label': '0'}\n"
          ],
          "name": "stdout"
        }
      ]
    },
    {
      "cell_type": "markdown",
      "metadata": {
        "id": "yTinbEY6acPC",
        "colab_type": "text"
      },
      "source": [
        "#### `Field.build_vocab`\n",
        "\n",
        "- `min_freq`: The minimum frequency needed to include a token in the vocabulary. Values less than 1 will be set to 1. Default: 1."
      ]
    },
    {
      "cell_type": "code",
      "metadata": {
        "id": "HvAQlv4hV6lO",
        "colab_type": "code",
        "colab": {}
      },
      "source": [
        "input_field.build_vocab(train_data, min_freq=5)"
      ],
      "execution_count": 0,
      "outputs": []
    },
    {
      "cell_type": "code",
      "metadata": {
        "id": "ivVyKmYrWF7V",
        "colab_type": "code",
        "outputId": "089482cf-ff3e-4823-a1b6-139115c13ca4",
        "colab": {
          "base_uri": "https://localhost:8080/",
          "height": 54
        }
      },
      "source": [
        "print(dict(input_field.vocab.stoi))"
      ],
      "execution_count": 0,
      "outputs": [
        {
          "output_type": "stream",
          "text": [
            "{'<unk>': 0, '<pad>': 1, 'i': 2, '!': 3, '.': 4, ' ': 5, ',': 6, 'you': 7, 'the': 8, 'to': 9, '?': 10, 'it': 11, 'a': 12, 'and': 13, 'that': 14, '...': 15, 'my': 16, 'is': 17, 'for': 18, 'in': 19, \"'s\": 20, \"n't\": 21, 'me': 22, 'have': 23, 'of': 24, 'on': 25, 'do': 26, 'so': 27, 'but': 28, '&': 29, ';': 30, \"'m\": 31, '-': 32, 'was': 33, '#': 34, 'be': 35, 'not': 36, 'just': 37, '..': 38, 'your': 39, 'are': 40, 'good': 41, 'with': 42, 'no': 43, 'like': 44, 'get': 45, 'lol': 46, 'at': 47, 'too': 48, 'we': 49, 'u': 50, '*': 51, 'all': 52, 'now': 53, 'up': 54, 'know': 55, 'this': 56, 'love': 57, 'what': 58, 'out': 59, 'did': 60, 'thanks': 61, 'nt': 62, 'will': 63, 'one': 64, 'there': 65, 'can': 66, ':': 67, 'go': 68, 'they': 69, 'got': 70, 'if': 71, '  ': 72, 'day': 73, 'ca': 74, 'how': 75, 'about': 76, 'well': 77, 'see': 78, ')': 79, \"'ll\": 80, 'he': 81, '(': 82, 'time': 83, 'm': 84, 'when': 85, 'as': 86, \"'re\": 87, 'think': 88, 'from': 89, 'oh': 90, 'am': 91, 'haha': 92, 'really': 93, 'going': 94, 'hope': 95, 'would': 96, 'work': 97, 'had': 98, 'amp': 99, 'sorry': 100, 'its': 101, 'here': 102, 'some': 103, 'or': 104, 'still': 105, 'back': 106, 'yeah': 107, '....': 108, 'want': 109, 'more': 110, 'today': 111, 'been': 112, 'much': 113, 'great': 114, 'an': 115, 'need': 116, 'them': 117, '2': 118, '_': 119, 'miss': 120, \"'\": 121, 'she': 122, 'could': 123, 'then': 124, \"'ve\": 125, 'right': 126, 'new': 127, 'only': 128, 'yes': 129, 'twitter': 130, 'very': 131, 'night': 132, 'fun': 133, 's': 134, 'though': 135, '@': 136, 'should': 137, 'thank': 138, 'better': 139, 'make': 140, 'come': 141, 'last': 142, 'why': 143, 'has': 144, 'wish': 145, 'her': 146, 'hey': 147, 'sad': 148, 'feel': 149, 'were': 150, 'does': 151, 'by': 152, 'nice': 153, 'off': 154, 'way': 155, 'bad': 156, '/': 157, 'again': 158, 'home': 159, 'morning': 160, 'happy': 161, 'never': 162, 'sure': 163, 'awesome': 164, 'him': 165, 'say': 166, 'ur': 167, 'na': 168, 'always': 169, 'even': 170, 'ok': 171, 'us': 172, 'who': 173, 'people': 174, 'wait': 175, 'gon': 176, 'let': 177, 'tomorrow': 178, 'soon': 179, 'next': 180, 'over': 181, 'cool': 182, 'take': 183, 'any': 184, 'week': 185, 'please': 186, 'follow': 187, \"'d\": 188, 'show': 189, 'thing': 190, 'something': 191, 'where': 192, 'doing': 193, 'guys': 194, 'look': 195, 'down': 196, 'wo': 197, 'hear': 198, 'tonight': 199, 'than': 200, 'same': 201, 'getting': 202, 'our': 203, 'find': 204, 'man': 205, 'best': 206, 'tell': 207, '4': 208, 'because': 209, 'yet': 210, 'maybe': 211, 'hate': 212, 'ya': 213, 'after': 214, 'x': 215, 'little': 216, 'glad': 217, '   ': 218, 'wanna': 219, 'sounds': 220, 'thought': 221, 'already': 222, 'days': 223, 'being': 224, 'long': 225, 'sleep': 226, '3': 227, 'pretty': 228, 'first': 229, 'keep': 230, 'watch': 231, 'his': 232, 'help': 233, 'made': 234, 'said': 235, 'try': 236, 'aww': 237, 'girl': 238, 'tweet': 239, 'those': 240, 'hi': 241, 'actually': 242, 'having': 243, 'welcome': 244, 'before': 245, 'lt;3': 246, 'life': 247, 'looking': 248, 'sucks': 249, 'weekend': 250, 'ever': 251, 'other': 252, 'working': 253, 'things': 254, 'guess': 255, 'everyone': 256, 'lot': 257, 'done': 258, 'also': 259, 'stuff': 260, 'give': 261, 'phone': 262, 'live': 263, 'mean': 264, 'away': 265, 'missed': 266, 'omg': 267, 'might': 268, 'looks': 269, 'luck': 270, 'makes': 271, 'went': 272, 'into': 273, 'friend': 274, 'saw': 275, 'nothing': 276, 'amazing': 277, ';)': 278, 'song': 279, 'someone': 280, 'year': 281, 'big': 282, 'wow': 283, 'yay': 284, 'school': 285, 'bit': 286, 'followfriday': 287, 'old': 288, 'hahaha': 289, 'bed': 290, 'coming': 291, 'least': 292, 'anything': 293, 'ha': 294, '1': 295, 'movie': 296, '.....': 297, 'lost': 298, 'few': 299, 'talk': 300, 'enjoy': 301, 'call': 302, 'must': 303, 'another': 304, 'their': 305, 'trying': 306, 'use': 307, 'around': 308, 'mine': 309, 'since': 310, 'check': 311, 'left': 312, 'many': 313, 'cute': 314, '=': 315, 'n': 316, 'wanted': 317, 'r': 318, 'may': 319, 'hard': 320, 'tho': 321, 'friends': 322, 'sick': 323, 'house': 324, 'myself': 325, 'read': 326, 'following': 327, 'poor': 328, 'feeling': 329, 'watching': 330, 'awww': 331, 'funny': 332, 'later': 333, 'while': 334, 'most': 335, 'start': 336, 'two': 337, 'totally': 338, 'damn': 339, 'okay': 340, 'birthday': 341, 'either': 342, 'everything': 343, '$': 344, 'play': 345, 'baby': 346, 'music': 347, 'put': 348, 'such': 349, 'free': 350, 'true': 351, 'once': 352, 'b': 353, 'which': 354, 'both': 355, 'friday': 356, 'wrong': 357, 'late': 358, 'real': 359, 'name': 360, 'summer': 361, 'hot': 362, 'ta': 363, 'these': 364, 'tweets': 365, 'until': 366, 'sweet': 367, 'far': 368, 'job': 369, 'probably': 370, 'followers': 371, 'hehe': 372, 'seen': 373, 'video': 374, 'found': 375, 'yesterday': 376, 'times': 377, 'enough': 378, 'send': 379, 'pic': 380, 'mom': 381, 'without': 382, 'early': 383, 'excited': 384, 'leave': 385, '@aplusk': 386, 'hours': 387, 'stop': 388, 'dude': 389, 'iphone': 390, 'win': 391, 'every': 392, 'god': 393, 'world': 394, 'end': 395, 'beautiful': 396, 'party': 397, 'xx': 398, 'idea': 399, 'years': 400, 'game': 401, 'head': 402, 'thinking': 403, 'used': 404, 'cause': 405, 'd': 406, 'heard': 407, 'ill': 408, 'stay': 409, 'btw': 410, 'buy': 411, 'lucky': 412, 'lmao': 413, 'tired': 414, 'fine': 415, 'remember': 416, 'anymore': 417, '5': 418, 'using': 419, 'add': 420, 'hello': 421, 'link': 422, 're': 423, 'gone': 424, 'making': 425, 'forward': 426, 'ah': 427, 'jealous': 428, 'shit': 429, 'sigh': 430, 'congrats': 431, 'tried': 432, 'course': 433, 'till': 434, 'kind': 435, 'weather': 436, '10': 437, '--': 438, 'yea': 439, 'money': 440, 'post': 441, 'aw': 442, 'place': 443, 'through': 444, 'able': 445, 'kinda': 446, 'anyway': 447, 'waiting': 448, 'told': 449, 'almost': 450, 'pay': 451, 'lovely': 452, 'ago': 453, 'hopefully': 454, 'person': 455, 'seems': 456, 'sunday': 457, 'busy': 458, 'believe': 459, 'quite': 460, 'else': 461, 'meet': 462, 'eat': 463, 'problem': 464, 'rain': 465, 'yep': 466, 'finally': 467, 'xd': 468, 'guy': 469, 'news': 470, 'crazy': 471, 'cuz': 472, 'fan': 473, 'food': 474, 'pics': 475, 'sun': 476, 'hair': 477, 'heart': 478, 'mind': 479, 'ugh': 480, 'care': 481, 'definitely': 482, 'called': 483, 'car': 484, 'coffee': 485, 'picture': 486, 'talking': 487, 'ask': 488, 'online': 489, 'ready': 490, 'weeks': 491, 'agree': 492, 'bring': 493, '°': 494, 'own': 495, 'family': 496, 'seeing': 497, 'lots': 498, 'bored': 499, 'monday': 500, 'says': 501, 'blog': 502, 'part': 503, 'email': 504, 'missing': 505, 'site': 506, 'face': 507, 'c': 508, 'came': 509, 'hugs': 510, 'playing': 511, 'stupid': 512, 'anyone': 513, 'ones': 514, 'super': 515, 'train': 516, 'reply': 517, '100': 518, 'cold': 519, 'gets': 520, 'goes': 521, 'sometimes': 522, 'book': 523, '@alexalltimelow': 524, 'forgot': 525, 'tv': 526, 'thx': 527, 've': 528, 'loved': 529, 'rest': 530, 'sound': 531, 'story': 532, '6': 533, 'kids': 534, 'boo': 535, 'hour': 536, 'started': 537, 'w/': 538, 'dm': 539, 'whole': 540, 'happen': 541, 'change': 542, 'sooo': 543, 'happened': 544, 'reading': 545, 'room': 546, 'seriously': 547, 'knew': 548, 'run': 549, 'unfortunately': 550, 'list': 551, 'sent': 552, 'together': 553, 'word': 554, '@ashleytisdale': 555, 'hang': 556, 'lunch': 557, 'means': 558, 'w': 559, 'works': 560, 'full': 561, 'took': 562, 'y': 563, 'dad': 564, 'suck': 565, 'girls': 566, 'taking': 567, '+': 568, ']': 569, 'message': 570, 'trip': 571, 'facebook': 572, 'nope': 573, 'wonderful': 574, 'ass': 575, 'cry': 576, 'rock': 577, 'dear': 578, 'hell': 579, 'listen': 580, 'favorite': 581, 'reason': 582, 'watched': 583, 'hurt': 584, 'month': 585, 'saturday': 586, 'xxx': 587, 'boy': 588, 'computer': 589, 'top': 590, 'internet': 591, 'ppl': 592, 'til': 593, 'fail': 594, 'season': 595, 'break': 596, 'office': 597, 'supposed': 598, 'boys': 599, 'stuck': 600, 'dog': 601, 'half': 602, 'write': 603, 'indeed': 604, 'interesting': 605, 'listening': 606, 'meant': 607, 'open': 608, 'point': 609, 'worry': 610, 'worth': 611, 'ai': 612, 'comes': 613, 'page': 614, 'words': 615, '@alyssa_milano': 616, 'bet': 617, 'ff': 618, 'less': 619, 'mad': 620, 'saying': 621, 'smile': 622, 'text': 623, 'drink': 624, 'forget': 625, 'goodnight': 626, 'liked': 627, 'soo': 628, 'dinner': 629, 'finished': 630, 'pain': 631, 'plan': 632, 'quot;i': 633, 'update': 634, 'visit': 635, 'hurts': 636, 'luv': 637, 'o': 638, 'album': 639, 'chance': 640, 'crap': 641, 'drive': 642, 'hoping': 643, \"i'm\": 644, 'needs': 645, 'alone': 646, 'couple': 647, 'hit': 648, 'june': 649, 'understand': 650, '@andyclemmensen': 651, 'bout': 652, 'hug': 653, 'la': 654, 'minutes': 655, 'perfect': 656, 'gave': 657, 'move': 658, 'chocolate': 659, 'turn': 660, 'yup': 661, 'yourself': 662, 'class': 663, 'dance': 664, 'exactly': 665, 'fuck': 666, 'red': 667, 'water': 668, 'catch': 669, 'sadly': 670, 'during': 671, 'high': 672, 'join': 673, 'laugh': 674, 'youtube': 675, 'babe': 676, ':o': 677, 'black': 678, 'close': 679, 'side': 680, 'vip': 681, '[': 682, 'answer': 683, 'city': 684, 'concert': 685, 'died': 686, 'hun': 687, 'looked': 688, 'tickets': 689, 'leaving': 690, 'moment': 691, 'outside': 692, 'quot': 693, '7': 694, 'idk': 695, 'musicmonday': 696, 'sister': 697, 'ahh': 698, 'hmm': 699, 'instead': 700, 'months': 701, 'photo': 702, 'soooo': 703, 'different': 704, 'set': 705, '......': 706, 'fucking': 707, 'huh': 708, 'pm': 709, 'shows': 710, 'weird': 711, 'chris': 712, 'hungry': 713, 'running': 714, 'walk': 715, 'yours': 716, '1st': 717, 'each': 718, 'myweakness': 719, 'seem': 720, 'town': 721, '    ': 722, 'number': 723, 'songs': 724, 'bought': 725, 'line': 726, 'pick': 727, '@backstreetboys': 728, 'awwww': 729, 'dead': 730, 'earlier': 731, 'second': 732, 'special': 733, 'yo': 734, 'account': 735, 'da': 736, 'eating': 737, 'lets': 738, 'lil': 739, 'mate': 740, 'plus': 741, 'woke': 742, 'wonder': 743, '&quot': 744, 'easy': 745, 'fair': 746, 'iremember': 747, 'worse': 748, '8': 749, 'broke': 750, 'especially': 751, 'ice': 752, 'quot;the': 753, 'under': 754, 'fans': 755, 'raining': 756, 'uk': 757, 'worked': 758, 'date': 759, 'e': 760, 'im': 761, 'july': 762, 'london': 763, 'question': 764, 'support': 765, 'huge': 766, 'movies': 767, 'share': 768, 'short': 769, 'team': 770, 'chat': 771, 'cut': 772, 'fast': 773, 'hahah': 774, 'mac': 775, 'moving': 776, 'wants': 777, '%': 778, '@babygirlparis': 779, 'exam': 780, 'gt': 781, 'lady': 782, 'met': 783, 'ride': 784, 'self': 785, 'shopping': 786, 'store': 787, ':/': 788, 'although': 789, 'eyes': 790, 'google': 791, 'safe': 792, 'tour': 793, 'past': 794, 'tea': 795, 'tweeting': 796, 'apparently': 797, 'eh': 798, 'website': 799, 'beach': 800, 'kid': 801, 't': 802, 'version': 803, 'vote': 804, '20': 805, '@30secondstomars': 806, 'g': 807, 'hand': 808, 'lame': 809, 'updates': 810, 'won': 811, 'alot': 812, 'cream': 813, 'dream': 814, 'meeting': 815, 'alright': 816, 'apple': 817, 'case': 818, 'mention': 819, 'sunny': 820, 'bb': 821, 'beer': 822, 'brother': 823, 'dreams': 824, 'dunno': 825, 'feels': 826, 'mail': 827, 'sign': 828, 'sitting': 829, 'starting': 830, 'cat': 831, 'cos': 832, 'fall': 833, 'gorgeous': 834, 'k': 835, 'matter': 836, 'mother': 837, 'order': 838, 'pictures': 839, 'usually': 840, 'via': 841, 'wake': 842, 'asleep': 843, 'books': 844, 'def': 845, 'evening': 846, 'hold': 847, 'loving': 848, 'mum': 849, 'needed': 850, 'proud': 851, 'shame': 852, 'slow': 853, 'writing': 854, 'english': 855, 'l': 856, 'posted': 857, 'sleeping': 858, 'white': 859, 'xoxo': 860, 'club': 861, 'happens': 862, 'ipod': 863, 'ooh': 864, 'shut': 865, 'silly': 866, 'tuesday': 867, 'afternoon': 868, 'air': 869, 'band': 870, 'bday': 871, 'bitch': 872, 'breakfast': 873, 'except': 874, 'fb': 875, 'fell': 876, 'knows': 877, 'nah': 878, 'shirt': 879, 'small': 880, 'annoying': 881, 'enjoying': 882, 'etc': 883, 'kill': 884, 'longer': 885, 'random': 886, 'sis': 887, 'squarespace': 888, 'three': 889, 'type': 890, 'wear': 891, 'along': 892, 'boring': 893, 'info': 894, 'loves': 895, 'parents': 896, 'whatever': 897, 'worst': 898, 'app': 899, 'camera': 900, 'clean': 901, 'deal': 902, 'extra': 903, 'horrible': 904, 'laptop': 905, 'near': 906, 'ouch': 907, 'plans': 908, 'single': 909, 'star': 910, 'vegas': 911, 'comment': 912, 'die': 913, 'em': 914, 'exciting': 915, 'inaperfectworld': 916, 'photos': 917, 'save': 918, 'scared': 919, '9': 920, '@bradiewebbstack': 921, 'blue': 922, 'film': 923, 'lately': 924, 'learn': 925, 'myspace': 926, 'others': 927, 'shall': 928, '30': 929, 'appreciate': 930, 'eye': 931, 'note': 932, 'son': 933, '12': 934, 'business': 935, 'congratulations': 936, 'due': 937, 'living': 938, 'minute': 939, 'pass': 940, 'terrible': 941, 'absolutely': 942, 'behind': 943, 'crying': 944, 'green': 945, 'hmmm': 946, 'sexy': 947, 'ate': 948, 'exams': 949, 'fix': 950, 'rather': 951, 'voice': 952, \":'(\": 953, '@billyraycyrus': 954, 'broken': 955, 'flu': 956, 'forever': 957, 'power': 958, 'sold': 959, '11': 960, 'ahhh': 961, 'closed': 962, 'figure': 963, 'fly': 964, 'hahahaha': 965, 'hilarious': 966, 'mr': 967, 'ohh': 968, 'p': 969, 'pleasure': 970, 'sat': 971, 'study': 972, 'test': 973, 'wtf': 974, 'beat': 975, 'between': 976, 'bro': 977, 'felt': 978, 'finish': 979, 'goin': 980, 'hands': 981, 'prob': 982, 'sharing': 983, 'upset': 984, 'wedding': 985, 'wit': 986, 'bye': 987, 'cheers': 988, 'front': 989, 'group': 990, 'serious': 991, 'shot': 992, 'yr': 993, 'body': 994, 'decided': 995, 'experience': 996, 'keeps': 997, 'lose': 998, 'played': 999, 'ps': 1000, 'sense': 1001, 'taken': 1002, 'thursday': 1003, 'country': 1004, 'future': 1005, 'park': 1006, 'quick': 1007, 'radio': 1008, 'sending': 1009, 'unless': 1010, '15': 1011, 'bgt': 1012, 'cd': 1013, 'fantastic': 1014, 'flight': 1015, 'invite': 1016, 'nite': 1017, 'sir': 1018, 'thanx': 1019, 'touch': 1020, 'warm': 1021, '(:': 1022, 'caught': 1023, 'fact': 1024, 'haveyouever': 1025, 'honey': 1026, 'wednesday': 1027, 'wine': 1028, 'woman': 1029, ';-)': 1030, 'alex': 1031, 'asking': 1032, 'cake': 1033, 'choice': 1034, 'coz': 1035, 'event': 1036, 'giving': 1037, 'kidding': 1038, 'pool': 1039, 'somewhere': 1040, 'takes': 1041, 'doubt': 1042, 'episode': 1043, 'mood': 1044, 'quot;you': 1045, 'service': 1046, 'sort': 1047, '~': 1048, '2day': 1049, 'anytime': 1050, 'bsb': 1051, 'drunk': 1052, 'enjoyed': 1053, 'fat': 1054, 'hah': 1055, 'sing': 1056, 'young': 1057, '@1capplegate': 1058, 'awake': 1059, 'germany': 1060, 'promise': 1061, 'studying': 1062, 'sunshine': 1063, 'telling': 1064, 'wondering': 1065, 'yummy': 1066, '2nd': 1067, 'area': 1068, 'art': 1069, 'asked': 1070, 'daughter': 1071, 'jonas': 1072, 'miley': 1073, 'ny': 1074, 'problems': 1075, 'screen': 1076, ':p': 1077, 'australia': 1078, 'awful': 1079, 'college': 1080, 'fingers': 1081, 'games': 1082, 'holiday': 1083, 'inside': 1084, 'light': 1085, 'low': 1086, 'pizza': 1087, 'sweetie': 1088, 'wat': 1089, 'box': 1090, 'buddy': 1091, 'david': 1092, 'download': 1093, 'fav': 1094, 'itunes': 1095, 'record': 1096, 'scary': 1097, 'web': 1098, 'xo': 1099, '@_crc': 1100, '@aubreyoday': 1101, '@buckhollywood': 1102, 'calling': 1103, 'double': 1104, 'final': 1105, 'helps': 1106, 'jus': 1107, 'likes': 1108, 'nobody': 1109, 'possible': 1110, 'round': 1111, 'spend': 1112, 'turned': 1113, 'tweetdeck': 1114, 'worries': 1115, 'adam': 1116, 'background': 1117, 'brilliant': 1118, 'chicken': 1119, 'dark': 1120, 'dress': 1121, 'imagine': 1122, 'kick': 1123, 'loads': 1124, 'passed': 1125, 'pc': 1126, 'profile': 1127, 'series': 1128, 'ticket': 1129, 'worried': 1130, 'door': 1131, 'driving': 1132, 'excellent': 1133, 'figured': 1134, 'hehehe': 1135, 'husband': 1136, 'interview': 1137, 'joke': 1138, 'kno': 1139, 'lazy': 1140, 'men': 1141, 'project': 1142, 'spent': 1143, 'uh': 1144, 'usual': 1145, 'anyways': 1146, 'changed': 1147, 'design': 1148, 'disappointed': 1149, 'ideas': 1150, 'middle': 1151, 'often': 1152, 'speak': 1153, 'thinks': 1154, 'um': 1155, 'videos': 1156, 'afraid': 1157, 'bummer': 1158, 'comments': 1159, 'company': 1160, 'completely': 1161, 'everyday': 1162, 'fit': 1163, 'ma': 1164, 'search': 1165, 'shower': 1166, 'singing': 1167, 'smart': 1168, 'thru': 1169, 'trending': 1170, 'agreed': 1171, 'anywhere': 1172, 'bless': 1173, 'checked': 1174, 'cough': 1175, 'fave': 1176, 'hanging': 1177, 'happening': 1178, 'ladies': 1179, 'moon': 1180, 'paper': 1181, 'rainy': 1182, 'shoes': 1183, 'taste': 1184, 'vid': 1185, 'against': 1186, 'cheese': 1187, 'cup': 1188, 'currently': 1189, 'dancing': 1190, 'doin': 1191, 'drinking': 1192, 'fresh': 1193, 'gay': 1194, 'interested': 1195, 'lmfao': 1196, 'pls': 1197, 'road': 1198, 'sex': 1199, 'ashley': 1200, 'checking': 1201, 'fish': 1202, 'followed': 1203, 'gettin': 1204, 'ohhh': 1205, 'replied': 1206, 'sell': 1207, 'state': 1208, 'tweeted': 1209, 'vacation': 1210, 'wife': 1211, 'www.tweeteradder.com': 1212, 'act': 1213, 'andy': 1214, 'card': 1215, 'copy': 1216, 'french': 1217, 'gosh': 1218, 'mo': 1219, 'normal': 1220, 'sore': 1221, 'stand': 1222, 'thoughts': 1223, 'upload': 1224, 'www.tweeterfollow.com': 1225, 'yum': 1226, 'canada': 1227, 'cover': 1228, 'favourite': 1229, 'hospital': 1230, 'hubby': 1231, 'jk': 1232, 'kept': 1233, 'min': 1234, 'oooh': 1235, 'public': 1236, 'quiet': 1237, 'shop': 1238, 'spot': 1239, 'staying': 1240, 'available': 1241, 'bummed': 1242, 'cats': 1243, 'dc': 1244, 'direct': 1245, 'fixed': 1246, 'gym': 1247, 'heh': 1248, 'local': 1249, 'lonely': 1250, 'nap': 1251, 'neither': 1252, 'nyc': 1253, 'paid': 1254, 'planning': 1255, 'sims': 1256, 'sometime': 1257, 'south': 1258, 'trouble': 1259, 'view': 1260, 'adorable': 1261, 'allowed': 1262, 'american': 1263, 'bag': 1264, 'deserve': 1265, 'ended': 1266, 'epic': 1267, 'failed': 1268, 'feed': 1269, 'fight': 1270, 'heading': 1271, 'kiss': 1272, 'magic': 1273, 'perhaps': 1274, 'rocks': 1275, 'simple': 1276, 'sit': 1277, 'sleepy': 1278, 'starts': 1279, 'stomach': 1280, 'straight': 1281, 'trust': 1282, 'ahead': 1283, 'brain': 1284, 'bus': 1285, 'chicago': 1286, 'classes': 1287, 'deep': 1288, 'everywhere': 1289, 'finals': 1290, 'gotten': 1291, 'gutted': 1292, 'mark': 1293, 'mostly': 1294, 'msn': 1295, 'nights': 1296, 'none': 1297, 'noticed': 1298, 'offer': 1299, 'otherwise': 1300, 'posting': 1301, 'sa': 1302, 'showing': 1303, 'street': 1304, 'tom': 1305, 'twilight': 1306, 'â\\x99¥': 1307, '     ': 1308, '24': 1309, '@chrisdjmoyles': 1310, 'added': 1311, 'blame': 1312, 'cookies': 1313, 'death': 1314, 'delicious': 1315, 'dumb': 1316, 'easier': 1317, 'expensive': 1318, 'fml': 1319, 'heyy': 1320, 'issues': 1321, 'mama': 1322, 'mins': 1323, 'pre': 1324, 'twice': 1325, 'wall': 1326, 'windows': 1327, '50': 1328, '@alancarr': 1329, 'age': 1330, 'amy': 1331, 'awards': 1332, 'b4': 1333, 'bike': 1334, 'block': 1335, 'cousin': 1336, 'dnt': 1337, 'dvd': 1338, 'guitar': 1339, 'lakers': 1340, 'mmm': 1341, 'nick': 1342, 'non': 1343, 'step': 1344, 'stopped': 1345, 'suppose': 1346, 'talked': 1347, 'turns': 1348, 'woo': 1349, '\\xa0': 1350, '@amandapalmer': 1351, 'bf': 1352, 'bloody': 1353, 'cheap': 1354, 'church': 1355, 'count': 1356, 'de': 1357, 'fabulous': 1358, 'freaking': 1359, 'gift': 1360, 'homework': 1361, 'important': 1362, 'iranelection': 1363, 'john': 1364, 'married': 1365, 'media': 1366, 'mess': 1367, 'moved': 1368, 'pink': 1369, 'pop': 1370, 'release': 1371, 'shoot': 1372, 'shout': 1373, 'sooooo': 1374, 'space': 1375, 'stick': 1376, 'walking': 1377, '©': 1378, '.......': 1379, 'amp;&amp': 1380, 'article': 1381, 'awe': 1382, 'boyfriend': 1383, 'chill': 1384, 'click': 1385, 'cried': 1386, 'drop': 1387, 'falling': 1388, 'hav': 1389, 'headache': 1390, 'hotel': 1391, 'hrs': 1392, 'ily': 1393, 'issue': 1394, 'joe': 1395, 'north': 1396, 'prefer': 1397, 'realize': 1398, 'recommend': 1399, 'slept': 1400, 'spanish': 1401, 'strong': 1402, 'throw': 1403, 'ty': 1404, 'window': 1405, 'wrote': 1406, 'bar': 1407, 'calls': 1408, 'confused': 1409, 'dang': 1410, 'difference': 1411, 'garden': 1412, 'hates': 1413, 'hearing': 1414, 'known': 1415, 'mommy': 1416, 'paying': 1417, 'personal': 1418, 'pro': 1419, 'recently': 1420, 'return': 1421, 'roll': 1422, 'shortstack': 1423, 'somehow': 1424, 'umm': 1425, '«': 1426, '@ashleyltmsyf': 1427, 'admit': 1428, 'aha': 1429, 'attention': 1430, 'bc': 1431, 'become': 1432, 'cancelled': 1433, 'clothes': 1434, 'color': 1435, 'dat': 1436, 'dogs': 1437, 'fake': 1438, 'fault': 1439, 'floor': 1440, 'goodsex': 1441, 'harry': 1442, 'helped': 1443, 'keeping': 1444, 'lived': 1445, 'lives': 1446, 'nearly': 1447, 'peace': 1448, 'peeps': 1449, 'rip': 1450, 'sale': 1451, 'san': 1452, 'sniff': 1453, 'stress': 1454, 'throat': 1455, 'â\\x99': 1456, 'advice': 1457, 'ages': 1458, 'alive': 1459, 'bbq': 1460, 'bread': 1461, 'buying': 1462, 'cell': 1463, 'cheer': 1464, 'choose': 1465, 'clear': 1466, 'credit': 1467, 'daddy': 1468, 'depressing': 1469, 'everybody': 1470, 'father': 1471, 'five': 1472, 'gives': 1473, 'key': 1474, 'letting': 1475, 'likely': 1476, 'loss': 1477, 'mouth': 1478, 'nooo': 1479, 'original': 1480, 'paris': 1481, 'probs': 1482, 'putting': 1483, 'quote': 1484, 'ring': 1485, 'system': 1486, 'topic': 1487, 'track': 1488, 'twittering': 1489, '140': 1490, '3rd': 1491, 'ben': 1492, 'blood': 1493, 'cook': 1494, 'cost': 1495, 'england': 1496, 'form': 1497, 'given': 1498, 'holy': 1499, 'marsiscoming': 1500, 'obviously': 1501, 'officially': 1502, 'spam': 1503, 'style': 1504, 'uni': 1505, ':|': 1506, 'abt': 1507, 'afford': 1508, 'august': 1509, 'ball': 1510, 'blackberry': 1511, 'bunch': 1512, 'current': 1513, 'dontyouhate': 1514, 'finding': 1515, 'history': 1516, 'kisses': 1517, 'learning': 1518, 'lt': 1519, 'miles': 1520, 'milk': 1521, 'mobile': 1522, 'mr.': 1523, 'notice': 1524, 'outta': 1525, 'realized': 1526, 'response': 1527, 'results': 1528, 'retweet': 1529, 'rough': 1530, 'status': 1531, 'sum': 1532, 'travel': 1533, 'updated': 1534, 'youu': 1535, 'address': 1536, 'airport': 1537, 'appreciated': 1538, 'blocked': 1539, 'boat': 1540, 'certainly': 1541, 'code': 1542, 'contest': 1543, 'drinks': 1544, 'expect': 1545, 'fab': 1546, 'fam': 1547, 'flying': 1548, 'killing': 1549, 'king': 1550, 'kitty': 1551, 'lack': 1552, 'links': 1553, 'load': 1554, 'machine': 1555, 'major': 1556, 'midnight': 1557, 'noooo': 1558, 'pa': 1559, 'pants': 1560, 'plane': 1561, 'posts': 1562, 'questions': 1563, 'ran': 1564, 'relaxing': 1565, 'remind': 1566, 'smh': 1567, 'stage': 1568, 'sushi': 1569, 'tons': 1570, 'tooo': 1571, 'tough': 1572, 'twit': 1573, 'twitpic': 1574, 'wishes': 1575, 'badly': 1576, 'brothers': 1577, 'burn': 1578, 'cali': 1579, 'chuck': 1580, 'darn': 1581, 'entire': 1582, 'explain': 1583, 'feet': 1584, 'fire': 1585, 'france': 1586, 'however': 1587, 'jack': 1588, 'jon': 1589, 'kate': 1590, 'knowing': 1591, 'limit': 1592, 'messages': 1593, 'onto': 1594, 'oops': 1595, 'piece': 1596, 'plz': 1597, 'sam': 1598, 'secret': 1599, 'soup': 1600, 'taylor': 1601, 'thankyou': 1602, 'trek': 1603, 'women': 1604, 'yah': 1605, '18': 1606, '@amanda_holden': 1607, '@anoopdoggdesai': 1608, 'access': 1609, 'across': 1610, 'america': 1611, 'barely': 1612, 'brown': 1613, 'cleaning': 1614, 'closer': 1615, 'complete': 1616, 'daily': 1617, 'difficult': 1618, 'dropped': 1619, 'dying': 1620, 'e3': 1621, 'europe': 1622, 'legs': 1623, 'million': 1624, 'names': 1625, 'nervous': 1626, 'orange': 1627, 'program': 1628, 'proper': 1629, 'puppy': 1630, 'report': 1631, 'rofl': 1632, 'row': 1633, 'schedule': 1634, 'slightly': 1635, 'strange': 1636, 'tears': 1637, 'traffic': 1638, 'wearing': 1639, 'weekends': 1640, 'yeh': 1641, '@bobbyllew': 1642, '@colorblindfish': 1643, 'acting': 1644, 'actual': 1645, 'apps': 1646, 'crappy': 1647, 'darling': 1648, 'decide': 1649, 'deleted': 1650, 'depressed': 1651, 'details': 1652, \"don't\": 1653, 'episodes': 1654, 'evil': 1655, 'famous': 1656, 'law': 1657, 'lookin': 1658, 'loud': 1659, 'mix': 1660, 'nose': 1661, 'pissed': 1662, 'planned': 1663, 'price': 1664, 'pull': 1665, 'quickly': 1666, 'rob': 1667, 'situation': 1668, 'stayed': 1669, 'thnx': 1670, 'tip': 1671, 'tix': 1672, 'v': 1673, 'wanting': 1674, 'wishing': 1675, 'york': 1676, '21': 1677, '25': 1678, '=d': 1679, '@bowwow614': 1680, 'bank': 1681, 'boss': 1682, 'boston': 1683, 'bright': 1684, 'bug': 1685, 'chinese': 1686, 'depends': 1687, 'feelin': 1688, 'jokes': 1689, 'joy': 1690, 'mcfly': 1691, 'noo': 1692, 'official': 1693, \"quot;i'm\": 1694, 'quot;it': 1695, 'review': 1696, 'several': 1697, 'signed': 1698, 'spread': 1699, 'station': 1700, 'tha': 1701, 'tht': 1702, 'trailer': 1703, 'tummy': 1704, 'ugly': 1705, 'wet': 1706, 'winter': 1707, 'yu': 1708, '@amandabynes': 1709, 'ac': 1710, 'al': 1711, 'argh': 1712, 'ash': 1713, 'atl': 1714, 'atm': 1715, 'bill': 1716, 'blast': 1717, 'community': 1718, 'disney': 1719, 'focus': 1720, 'hee': 1721, 'helping': 1722, 'imma': 1723, 'j': 1724, 'jam': 1725, 'main': 1726, 'match': 1727, 'odd': 1728, 'positive': 1729, 'princess': 1730, 'quit': 1731, 'race': 1732, 'reminds': 1733, 'stories': 1734, 'storm': 1735, 'stream': 1736, 'swear': 1737, 'teacher': 1738, 'tiny': 1739, 'weight': 1740, 'woot': 1741, 'written': 1742, 'yrs': 1743, '16': 1744, '200': 1745, '@amber_benson': 1746, '@britneyspears': 1747, '@coldplay': 1748, '^^': 1749, 'bear': 1750, 'bigger': 1751, 'bottom': 1752, 'brought': 1753, 'cable': 1754, 'camp': 1755, 'character': 1756, 'child': 1757, 'chillin': 1758, 'comp': 1759, 'connection': 1760, 'curious': 1761, 'drama': 1762, 'florida': 1763, 'four': 1764, 'freakin': 1765, 'ftw': 1766, 'fully': 1767, 'gig': 1768, 'grab': 1769, 'grand': 1770, 'gunna': 1771, 'heat': 1772, 'hella': 1773, 'hero': 1774, 'jb': 1775, 'killed': 1776, 'laundry': 1777, 'leg': 1778, 'level': 1779, 'lolz': 1780, 'managed': 1781, 'memories': 1782, 'model': 1783, 'nasty': 1784, 'os': 1785, 'performance': 1786, 'plenty': 1787, 'related': 1788, 'similar': 1789, 'sky': 1790, 'smell': 1791, 'speaking': 1792, 'teeth': 1793, \"'em\": 1794, '4th': 1795, ';d': 1796, '@alyankovic': 1797, 'ahaha': 1798, 'beauty': 1799, 'biggest': 1800, 'bts': 1801, 'build': 1802, 'channel': 1803, 'chick': 1804, 'conference': 1805, 'contact': 1806, 'continue': 1807, 'desk': 1808, 'doctor': 1809, 'ears': 1810, 'fear': 1811, 'foot': 1812, 'goodbye': 1813, 'hat': 1814, 'himself': 1815, 'invited': 1816, 'latest': 1817, 'laughing': 1818, 'memory': 1819, 'neck': 1820, 'possibly': 1821, 'sayin': 1822, 'server': 1823, 'studio': 1824, 'sweetheart': 1825, 'swine': 1826, 'talented': 1827, 'third': 1828, 'waking': 1829, 'workin': 1830, '@_supernatural': 1831, '@chris_daughtry': 1832, '\\\\': 1833, 'above': 1834, 'ang': 1835, 'animals': 1836, 'apart': 1837, 'asap': 1838, 'besides': 1839, 'board': 1840, 'britney': 1841, 'california': 1842, 'ed': 1843, 'fellow': 1844, 'goodness': 1845, 'grow': 1846, 'handle': 1847, 'included': 1848, 'install': 1849, 'lie': 1850, 'mall': 1851, 'mornin': 1852, 'option': 1853, 'private': 1854, 'que': 1855, 'quot;if': 1856, 'replies': 1857, 'ryan': 1858, 'session': 1859, 'snow': 1860, 'somebody': 1861, 'someday': 1862, 'speed': 1863, 'surprise': 1864, 'sux': 1865, 'tan': 1866, 'tear': 1867, 'tweeps': 1868, 'u.': 1869, 'voted': 1870, 'west': 1871, 'yawn': 1872, '\\x85': 1873, '13': 1874, ':-p': 1875, '@coollike': 1876, 'action': 1877, 'anna': 1878, 'awhile': 1879, 'beta': 1880, 'bottle': 1881, 'challenge': 1882, 'children': 1883, 'crossed': 1884, 'diet': 1885, 'effect': 1886, 'ending': 1887, 'envy': 1888, 'esp': 1889, 'excuse': 1890, 'fever': 1891, 'gr8': 1892, 'grey': 1893, 'heads': 1894, 'holding': 1895, 'human': 1896, 'italy': 1897, 'learned': 1898, 'library': 1899, 'losing': 1900, 'market': 1901, 'maths': 1902, 'meh': 1903, 'michael': 1904, 'mtv': 1905, 'ontd': 1906, 'ooc': 1907, 'ooo': 1908, 'opinion': 1909, 'reality': 1910, 'result': 1911, 'saved': 1912, 'size': 1913, 'skin': 1914, 'social': 1915, 'stars': 1916, 'tonite': 1917, 'treat': 1918, 'truth': 1919, 'vids': 1920, 'xxxx': 1921, '2009': 1922, '3.0': 1923, '@19fischi75': 1924, '@adrienne_bailon': 1925, '@alexandramusic': 1926, '@b_club': 1927, '@boy_kill_boy': 1928, '@comedyqueen': 1929, 'ahhhh': 1930, 'arms': 1931, 'awwwww': 1932, 'based': 1933, 'bob': 1934, 'boom': 1935, 'breaking': 1936, 'cavs': 1937, 'charge': 1938, 'classic': 1939, 'coast': 1940, 'creative': 1941, 'danny': 1942, 'dry': 1943, 'east': 1944, 'eggs': 1945, 'error': 1946, 'faith': 1947, 'fancy': 1948, 'folks': 1949, 'friendly': 1950, 'fuckin': 1951, 'geek': 1952, 'health': 1953, 'healthy': 1954, 'honestly': 1955, \"i'll\": 1956, 'island': 1957, 'jobs': 1958, 'kitchen': 1959, 'lord': 1960, 'mi': 1961, 'naked': 1962, 'nerd': 1963, 'nom': 1964, 'p.s': 1965, 'praying': 1966, 'pressure': 1967, 'released': 1968, 'rude': 1969, 'rule': 1970, 'rules': 1971, 'scene': 1972, 'seats': 1973, 'switch': 1974, 'talent': 1975, 'teach': 1976, 'tight': 1977, 'training': 1978, 'tryin': 1979, 'visiting': 1980, 'waste': 1981, 'woohoo': 1982, 'xbox': 1983, '........': 1984, '14': 1985, '@agent_m': 1986, '@anz_rocks19': 1987, '@comeagainjen': 1988, '@crunchyk': 1989, 'amanda': 1990, 'arrived': 1991, 'blow': 1992, 'button': 1993, 'cam': 1994, \"can't\": 1995, 'cooking': 1996, 'correct': 1997, 'crashed': 1998, 'doll': 1999, 'dr': 2000, 'emails': 2001, 'empty': 2002, 'er': 2003, 'exist': 2004, 'f': 2005, 'fi': 2006, 'flat': 2007, 'follower': 2008, 'gf': 2009, 'glass': 2010, 'guilty': 2011, 'heavy': 2012, 'hills': 2013, 'holidays': 2014, 'jeans': 2015, 'lines': 2016, 'literally': 2017, 'marketing': 2018, 'mothers': 2019, 'msg': 2020, 'naw': 2021, 'ordered': 2022, 'pet': 2023, 'philly': 2024, 'picked': 2025, 'practice': 2026, 'pray': 2027, 'prayers': 2028, 'present': 2029, 'properly': 2030, 'recommendation': 2031, 'relax': 2032, 'se': 2033, 'seattle': 2034, 'sings': 2035, 'smiles': 2036, 'smiling': 2037, 'soul': 2038, 'spelling': 2039, 'steal': 2040, 'sydney': 2041, 'testing': 2042, 'texas': 2043, 'tis': 2044, 'wud': 2045, \"ya'll\": 2046, 'yeahh': 2047, '3d': 2048, '90': 2049, '@b50': 2050, '@crystalchappell': 2051, 'andrew': 2052, 'arm': 2053, 'basically': 2054, 'blonde': 2055, 'bradie': 2056, 'cancer': 2057, 'confusing': 2058, 'conversation': 2059, 'craving': 2060, 'dates': 2061, 'decent': 2062, 'di': 2063, 'earth': 2064, 'enter': 2065, 'flowers': 2066, 'football': 2067, 'german': 2068, 'heck': 2069, 'helpful': 2070, 'hurry': 2071, 'involved': 2072, 'ireland': 2073, 'james': 2074, 'joined': 2075, 'knee': 2076, 'lesson': 2077, 'manage': 2078, 'marathon': 2079, 'nuts': 2080, 'places': 2081, 'potter': 2082, 'queen': 2083, 'revision': 2084, 'runs': 2085, 'science': 2086, 'singapore': 2087, 'starbucks': 2088, 'student': 2089, 'success': 2090, 'sucked': 2091, 'table': 2092, 'texts': 2093, 'thurs': 2094, 'topics': 2095, 'tune': 2096, 'vs': 2097, 'wave': 2098, 'whenever': 2099, 'wicked': 2100, ';-': 2101, '=(': 2102, '@charlieskies': 2103, '@csi_printchick': 2104, 'aim': 2105, 'asot400': 2106, 'avatar': 2107, 'billy': 2108, 'booo': 2109, 'bunny': 2110, 'cash': 2111, 'certain': 2112, 'clue': 2113, 'control': 2114, 'create': 2115, 'cross': 2116, 'delete': 2117, 'energy': 2118, 'ep': 2119, 'events': 2120, 'everytime': 2121, 'expected': 2122, 'f1': 2123, 'finger': 2124, 'fo': 2125, 'forum': 2126, 'fruit': 2127, 'fucked': 2128, 'girlfriend': 2129, 'glasses': 2130, 'gross': 2131, 'grr': 2132, 'hahahah': 2133, 'headed': 2134, 'hook': 2135, 'impossible': 2136, 'impressed': 2137, 'iran': 2138, 'kevin': 2139, 'listened': 2140, 'me&quot': 2141, 'mentioned': 2142, 'mini': 2143, 'ms': 2144, 'pack': 2145, 'painful': 2146, 'per': 2147, 'personally': 2148, 'picking': 2149, 'pie': 2150, 'points': 2151, 'process': 2152, 'purple': 2153, 'quality': 2154, 'regular': 2155, 'rite': 2156, 'ruin': 2157, 'saving': 2158, 'sea': 2159, 'skype': 2160, 'spending': 2161, 'susan': 2162, 'tech': 2163, 'ten': 2164, 'toronto': 2165, 'total': 2166, 'txt': 2167, 'ummm': 2168, 'upgrade': 2169, 'virtual': 2170, 'war': 2171, 'writer': 2172, 'ð': 2173, '2morrow': 2174, '80': 2175, '@1critic': 2176, 'ace': 2177, 'ad': 2178, 'atleast': 2179, 'awh': 2180, 'babies': 2181, 'beginning': 2182, 'butt': 2183, 'chelsea': 2184, 'considering': 2185, 'delayed': 2186, 'dirty': 2187, 'ear': 2188, 'ex': 2189, 'firefox': 2190, 'flylady': 2191, 'freak': 2192, 'general': 2193, 'gold': 2194, 'grandma': 2195, 'growing': 2196, 'guessing': 2197, 'hangover': 2198, 'hitting': 2199, 'hon': 2200, 'meaning': 2201, 'mental': 2202, 'miami': 2203, 'mike': 2204, 'moms': 2205, 'net': 2206, 'nightmare': 2207, 'nowhere': 2208, 'player': 2209, 'poem': 2210, 'porn': 2211, 'quot;no': 2212, 'reach': 2213, 'reckon': 2214, 'request': 2215, 'rid': 2216, 'seat': 2217, 'seb': 2218, 'shaundiviney': 2219, 'shift': 2220, 'shiny': 2221, 'shoulda': 2222, 'spirit': 2223, 'sry': 2224, 'states': 2225, 'stoked': 2226, 'sway': 2227, 'truck': 2228, 'updating': 2229, 'useful': 2230, 'voting': 2231, 'wee': 2232, 'wen': 2233, 'whose': 2234, 'wings': 2235, 'within': 2236, 'yellow': 2237, 'yikes': 2238, 'you&quot': 2239, '@4everbrandy': 2240, '@ak618': 2241, '@amysav83': 2242, '@applecored': 2243, '@blokeslib': 2244, 'addicted': 2245, 'alan': 2246, 'alas': 2247, 'ali': 2248, 'anybody': 2249, 'aswell': 2250, 'attack': 2251, 'attempt': 2252, 'becoming': 2253, 'blah': 2254, 'blessed': 2255, 'butter': 2256, 'careful': 2257, 'catching': 2258, 'changing': 2259, 'characters': 2260, 'connect': 2261, 'consider': 2262, 'crash': 2263, 'dave': 2264, 'demi': 2265, 'doc': 2266, 'dun': 2267, 'faster': 2268, 'file': 2269, 'fill': 2270, 'further': 2271, \"g'night\": 2272, 'golf': 2273, 'hannah': 2274, 'hd': 2275, 'highly': 2276, 'hill': 2277, 'honest': 2278, 'inspiration': 2279, 'japan': 2280, 'land': 2281, 'launch': 2282, 'll': 2283, 'log': 2284, 'macbook': 2285, 'math': 2286, 'mexican': 2287, 'mode': 2288, 'notes': 2289, 'opening': 2290, 'owe': 2291, 'packing': 2292, 'pages': 2293, 'popular': 2294, 'received': 2295, 'respond': 2296, 'screwed': 2297, 'september': 2298, 'sf': 2299, 'shake': 2300, 'shitty': 2301, 'slowly': 2302, 'smoke': 2303, 'somethin': 2304, 'spell': 2305, 'sugar': 2306, 'surgery': 2307, 'swimming': 2308, 'thai': 2309, 'thunder': 2310, 'tmrw': 2311, 'tweetie': 2312, 'typing': 2313, 'waves': 2314, 'ways': 2315, \"y'\": 2316, 'yer': 2317, \"'cause\": 2318, '1000': 2319, '19': 2320, '40': 2321, ':]': 2322, '@aceybongos': 2323, '@adammshankman': 2324, '@ali_sweeney': 2325, '@brodyjenner': 2326, 'accident': 2327, 'adding': 2328, 'baseball': 2329, 'battery': 2330, 'bay': 2331, 'bbc': 2332, 'beyond': 2333, 'bff': 2334, 'bing': 2335, 'bird': 2336, 'brazil': 2337, 'brian': 2338, 'cards': 2339, 'center': 2340, 'conan': 2341, 'content': 2342, 'crack': 2343, 'customer': 2344, 'dan': 2345, 'data': 2346, 'deserved': 2347, 'feature': 2348, 'feelings': 2349, 'field': 2350, 'flash': 2351, 'follows': 2352, 'gah': 2353, 'girlie': 2354, 'graduation': 2355, 'happiness': 2356, 'hm': 2357, 'hole': 2358, 'jump': 2359, 'keyboard': 2360, 'ko': 2361, 'lang': 2362, 'lay': 2363, 'lt;--': 2364, 'meat': 2365, 'mistake': 2366, 'musical': 2367, 'nicely': 2368, 'numbers': 2369, 'oil': 2370, 'older': 2371, 'oooo': 2372, 'ours': 2373, 'pity': 2374, 'quot;we': 2375, 'sauce': 2376, 'score': 2377, 'section': 2378, 'settings': 2379, 'sighs': 2380, 'signing': 2381, 'stole': 2382, 'surprised': 2383, 'tax': 2384, 'threw': 2385, 'truly': 2386, 'universe': 2387, 'usa': 2388, 'wii': 2389, \"you're\": 2390, '{': 2391, 'ï¿½': 2392, \"''\": 2393, '30secondstomars': 2394, '@aaroncarter7': 2395, '@brianmcnugget': 2396, 'alcohol': 2397, 'allergies': 2398, 'annoyed': 2399, 'bah': 2400, 'banana': 2401, 'bio': 2402, 'bitches': 2403, 'bite': 2404, 'bits': 2405, 'breaks': 2406, 'candy': 2407, 'clever': 2408, 'clip': 2409, 'clouds': 2410, 'comic': 2411, 'common': 2412, 'couch': 2413, 'crew': 2414, 'crowd': 2415, 'dammit': 2416, 'dig': 2417, 'dj': 2418, 'effort': 2419, 'ends': 2420, 'entertaining': 2421, 'eventually': 2422, 'exhausted': 2423, 'hahaa': 2424, 'hardly': 2425, 'heaven': 2426, 'ignore': 2427, 'image': 2428, 'information': 2429, 'interest': 2430, 'ish': 2431, 'jesus': 2432, 'joking': 2433, 'kris': 2434, 'leaves': 2435, 'longest': 2436, 'loose': 2437, 'loser': 2438, 'love&quot': 2439, 'messed': 2440, 'misses': 2441, 'national': 2442, 'ohhhh': 2443, 'pair': 2444, 'period': 2445, 'philippines': 2446, 'phones': 2447, 'pure': 2448, 'reasons': 2449, 'recording': 2450, 'replying': 2451, 'ruined': 2452, 'ship': 2453, 'shots': 2454, 'sisters': 2455, 'sites': 2456, 'six': 2457, 'soccer': 2458, 'sorted': 2459, 'sports': 2460, 'steak': 2461, 'stressed': 2462, 'suggestion': 2463, 'swim': 2464, 'tag': 2465, 'thin': 2466, 'title': 2467, 'url': 2468, 'walked': 2469, 'wash': 2470, 'watchin': 2471, '}': 2472, '      ': 2473, '---': 2474, '//': 2475, '1/2': 2476, '3turnoffwords': 2477, '60': 2478, '@billbeckett': 2479, '@chelsea_playboy': 2480, '@crazytwism': 2481, 'alyssa': 2482, 'amen': 2483, 'animal': 2484, 'apartment': 2485, 'apt': 2486, 'artist': 2487, 'ashton': 2488, 'aye': 2489, 'blink': 2490, 'bones': 2491, 'boots': 2492, 'brand': 2493, 'british': 2494, 'changes': 2495, 'cinema': 2496, 'clearly': 2497, 'comin': 2498, 'crush': 2499, 'cupcakes': 2500, 'dads': 2501, 'diego': 2502, 'dollars': 2503, 'drag': 2504, 'duh': 2505, 'easily': 2506, 'example': 2507, 'exercise': 2508, 'feedback': 2509, 'gb': 2510, 'genius': 2511, 'greatest': 2512, 'grown': 2513, 'harder': 2514, 'hurting': 2515, 'hv': 2516, 'idol': 2517, 'ii': 2518, 'including': 2519, 'insane': 2520, 'itself': 2521, 'iv': 2522, 'jacket': 2523, 'jerk': 2524, 'jess': 2525, 'jimmy': 2526, 'juice': 2527, 'knock': 2528, 'language': 2529, 'large': 2530, 'lead': 2531, 'lt;333': 2532, 'luckily': 2533, 'matt': 2534, 'melbourne': 2535, 'miserable': 2536, 'mms': 2537, 'mondays': 2538, 'mrs': 2539, 'named': 2540, 'nothin': 2541, 'painting': 2542, 'passing': 2543, 'paul': 2544, 'plug': 2545, 'previous': 2546, 'pub': 2547, 'purchase': 2548, 'quot;': 2549, 'quot;how': 2550, 'repeat': 2551, 'rice': 2552, 'ridiculous': 2553, 'riding': 2554, 'sarah': 2555, 'seconds': 2556, 'shirts': 2557, 'showed': 2558, 'si': 2559, 'singer': 2560, 'skills': 2561, 'software': 2562, 'sooner': 2563, 'spain': 2564, 'spare': 2565, 'spymaster': 2566, 'standing': 2567, 'steve': 2568, 'talkin': 2569, 'tattoo': 2570, 'toy': 2571, 'trick': 2572, 'twitters': 2573, 'typical': 2574, 'un': 2575, 'ups': 2576, 'useless': 2577, 'users': 2578, 'wa': 2579, 'weak': 2580, 'whilst': 2581, 'wild': 2582, '22': 2583, '2nite': 2584, '45': 2585, ':-d': 2586, '@1sweetwhirl': 2587, '@aka55': 2588, '@andrewdearling': 2589, '@architeuth1s': 2590, '@beverleyknight': 2591, '@boyislost': 2592, '@calvinharris': 2593, 'accept': 2594, 'angel': 2595, 'attend': 2596, 'audio': 2597, 'award': 2598, 'babes': 2599, 'bella': 2600, 'berlin': 2601, 'bills': 2602, 'birds': 2603, 'blows': 2604, 'born': 2605, 'brings': 2606, 'building': 2607, 'cares': 2608, 'cars': 2609, 'charlie': 2610, 'chatting': 2611, 'chest': 2612, 'chip': 2613, 'chips': 2614, 'colour': 2615, 'con': 2616, 'concerts': 2617, 'dating': 2618, 'dick': 2619, 'driver': 2620, 'fashion': 2621, 'flickr': 2622, 'fri': 2623, 'gas': 2624, 'george': 2625, 'grad': 2626, 'grade': 2627, 'heaps': 2628, 'heyyy': 2629, 'hint': 2630, 'hmmmm': 2631, 'humor': 2632, 'hung': 2633, 'insurance': 2634, 'items': 2635, 'jersey': 2636, 'lemme': 2637, 'letter': 2638, 'lying': 2639, 'massive': 2640, 'max': 2641, 'mon': 2642, 'nd': 2643, 'nor': 2644, 'obama': 2645, 'obsessed': 2646, 'offline': 2647, 'ooooh': 2648, 'paint': 2649, 'photography': 2650, 'plays': 2651, 'pleased': 2652, 'poster': 2653, 'press': 2654, 'preview': 2655, 'prolly': 2656, 'quot;up&quot': 2657, 'respect': 2658, 'salad': 2659, 'seemed': 2660, 'selling': 2661, 'shoulder': 2662, 'sms': 2663, 'snap': 2664, 'stock': 2665, 'suggest': 2666, 'teh': 2667, 'thats': 2668, 'tool': 2669, 'uncle': 2670, 'wah': 2671, 'wins': 2672, 'wished': 2673, 'xp': 2674, '..........': 2675, '0': 2676, '@30stmluva': 2677, '@aianna21': 2678, '@alandavies1': 2679, '@amazingphil': 2680, '@butadream': 2681, '@chiniehdiaz': 2682, 'aaron': 2683, 'ache': 2684, 'ahah': 2685, 'amount': 2686, 'angry': 2687, 'answering': 2688, 'appear': 2689, 'apply': 2690, 'april': 2691, 'atlanta': 2692, 'aunt': 2693, 'bacon': 2694, 'balls': 2695, 'beans': 2696, 'belly': 2697, 'blogs': 2698, 'bother': 2699, 'breath': 2700, 'bt': 2701, 'bull': 2702, 'calm': 2703, 'celebrating': 2704, 'chesterday': 2705, 'christmas': 2706, 'clock': 2707, 'competition': 2708, 'convince': 2709, 'covered': 2710, 'creepy': 2711, 'cries': 2712, 'dare': 2713, 'dd': 2714, 'demand': 2715, 'din': 2716, 'dis': 2717, 'disappeared': 2718, 'diversity': 2719, 'doctors': 2720, 'dont': 2721, 'dope': 2722, 'downloaded': 2723, 'ebay': 2724, 'essay': 2725, 'festival': 2726, 'files': 2727, 'finale': 2728, 'fl': 2729, 'fox': 2730, 'goal': 2731, 'hahahahaha': 2732, 'hence': 2733, 'ho': 2734, 'holly': 2735, 'homie': 2736, 'hoo': 2737, 'houston': 2738, 'i.': 2739, 'idiot': 2740, 'il': 2741, 'incredible': 2742, 'international': 2743, 'jake': 2744, 'japanese': 2745, 'joining': 2746, 'laughed': 2747, 'le': 2748, 'location': 2749, 'logo': 2750, 'mee': 2751, 'member': 2752, 'minds': 2753, 'mmmm': 2754, 'network': 2755, 'nicer': 2756, 'nigga': 2757, 'oo': 2758, 'opera': 2759, 'options': 2760, 'orlando': 2761, 'outfit': 2762, 'ow': 2763, 'papers': 2764, 'particular': 2765, 'pens': 2766, 'podcast': 2767, 'poo': 2768, 'promote': 2769, 'push': 2770, 'quot;and': 2771, 'quot;so': 2772, 'quot;there': 2773, 'rate': 2774, 'ray': 2775, 'recipe': 2776, 'reference': 2777, 'regret': 2778, 'revise': 2779, 'rich': 2780, 'rubbish': 2781, 'sadness': 2782, 'sales': 2783, 'sandwich': 2784, 'searching': 2785, 'simply': 2786, 'texting': 2787, 'timing': 2788, 'tips': 2789, 'tunes': 2790, 'turning': 2791, 'twin': 2792, 'unfollow': 2793, 'uses': 2794, 'w/o': 2795, 'wars': 2796, 'whether': 2797, 'yess': 2798, '-&gt': 2799, '2010': 2800, '3hotwords': 2801, '5th': 2802, ':-/': 2803, '@1omarion': 2804, '@amazingphoebe': 2805, '@ankita_gaba': 2806, '@atebits': 2807, '@bobbyedner': 2808, '@ceggs': 2809, '@crucifire': 2810, 'accent': 2811, 'alarm': 2812, 'allow': 2813, 'andyclemmensen': 2814, 'angela': 2815, 'aussie': 2816, 'avoid': 2817, 'awkward': 2818, 'bath': 2819, 'boxes': 2820, 'breathe': 2821, 'celebrate': 2822, 'cheaper': 2823, 'chi': 2824, 'client': 2825, 'cloudy': 2826, 'complain': 2827, 'computers': 2828, 'counting': 2829, 'coverage': 2830, 'cruel': 2831, 'culture': 2832, 'cyrus': 2833, 'dallas': 2834, 'day&quot': 2835, 'decision': 2836, 'deck': 2837, 'degrees': 2838, 'detroit': 2839, 'devil': 2840, 'dislike': 2841, 'downloading': 2842, 'dressed': 2843, 'en': 2844, 'erm': 2845, 'ew': 2846, 'eyed': 2847, 'fed': 2848, 'filled': 2849, 'frm': 2850, 'geez': 2851, 'grrr': 2852, 'gt;.&lt': 2853, 'gud': 2854, 'hashtag': 2855, 'hated': 2856, 'hawaii': 2857, 'heels': 2858, 'hiya': 2859, 'host': 2860, 'ikr': 2861, 'images': 2862, 'jim': 2863, 'knowledge': 2864, 'liking': 2865, 'magazine': 2866, 'mass': 2867, 'meds': 2868, 'mexico': 2869, 'nc': 2870, 'noise': 2871, 'nooooo': 2872, 'normally': 2873, 'nowadays': 2874, 'nxt': 2875, 'opportunity': 2876, 'packed': 2877, 'parties': 2878, 'perfectly': 2879, 'phoenix': 2880, 'ps3': 2881, 'pushing': 2882, 'puts': 2883, 'quot;oh': 2884, 'rains': 2885, 'range': 2886, 'recent': 2887, 'referring': 2888, 'reminded': 2889, 'restaurant': 2890, 'retarded': 2891, 'rockin': 2892, 'settle': 2893, 'shaun': 2894, 'soft': 2895, 'sorta': 2896, 'stalk': 2897, 'students': 2898, 'subject': 2899, 'suspect': 2900, 'tastes': 2901, 'tells': 2902, 'tend': 2903, 'tennis': 2904, 'term': 2905, 'terminator': 2906, 'th': 2907, 'theme': 2908, 'tiger': 2909, 'tony': 2910, 'tooth': 2911, 'tree': 2912, 'trend': 2913, 'tues': 2914, 'van': 2915, 'wooo': 2916, 'wut': 2917, 'ye': 2918, '/me': 2919, '17': 2920, '3gs': 2921, '@_hayles': 2922, '@_j_a_m_e_s': 2923, '@aileen2u2': 2924, '@alauderdale': 2925, '@amalinaaa': 2926, '@ariaajaeger': 2927, '@aussiecynic': 2928, '@aussiemcflyfan': 2929, '@buzzedition': 2930, '@calebftsk': 2931, '@chrisbrogan': 2932, '@chriscornell': 2933, '@coldhearted19': 2934, 'actress': 2935, 'andrea': 2936, 'asian': 2937, 'attitude': 2938, 'bands': 2939, 'blip': 2940, 'built': 2941, 'burning': 2942, 'cafe': 2943, 'camping': 2944, 'cancel': 2945, 'ch': 2946, 'china': 2947, 'collection': 2948, 'cont': 2949, 'contacts': 2950, 'cooked': 2951, 'cooler': 2952, 'corner': 2953, 'crystal': 2954, 'dam': 2955, 'dean': 2956, 'dentist': 2957, 'dies': 2958, 'dull': 2959, 'edward': 2960, 'emo': 2961, 'escape': 2962, 'failing': 2963, 'female': 2964, 'fighting': 2965, 'grass': 2966, 'grew': 2967, 'gurl': 2968, 'hai': 2969, 'havin': 2970, 'havnt': 2971, 'hola': 2972, 'hollywood': 2973, 'hoppusday': 2974, 'ie': 2975, 'italian': 2976, 'jeff': 2977, 'ka': 2978, 'keys': 2979, 'kicking': 2980, 'kings': 2981, 'lake': 2982, 'lauren': 2983, 'lights': 2984, 'massage': 2985, 'medicine': 2986, 'metal': 2987, 'mia': 2988, 'microsoft': 2989, 'momma': 2990, 'monster': 2991, 'mouse': 2992, 'museum': 2993, 'mw2': 2994, 'nature': 2995, 'naughty': 2996, 'negative': 2997, 'nevermind': 2998, 'nokia': 2999, 'noundiessunday': 3000, 'ocean': 3001, 'omfg': 3002, 'package': 3003, 'palm': 3004, 'pancakes': 3005, 'panic': 3006, 'partying': 3007, 'patience': 3008, 'peanut': 3009, 'pets': 3010, 'pieces': 3011, 'position': 3012, 'prayer': 3013, 'precious': 3014, 'products': 3015, 'progress': 3016, 'punch': 3017, 'quiz': 3018, 'quot;he': 3019, 'realise': 3020, 'removed': 3021, 'robert': 3022, 'shorter': 3023, 'shoutout': 3024, 'soda': 3025, 'solution': 3026, 'sounded': 3027, 'source': 3028, 'spoke': 3029, 'spring': 3030, 'suit': 3031, 'sunburn': 3032, 'surely': 3033, 'sweets': 3034, 'swollen': 3035, 'tape': 3036, 'te': 3037, 'technology': 3038, 'texted': 3039, 'thee': 3040, 'thinkin': 3041, 'toast': 3042, 'toooo': 3043, 'trade': 3044, 'tryna': 3045, 'unfortunate': 3046, 'ure': 3047, 'username': 3048, 'venue': 3049, 'washing': 3050, 'whoa': 3051, 'wind': 3052, 'winner': 3053, 'winning': 3054, 'workout': 3055, 'youuu': 3056, '.........': 3057, '09': 3058, '11th': 3059, '23': 3060, '@5tosucceed': 3061, '@_flik': 3062, '@androidtomato': 3063, '@andyroddick': 3064, '@ashsimpsonwentz': 3065, '@astynes': 3066, '@babblingbrookie': 3067, '@banksyart2': 3068, '@bass': 3069, '@cazp09': 3070, '@cookiedorksx3': 3071, 'according': 3072, 'accounts': 3073, 'actor': 3074, 'anniversary': 3075, 'answers': 3076, 'arrive': 3077, 'at&amp;t': 3078, 'az': 3079, 'beating': 3080, 'begin': 3081, 'belong': 3082, 'beth': 3083, 'bobby': 3084, 'borrow': 3085, 'brad': 3086, 'bringing': 3087, 'bs': 3088, 'burger': 3089, 'burned': 3090, 'burnt': 3091, \"c'mon\": 3092, 'cant': 3093, 'cast': 3094, 'cha': 3095, 'clients': 3096, 'considered': 3097, 'convo': 3098, 'cousins': 3099, 'crashing': 3100, 'disappointing': 3101, 'discuss': 3102, 'drank': 3103, 'drops': 3104, 'entry': 3105, 'exact': 3106, 'exchange': 3107, 'excitement': 3108, 'extremely': 3109, 'fails': 3110, 'failure': 3111, 'finishing': 3112, 'flower': 3113, 'fool': 3114, 'force': 3115, 'funniest': 3116, 'gd': 3117, 'gear': 3118, 'girly': 3119, 'goodmorning': 3120, 'gotcha': 3121, 'greetings': 3122, 'guest': 3123, 'herself': 3124, 'hide': 3125, 'hits': 3126, 'hood': 3127, 'hr': 3128, 'ignoring': 3129, 'infection': 3130, 'ja': 3131, 'judge': 3132, 'kelly': 3133, 'knw': 3134, 'kool': 3135, 'license': 3136, 'lisa': 3137, 'lt;---': 3138, 'lyrics': 3139, 'mag': 3140, 'mainly': 3141, 'map': 3142, 'members': 3143, 'mid': 3144, 'mines': 3145, 'moments': 3146, 'motivation': 3147, 'multi': 3148, 'nicole': 3149, 'o.o': 3150, 'o_o': 3151, 'october': 3152, 'parking': 3153, 'piano': 3154, 'police': 3155, 'pork': 3156, 'presentation': 3157, 'print': 3158, 'product': 3159, 'productive': 3160, 'prom': 3161, \"quot;don't\": 3162, 'quot;hey': 3163, 'quot;this': 3164, 'quot;your': 3165, 'rarely': 3166, 'relate': 3167, 'relationship': 3168, 'reminding': 3169, 'rose': 3170, 'sausages': 3171, 'scotland': 3172, 'screw': 3173, 'setting': 3174, 'shape': 3175, 'shortly': 3176, 'shucks': 3177, 'silver': 3178, 'skool': 3179, 'smoking': 3180, 'soooooo': 3181, 'square': 3182, 'srry': 3183, 'st': 3184, 'st.': 3185, 'stack': 3186, 'stalker': 3187, 'stalking': 3188, 'storms': 3189, 'tempted': 3190, 'theory': 3191, 'throwing': 3192, 'thumbs': 3193, 'tumblr': 3194, 'unfair': 3195, 'user': 3196, 'walls': 3197, 'wifi': 3198, 'wisdom': 3199, 'woah': 3200, 'wondered': 3201, 'xox': 3202, 'yahoo': 3203, 'yesss': 3204, 'younger': 3205, 'youth': 3206, 'yur': 3207, 'z': 3208, '¦': 3209, '16th': 3210, '300': 3211, '7th': 3212, \":')\": 3213, '@1045chumfm': 3214, '@_corruptedangel': 3215, '@_mikenewton': 3216, '@aceconcierge': 3217, '@agingbackwards': 3218, '@akelaa': 3219, '@alohaarleen': 3220, '@aloliver': 3221, '@ambercadabra': 3222, '@amieewhitney': 3223, '@ammarvellous': 3224, '@andysowards': 3225, '@anime81': 3226, '@aral': 3227, '@arunbasillal': 3228, '@askaaronlee': 3229, '@aulia': 3230, '@avalanchelynn': 3231, '@azlen': 3232, '@beckybuckwild': 3233, '@brentspiner': 3234, '@brightondoll': 3235, '@cadistra': 3236, '@caldjr': 3237, '@chrishasboobs': 3238, '@crusaderz4life': 3239, 'aj': 3240, 'ako': 3241, 'alice': 3242, 'allergic': 3243, 'amber': 3244, 'andyhurleyday': 3245, 'ann': 3246, 'anti': 3247, 'application': 3248, 'ashamed': 3249, 'assignment': 3250, 'awsome': 3251, 'awwwwww': 3252, 'basketball': 3253, 'bathroom': 3254, 'beats': 3255, 'bell': 3256, 'below': 3257, 'blank': 3258, 'booth': 3259, 'boyle': 3260, 'browser': 3261, 'bud': 3262, 'bugs': 3263, 'canceled': 3264, 'career': 3265, 'celeb': 3266, 'combination': 3267, 'commercial': 3268, 'contract': 3269, 'cookie': 3270, 'costs': 3271, 'craig': 3272, 'cricket': 3273, 'curse': 3274, 'cycle': 3275, 'designer': 3276, 'downtown': 3277, 'draw': 3278, 'drawing': 3279, 'drew': 3280, 'drove': 3281, 'eachother': 3282, 'el': 3283, 'eu': 3284, 'everyones': 3285, 'expecting': 3286, 'followin': 3287, 'freezing': 3288, 'frozen': 3289, 'garage': 3290, 'gee': 3291, 'golden': 3292, 'grace': 3293, 'ground': 3294, 'gun': 3295, 'haters': 3296, 'higher': 3297, 'hopes': 3298, 'insomnia': 3299, 'inspiring': 3300, 'interviews': 3301, 'irish': 3302, 'jet': 3303, 'journey': 3304, 'jst': 3305, 'katie': 3306, 'kicked': 3307, 'killer': 3308, 'kim': 3309, 'lab': 3310, 'layout': 3311, 'lemon': 3312, 'levels': 3313, 'lover': 3314, 'lt;&lt': 3315, 'lt;----': 3316, 'male': 3317, 'meal': 3318, 'mel': 3319, 'mission': 3320, 'mixed': 3321, 'montreal': 3322, 'mountain': 3323, 'nails': 3324, 'naman': 3325, 'ne': 3326, 'ng': 3327, 'oi': 3328, \"ol'\": 3329, 'oven': 3330, 'oz': 3331, 'pains': 3332, 'panda': 3333, 'perform': 3334, 'peter': 3335, 'photoshop': 3336, 'pillow': 3337, 'pills': 3338, 'piss': 3339, 'pix': 3340, 'plain': 3341, 'players': 3342, 'pocket': 3343, 'poop': 3344, 'popcorn': 3345, 'pouring': 3346, 'prepare': 3347, 'prize': 3348, 'professional': 3349, 'promised': 3350, 'props': 3351, 'pulled': 3352, 'quot;what': 3353, 'quot;who': 3354, 'rare': 3355, 'realised': 3356, 'recovery': 3357, 'refreshing': 3358, 'regardless': 3359, 'remix': 3360, 'rent': 3361, 'river': 3362, 'role': 3363, 'rub': 3364, 'seasons': 3365, 'security': 3366, 'services': 3367, 'shooting': 3368, 'shud': 3369, 'signal': 3370, 'skinny': 3371, 'slice': 3372, 'solo': 3373, 'stores': 3374, 'strawberry': 3375, 'suffer': 3376, 'survive': 3377, 'taught': 3378, 'tbh': 3379, 'tease': 3380, 'tests': 3381, 'themselves': 3382, 'thou': 3383, 'thread': 3384, 'toilet': 3385, 'treating': 3386, 'tu': 3387, 'tweetup': 3388, 'twits': 3389, 'unique': 3390, 'unlimited': 3391, 'uploading': 3392, 'upon': 3393, 'views': 3394, 'vodka': 3395, 'wallet': 3396, 'warning': 3397, 'warped': 3398, 'wasted': 3399, 'whore': 3400, 'wht': 3401, 'whyitweet': 3402, 'wide': 3403, 'willing': 3404, 'wrk': 3405, 'yard': 3406, 'yawns': 3407, 'yous': 3408, 'zealand': 3409, 'zombie': 3410, 'zone': 3411, '|': 3412, 'ð½ð': 3413, 'ñ': 3414, '18th': 3415, '27': 3416, '29': 3417, '8th': 3418, '9th': 3419, '@1indienation': 3420, '@__mares': 3421, '@_enigma': 3422, '@aalaap': 3423, '@abacab1975': 3424, '@acemas21': 3425, '@alexarpd': 3426, '@amyyvee': 3427, '@analystalterego': 3428, '@aravindkumar': 3429, '@archuphils': 3430, '@artfanatic411': 3431, '@banksyart': 3432, '@brainstuck': 3433, '@caseysevenfold': 3434, 'accepted': 3435, 'active': 3436, 'adore': 3437, 'ads': 3438, 'advantage': 3439, 'advertising': 3440, 'ahahaha': 3441, 'ahhhhh': 3442, 'allen': 3443, 'amazon': 3444, 'ankle': 3445, 'appears': 3446, 'average': 3447, 'became': 3448, 'bee': 3449, 'beef': 3450, 'birth': 3451, 'bk': 3452, 'booked': 3453, 'bot': 3454, 'brooke': 3455, 'cakes': 3456, 'celebration': 3457, 'chair': 3458, 'charging': 3459, 'chilling': 3460, 'chuckmemondays': 3461, 'cnt': 3462, 'combo': 3463, 'comfort': 3464, 'compare': 3465, 'complicated': 3466, 'coolest': 3467, 'cutting': 3468, 'damage': 3469, 'dawn': 3470, 'definately': 3471, 'deliver': 3472, 'delivery': 3473, 'desktop': 3474, 'despite': 3475, 'dh': 3476, 'diff': 3477, 'distracted': 3478, 'donuts': 3479, 'dork': 3480, 'dresses': 3481, 'emily': 3482, 'es': 3483, 'eurovision': 3484, 'faces': 3485, 'fest': 3486, 'films': 3487, 'fried': 3488, 'frustrating': 3489, 'funds': 3490, 'furniture': 3491, 'gasp': 3492, 'ghost': 3493, 'goood': 3494, 'gw': 3495, 'handed': 3496, 'hearts': 3497, 'heeey': 3498, 'heroes': 3499, 'holla': 3500, 'hop': 3501, 'horny': 3502, 'humans': 3503, 'hw': 3504, 'hype': 3505, \"i've\": 3506, 'impressive': 3507, 'improve': 3508, 'instant': 3509, 'it&quot': 3510, 'jackson': 3511, 'jay': 3512, 'jeez': 3513, 'jelly': 3514, 'justin': 3515, 'kay': 3516, 'kills': 3517, 'knocked': 3518, 'kobe': 3519, 'lamb': 3520, 'laying': 3521, 'league': 3522, 'lies': 3523, 'lightning': 3524, 'lily': 3525, 'lo': 3526, 'loading': 3527, 'makeup': 3528, 'manila': 3529, 'mary': 3530, 'matters': 3531, 'messing': 3532, 'mmmmm': 3533, 'mornings': 3534, 'natural': 3535, 'noes': 3536, 'obvious': 3537, 'offended': 3538, 'pad': 3539, 'pan': 3540, 'papa': 3541, 'parade': 3542, 'passes': 3543, 'passion': 3544, 'pen': 3545, 'peoples': 3546, 'pg': 3547, 'phew': 3548, 'pit': 3549, 'plate': 3550, 'pot': 3551, 'pounds': 3552, 'prices': 3553, 'prince': 3554, 'pup': 3555, 'q': 3556, 'quot;do': 3557, 'rained': 3558, 'reaction': 3559, 'reader': 3560, 'receive': 3561, 'records': 3562, 'remembered': 3563, 'reminder': 3564, 'replace': 3565, 'research': 3566, 'resist': 3567, 'reviews': 3568, 'rise': 3569, 'roast': 3570, 'rooting': 3571, 'royal': 3572, 'rush': 3573, 'sanctuarysunday': 3574, 'screaming': 3575, 'semester': 3576, 'semi': 3577, 'shining': 3578, 'sm': 3579, 'smells': 3580, 'sneak': 3581, 'socks': 3582, 'specific': 3583, 'split': 3584, 'srsly': 3585, 'stays': 3586, 'stolen': 3587, 'stone': 3588, 'stopping': 3589, 'suffering': 3590, 'sundays': 3591, 'sweden': 3592, 'switched': 3593, 'sytycd': 3594, 'tat': 3595, 'teaching': 3596, 'tee': 3597, 'terms': 3598, 'tgif': 3599, 'theatre': 3600, 'ton': 3601, 'tools': 3602, 'tragic': 3603, \"u're\": 3604, 'urgh': 3605, 'urself': 3606, 'votes': 3607, 'wana': 3608, 'wk': 3609, 'yayy': 3610, 'yey': 3611, 'zero': 3612, '\\xa0 ': 3613, '»': 3614, '--&gt': 3615, '-_-': 3616, '21st': 3617, '35': 3618, ':*': 3619, '@16_mileycyrus': 3620, '@420thoughts': 3621, '@__missb': 3622, '@_santi': 3623, '@adamsconsulting': 3624, '@afrobella': 3625, '@agesthegreat': 3626, '@ahoova': 3627, '@allthatglitrs21': 3628, '@amiemccarron': 3629, '@amykate': 3630, '@amypalko': 3631, '@aprilyim': 3632, '@ashleeadams': 3633, '@ashleigh92': 3634, '@awaisnaseer': 3635, '@basantam': 3636, '@bill_archie': 3637, '@blindcripple': 3638, '@bobbythomas1': 3639, '@boogaloo1': 3640, '@carole29': 3641, '@cazob': 3642, '@chantiparnell': 3643, '@chesterbe': 3644, '@cleaninggirl': 3645, '@cookiemonster82': 3646, '@cosmicmother': 3647, '^': 3648, '`': 3649, 'afterwards': 3650, 'aka': 3651, 'alike': 3652, 'allison': 3653, 'amazingly': 3654, 'approve': 3655, 'arizona': 3656, 'artists': 3657, 'audition': 3658, 'auto': 3659, 'bang': 3660, 'bars': 3661, 'bby': 3662, 'bites': 3663, 'blew': 3664, 'blocks': 3665, 'bonus': 3666, 'bradiewebb': 3667, 'brandon': 3668, 'budget': 3669, 'bum': 3670, 'caffeine': 3671, 'campaign': 3672, 'carrie': 3673, 'cds': 3674, 'central': 3675, 'chose': 3676, 'claire': 3677, 'co': 3678, 'comedy': 3679, 'complaining': 3680, 'compliment': 3681, 'confirmed': 3682, 'cow': 3683, 'cruise': 3684, 'cuddle': 3685, 'customers': 3686, 'darlin': 3687, 'december': 3688, 'degree': 3689, 'depending': 3690, 'determined': 3691, 'discovered': 3692, 'disgusting': 3693, 'dishes': 3694, 'display': 3695, 'dudes': 3696, 'dvr': 3697, 'earn': 3698, 'eaten': 3699, 'edit': 3700, 'edition': 3701, 'effects': 3702, 'emailed': 3703, 'entertainment': 3704, 'eric': 3705, 'et': 3706, 'fairly': 3707, 'flip': 3708, 'forced': 3709, 'forgive': 3710, 'fridays': 3711, 'fridge': 3712, 'ga': 3713, 'gona': 3714, 'gonna': 3715, 'graduate': 3716, 'greek': 3717, 'hacked': 3718, 'hay': 3719, 'headphones': 3720, 'heey': 3721, 'heheh': 3722, 'held': 3723, 'hire': 3724, 'hockey': 3725, 'hooray': 3726, 'hoped': 3727, 'hotter': 3728, 'hunting': 3729, 'inbox': 3730, 'include': 3731, 'incredibly': 3732, 'ing': 3733, 'inspired': 3734, 'iâ´m': 3735, 'josh': 3736, 'junk': 3737, 'kicks': 3738, 'kitten': 3739, 'laid': 3740, 'laughs': 3741, 'lebron': 3742, 'legal': 3743, 'legit': 3744, 'lessons': 3745, 'limited': 3746, 'linux': 3747, 'lips': 3748, 'locked': 3749, 'loop': 3750, 'lovin': 3751, \"ma'am\": 3752, 'maintenance': 3753, 'manager': 3754, 'mandy': 3755, 'march': 3756, 'missin': 3757, 'mm': 3758, 'multiple': 3759, 'mwah': 3760, 'neat': 3761, 'nga': 3762, 'np': 3763, 'nz': 3764, 'one&quot': 3765, 'paranoid': 3766, 'parts': 3767, 'pathetic': 3768, 'pee': 3769, 'photographer': 3770, 'pops': 3771, 'port': 3772, 'pour': 3773, 'prepared': 3774, 'pretend': 3775, 'production': 3776, 'pulling': 3777, 'puppies': 3778, 'purpose': 3779, 'quot;my': 3780, 'quot;that': 3781, 'recommendations': 3782, 'replaced': 3783, 'returned': 3784, 'rings': 3785, 'rocking': 3786, 'rolling': 3787, 'rolls': 3788, 'romantic': 3789, 'safely': 3790, 'searched': 3791, 'servers': 3792, 'sessions': 3793, 'sets': 3794, 'sheet': 3795, 'shine': 3796, 'shipping': 3797, 'shocked': 3798, 'sim': 3799, 'speakers': 3800, 'spelled': 3801, 'starving': 3802, 'steps': 3803, 'stressful': 3804, 'subway': 3805, 'sunglasses': 3806, 'tad': 3807, 'target': 3808, 'tasty': 3809, 'teddy': 3810, 'terribly': 3811, 'therapy': 3812, 'tommorow': 3813, 'towards': 3814, 'toys': 3815, 'trackle': 3816, 'tsk': 3817, 'tweeter': 3818, 'ultimate': 3819, 'uploaded': 3820, 'waitin': 3821, 'wise': 3822, 'woop': 3823, 'wore': 3824, 'www.iamsoannoyed.com': 3825, 'xoxox': 3826, 'yeahhh': 3827, 'yogurt': 3828, '¡': 3829, '32': 3830, '3wordsaftersex': 3831, '70': 3832, ';--': 3833, '=/': 3834, '@106andpark': 3835, '@1cloudstrife': 3836, '@211me': 3837, '@a_simple_girl': 3838, '@aditya': 3839, '@afinefrenzy': 3840, '@ahj': 3841, '@ajrafael': 3842, '@americanwomannn': 3843, '@amyshell': 3844, '@andrewgoldstein': 3845, '@angelajames': 3846, '@annyo84': 3847, '@arbonneteam': 3848, '@asexiness': 3849, '@asfaq': 3850, '@ashley_eastwest': 3851, '@astro_mike': 3852, '@azandiamjbb': 3853, '@beingnobody': 3854, '@bigassbadger': 3855, '@bimbler': 3856, '@broooooke': 3857, '@cari_tx': 3858, '@cassieventura': 3859, '@christft': 3860, '@citygirl912': 3861, '@cocabeenslinky': 3862, '@countingcrows': 3863, '@courtneysit': 3864, '@craigeryowens': 3865, 'abit': 3866, 'acoustic': 3867, 'ada': 3868, 'addiction': 3869, 'adventure': 3870, 'amusing': 3871, 'ana': 3872, 'anne': 3873, 'anoop': 3874, 'anxiety': 3875, 'apprentice': 3876, 'asshole': 3877, 'assume': 3878, 'assuming': 3879, 'awesomeness': 3880, 'backup': 3881, 'bahaha': 3882, 'bass': 3883, 'becuz': 3884, 'bedtime': 3885, 'beers': 3886, 'beside': 3887, 'bestie': 3888, 'beyonce': 3889, 'blogging': 3890, 'blues': 3891, 'bold': 3892, 'boooo': 3893, 'boredom': 3894, 'bothered': 3895, 'brooklyn': 3896, 'bueno': 3897, 'cab': 3898, 'cc': 3899, 'chances': 3900, 'channels': 3901, 'char': 3902, 'charger': 3903, 'cherry': 3904, 'cloud': 3905, 'coincidence': 3906, 'colors': 3907, 'concern': 3908, 'coulda': 3909, 'counter': 3910, 'created': 3911, 'cud': 3912, 'cuts': 3913, 'damnit': 3914, 'dealing': 3915, 'deleting': 3916, 'delish': 3917, 'den': 3918, 'direction': 3919, 'discount': 3920, 'distance': 3921, 'ditto': 3922, 'dollar': 3923, 'dr.': 3924, 'drives': 3925, 'drums': 3926, 'ds': 3927, 'dutch': 3928, 'duty': 3929, 'eatin': 3930, 'edge': 3931, 'edinburgh': 3932, 'editing': 3933, 'eminem': 3934, 'engine': 3935, 'entered': 3936, 'eww': 3937, 'fa': 3938, 'fantasy': 3939, 'farrah': 3940, 'favor': 3941, 'favorites': 3942, 'fixing': 3943, 'fone': 3944, 'forgetting': 3945, 'forgotten': 3946, 'fortune': 3947, 'freedom': 3948, 'function': 3949, 'fyi': 3950, 'gaga': 3951, 'gal': 3952, 'generally': 3953, 'gigs': 3954, 'gimme': 3955, 'giveaway': 3956, 'gm': 3957, 'goodluck': 3958, 'graduating': 3959, 'graphic': 3960, 'grocery': 3961, 'h': 3962, 'haircut': 3963, 'happend': 3964, 'hii': 3965, 'hip': 3966, 'hmph': 3967, 'hooked': 3968, 'horse': 3969, 'hosting': 3970, 'ian': 3971, 'icecream': 3972, 'idiots': 3973, 'imisscath': 3974, 'india': 3975, 'installed': 3976, 'intense': 3977, 'iron': 3978, 'item': 3979, 'jail': 3980, 'jason': 3981, 'jo': 3982, 'jordan': 3983, 'jumped': 3984, 'ke': 3985, 'lasted': 3986, 'leak': 3987, 'legally': 3988, 'lip': 3989, 'lj': 3990, 'lmaoo': 3991, 'lock': 3992, 'lolol': 3993, 'looove': 3994, 'lt;33': 3995, 'lush': 3996, 'lvatt': 3997, 'maine': 3998, 'management': 3999, 'marry': 4000, 'meee': 4001, 'metro': 4002, 'mile': 4003, 'mileymonday': 4004, 'mistakes': 4005, 'mixing': 4006, 'monkey': 4007, 'montana': 4008, 'muah': 4009, 'nail': 4010, 'nba': 4011, 'necessary': 4012, 'ness': 4013, 'neva': 4014, 'newcastle': 4015, 'newest': 4016, 'nightmares': 4017, 'nu': 4018, 'nuggets': 4019, 'nw': 4020, 'opened': 4021, 'otalia': 4022, 'pete': 4023, 'picks': 4024, 'pig': 4025, 'planet': 4026, 'plant': 4027, 'pleasant': 4028, 'politics': 4029, 'powers': 4030, 'pt': 4031, 'purse': 4032, 'quot;but': 4033, 'quot;when': 4034, 'quot;why': 4035, 'quotes': 4036, 'rainbow': 4037, 'raised': 4038, 'raw': 4039, 'reached': 4040, 'relief': 4041, 'rep': 4042, 'replacement': 4043, 'responding': 4044, 'rlly': 4045, 'ruins': 4046, 'sake': 4047, 'sang': 4048, 'sausage': 4049, 'scratch': 4050, 'scream': 4051, 'sd': 4052, 'sec': 4053, 'senior': 4054, 'sheesh': 4055, 'sho': 4056, 'sickness': 4057, 'sista': 4058, 'smaller': 4059, 'smiley': 4060, 'smooth': 4061, 'society': 4062, 'somewhat': 4063, 'sonic': 4064, 'sony': 4065, 'spoilers': 4066, 'stairs': 4067, 'stats': 4068, 'storage': 4069, 'strawberries': 4070, 'strength': 4071, 'strictly': 4072, 'suddenly': 4073, 'sue': 4074, 'suggestions': 4075, 'supernatural': 4076, 'swap': 4077, 'teen': 4078, 'thankfully': 4079, 'thingy': 4080, 'thus': 4081, 'toe': 4082, 'tomorow': 4083, 'transformers': 4084, 'trash': 4085, 'triple': 4086, 'ttyl': 4087, 'umbrella': 4088, 'unlike': 4089, 'v.': 4090, 'value': 4091, 'vegan': 4092, 'w.': 4093, 'wakes': 4094, 'washington': 4095, 'wknd': 4096, 'wood': 4097, 'wot': 4098, 'www': 4099, 'you.&quot': 4100, '\\x85 ': 4101, '´': 4102, '-.-': 4103, '13th': 4104, '2.5': 4105, '2moro': 4106, '400': 4107, '6th': 4108, '@0mie': 4109, '@_maxwell': 4110, '@adlyman': 4111, '@agentsullivan': 4112, '@aherne148': 4113, '@ahmednaguib': 4114, '@aimeelady': 4115, '@alancostello': 4116, '@alexcashcash': 4117, '@alittlebit': 4118, '@amazondotjon': 4119, '@anaggh': 4120, '@anca_foster': 4121, '@anncurry': 4122, '@arjbarker': 4123, '@azeleen': 4124, '@babenatasha': 4125, '@bananasmel': 4126, '@barefoot_exec': 4127, '@bassyc': 4128, '@benshephard': 4129, '@bexiclepop': 4130, '@blowhornoz': 4131, '@bmolko': 4132, '@bobbinrob': 4133, '@brendonuriesays': 4134, '@brittgoosie': 4135, '@catep36': 4136, '@charlestrippy': 4137, '@ciaobella50': 4138, 'aah': 4139, 'abby': 4140, 'abc': 4141, 'absolute': 4142, 'advance': 4143, 'alltimelow': 4144, 'ally': 4145, 'angels': 4146, 'anime': 4147, 'answered': 4148, 'appointment': 4149, 'asylm': 4150, 'attached': 4151, 'aus': 4152, 'author': 4153, 'ba': 4154, 'bags': 4155, 'baking': 4156, 'banned': 4157, 'beast': 4158, 'bedroom': 4159, 'benefit': 4160, 'berry': 4161, 'bible': 4162, 'blind': 4163, 'blown': 4164, 'boot': 4165, 'brave': 4166, 'breathing': 4167, 'bride': 4168, 'brit': 4169, 'bucks': 4170, 'buddies': 4171, 'busted': 4172, 'c.': 4173, 'calories': 4174, 'caps': 4175, 'carry': 4176, 'caused': 4177, 'causing': 4178, 'centre': 4179, 'cereal': 4180, 'chapter': 4181, 'chica': 4182, 'chicks': 4183, 'chrome': 4184, 'circle': 4185, 'coach': 4186, 'coke': 4187, 'colin': 4188, 'concerned': 4189, 'constantly': 4190, 'conversations': 4191, 'core': 4192, 'countries': 4193, 'csi': 4194, 'damned': 4195, 'db': 4196, 'default': 4197, 'del': 4198, \"didn't\": 4199, 'divorce': 4200, 'dolls': 4201, 'don': 4202, 'doors': 4203, 'dropping': 4204, 'drunken': 4205, 'duck': 4206, 'effing': 4207, 'encourage': 4208, 'encouraging': 4209, 'enuf': 4210, 'err': 4211, 'ewww': 4212, 'fallen': 4213, 'favs': 4214, 'flawless': 4215, 'friendship': 4216, 'fries': 4217, 'generous': 4218, 'giant': 4219, 'graduated': 4220, 'grill': 4221, 'gue': 4222, 'hack': 4223, 'hall': 4224, 'happier': 4225, 'headaches': 4226, 'heya': 4227, 'hiding': 4228, 'hiring': 4229, 'honor': 4230, 'hp': 4231, 'i`m': 4232, 'impression': 4233, 'indian': 4234, 'injured': 4235, 'ink': 4236, \"ink'd\": 4237, 'interests': 4238, 'irl': 4239, 'iz': 4240, 'iï¿½m': 4241, 'jacob': 4242, 'jakarta': 4243, 'java': 4244, 'jelous': 4245, 'jessica': 4246, 'julian': 4247, 'knight': 4248, 'knoww': 4249, 'lah': 4250, 'lee': 4251, 'lg': 4252, 'lovee': 4253, 'lt;&lt;&lt': 4254, 'lt;-': 4255, 'makin': 4256, 'maria': 4257, 'marks': 4258, 'mas': 4259, 'mc': 4260, 'michelle': 4261, 'mj': 4262, 'models': 4263, 'morn': 4264, 'mountains': 4265, 'muffins': 4266, 'nadal': 4267, 'neighbor': 4268, 'neighbors': 4269, 'networking': 4270, 'nighty': 4271, 'niley': 4272, 'nin': 4273, 'noe': 4274, 'november': 4275, 'nyt': 4276, 'ofcourse': 4277, 'ol': 4278, 'ot': 4279, 'ourselves': 4280, 'p.s.': 4281, 'parent': 4282, 'paste': 4283, 'patrick': 4284, 'peaceful': 4285, 'pero': 4286, 'phil': 4287, 'pitch': 4288, 'plastic': 4289, 'playlist': 4290, 'plugin': 4291, 'po': 4292, 'poisoning': 4293, 'potential': 4294, 'projects': 4295, 'proof': 4296, 'quarter': 4297, 'quot;a': 4298, 'quot;all': 4299, 'quot;its': 4300, 'quot;just': 4301, 'quot;she': 4302, 'rap': 4303, 'requests': 4304, 'revenge': 4305, 'revising': 4306, 'rides': 4307, 'risk': 4308, 'robin': 4309, 'roof': 4310, 'route': 4311, 'rss': 4312, 'rt': 4313, 'rumours': 4314, 'scare': 4315, 'schools': 4316, 'sci': 4317, 'scott': 4318, 'scottish': 4319, 'script': 4320, 'secrets': 4321, 'seven': 4322, 'shelf': 4323, 'shifts': 4324, 'shock': 4325, 'silence': 4326, 'simon': 4327, 'smith': 4328, 'snuggle': 4329, 'solid': 4330, 'spammers': 4331, 'speech': 4332, 'spoiled': 4333, 'stealing': 4334, 'streaming': 4335, 'sunrise': 4336, 'tacos': 4337, 'tent': 4338, 'theater': 4339, 'thomas': 4340, 'thrown': 4341, 'tie': 4342, 'tmr': 4343, 'toes': 4344, 'tooooo': 4345, 'tracks': 4346, 'transfer': 4347, 'traveling': 4348, 'trips': 4349, 'tube': 4350, 'tuned': 4351, 'tweeters': 4352, 'twitterberry': 4353, \"u'll\": 4354, 'ughhh': 4355, 'unfortunatly': 4356, 'united': 4357, 'urs': 4358, 'vancouver': 4359, 'washed': 4360, 'wats': 4361, 'webcam': 4362, 'welll': 4363, 'wendy': 4364, 'whocangetit': 4365, 'wi': 4366, 'wolverine': 4367, 'wordpress': 4368, 'xdd': 4369, 'yaa': 4370, 'youuuu': 4371, 'yt': 4372, 'zac': 4373, 'ðºð': 4374, '):': 4375, '14th': 4376, '15th': 4377, '26': 4378, '28': 4379, '500': 4380, '99': 4381, ':0': 4382, '@1jaredpadalecki': 4383, '@2niteboy': 4384, '@_amberlovely': 4385, '@_shannon1234': 4386, '@_xotashhh': 4387, '@absolutelytrue': 4388, '@adese': 4389, '@adnamay': 4390, '@aerobic247': 4391, '@agentbooth': 4392, '@ajm1030': 4393, '@akarra': 4394, '@akomuzikera': 4395, '@akr93': 4396, '@al_ice': 4397, '@alanjlee': 4398, '@alitherunner': 4399, '@alroker': 4400, '@amalari': 4401, '@amberausten': 4402, '@amous': 4403, '@amypaffrath': 4404, '@andyqsmith': 4405, '@aparajuli': 4406, '@apercheddove': 4407, '@archangelmaggie': 4408, '@aristeia': 4409, '@arsenalsarah': 4410, '@asiabrands': 4411, '@asos_julia': 4412, '@averygoodyear': 4413, '@babygirlsomajor': 4414, '@bb517': 4415, '@bball4life': 4416, '@bebiv': 4417, '@beckinelson': 4418, '@ben_jarelbo': 4419, '@brigwyn': 4420, '@butterflykate': 4421, '@candicekei': 4422, '@cathy_cochina40': 4423, '@cherrythegreat': 4424, '@cherylh77': 4425, '@chevale': 4426, '@choley': 4427, '@chrisgarrett': 4428, '@chrisluvssixxam': 4429, '@claireboyles': 4430, '@claudekelly': 4431, '@collective_soul': 4432, '@comcastbonnie': 4433, 'adopted': 4434, 'adult': 4435, 'africa': 4436, 'aight': 4437, 'aja': 4438, 'aku': 4439, 'alaska': 4440, 'albums': 4441, 'alternative': 4442, 'amsterdam': 4443, 'angie': 4444, 'apologize': 4445, 'appt': 4446, 'argentina': 4447, 'articles': 4448, 'asia': 4449, 'assistant': 4450, 'aubrey': 4451, 'auch': 4452, 'austin': 4453, 'ay': 4454, 'babysit': 4455, 'badass': 4456, 'ban': 4457, 'bb10': 4458, 'bea': 4459, 'beatles': 4460, 'becky': 4461, 'begins': 4462, 'belated': 4463, 'betta': 4464, 'bikini': 4465, 'bin': 4466, 'bitter': 4467, 'bomb': 4468, 'bond': 4469, 'booze': 4470, 'bottles': 4471, 'bound': 4472, 'bow': 4473, 'bowl': 4474, 'brandy': 4475, 'brownies': 4476, 'brunch': 4477, 'brutal': 4478, 'cage': 4479, 'canadian': 4480, 'cap': 4481, 'captain': 4482, 'catchy': 4483, 'celebrity': 4484, 'chef': 4485, 'childhood': 4486, 'christ': 4487, 'cleared': 4488, 'climb': 4489, 'comics': 4490, 'connected': 4491, 'continues': 4492, 'countdown': 4493, 'court': 4494, 'ct': 4495, 'cu': 4496, 'cupcake': 4497, 'cya': 4498, 'dats': 4499, 'daughters': 4500, 'defo': 4501, 'delhi': 4502, 'deserves': 4503, 'dev': 4504, 'dia': 4505, 'didnt': 4506, 'disappointment': 4507, 'disconnected': 4508, 'discussion': 4509, 'dissapointed': 4510, 'dl': 4511, 'doo': 4512, 'dreaming': 4513, 'drivers': 4514, 'drugs': 4515, 'dubai': 4516, 'dublin': 4517, 'dvds': 4518, 'easter': 4519, 'eff': 4520, 'electric': 4521, 'ellen': 4522, 'embarrassed': 4523, 'emotional': 4524, 'equally': 4525, 'eva': 4526, 'exception': 4527, 'factor': 4528, 'false': 4529, 'familiar': 4530, 'faves': 4531, 'features': 4532, 'figuring': 4533, 'fired': 4534, 'forecast': 4535, 'forourhero': 4536, 'fr': 4537, 'freaky': 4538, 'frog': 4539, 'frustrated': 4540, 'ft': 4541, 'fuzzy': 4542, 'gahh': 4543, 'gaming': 4544, 'gen': 4545, 'georgia': 4546, 'git': 4547, 'glasgow': 4548, 'gossip': 4549, 'gots': 4550, 'greatly': 4551, 'groups': 4552, 'guide': 4553, 'gum': 4554, 'habit': 4555, 'hangin': 4556, 'har': 4557, 'hardcore': 4558, 'harsh': 4559, 'hating': 4560, 'hbo': 4561, 'hbu': 4562, 'heather': 4563, 'homies': 4564, 'huhu': 4565, 'humour': 4566, 'iced': 4567, 'iconfess': 4568, 'indonesia': 4569, 'installing': 4570, 'it.&quot': 4571, 'january': 4572, 'jazz': 4573, 'joey': 4574, 'kat': 4575, 'kindle': 4576, 'kissed': 4577, 'landed': 4578, 'las': 4579, 'lawn': 4580, 'legend': 4581, 'lens': 4582, 'linked': 4583, 'loveee': 4584, 'lovers': 4585, 'lt;/3': 4586, 'madness': 4587, 'master': 4588, 'matches': 4589, 'material': 4590, 'meeee': 4591, 'melted': 4592, 'messy': 4593, 'minus': 4594, 'mirror': 4595, 'mister': 4596, 'mmmmmm': 4597, 'monitor': 4598, 'moves': 4599, 'ms.': 4600, 'neighborhood': 4601, 'neon': 4602, 'netflix': 4603, 'nickname': 4604, 'nine': 4605, 'nj': 4606, 'noodles': 4607, 'noon': 4608, 'northern': 4609, 'ole': 4610, 'ou': 4611, 'owned': 4612, 'panel': 4613, 'paramore': 4614, 'pasta': 4615, 'pcd': 4616, 'penny': 4617, 'physics': 4618, 'pi': 4619, 'picnic': 4620, 'pilot': 4621, 'ping': 4622, 'pixar': 4623, 'poetry': 4624, 'potatoes': 4625, 'powerful': 4626, 'pr': 4627, 'practically': 4628, 'prescription': 4629, 'president': 4630, 'promo': 4631, 'psp': 4632, 'published': 4633, 'pun': 4634, 'quot;in': 4635, 'quot;is': 4636, 'rachel': 4637, 'rang': 4638, 'rated': 4639, 'recognize': 4640, 'recorded': 4641, 'recovering': 4642, 'reports': 4643, 'required': 4644, 'reunion': 4645, 'ribs': 4646, 'rocked': 4647, 'romance': 4648, 'root': 4649, 'ross': 4650, 'safari': 4651, 'sees': 4652, 'selfish': 4653, 'seo': 4654, 'sexual': 4655, 'shakes': 4656, 'shared': 4657, 'shattered': 4658, 'shhh': 4659, 'shoe': 4660, 'shorts': 4661, 'shy': 4662, 'signs': 4663, 'sized': 4664, 'skies': 4665, 'skip': 4666, 'slap': 4667, 'smack': 4668, 'sniffle': 4669, 'soap': 4670, 'sob': 4671, 'sober': 4672, 'sox': 4673, 'spears': 4674, 'spider': 4675, 'spots': 4676, 'staff': 4677, 'statement': 4678, 'stayin': 4679, 'stops': 4680, 'strip': 4681, 'stunning': 4682, 'sucky': 4683, 'teasing': 4684, 'techno': 4685, 'teehee': 4686, 'temporarily': 4687, 'tempting': 4688, 'thnks': 4689, 'thts': 4690, 'time&quot': 4691, 'tomoz': 4692, 'trance': 4693, 'trial': 4694, 'tricks': 4695, 'twitterfon': 4696, 'uber': 4697, 'ubuntu': 4698, 'udah': 4699, 'ughh': 4700, 'uhh': 4701, 'ui': 4702, 'understanding': 4703, 'understood': 4704, 'unfollowed': 4705, 'unit': 4706, 'upcoming': 4707, 'upsetting': 4708, 'vacay': 4709, 'valley': 4710, 'vanilla': 4711, 'verizon': 4712, 'vet': 4713, 'visited': 4714, 'vista': 4715, 'wherever': 4716, 'whoever': 4717, 'windy': 4718, 'winners': 4719, 'wire': 4720, 'wireless': 4721, 'woken': 4722, 'xboxe3': 4723, 'yaaay': 4724, 'yeaa': 4725, 'yuck': 4726, 'yucky': 4727, 'yw': 4728, 'zoo': 4729, '\\n': 4730, '       ': 4731, '&amp': 4732, \"'bout\": 4733, '---&gt': 4734, '12th': 4735, '20th': 4736, '2night': 4737, '6:30': 4738, ':3': 4739, '@10thedoctor10': 4740, '@18percentgrey': 4741, '@3cb': 4742, '@3sixty5days': 4743, '@_spell': 4744, '@aal17': 4745, '@aaliyahlove69': 4746, '@abbiefletcher': 4747, '@abcdefglynis': 4748, '@abrowngirl': 4749, '@aclockworktoad': 4750, '@adamgoldston': 4751, '@adamsevani': 4752, '@afsoon': 4753, '@alex_mauricio': 4754, '@alexroots': 4755, '@alexsheppard': 4756, '@alievans719': 4757, '@alisonhaislip': 4758, '@alittletrendy': 4759, '@allconsoffun': 4760, '@allisonnazarian': 4761, '@aloemilk': 4762, '@alyssanoelled': 4763, '@amandalaur': 4764, '@amazing_grace13': 4765, '@amomtwoboys': 4766, '@amp451': 4767, '@amystar92': 4768, '@ananyah': 4769, '@ancillatilia': 4770, '@andrea_r': 4771, '@andy_lamb': 4772, '@aned': 4773, '@anima': 4774, '@anniedafg': 4775, '@anntrs': 4776, '@ashleyolsen7': 4777, '@astrowebgirl': 4778, '@audrey_o': 4779, '@austinslide': 4780, '@baxiabhishek': 4781, '@beckykingston': 4782, '@beezan': 4783, '@bigwormy': 4784, '@bing': 4785, '@bisante': 4786, '@bluenscottish': 4787, '@breeolson9': 4788, '@brian_littrell': 4789, '@brookehaskins': 4790, '@calbo': 4791, '@cameronreilly': 4792, '@camiknickers': 4793, '@cezza_b': 4794, '@chargerjenn': 4795, '@charltonbrooker': 4796, '@chet_cannon': 4797, '@cheth': 4798, '@chris_gorham': 4799, '@chriscuzzy': 4800, '@christophermoy': 4801, '@clarasdiary': 4802, '@combustiblesong': 4803, '@cookleta': 4804, '@courtney_s': 4805, '@coy0te': 4806, '@ctham': 4807, '@jonasbrothers': 4808, '@mileycyrus': 4809, '\\\\o/': 4810, 'a.m.': 4811, 'abuse': 4812, 'aches': 4813, 'aching': 4814, 'addict': 4815, 'aiden': 4816, 'alert': 4817, 'announced': 4818, 'announcement': 4819, 'anxious': 4820, 'anyhow': 4821, 'apologies': 4822, 'applied': 4823, 'appropriate': 4824, 'archuleta': 4825, 'army': 4826, 'attacked': 4827, 'audience': 4828, 'australian': 4829, 'b.': 4830, 'backwards': 4831, 'backyard': 4832, 'bahahaha': 4833, 'ballet': 4834, 'barakatday': 4835, 'battle': 4836, 'bean': 4837, 'becca': 4838, 'becomes': 4839, 'beg': 4840, 'bein': 4841, 'betty': 4842, 'bffs': 4843, 'birthdays': 4844, 'blair': 4845, 'bleh': 4846, 'blushes': 4847, 'bo': 4848, 'booooo': 4849, 'brazilian': 4850, 'brisbane': 4851, 'brittany': 4852, 'bruce': 4853, 'bubble': 4854, 'buck': 4855, 'bugger': 4856, 'burns': 4857, 'calendar': 4858, 'carol': 4859, 'casey': 4860, 'cathy': 4861, 'century': 4862, 'chad': 4863, 'chain': 4864, 'champions': 4865, 'charged': 4866, 'charity': 4867, 'charlotte': 4868, 'chats': 4869, 'cheeky': 4870, 'cheering': 4871, 'chile': 4872, 'christian': 4873, 'closes': 4874, 'closest': 4875, 'closet': 4876, 'cn': 4877, 'cnn': 4878, 'codes': 4879, 'colorado': 4880, 'columbus': 4881, 'comeback': 4882, 'comfortable': 4883, 'concept': 4884, 'confirm': 4885, 'confirmation': 4886, 'constant': 4887, 'contemplating': 4888, 'cops': 4889, 'corn': 4890, 'coughing': 4891, 'covers': 4892, 'cramps': 4893, 'custom': 4894, 'cutie': 4895, 'dangerous': 4896, 'delay': 4897, 'demo': 4898, 'description': 4899, 'desert': 4900, 'designs': 4901, 'desperate': 4902, 'destroy': 4903, 'dfizzy': 4904, 'directly': 4905, 'disagree': 4906, 'dms': 4907, 'document': 4908, 'dong': 4909, 'dougie': 4910, 'dramatic': 4911, 'dreading': 4912, 'eek': 4913, 'egg': 4914, 'emma': 4915, 'entertain': 4916, 'entirely': 4917, 'envious': 4918, 'estate': 4919, 'etsy': 4920, 'everton': 4921, 'every1': 4922, 'exited': 4923, 'experiment': 4924, 'expert': 4925, 'explore': 4926, 'expression': 4927, 'factory': 4928, 'fatty': 4929, 'featured': 4930, 'federer': 4931, 'feeding': 4932, 'fella': 4933, 'filling': 4934, 'firstrecord': 4935, 'flags': 4936, 'flew': 4937, 'flights': 4938, 'folk': 4939, 'frenchieb': 4940, 'fry': 4941, 'fuel': 4942, 'gallery': 4943, 'geeks': 4944, 'genuine': 4945, 'giggle': 4946, 'glasto': 4947, 'global': 4948, 'gmail': 4949, 'gooood': 4950, 'goooood': 4951, 'gps': 4952, 'grammar': 4953, 'greet': 4954, 'grind': 4955, 'grounded': 4956, 'grrrr': 4957, 'gt;&gt': 4958, 'gt;&gt;&gt': 4959, 'gt;_&lt': 4960, 'guessed': 4961, 'guna': 4962, 'guns': 4963, 'hahahahah': 4964, 'hahha': 4965, 'handsome': 4966, 'handy': 4967, 'happily': 4968, 'hardware': 4969, 'hater': 4970, 'highest': 4971, 'highlight': 4972, 'hittin': 4973, 'holds': 4974, 'homemade': 4975, 'homo': 4976, 'honored': 4977, 'hopeless': 4978, 'hott': 4979, 'howdy': 4980, 'hs': 4981, 'hugh': 4982, 'huhuhu': 4983, 'hungover': 4984, 'hunt': 4985, 'ia': 4986, 'iam': 4987, 'icon': 4988, 'id': 4989, 'ignored': 4990, 'ik': 4991, 'iloveyou': 4992, 'imo': 4993, 'impatient': 4994, 'indiana': 4995, 'indy': 4996, 'informed': 4997, 'invented': 4998, 'involve': 4999, 'iowa': 5000, 'jared': 5001, 'jeep': 5002, 'jen': 5003, 'jquery': 5004, 'julia': 5005, 'jumping': 5006, 'kasi': 5007, 'kindly': 5008, 'kittens': 5009, 'kudos': 5010, 'kung': 5011, 'kyle': 5012, 'l.a.': 5013, 'laker': 5014, 'latin': 5015, 'leading': 5016, 'legendary': 5017, 'lesbian': 5018, 'lifetime': 5019, 'lighter': 5020, 'lion': 5021, 'liquid': 5022, 'liverpool': 5023, 'liz': 5024, 'los': 5025, 'louis': 5026, 'lounge': 5027, 'ly': 5028, 'mah': 5029, 'maker': 5030, 'mami': 5031, 'manchester': 5032, 'mann': 5033, 'mario': 5034, 'martin': 5035, 'mcdonalds': 5036, 'me.&quot': 5037, 'meantime': 5038, 'meetings': 5039, 'megan': 5040, 'menu': 5041, 'milo': 5042, 'monkeys': 5043, 'moore': 5044, 'motivated': 5045, 'mrtweet': 5046, 'mummy': 5047, 'nana': 5048, 'necklace': 5049, 'nephew': 5050, 'ni': 5051, 'niece': 5052, 'notebook': 5053, 'nut': 5054, 'odds': 5055, 'ohio': 5056, 'om': 5057, 'oooooh': 5058, 'orders': 5059, 'owl': 5060, 'painted': 5061, 'particularly': 5062, 'password': 5063, 'patch': 5064, 'path': 5065, 'pattinson': 5066, 'pe': 5067, 'peas': 5068, 'perry': 5069, 'perth': 5070, 'pigs': 5071, 'pile': 5072, 'poll': 5073, 'presents': 5074, 'pride': 5075, 'printed': 5076, 'printer': 5077, 'prison': 5078, 'punk': 5079, 'quest': 5080, 'quot;let': 5081, 'racist': 5082, 'raise': 5083, 'ram': 5084, 'reads': 5085, 'recover': 5086, 'recovered': 5087, 'refresh': 5088, 'regarding': 5089, 'register': 5090, 'relieve': 5091, 'relieved': 5092, 'repair': 5093, 'rescue': 5094, 'rick': 5095, 'rider': 5096, 'rights': 5097, 'roller': 5098, 'roommate': 5099, 'rugby': 5100, 'salt': 5101, 'samantha': 5102, 'screens': 5103, 'sean': 5104, 'sentence': 5105, 'serve': 5106, 'serving': 5107, 'shades': 5108, 'shaking': 5109, 'shark': 5110, 'shed': 5111, 'shld': 5112, 'shown': 5113, 'sides': 5114, 'sleepin': 5115, 'sneezing': 5116, 'softball': 5117, 'some1': 5118, 'sorrry': 5119, 'specially': 5120, 'spectacular': 5121, 'speechless': 5122, 'spelt': 5123, 'spiders': 5124, 'spin': 5125, 'spoken': 5126, 'spoon': 5127, 'spotify': 5128, 'stavros': 5129, 'steven': 5130, 'stickers': 5131, 'sticks': 5132, 'stinks': 5133, 'stood': 5134, 'stranger': 5135, 'stroll': 5136, 'stuffed': 5137, 'sum1': 5138, 'swift': 5139, 'sync': 5140, 'syrup': 5141, 'tall': 5142, 'teachers': 5143, 'technically': 5144, 'ted': 5145, 'tequila': 5146, 'thailand': 5147, 'thankful': 5148, 'therefore': 5149, 'throws': 5150, 'tied': 5151, 'timeline': 5152, 'tks': 5153, 'tn': 5154, 'tnx': 5155, 'tops': 5156, 'trains': 5157, 'treasure': 5158, 'treats': 5159, 'trees': 5160, 'turkey': 5161, 'tweeple': 5162, 'tweetin': 5163, 'tx': 5164, 'ubertwitter': 5165, 'uhm': 5166, 'unable': 5167, 'unbelievable': 5168, 'unhappy': 5169, 'university': 5170, 'unlucky': 5171, 'untill': 5172, 'up&quot': 5173, 'va': 5174, 'vacations': 5175, 'vampire': 5176, 'veggies': 5177, 'versions': 5178, 'virgin': 5179, 'virus': 5180, 'waited': 5181, 'walmart': 5182, 'websites': 5183, 'western': 5184, 'whatsmysection': 5185, 'whip': 5186, 'wid': 5187, 'wifey': 5188, 'witness': 5189, 'wkend': 5190, 'womp': 5191, 'wrap': 5192, 'writes': 5193, 'xmas': 5194, 'xxxxx': 5195, 'yayyy': 5196, 'yell': 5197, 'ym': 5198, 'yoga': 5199, 'yoo': 5200, 'zombies': 5201, 'ð½ðµ': 5202, '...........': 5203, '1500': 5204, '29th': 5205, '48': 5206, '4:30': 5207, ':-o': 5208, ';---': 5209, '@007peter': 5210, '@4aplin': 5211, '@7angela7': 5212, '@_chelsea_marie': 5213, '@_dappy': 5214, '@_moisesarias': 5215, '@_natearchibald': 5216, '@_rachaelll': 5217, '@_stephhh': 5218, '@abramsandbettes': 5219, '@absolutspacegrl': 5220, '@acepower': 5221, '@acidicice': 5222, '@acryfromthesoul': 5223, '@adcharlie': 5224, '@adriannecurry': 5225, '@ahmnohere': 5226, '@aion_ayase': 5227, '@alegrya': 5228, '@alexalbrecht': 5229, '@alexandrastack': 5230, '@alexderossi': 5231, '@alivicwil': 5232, '@allycupcake': 5233, '@allyxwebb': 5234, '@alyandaj': 5235, '@alydenisof': 5236, '@amandafortier': 5237, '@ambermatson': 5238, '@amilya': 5239, '@amy__xx': 5240, '@andrewbarnett': 5241, '@andrewpycroft': 5242, '@anneliesch26': 5243, '@annhawkins': 5244, '@annjj': 5245, '@anotherjulia': 5246, '@anotorias': 5247, '@antzpantz': 5248, '@arianesherine': 5249, '@arianneross': 5250, '@artemisrex': 5251, '@aschernathan': 5252, '@ashjolliffe': 5253, '@atexasattitude': 5254, '@auditiondanny': 5255, '@aussie_matelc': 5256, '@aweekes': 5257, '@axelsrose': 5258, '@azmomofmanyhats': 5259, '@babymakinmachin': 5260, '@bbgeekchic': 5261, '@bbrathwaite': 5262, '@beardoctor': 5263, '@beaugiles': 5264, '@becabear': 5265, '@belle_lulu': 5266, '@bethbrittbrand': 5267, '@bethenny': 5268, '@bethmcgrath': 5269, '@bevysmith': 5270, '@bfheroes': 5271, '@bgirlshorty': 5272, '@billy_burke': 5273, '@billyscallywag': 5274, '@blasha': 5275, '@blondebydesign': 5276, '@bogwhoppit': 5277, '@bonniebrown': 5278, '@brandyandice': 5279, '@bryangwin': 5280, '@btcare': 5281, '@butterflywheel': 5282, '@c_joy': 5283, '@capitaln': 5284, '@carinak': 5285, '@cascandar': 5286, '@cavorting': 5287, '@chad_lad': 5288, '@change_for_iran': 5289, '@changibedsheets': 5290, '@chantelleaustin': 5291, '@chelseasms': 5292, '@chillybreck': 5293, '@ciaobella6': 5294, '@cinnamoncloud': 5295, '@cmoz': 5296, '@cocolee117': 5297, '@commonsense4': 5298, '@courtneycummz': 5299, '@crazeegeekchick': 5300, '@ddlovato': 5301, '@jackalltimelow': 5302, '@marginatasnaily': 5303, 'aaah': 5304, 'abs': 5305, 'accidentally': 5306, 'ack': 5307, 'addition': 5308, 'adobe': 5309, 'adventures': 5310, 'affect': 5311, 'ahem': 5312, 'aid': 5313, 'alien': 5314, 'allll': 5315, 'amandapalmer': 5316, 'amazed': 5317, 'android': 5318, 'ani': 5319, 'annie': 5320, 'announce': 5321, 'ant': 5322, 'api': 5323, 'appreciation': 5324, 'approach': 5325, 'archie': 5326, 'arse': 5327, 'attractive': 5328, 'automatically': 5329, 'awaiting': 5330, 'aware': 5331, 'babysitting': 5332, 'backed': 5333, 'baked': 5334, 'balance': 5335, 'base': 5336, 'bastard': 5337, 'batman': 5338, 'begging': 5339, 'benefits': 5340, 'besties': 5341, 'bleeding': 5342, 'blessings': 5343, 'bon': 5344, 'boohoo': 5345, 'booty': 5346, 'bounce': 5347, 'bridge': 5348, 'bryan': 5349, 'bucket': 5350, 'buenos': 5351, 'burgers': 5352, 'buttons': 5353, 'buzz': 5354, 'canberra': 5355, 'canon': 5356, 'carbs': 5357, 'caroline': 5358, 'carrying': 5359, 'cartoons': 5360, 'ceremony': 5361, 'challenges': 5362, 'checkin': 5363, 'chem': 5364, 'chemistry': 5365, 'chin': 5366, 'cho': 5367, 'choices': 5368, 'christopher': 5369, 'circles': 5370, 'circumstances': 5371, 'cj': 5372, 'cleaned': 5373, 'clicked': 5374, 'coat': 5375, 'cock': 5376, 'coco': 5377, 'coldplay': 5378, 'colours': 5379, 'commercials': 5380, 'condolences': 5381, 'convention': 5382, 'coool': 5383, 'costume': 5384, 'counts': 5385, 'cowboy': 5386, 'croissant': 5387, 'crossing': 5388, 'cubs': 5389, 'cum': 5390, 'cure': 5391, 'curve': 5392, 'cus': 5393, 'cutest': 5394, 'cycling': 5395, 'daniel': 5396, 'deadline': 5397, 'deals': 5398, 'dee': 5399, 'deff': 5400, 'definition': 5401, 'delivered': 5402, 'development': 5403, 'dew': 5404, 'diary': 5405, 'dice': 5406, 'digg': 5407, 'digital': 5408, 'dirt': 5409, 'disc': 5410, 'disco': 5411, 'disease': 5412, 'dish': 5413, 'dividends': 5414, 'dizzy': 5415, 'docs': 5416, 'dodgy': 5417, 'domain': 5418, 'donate': 5419, 'dot': 5420, 'dragging': 5421, 'dressing': 5422, 'du': 5423, 'dust': 5424, 'dw': 5425, 'ea': 5426, 'editor': 5427, 'effin': 5428, 'ego': 5429, 'ehh': 5430, 'eight': 5431, 'embarrassing': 5432, 'emotions': 5433, 'enjoyable': 5434, 'entertained': 5435, 'explains': 5436, 'explanation': 5437, 'facing': 5438, 'fade': 5439, 'families': 5440, 'fawcett': 5441, 'fiction': 5442, 'filipino': 5443, 'folder': 5444, 'foods': 5445, 'footy': 5446, 'format': 5447, 'francisco': 5448, 'friggin': 5449, 'fringe': 5450, 'funeral': 5451, 'gamer': 5452, 'gary': 5453, 'gate': 5454, 'gifts': 5455, 'giggles': 5456, 'glorious': 5457, 'gna': 5458, 'gods': 5459, 'government': 5460, 'govt': 5461, 'grades': 5462, 'grateful': 5463, 'greater': 5464, 'grin': 5465, 'gt;&lt': 5466, 'guilt': 5467, 'guten': 5468, 'halo': 5469, 'ham': 5470, 'hardest': 5471, 'harm': 5472, 'harper': 5473, 'hayfever': 5474, 'helmet': 5475, 'highschool': 5476, 'hihi': 5477, 'hiiii': 5478, 'hmmmmm': 5479, 'hobby': 5480, 'hoe': 5481, 'hols': 5482, 'homes': 5483, 'horribly': 5484, 'hotness': 5485, 'housework': 5486, 'http://twitpic.com/6ercx': 5487, 'http://ustre.am/1qrf': 5488, 'hurricane': 5489, 'hyper': 5490, 'icky': 5491, 'inch': 5492, 'innocent': 5493, 'inspirational': 5494, 'intelligent': 5495, 'internship': 5496, 'introduced': 5497, 'invites': 5498, 'jane': 5499, 'joint': 5500, 'judging': 5501, 'kansas': 5502, 'kitties': 5503, 'knowww': 5504, 'lautner': 5505, 'laws': 5506, 'lbs': 5507, 'length': 5508, 'liar': 5509, 'lift': 5510, 'listenin': 5511, 'lists': 5512, 'loll': 5513, 'lool': 5514, 'loooove': 5515, 'loosing': 5516, 'lt;3&lt;3&lt;3': 5517, 'macs': 5518, 'mailing': 5519, 'mam': 5520, 'mango': 5521, 'maps': 5522, 'masterchef': 5523, 'mayb': 5524, 'mb': 5525, 'med': 5526, 'mega': 5527, 'memorial': 5528, 'mentions': 5529, 'migraine': 5530, 'monica': 5531, 'moods': 5532, 'motion': 5533, 'mucho': 5534, 'muse': 5535, 'mystery': 5536, 'nasa': 5537, 'nearest': 5538, 'needa': 5539, 'needing': 5540, 'needle': 5541, 'nerve': 5542, 'netball': 5543, 'newsletter': 5544, 'nkotb': 5545, 'noone': 5546, 'nooooooooo': 5547, 'novel': 5548, 'o2': 5549, 'oc': 5550, 'od': 5551, 'offense': 5552, 'okie': 5553, 'oldest': 5554, 'olive': 5555, 'ontario': 5556, 'ooohhh': 5557, 'opposite': 5558, 'oscar': 5559, 'outlook': 5560, 'overall': 5561, 'overnight': 5562, 'overseas': 5563, 'owner': 5564, 'p90x': 5565, 'pal': 5566, 'participate': 5567, 'pattern': 5568, 'peak': 5569, 'pearl': 5570, 'pepper': 5571, 'pepsi': 5572, 'performing': 5573, 'personality': 5574, 'pfft': 5575, 'phrase': 5576, 'pickle': 5577, 'pirate': 5578, 'pman': 5579, 'poet': 5580, 'pointed': 5581, 'pointing': 5582, 'pointless': 5583, 'policy': 5584, 'portable': 5585, 'postcards': 5586, 'pow': 5587, 'praise': 5588, 'precisely': 5589, 'pregnant': 5590, 'pronounced': 5591, 'pumped': 5592, 'punishment': 5593, 'quot;are': 5594, 'quot;life': 5595, 'quot;love': 5596, 'quot;one': 5597, 'quot;to': 5598, 'raising': 5599, 'rally': 5600, 'randomly': 5601, 'reduce': 5602, 'regards': 5603, 'rejected': 5604, 'rejects': 5605, 'religion': 5606, 'remain': 5607, 'remembers': 5608, 'resting': 5609, 'retweets': 5610, 'revolution': 5611, 'rl': 5612, 'rocky': 5613, 'rogers': 5614, 'router': 5615, 'saddest': 5616, 'sammy': 5617, 'sample': 5618, 'sandwiches': 5619, 'sanity': 5620, 'saturdays': 5621, 'sc': 5622, 'scrubs': 5623, 'seein': 5624, 'selena': 5625, 'setup': 5626, 'shaunjumpnow': 5627, 'shocking': 5628, 'skittles': 5629, 'smoothie': 5630, 'sniffs': 5631, 'snl': 5632, 'snoring': 5633, 'soggy': 5634, 'solar': 5635, 'sophie': 5636, 'sparks': 5637, 'springs': 5638, 'spy': 5639, 'squirrel': 5640, 'stil': 5641, 'stitches': 5642, 'stressing': 5643, 'stretch': 5644, 'struggle': 5645, 'studies': 5646, 'successful': 5647, 'suggested': 5648, 'summit': 5649, 'sunburnt': 5650, 'sup': 5651, 'supporting': 5652, 'surrounded': 5653, 'survivors': 5654, 'sw': 5655, 'sweat': 5656, 'sweaty': 5657, 'sweety': 5658, 'swing': 5659, 'systems': 5660, 'tab': 5661, 'takin': 5662, 'tank': 5663, 'tanning': 5664, 'tap': 5665, 'tc': 5666, 'tcot': 5667, 'television': 5668, 'telly': 5669, 'temp': 5670, 'tesco': 5671, 'thang': 5672, 'ther': 5673, 'thesis': 5674, 'thick': 5675, 'thingsmummysaid': 5676, 'thousand': 5677, 'thy': 5678, 'tim': 5679, 'tiring': 5680, 'tomato': 5681, 'tongue': 5682, 'tonys': 5683, 'torture': 5684, 'toss': 5685, 'touched': 5686, 'touching': 5687, 'touring': 5688, 'tp': 5689, 'tracking': 5690, 'tragedy': 5691, 'translate': 5692, 'translation': 5693, 'treated': 5694, 'tt': 5695, 'tuna': 5696, 'twitpics': 5697, 'twittered': 5698, 'typed': 5699, 'u2': 5700, 'ughhhh': 5701, 'unavailable': 5702, 'unemployed': 5703, 'unfollowdiddy': 5704, 'usawantsmcfly': 5705, 'usb': 5706, 'utterly': 5707, 'venezuela': 5708, 'volume': 5709, 'votemcfly': 5710, 'wack': 5711, 'wala': 5712, 'warned': 5713, 'wassup': 5714, 'waving': 5715, 'whale': 5716, 'whoo': 5717, 'wierd': 5718, 'wif': 5719, 'wines': 5720, 'wonders': 5721, 'woods': 5722, 'worlds': 5723, 'worm': 5724, 'worn': 5725, 'worthy': 5726, 'writers': 5727, 'yaay': 5728, 'yall': 5729, 'yankees': 5730, 'yessss': 5731, 'yg': 5732, 'youngest': 5733, 'zomg': 5734, '®': 5735, '¿': 5736, 'ð¸': 5737, 'ðº': 5738, '(=': 5739, '...............': 5740, '.@boddingtons': 5741, '.i': 5742, '120': 5743, '150': 5744, '17th': 5745, '182': 5746, '19th': 5747, '2.0': 5748, '2007': 5749, '2008': 5750, '23rd': 5751, '31': 5752, '33': 5753, '360': 5754, '38': 5755, '4got': 5756, '4ward': 5757, '70s': 5758, '80s': 5759, '8:30': 5760, '@1vs100xboxlive': 5761, '@2kutekreations': 5762, '@4boys4now': 5763, '@_erica': 5764, '@_everaldo': 5765, '@_lauren_mallory': 5766, '@_robin_sharma': 5767, '@_slamma': 5768, '@a_willow': 5769, '@abbafan69': 5770, '@abcmsaj': 5771, '@abiban': 5772, '@abtony': 5773, '@addie_c': 5774, '@adventuregirl': 5775, '@adychou': 5776, '@aha_com': 5777, '@ahmedzainal': 5778, '@ainz90': 5779, '@akiralove': 5780, '@akojen': 5781, '@alanbleiweiss': 5782, '@alexisamore': 5783, '@alexjreid': 5784, '@alexrk': 5785, '@allangoesdmb': 5786, '@allieandra': 5787, '@allisonmack': 5788, '@allymcfly': 5789, '@alonis': 5790, '@alysheeapm': 5791, '@amara_m': 5792, '@ambee789': 5793, '@ambienteer': 5794, '@ames1103': 5795, '@amiestuart': 5796, '@amyelectro': 5797, '@amykachurak': 5798, '@amyriadfthings': 5799, '@anamariecox': 5800, '@anastaciakayray': 5801, '@andrewbravener': 5802, '@andrewhuntre': 5803, '@andrewmoore24': 5804, '@andydick': 5805, '@aneehan': 5806, '@aneezd': 5807, '@angel42579': 5808, '@angelayee': 5809, '@angmogirl': 5810, '@angpang': 5811, '@angryaussie': 5812, '@anitasetio': 5813, '@anjeebaby': 5814, '@annatl': 5815, '@annettestatus': 5816, '@annhesketh': 5817, '@anthonyjohnston': 5818, '@ap4a': 5819, '@arancinibaby': 5820, '@archism': 5821, '@ardenkhan': 5822, '@ariherzog': 5823, '@arikhanson': 5824, '@armano': 5825, '@arnaudjacobs': 5826, '@asher_book': 5827, '@asherroth': 5828, '@ashfoo': 5829, '@ashleybella': 5830, '@ashleyluvsjbvfc': 5831, '@asinisterduck': 5832, '@aspaphoto': 5833, '@aspieteach': 5834, '@astroboyisgay': 5835, '@atraz': 5836, '@authenticstyle': 5837, '@avinio': 5838, '@avrilchan': 5839, '@ayumi_rollan': 5840, '@babydollniki': 5841, '@babyjew': 5842, '@bad_housewife': 5843, '@banerji1': 5844, '@barackobama': 5845, '@barryzito': 5846, '@basedmagazine': 5847, '@basseyworld': 5848, '@beaniebanks': 5849, '@beartwinsmom': 5850, '@beckie0': 5851, '@beckyhope': 5852, '@bemeaningful': 5853, '@bendyystrawz': 5854, '@bentriderro': 5855, '@bern_morley': 5856, '@bethanymcflyx': 5857, '@bex_1210': 5858, '@billy3': 5859, '@bizziefan': 5860, '@bkbap': 5861, '@blackkat1979': 5862, '@bleakey': 5863, '@blobyblo': 5864, '@bmthofficial': 5865, '@boddingtons': 5866, '@bonedwarf': 5867, '@brittanyasnow': 5868, '@britttnicole': 5869, '@bryanricard': 5870, '@bt': 5871, '@bubblegarm': 5872, '@butchtastickyle': 5873, '@c2s': 5874, '@candice_jo': 5875, '@carepathways': 5876, '@carlos_teran': 5877, '@caroljs': 5878, '@chadmichmurray': 5879, '@charleneortiz': 5880, '@chasingangel82': 5881, '@chavie101': 5882, '@chelseaparadiso': 5883, '@chemicalzombie': 5884, '@chicogarcia': 5885, '@chrisandcal': 5886, '@chrissyisms': 5887, '@ciararyandreams': 5888, '@cindicupcaking': 5889, '@claire_cordon': 5890, '@clarissasays': 5891, '@cloverdash': 5892, '@coachdeb': 5893, '@cody_k': 5894, '@collin_wolfboy': 5895, '@crystaljordan': 5896, '@tomfelton': 5897, 'a.': 5898, 'aa': 5899, 'aaw': 5900, 'ability': 5901, 'aboard': 5902, 'acct': 5903, 'accurate': 5904, 'addicting': 5905, 'addictive': 5906, 'adjust': 5907, 'advert': 5908, 'agenda': 5909, 'agent': 5910, 'agrees': 5911, 'ahhhhhh': 5912, 'aidan': 5913, 'ale': 5914, 'alrighty': 5915, 'alto': 5916, 'amongst': 5917, 'annual': 5918, 'ap': 5919, 'apples': 5920, 'approved': 5921, 'areas': 5922, 'argument': 5923, 'ari': 5924, 'assignments': 5925, 'attacks': 5926, 'auction': 5927, 'austria': 5928, 'autograph': 5929, 'avail': 5930, 'avoiding': 5931, 'backing': 5932, 'backstreet': 5933, 'bak': 5934, 'bald': 5935, 'balloon': 5936, 'bam': 5937, 'banks': 5938, 'banner': 5939, 'barbara': 5940, 'barry': 5941, 'bbm': 5942, 'bears': 5943, 'bebo': 5944, 'beck': 5945, 'begun': 5946, 'beijing': 5947, 'belgium': 5948, 'belt': 5949, 'bicycle': 5950, 'biking': 5951, 'blasting': 5952, 'blessing': 5953, 'blip.fm': 5954, 'bliss': 5955, 'blocking': 5956, 'bloggers': 5957, 'blogtv': 5958, 'blond': 5959, 'blush': 5960, 'bowling': 5961, 'boyfriends': 5962, 'bracelet': 5963, 'bri': 5964, 'bristol': 5965, 'brokeback': 5966, 'bron': 5967, 'bubbles': 5968, 'buffalo': 5969, 'buffet': 5970, 'camper': 5971, 'capacity': 5972, 'caring': 5973, 'carmen': 5974, 'cases': 5975, 'celebs': 5976, 'cellphone': 5977, 'cents': 5978, 'chai': 5979, 'chan': 5980, 'charles': 5981, 'chasing': 5982, 'cheating': 5983, 'cheered': 5984, 'cheryl': 5985, 'chili': 5986, 'chk': 5987, 'chocolates': 5988, 'christina': 5989, 'cindy': 5990, 'claims': 5991, 'clicking': 5992, 'clips': 5993, 'clothdiapers': 5994, 'clumsy': 5995, 'cmd': 5996, 'coaching': 5997, 'collecting': 5998, 'cologne': 5999, 'comfy': 6000, 'communication': 6001, 'comparison': 6002, 'completed': 6003, 'concentrate': 6004, 'connecting': 6005, 'console': 6006, 'convinced': 6007, 'coolness': 6008, 'cope': 6009, 'cord': 6010, 'corny': 6011, 'corrected': 6012, 'correctly': 6013, 'coupons': 6014, 'coursework': 6015, 'cows': 6016, 'cp': 6017, 'cracked': 6018, 'crackers': 6019, 'cranky': 6020, 'creating': 6021, 'crib': 6022, 'crunch': 6023, 'crushed': 6024, 'css': 6025, 'curly': 6026, 'curry': 6027, 'deaf': 6028, 'debate': 6029, 'dec': 6030, 'deeply': 6031, 'dell': 6032, 'dem': 6033, 'demons': 6034, 'describe': 6035, 'designed': 6036, 'desperately': 6037, 'developing': 6038, 'device': 6039, 'dial': 6040, 'diggin': 6041, 'dilemma': 6042, 'directions': 6043, 'discovery': 6044, 'disturbing': 6045, 'doggie': 6046, 'doh': 6047, \"doin'\": 6048, 'dollhouse': 6049, 'don`t': 6050, 'donut': 6051, 'dose': 6052, 'douche': 6053, 'drake': 6054, 'drinkin': 6055, 'driven': 6056, 'drown': 6057, 'drug': 6058, 'ease': 6059, 'echelon': 6060, 'education': 6061, 'effective': 6062, 'electricity': 6063, 'elle': 6064, 'emergency': 6065, 'encouragement': 6066, 'engagement': 6067, 'enthusiasm': 6068, 'era': 6069, 'espn': 6070, 'essays': 6071, 'existence': 6072, 'expectations': 6073, 'experiencing': 6074, 'extreme': 6075, 'fabric': 6076, 'fairy': 6077, 'fascinating': 6078, 'fathers': 6079, 'favourites': 6080, 'females': 6081, 'fic': 6082, 'fil': 6083, 'filming': 6084, 'financial': 6085, 'finds': 6086, 'finland': 6087, 'fir': 6088, 'firmware': 6089, 'fishing': 6090, 'fist': 6091, 'flavor': 6092, 'flippin': 6093, 'fold': 6094, 'foreign': 6095, 'former': 6096, 'forums': 6097, 'foster': 6098, 'frank': 6099, 'fred': 6100, 'frosting': 6101, 'fund': 6102, 'funky': 6103, 'g2': 6104, 'gained': 6105, 'gates': 6106, 'gel': 6107, 'genuinely': 6108, 'geography': 6109, 'germs': 6110, 'gg': 6111, 'gin': 6112, 'glimpse': 6113, 'glue': 6114, 'gnight': 6115, 'goodie': 6116, 'goods': 6117, 'goofy': 6118, 'gotta': 6119, 'grabs': 6120, 'grant': 6121, 'grease': 6122, 'greg': 6123, 'groovy': 6124, 'guarantee': 6125, 'guard': 6126, 'guru': 6127, 'gut': 6128, 'halfway': 6129, 'hammer': 6130, 'hamster': 6131, 'harris': 6132, 'haze': 6133, 'heal': 6134, 'heehee': 6135, 'hehehehe': 6136, 'hiatus': 6137, 'hilton': 6138, 'hips': 6139, 'homeless': 6140, 'homepage': 6141, 'hottest': 6142, 'houses': 6143, 'howarewe': 6144, 'humid': 6145, 'humidity': 6146, 'hundred': 6147, 'hve': 6148, 'icons': 6149, 'ignorant': 6150, 'ihop': 6151, 'ikea': 6152, 'immediately': 6153, 'impact': 6154, 'improved': 6155, 'includes': 6156, 'infamous': 6157, 'infected': 6158, 'inner': 6159, 'insanely': 6160, 'intended': 6161, 'ip': 6162, 'iphones': 6163, 'ironing': 6164, 'itchy': 6165, 'itouch': 6166, 'itt': 6167, 'itâ´s': 6168, 'jackie': 6169, 'jailbreak': 6170, 'javaone': 6171, 'jean': 6172, 'jenny': 6173, 'jesse': 6174, 'johnny': 6175, 'jonaskevin': 6176, 'jones': 6177, 'jr': 6178, 'julie': 6179, 'justice': 6180, 'k.': 6181, 'kan': 6182, 'kanye': 6183, 'karma': 6184, 'kc': 6185, 'ki': 6186, 'killers': 6187, 'kinds': 6188, 'kk': 6189, 'kristen': 6190, 'l0l': 6191, 'lala': 6192, 'lappy': 6193, 'lasts': 6194, 'latte': 6195, 'lb': 6196, 'leadership': 6197, 'leaked': 6198, 'learnt': 6199, 'leeds': 6200, 'letters': 6201, 'lewis': 6202, 'lied': 6203, 'life&quot': 6204, 'likey': 6205, 'liquor': 6206, 'listed': 6207, 'lobster': 6208, 'lofnotc': 6209, 'login': 6210, 'lolll': 6211, 'lols': 6212, 'loses': 6213, 'lotsa': 6214, 'lower': 6215, 'lucy': 6216, 'luke': 6217, 'lunchtime': 6218, 'maggie': 6219, 'magical': 6220, 'mails': 6221, 'majority': 6222, 'manual': 6223, 'marcus': 6224, 'marie': 6225, 'maryland': 6226, 'mayer': 6227, 'medium': 6228, 'melt': 6229, 'memo': 6230, 'messenger': 6231, 'method': 6232, 'mic': 6233, 'mighty': 6234, 'mikey': 6235, 'minimal': 6236, 'missy': 6237, 'mitchel': 6238, 'molly': 6239, 'monthly': 6240, 'moody': 6241, 'muack': 6242, 'muscle': 6243, 'mush': 6244, 'mutual': 6245, 'nada': 6246, 'neighbour': 6247, 'neighbours': 6248, 'neil': 6249, 'nerds': 6250, 'netherlands': 6251, 'newbie': 6252, 'nighter': 6253, 'nih': 6254, 'nikon': 6255, 'ninja': 6256, 'nk': 6257, 'no1': 6258, 'nods': 6259, 'nonetheless': 6260, 'nooooooo': 6261, 'nothingpersonal': 6262, 'nov': 6263, 'nurse': 6264, 'offered': 6265, 'offers': 6266, 'ohhhhh': 6267, 'oj': 6268, 'okayy': 6269, 'okey': 6270, 'okies': 6271, 'oliver': 6272, 'omggg': 6273, 'op': 6274, 'opens': 6275, 'operating': 6276, 'oracle': 6277, 'organization': 6278, 'organize': 6279, 'originally': 6280, 'out&quot': 6281, 'outlet': 6282, 'owners': 6283, 'oyster': 6284, 'packet': 6285, 'pairs': 6286, 'partner': 6287, 'passionate': 6288, 'patron': 6289, 'paula': 6290, 'pause': 6291, 'payment': 6292, 'peer': 6293, 'perez': 6294, 'performed': 6295, 'perks': 6296, 'permanent': 6297, 'permit': 6298, 'perspective': 6299, 'petition': 6300, 'php': 6301, 'pill': 6302, 'pissing': 6303, 'pitched': 6304, 'pleasee': 6305, 'pockets': 6306, 'pod': 6307, 'poison': 6308, 'pokemon': 6309, 'polar': 6310, 'poppin': 6311, 'portuguese': 6312, 'posters': 6313, 'presence': 6314, 'presume': 6315, 'prime': 6316, 'probly': 6317, 'produce': 6318, 'property': 6319, 'protection': 6320, 'protein': 6321, 'prove': 6322, 'provided': 6323, 'psh': 6324, 'psyched': 6325, 'publish': 6326, 'pushed': 6327, 'queue': 6328, 'quitting': 6329, 'quot;can': 6330, 'quot;good': 6331, 'quot;hi&quot': 6332, 'quot;they': 6333, 'quot;twitter': 6334, 'quot;well': 6335, \"quot;you're\": 6336, 'r.i.p': 6337, 'rabbit': 6338, 'rad': 6339, 'rage': 6340, 'rat': 6341, 'rats': 6342, 'rebecca': 6343, 'reception': 6344, 'recession': 6345, 'recommended': 6346, 'recommends': 6347, 'refuse': 6348, 'regularly': 6349, 'remains': 6350, 'require': 6351, 'requires': 6352, 'responded': 6353, 'restart': 6354, 'rested': 6355, 'retired': 6356, 'ridiculously': 6357, 'ripped': 6358, 'roads': 6359, 'roadtrip': 6360, 'robot': 6361, 'roger': 6362, 'rollin': 6363, 'rome': 6364, 'roots': 6365, 'rove': 6366, 'rumor': 6367, 'runner': 6368, 'russ': 6369, 'russian': 6370, 'safety': 6371, 'salon': 6372, 'salsa': 6373, 'sana': 6374, 'sand': 6375, 'sara': 6376, 'satisfied': 6377, 'sayang': 6378, 'scares': 6379, 'schedules': 6380, 'scored': 6381, 'scrabble': 6382, 'secretly': 6383, 'sem': 6384, 'separate': 6385, 'sequel': 6386, 'sewing': 6387, 'shareholder': 6388, 'shares': 6389, 'shaving': 6390, 'shipped': 6391, 'shuffle': 6392, 'sidebar': 6393, 'sin': 6394, 'sink': 6395, 'skill': 6396, 'skipping': 6397, 'slide': 6398, 'smashed': 6399, 'snack': 6400, 'snacks': 6401, 'sniffles': 6402, 'soaked': 6403, 'soy': 6404, 'speaker': 6405, 'speaks': 6406, 'spoil': 6407, 'spray': 6408, 'spreading': 6409, 'squee': 6410, 'squeeze': 6411, 'ss': 6412, 'standard': 6413, 'sticking': 6414, 'sticky': 6415, 'strike': 6416, 'stronger': 6417, 'submission': 6418, 'submit': 6419, 'subs': 6420, 'sunscreen': 6421, 'supported': 6422, 'surfing': 6423, 'survived': 6424, 'suspended': 6425, 'swan': 6426, 'swedish': 6427, 'sympathy': 6428, 'talks': 6429, 'tay': 6430, 'tb': 6431, 'teams': 6432, 'teary': 6433, 'technical': 6434, 'teenage': 6435, 'temptation': 6436, 'terrier': 6437, 'tested': 6438, 'tetris': 6439, 'themes': 6440, 'thoroughly': 6441, 'threat': 6442, 'tire': 6443, 'todays': 6444, 'trampoline': 6445, 'tub': 6446, 'twitterverse': 6447, 'twitting': 6448, 'types': 6449, 'underneath': 6450, 'unexpected': 6451, 'uniform': 6452, 'unknown': 6453, 'vegetarian': 6454, 'vines': 6455, 'virginia': 6456, 'visual': 6457, 'volunteer': 6458, 'w00': 6459, 'waaay': 6460, 'wales': 6461, 'wallpaper': 6462, 'warming': 6463, \"we're\": 6464, 'webcast': 6465, 'weirdo': 6466, 'wel': 6467, 'wellll': 6468, 'whatcha': 6469, 'whats': 6470, 'whyy': 6471, 'wig': 6472, 'wil': 6473, 'william': 6474, 'wimbledon': 6475, 'wing': 6476, 'wink': 6477, 'witty': 6478, 'wld': 6479, 'wolf': 6480, 'woof': 6481, 'woulda': 6482, 'wp': 6483, 'www.m2e.asia': 6484, 'yaya': 6485, 'yeap': 6486, 'yesssss': 6487, 'yorkshire': 6488, 'you!&quot': 6489, \"'coz\": 6490, '._.': 6491, '1.5': 6492, '110': 6493, '11:11': 6494, '2000': 6495, '2006': 6496, '22nd': 6497, '25th': 6498, '2:30': 6499, '2b': 6500, '2gether': 6501, '2mrw': 6502, '30stm': 6503, '30th': 6504, '4get': 6505, '55': 6506, '62': 6507, '75': 6508, '800': 6509, '900': 6510, '90210': 6511, '90s': 6512, '95': 6513, '97': 6514, ':x': 6515, '@09casper': 6516, '@1cutechicwitfm': 6517, '@23graeme23': 6518, '@3thbi': 6519, '@4evaurgirl': 6520, '@5dollardinners': 6521, '@9_6': 6522, '@_huny': 6523, '@_idance19': 6524, '@_janet': 6525, '@_jayytee': 6526, '@_micster': 6527, '@_nanu': 6528, '@_tranquilize': 6529, '@_wren': 6530, '@_writersblock': 6531, '@_xbianca': 6532, '@a_web_designer': 6533, '@aafreen': 6534, '@aaronob': 6535, '@abduzeedo': 6536, '@abigaelettuce': 6537, '@abigaill': 6538, '@abs1399': 6539, '@absturbation': 6540, '@abzquine': 6541, '@accessories_uk': 6542, '@acummings': 6543, '@adam_lambert': 6544, '@adamrphoto': 6545, '@adamwc': 6546, '@adbert': 6547, '@addiiee': 6548, '@admance': 6549, '@adrianna': 6550, '@adriwadri': 6551, '@aeriagames': 6552, '@afwife08': 6553, '@ahisme': 6554, '@airbase': 6555, '@aiyerchitra': 6556, '@aiysha': 6557, '@ajaedandridge': 6558, '@ajuonline': 6559, '@akashathekitty': 6560, '@aleenia': 6561, '@aleshabell': 6562, '@alethe': 6563, '@alexanderrybak': 6564, '@alexlj': 6565, '@alexthefob1991': 6566, '@alextrup': 6567, '@algebraoverdose': 6568, '@alibee16': 6569, '@alithered77': 6570, '@aliyoopah': 6571, '@allan1850': 6572, '@alliecobra': 6573, '@allieloves': 6574, '@allyeatscat': 6575, '@almienova': 6576, '@alohabruce': 6577, '@alpacafarmgirl': 6578, '@alsharptongue': 6579, '@alwaysloveu_ci': 6580, '@amandacolbert': 6581, '@ameym21': 6582, '@amiesc': 6583, '@ammaryasir': 6584, '@ammiisaurusrexx': 6585, '@amykant': 6586, '@amylovesoliver': 6587, '@anacristina78': 6588, '@anastasialoxley': 6589, '@anberlin': 6590, '@andieliz15': 6591, '@andreakoeln': 6592, '@andrevr': 6593, '@andytaylorsonic': 6594, '@angelakeen': 6595, '@angelashushan': 6596, '@angelibarra': 6597, '@angiebeyince': 6598, '@angiecas': 6599, '@angryfeet': 6600, '@anna8687': 6601, '@annaantell': 6602, '@annaaralar': 6603, '@anne_a4l': 6604, '@anneaam': 6605, '@annettedubow': 6606, '@annieqpr': 6607, '@annlinny': 6608, '@annreywil': 6609, '@anthony_y_tony': 6610, '@antiuse': 6611, '@anyidiot': 6612, '@aprilshotyou': 6613, '@aquietmadness': 6614, '@arabsodmg': 6615, '@arctic_penguin': 6616, '@arjunghosh': 6617, '@arnteriksen': 6618, '@artyjill': 6619, '@ashemischief': 6620, '@ashleyymiller': 6621, '@askajanything': 6622, '@atheistium': 6623, '@atlantisjackson': 6624, '@auchentrae': 6625, '@audaciousgloop': 6626, '@aureliom': 6627, '@ausi1': 6628, '@aussie_ali': 6629, '@austincarlile': 6630, '@awdawno': 6631, '@awesomefrank': 6632, '@ayeashleigh': 6633, '@ayende': 6634, '@ayudevina': 6635, '@azrillunatic': 6636, '@azuritetalk': 6637, '@babyrabies': 6638, '@badandy_kitykat': 6639, '@badastronomer': 6640, '@badpony': 6641, '@balance510': 6642, '@baldeggie': 6643, '@bananza': 6644, '@bang2write': 6645, '@banjoist123': 6646, '@barker_g': 6647, '@bartelme': 6648, '@bash': 6649, '@bashywah': 6650, '@bawldguy': 6651, '@bbl0ve': 6652, '@bbunderground': 6653, '@bcberrie': 6654, '@beachmomof2': 6655, '@bealove': 6656, '@beautiifulgirl': 6657, '@becomingbella': 6658, '@beejiveim': 6659, '@ben_hall': 6660, '@bengeeb': 6661, '@bentoset': 6662, '@bersheba': 6663, '@bertawooster': 6664, '@bethie138': 6665, '@bethofalltrades': 6666, '@betsyweber': 6667, '@bews': 6668, '@bhbaddest': 6669, '@bibs4drips': 6670, '@bigdaws': 6671, '@billingtonart': 6672, '@billt': 6673, '@bkgirlfriday': 6674, '@blakehealy': 6675, '@blueeyedgirl18': 6676, '@blueparrot2': 6677, '@bngr': 6678, '@bobbryar': 6679, '@boygenius': 6680, '@bradhfh': 6681, '@brampitoyo': 6682, '@brandystrippers': 6683, '@brandywandlover': 6684, '@brawngp_fanblog': 6685, '@brentlauren': 6686, '@brinshannara': 6687, '@brittanitaylor': 6688, '@brittdeezy': 6689, '@brokensadly': 6690, '@bronte_saurus': 6691, '@brucel': 6692, '@bubzbeauty': 6693, '@bustyrockets': 6694, '@bythekilowatt': 6695, '@bytor2112': 6696, '@c_dig': 6697, '@caitlinaudrey': 6698, '@canadasmichelle': 6699, '@canageek': 6700, '@candicotton': 6701, '@candymaize': 6702, '@carliecarrcrash': 6703, '@carlonicora': 6704, '@carolinejjordan': 6705, '@carpesomediem': 6706, '@carterronson': 6707, '@casanovajsandy': 6708, '@cashstwit': 6709, '@cause4conceit': 6710, '@ceetee': 6711, '@cfdj71': 6712, '@chamillionaire': 6713, '@charlotteis': 6714, '@chibialfa': 6715, '@chipcoffey': 6716, '@chods70': 6717, '@chrisblake': 6718, '@chrys73': 6719, '@chubbygayman': 6720, '@cityrat59': 6721, '@cjs_3': 6722, '@clostar14': 6723, '@cnnbrk': 6724, '@cocotteloup': 6725, '@cocoy': 6726, '@cognoscento': 6727, '@collectormaniac': 6728, '@colleenlindsay': 6729, '@colocelt': 6730, '@commnsensemoney': 6731, '@courageous_one': 6732, '@crazy_moon': 6733, '@crochetgal': 6734, '@csquaredsmiles': 6735, '@cterry1985': 6736, '@davidarchie': 6737, '@jonathanrknight': 6738, '@peterfacinelli': 6739, '@riandawson': 6740, '^-^': 6741, 'aahhh': 6742, 'abandoned': 6743, 'abis': 6744, 'acts': 6745, 'adds': 6746, 'admire': 6747, 'affair': 6748, 'affected': 6749, 'african': 6750, 'agency': 6751, 'ahha': 6752, 'aiming': 6753, 'airlines': 6754, 'ak': 6755, 'aliens': 6756, 'alison': 6757, 'allows': 6758, 'aloe': 6759, 'amelia': 6760, 'among': 6761, 'amused': 6762, 'angle': 6763, 'anthony': 6764, 'anticipating': 6765, 'apology': 6766, 'appeared': 6767, 'applications': 6768, 'applying': 6769, 'approval': 6770, 'ar': 6771, 'aree': 6772, 'arrives': 6773, 'arriving': 6774, 'arts': 6775, 'artwork': 6776, 'asthma': 6777, 'atcha': 6778, 'attacking': 6779, 'attempting': 6780, 'attempts': 6781, 'authors': 6782, 'av': 6783, 'awwwwwww': 6784, \"b'day\": 6785, 'backpack': 6786, 'badge': 6787, 'baha': 6788, 'balcony': 6789, 'bamboo': 6790, 'bangs': 6791, 'basement': 6792, 'bbl': 6793, 'behave': 6794, 'behavior': 6795, 'believing': 6796, 'beloved': 6797, 'betas': 6798, 'bets': 6799, 'betting': 6800, 'biscuits': 6801, 'blanket': 6802, 'bloke': 6803, 'bluetooth': 6804, 'bodies': 6805, 'boiled': 6806, 'bollocks': 6807, 'bom': 6808, 'bookmarked': 6809, 'bore': 6810, 'borrowed': 6811, 'bra': 6812, 'braces': 6813, 'brandi': 6814, 'bravo': 6815, 'brazilwillmissmcfly': 6816, 'breed': 6817, 'breeze': 6818, 'brenda': 6819, 'brett': 6820, 'brew': 6821, 'brewing': 6822, 'brief': 6823, 'britain': 6824, 'britt': 6825, 'broadband': 6826, 'bros': 6827, 'bruised': 6828, 'brush': 6829, 'bullet': 6830, 'bullshit': 6831, 'bun': 6832, 'bush': 6833, 'bust': 6834, 'buster': 6835, 'butterfly': 6836, 'buys': 6837, 'byee': 6838, 'callin': 6839, 'cameras': 6840, 'candle': 6841, 'capital': 6842, 'carlos': 6843, 'carly': 6844, 'catherine': 6845, 'celebrities': 6846, 'cept': 6847, 'championship': 6848, 'chapters': 6849, 'charliecuntskies': 6850, 'chatty': 6851, 'che': 6852, 'cheat': 6853, 'cheek': 6854, 'chester': 6855, 'chet': 6856, 'chickens': 6857, 'chief': 6858, 'chillen': 6859, 'chipotle': 6860, 'chit': 6861, 'chops': 6862, 'chores': 6863, 'chu': 6864, 'cinderella': 6865, 'cinnamon': 6866, 'circus': 6867, 'cities': 6868, 'clarify': 6869, 'clay': 6870, 'cleveland': 6871, 'clothing': 6872, 'clown': 6873, 'cm': 6874, 'cocoa': 6875, 'cola': 6876, 'cole': 6877, 'collaboration': 6878, 'collect': 6879, 'com': 6880, 'combine': 6881, 'comcast': 6882, 'commentary': 6883, 'comming': 6884, 'commit': 6885, 'companies': 6886, 'complex': 6887, 'compliments': 6888, 'conclusion': 6889, 'condition': 6890, 'confident': 6891, 'confusion': 6892, 'connections': 6893, 'connor': 6894, 'continued': 6895, 'converted': 6896, 'cop': 6897, 'copyright': 6898, 'correction': 6899, 'cotton': 6900, 'cracks': 6901, 'crashes': 6902, 'crawling': 6903, 'crime': 6904, 'crisp': 6905, 'crown': 6906, 'cuddles': 6907, 'cult': 6908, 'cups': 6909, 'curl': 6910, 'cv': 6911, 'danced': 6912, 'dancin': 6913, 'dar': 6914, 'darkness': 6915, 'das': 6916, 'database': 6917, 'ddub': 6918, 'deciding': 6919, 'dedicated': 6920, 'deed': 6921, 'deffo': 6922, 'denmark': 6923, 'department': 6924, 'der': 6925, 'derek': 6926, 'dessert': 6927, 'develop': 6928, 'dexter': 6929, 'diaper': 6930, 'differently': 6931, 'digging': 6932, 'ding': 6933, 'disappear': 6934, 'disappoint': 6935, 'diva': 6936, 'dk': 6937, 'dock': 6938, 'domestic': 6939, 'dorky': 6940, 'dosent': 6941, 'doug': 6942, 'doughnuts': 6943, 'downside': 6944, 'dp': 6945, 'dq': 6946, 'dragged': 6947, 'dumped': 6948, 'duran': 6949, 'dylan': 6950, 'e.': 6951, 'earl': 6952, 'earned': 6953, 'earthquake': 6954, 'eats': 6955, 'economics': 6956, 'eeek': 6957, 'efforts': 6958, 'ek': 6959, 'elderly': 6960, 'elementary': 6961, 'elevator': 6962, 'enuff': 6963, 'eps': 6964, 'equal': 6965, 'euro': 6966, 'european': 6967, 'eve': 6968, 'everythings': 6969, 'exclusive': 6970, 'explode': 6971, 'explorer': 6972, 'exposure': 6973, 'express': 6974, 'external': 6975, 'faint': 6976, 'fame': 6977, 'fare': 6978, 'farewell': 6979, 'farm': 6980, 'favour': 6981, 'fc': 6982, 'fer': 6983, 'fights': 6984, 'filing': 6985, 'fishy': 6986, 'fitness': 6987, 'flirting': 6988, 'flock': 6989, 'flops': 6990, 'flow': 6991, 'fluffy': 6992, 'focused': 6993, 'fond': 6994, 'font': 6995, 'fools': 6996, 'footage': 6997, 'forehead': 6998, 'forms': 6999, 'forth': 7000, 'fountain': 7001, 'frickin': 7002, 'frost': 7003, 'fruits': 7004, 'fu': 7005, 'funn': 7006, 'fwd': 7007, 'gadget': 7008, 'gahhh': 7009, 'gaining': 7010, 'gap': 7011, 'garlic': 7012, 'geeky': 7013, 'gene': 7014, 'girl&quot': 7015, 'gladly': 7016, 'globe': 7017, 'gloomy': 7018, 'goodies': 7019, 'grandmother': 7020, 'grandpa': 7021, 'granted': 7022, 'graphics': 7023, 'gravity': 7024, 'gravy': 7025, 'greece': 7026, 'greedy': 7027, 'greens': 7028, 'greeting': 7029, 'grrrrr': 7030, 'gummy': 7031, 'h8': 7032, 'hacking': 7033, 'hahahha': 7034, 'hail': 7035, 'hairs': 7036, 'hangs': 7037, 'harold': 7038, 'hassle': 7039, 'hats': 7040, 'hawaiian': 7041, 'hawt': 7042, 'hayley': 7043, 'header': 7044, 'heartbroken': 7045, 'heater': 7046, 'height': 7047, 'henry': 7048, 'herd': 7049, 'heyyyy': 7050, 'hhrs': 7051, 'hike': 7052, 'himym': 7053, 'hk': 7054, 'holland': 7055, 'honesty': 7056, 'hoot': 7057, 'horrid': 7058, 'hosted': 7059, 'housewives': 7060, 'howard': 7061, 'howz': 7062, 'htc': 7063, 'html': 7064, 'http://bit.ly/votetom': 7065, 'hunny': 7066, 'hut': 7067, 'hyped': 7068, \"i'd\": 7069, 'ick': 7070, 'ihate': 7071, 'imagination': 7072, 'imax': 7073, 'importantly': 7074, 'improving': 7075, 'incident': 7076, 'increase': 7077, 'index': 7078, 'indie': 7079, 'industry': 7080, 'infinity': 7081, 'influence': 7082, 'injury': 7083, 'involves': 7084, 'iranian': 7085, 'iraq': 7086, 'ist': 7087, 'itz': 7088, 'itï¿½s': 7089, 'iya': 7090, 'jaime': 7091, 'jaljeera': 7092, 'jamie': 7093, 'jasper': 7094, 'je': 7095, 'jennifer': 7096, 'jeremy': 7097, 'jewelry': 7098, 'jill': 7099, 'joseph': 7100, 'journalism': 7101, 'joys': 7102, 'karaoke': 7103, 'karen': 7104, 'kb': 7105, 'kevinjonas': 7106, 'kewl': 7107, 'kiddin': 7108, 'kiddos': 7109, 'kimmel': 7110, 'kingdom': 7111, 'kit': 7112, 'km': 7113, 'knitting': 7114, 'knocking': 7115, 'kong': 7116, 'korea': 7117, 'korean': 7118, 'krispy': 7119, 'labour': 7120, 'lap': 7121, 'laps': 7122, 'laptops': 7123, 'lashes': 7124, 'last.fm': 7125, 'latter': 7126, 'laughter': 7127, 'leah': 7128, 'lean': 7129, 'lease': 7130, 'leather': 7131, 'lend': 7132, 'leno': 7133, 'leon': 7134, 'liam': 7135, 'liars': 7136, 'liberal': 7137, 'liesgirlstell': 7138, 'lifes': 7139, 'likewise': 7140, 'lindsay': 7141, 'llama': 7142, 'lls': 7143, 'lng': 7144, 'loaded': 7145, 'locations': 7146, 'logged': 7147, 'logging': 7148, 'loool': 7149, 'looong': 7150, 'loove': 7151, 'lt;3333': 7152, 'luggage': 7153, 'lung': 7154, 'm&amp;g': 7155, 'machines': 7156, 'margarita': 7157, 'mariah': 7158, 'marriage': 7159, 'mart': 7160, 'mates': 7161, 'matey': 7162, 'mau': 7163, 'mbp': 7164, 'mcd': 7165, 'mcflyforgermany': 7166, 'mcmahon': 7167, 'mcrchat': 7168, 'meetup': 7169, 'melissa': 7170, 'meow': 7171, 'messin': 7172, 'methinks': 7173, 'mice': 7174, 'michigan': 7175, 'minor': 7176, 'miracle': 7177, 'misss': 7178, 'misunderstanding': 7179, 'mk': 7180, 'moan': 7181, 'modern': 7182, 'monitors': 7183, 'moths': 7184, 'movement': 7185, 'mowing': 7186, 'mp3': 7187, 'muffin': 7188, 'mug': 7189, 'mums': 7190, 'musta': 7191, 'nahh': 7192, 'nambu': 7193, 'nao': 7194, 'nascar': 7195, 'nat': 7196, 'natal': 7197, 'nation': 7198, 'nerves': 7199, 'nina': 7200, 'nintendo': 7201, 'noah': 7202, 'noooooo': 7203, 'norway': 7204, 'norwegian': 7205, 'noted': 7206, 'notifications': 7207, \"o'clock\": 7208, 'oatmeal': 7209, 'occupied': 7210, 'ooooo': 7211, 'oprah': 7212, 'oregon': 7213, 'organic': 7214, 'oth': 7215, 'outdoor': 7216, 'ova': 7217, 'overcast': 7218, 'owen': 7219, 'owning': 7220, 'oxford': 7221, 'p2': 7222, 'pac': 7223, 'pakcricket': 7224, 'par': 7225, 'parked': 7226, 'patient': 7227, 'patiently': 7228, 'pays': 7229, 'pb': 7230, 'peach': 7231, 'penis': 7232, 'performer': 7233, 'phase': 7234, 'phillies': 7235, 'phish': 7236, 'photog': 7237, 'physical': 7238, 'picky': 7239, 'pierced': 7240, 'pin': 7241, 'pineapple': 7242, 'pint': 7243, 'planes': 7244, 'plants': 7245, 'playin': 7246, 'plot': 7247, 'plugged': 7248, 'poke': 7249, 'poker': 7250, 'polish': 7251, 'popped': 7252, 'portland': 7253, 'positivity': 7254, 'postponed': 7255, 'poured': 7256, 'preferably': 7257, 'preferred': 7258, 'premiere': 7259, 'preparing': 7260, 'prior': 7261, 'priority': 7262, 'producer': 7263, 'profit': 7264, 'protest': 7265, 'provide': 7266, 'psst': 7267, 'pussy': 7268, 'qld': 7269, 'qualify': 7270, \"quot;can't\": 7271, 'quot;come': 7272, 'quot;for': 7273, 'quot;get': 7274, 'quot;hi': 7275, 'quot;im': 7276, 'quot;never': 7277, 'quot;real': 7278, 'quot;shut': 7279, 'quot;take': 7280, 'quot;welcome': 7281, 'quot;yeah': 7282, 'rach': 7283, 'rainbows': 7284, 'rangers': 7285, 'rant': 7286, 'rape': 7287, 'rates': 7288, 'rawr': 7289, 'realy': 7290, 'rebel': 7291, 'recharge': 7292, 'recital': 7293, 'recognise': 7294, 'refer': 7295, 'reg': 7296, 'registered': 7297, 'rehearsal': 7298, 'remaining': 7299, 'removing': 7300, 'requested': 7301, 'resources': 7302, 'responsibility': 7303, 'responsible': 7304, 'resume': 7305, 'retail': 7306, 'ringtone': 7307, 'rio': 7308, 'rly': 7309, 'robotpickuplines': 7310, 'rotten': 7311, 'routine': 7312, 'rpattz': 7313, 'ru': 7314, 'rubbing': 7315, 'rusty': 7316, 'sac': 7317, 'sadface': 7318, 'sailor': 7319, 'samples': 7320, 'sarcasm': 7321, 'sassy': 7322, 'scam': 7323, 'scan': 7324, 'scaring': 7325, 'scenes': 7326, 'screamed': 7327, 'seal': 7328, 'secs': 7329, 'seek': 7330, 'segment': 7331, 'sells': 7332, 'sends': 7333, 'sensitive': 7334, 'sexiest': 7335, 'sg': 7336, 'sh': 7337, 'shadow': 7338, 'shaheen': 7339, 'shave': 7340, 'sheets': 7341, 'shell': 7342, 'shhhh': 7343, 'shite': 7344, 'shouting': 7345, 'showers': 7346, 'shrimp': 7347, 'sidekick': 7348, 'sike': 7349, 'sims3': 7350, 'sip': 7351, 'sittin': 7352, 'sizes': 7353, 'skint': 7354, 'skipped': 7355, 'slip': 7356, 'smelling': 7357, 'smoked': 7358, 'snooze': 7359, 'sobs': 7360, 'sod': 7361, 'solved': 7362, 'sounding': 7363, 'soundtrack': 7364, 'spamming': 7365, 'speedy': 7366, 'spicy': 7367, 'spose': 7368, 'sprinkles': 7369, 'sprint': 7370, 'spurs': 7371, 'stadium': 7372, 'standards': 7373, 'stands': 7374, 'staring': 7375, 'startrek': 7376, 'steph': 7377, 'stepped': 7378, 'sth': 7379, 'streak': 7380, 'streets': 7381, 'stroke': 7382, 'struck': 7383, 'struggling': 7384, 'stuffs': 7385, 'submitted': 7386, 'sucker': 7387, 'sucking': 7388, 'suggesting': 7389, 'suicide': 7390, 'suitable': 7391, 'suitcase': 7392, 'suits': 7393, 'sunburned': 7394, 'suns': 7395, 'supplies': 7396, 'supportive': 7397, 'supposedly': 7398, 'suprise': 7399, 'surf': 7400, 'sweetest': 7401, 'swell': 7402, 'switching': 7403, 'symptoms': 7404, 'syndrome': 7405, 'sã': 7406, 'tables': 7407, 'tagging': 7408, 'taiwan': 7409, 'talents': 7410, 'tampa': 7411, 'task': 7412, 'tasks': 7413, 'tasted': 7414, 'taxi': 7415, 'tbs': 7416, 'teens': 7417, \"they're\": 7418, 'thks': 7419, 'thousands': 7420, 'tick': 7421, 'tidy': 7422, 'tin': 7423, 'tits': 7424, 'tokiohotel': 7425, 'tokyo': 7426, 'toms': 7427, 'tone': 7428, 'torrent': 7429, 'tot': 7430, 'tournament': 7431, 'towel': 7432, 'tower': 7433, 'transplant': 7434, 'transport': 7435, 'treatment': 7436, 'trendy': 7437, 'triangle': 7438, 'tricky': 7439, 'trippin': 7440, 'tropical': 7441, 'tru': 7442, 'twenty': 7443, 'twist': 7444, 'twitt': 7445, 'twitter&quot': 7446, 'twitterer': 7447, 'twitterific': 7448, 'tylenol': 7449, 'tyvm': 7450, \"u've\": 7451, 'uhhh': 7452, 'ull': 7453, 'uncomfortable': 7454, 'union': 7455, 'unlikely': 7456, 'unreal': 7457, 'upstairs': 7458, 'utah': 7459, 'uve': 7460, 'vaca': 7461, 'vagina': 7462, 'val': 7463, 'valid': 7464, 'valuable': 7465, 'vanessa': 7466, 'velvet': 7467, 'vibes': 7468, 'victory': 7469, 'village': 7470, 'violence': 7471, 'visa': 7472, 'visible': 7473, 'vomit': 7474, 'waffles': 7475, 'waits': 7476, 'wardrobe': 7477, 'warmer': 7478, 'wayne': 7479, 'wayy': 7480, 'wearin': 7481, 'wears': 7482, 'webpage': 7483, 'weed': 7484, 'weekly': 7485, 'weights': 7486, 'welcomed': 7487, 'whew': 7488, 'whine': 7489, 'whiskey': 7490, 'whom': 7491, 'whoop': 7492, 'whoops': 7493, 'wikipedia': 7494, 'wildlife': 7495, 'willy': 7496, 'winks': 7497, 'withdrawal': 7498, 'wks': 7499, 'workers': 7500, 'worship': 7501, 'xml': 7502, 'xoxoxo': 7503, 'yayyyy': 7504, 'yeaah': 7505, 'yehh': 7506, 'yelled': 7507, 'yelling': 7508, 'yepp': 7509, 'yew': 7510, 'yip': 7511, 'you?&quot': 7512, 'yuk': 7513, 'yumm': 7514, 'zack': 7515, 'ze': 7516, 'zune': 7517, '||': 7518, 'ê³': 7519, 'ð²': 7520, 'ù': 7521, '          ': 7522, '-i': 7523, '.com': 7524, '1030': 7525, '10mins': 7526, '10th': 7527, '140conf': 7528, '1999': 7529, '2.2.1': 7530, '24/7': 7531, '250': 7532, '3oh!3': 7533, '42': 7534, '600': 7535, '69': 7536, '78': 7537, '7:30': 7538, '8)': 7539, '@0boy': 7540, '@0mgiitzree': 7541, '@1938media': 7542, '@1_pink_fan': 7543, '@1ele': 7544, '@1rick': 7545, '@24k': 7546, '@2serenity': 7547, '@31b4': 7548, '@3eg': 7549, '@3fingaz': 7550, '@3minds': 7551, '@3nalicious': 7552, '@3oh3pfr': 7553, '@4goggas': 7554, '@7726': 7555, '@9er': 7556, '@__greer': 7557, '@__parasite': 7558, '@_angeline': 7559, '@_annee': 7560, '@_annie2': 7561, '@_bellacullen18': 7562, '@_dcnadii3': 7563, '@_dearangel_x': 7564, '@_dznr': 7565, '@_esquiva': 7566, '@_fatdad': 7567, '@_irene_adler': 7568, '@_iwade': 7569, '@_jadelakeasha': 7570, '@_lenchen': 7571, '@_mikal': 7572, '@_ophelia': 7573, '@_robpattinson': 7574, '@_sandbox': 7575, '@a1o': 7576, '@a7x_bat_angel': 7577, '@aamyhaanson': 7578, '@aaronfuller': 7579, '@aaronrgillespie': 7580, '@abba_ks': 7581, '@abbybradz': 7582, '@abcdude': 7583, '@abeautifulmind1': 7584, '@abiface': 7585, '@ableandgame': 7586, '@abooth202': 7587, '@ac_1': 7588, '@achitnis': 7589, '@actionchick': 7590, '@adambusch': 7591, '@adamleber': 7592, '@adapaavi': 7593, '@addersop': 7594, '@adiejonas': 7595, '@adrenalynntoao': 7596, '@adrence': 7597, '@adri_mane': 7598, '@adrianhiggs': 7599, '@adrianlynch': 7600, '@adrianpesebre': 7601, '@adriarichards': 7602, '@adrielhampton': 7603, '@afficionados_hh': 7604, '@afreshmusic': 7605, '@africanabc': 7606, '@aftashok': 7607, '@agent_x': 7608, '@agthekid': 7609, '@ahsatanseesmcr': 7610, '@aimeej16': 7611, '@aimizubouken': 7612, '@airrun': 7613, '@aish_star': 7614, '@ajibahajibah': 7615, '@ajsouthern': 7616, '@akavirtualpa': 7617, '@akgovsarahpalin': 7618, '@alabamawhirly': 7619, '@alaerys': 7620, '@alaina': 7621, '@alanajoy': 7622, '@alandistro': 7623, '@albynomonk': 7624, '@alexgisforme3': 7625, '@alexiskn': 7626, '@alexisstar22': 7627, '@aliasgrace': 7628, '@alice_cullen53': 7629, '@aliciawag': 7630, '@all': 7631, '@allanasaur': 7632, '@allievalder13': 7633, '@alliewayfilms': 7634, '@allison': 7635, '@alllacqueredup': 7636, '@allstaralice': 7637, '@alltime_love': 7638, '@allyheartsbb': 7639, '@alow8111': 7640, '@altepper': 7641, '@alwaysmiley': 7642, '@am13er': 7643, '@amandaseyfried': 7644, '@ambduckett': 7645, '@amberlinam': 7646, '@ambershine29': 7647, '@ameeface': 7648, '@amethystgurl07': 7649, '@amf7': 7650, '@amileegrant': 7651, '@amoir': 7652, '@amon91': 7653, '@ampersandrea': 7654, '@amprgroup': 7655, '@amyjade': 7656, '@amys_bus_ticket': 7657, '@anaalove': 7658, '@anditisliz': 7659, '@andreaurbanfox': 7660, '@andrewghayes': 7661, '@andrewschof': 7662, '@andy_bloch': 7663, '@andy_watt': 7664, '@andygriffwozere': 7665, '@anefallarme': 7666, '@angela_webber': 7667, '@angelkiss283': 7668, '@angelonfire': 7669, '@angesbiz': 7670, '@angielala': 7671, '@angieodt': 7672, '@angiewarren': 7673, '@angrybritain': 7674, '@anikoheartsjon': 7675, '@ann_aguirre': 7676, '@annabellamalone': 7677, '@annaliese_sarah': 7678, '@annasaccone': 7679, '@anniemacdj': 7680, '@annwhit': 7681, '@anthonycallea': 7682, '@antonycotton': 7683, '@antsmoove': 7684, '@aparthotel': 7685, '@appletartlet': 7686, '@april_miss': 7687, '@aprilknob': 7688, '@arabidopsis': 7689, '@ardeming': 7690, '@areucrazy': 7691, '@arianna_skye': 7692, '@arielemoonfire': 7693, '@ariestotle': 7694, '@arminvanbuuren': 7695, '@asdavis10': 7696, '@ash_riot': 7697, '@ashesborn': 7698, '@ashumittal': 7699, '@ashwinn': 7700, '@ashyjonas': 7701, '@askseesmic': 7702, '@aslanwrp': 7703, '@aspo1': 7704, '@astheniarocks': 7705, '@astridaml': 7706, '@astrogirl426': 7707, '@atg': 7708, '@atlprincess': 7709, '@atomicpoet': 7710, '@atrocity79': 7711, '@atubanos': 7712, '@audnumber': 7713, '@audreygiselle': 7714, '@aurorajo': 7715, '@aussie_at_heart': 7716, '@aussiegal999': 7717, '@awaltzforanight': 7718, '@awesomeful': 7719, '@azsunshinegirl7': 7720, '@b0rr15': 7721, '@babyharoldk': 7722, '@babypatches': 7723, '@babyphat': 7724, '@babystray': 7725, '@baddestnla': 7726, '@baditz17': 7727, '@balderkongen': 7728, '@balmeras': 7729, '@bambosh': 7730, '@baneen': 7731, '@bannedagain': 7732, '@barbsrad': 7733, '@barneybaby': 7734, '@barrysnedden': 7735, '@batteredhaggis': 7736, '@bbrriittttyy': 7737, '@bbum': 7738, '@beamarqz': 7739, '@beanz4life': 7740, '@belindaang': 7741, '@bellaclara': 7742, '@belladonna20': 7743, '@bellakavner98': 7744, '@ben_stiller': 7745, '@benjamin_cook': 7746, '@benjibrum': 7747, '@benlimphoto': 7748, '@bet33': 7749, '@bethanpie': 7750, '@betterislittle': 7751, '@bevclement': 7752, '@biffgriff': 7753, '@biggc': 7754, '@billharper': 7755, '@billpalmer': 7756, '@billythekid': 7757, '@binarylife': 7758, '@binncheol': 7759, '@binnsy': 7760, '@bisforbecca': 7761, '@bitchnotaperson': 7762, '@bkmacdaddy': 7763, '@blackdarkness51': 7764, '@blackoutsbox': 7765, '@blanquis26': 7766, '@blatzliquor': 7767, '@blcsfo': 7768, '@bloodzillabilly': 7769, '@blue_cupcakes': 7770, '@blwbyrd': 7771, '@boagworld': 7772, '@boilerfan_98': 7773, '@boltclock': 7774, '@bones_fans': 7775, '@bonesfan021': 7776, '@bonniestwit': 7777, '@booshtukka': 7778, '@bosintobin': 7779, '@bourach': 7780, '@bradhart': 7781, '@bradsabbath': 7782, '@brandiheyy': 7783, '@branhead4lyfe': 7784, '@braveheart133': 7785, '@breagrant': 7786, '@breeawnuhh': 7787, '@britruxpin': 7788, '@brittoncampbell': 7789, '@brokepimpstyles': 7790, '@bronte1068': 7791, '@bryceavary': 7792, '@brypie': 7793, '@bsbsavedmylife': 7794, '@buddalunch': 7795, '@buildabear96': 7796, '@bullyinguk': 7797, '@buttercupd': 7798, '@cabbiepat': 7799, '@caitlin182': 7800, '@cakey': 7801, '@cameronolivier': 7802, '@camilleprats': 7803, '@candy156sweet': 7804, '@candypants2': 7805, '@captainkazz': 7806, '@car4dave': 7807, '@caraandclo': 7808, '@carissagrace': 7809, '@carlamedina': 7810, '@cartphotography': 7811, '@casiestewart': 7812, '@catawu': 7813, '@catdog03': 7814, '@catherineld': 7815, '@cathrynmarie': 7816, '@catwmn13': 7817, '@cazashton': 7818, '@cdlowell': 7819, '@celticgirl1913': 7820, '@centerpet': 7821, '@cessii': 7822, '@chactingnyc': 7823, '@champagnerdub': 7824, '@char_sos': 7825, '@charavel': 7826, '@charchaos': 7827, '@charlenebx': 7828, '@charleypearson': 7829, '@charlii1': 7830, '@chattyman': 7831, '@chazdrums': 7832, '@chelzmae': 7833, '@chemerf': 7834, '@chemicalbullets': 7835, '@cherrim': 7836, '@cherrytreerec': 7837, '@cherye101': 7838, '@chiacy': 7839, '@chickenstudios': 7840, '@chicrunner': 7841, '@childhood': 7842, '@chipmunkartist': 7843, '@choebe': 7844, '@chold1': 7845, '@chriscuomo': 7846, '@chrisefs': 7847, '@chriseyb': 7848, '@chrissy89': 7849, '@christyxcore': 7850, '@chunkofplastic': 7851, '@ciaoamalfi': 7852, '@ciararenee': 7853, '@cidermaker': 7854, '@cimota': 7855, '@cindyoyo': 7856, '@cinemabizarre': 7857, '@claireeee09': 7858, '@claireyjonesy': 7859, '@claudia10': 7860, '@claudiagmodel': 7861, '@cloudconnected': 7862, '@clumsyxheart': 7863, '@colbertobsessed': 7864, '@colbsi': 7865, '@coliwilso': 7866, '@coonassdotcom': 7867, '@corie_michele': 7868, '@costavidafred': 7869, '@costus': 7870, '@counternotions': 7871, '@countroshculla': 7872, '@craziixlovee': 7873, '@creativewolf': 7874, '@creattica': 7875, '@creaturecomfort': 7876, '@cresh182': 7877, '@crimpomatic': 7878, '@crisbrown': 7879, '@crisr': 7880, '@crissangel': 7881, '@cristalthegreat': 7882, '@crixlee': 7883, '@donniewahlberg': 7884, '@fossiloflife': 7885, '@retrorewind': 7886, '@tommcfly': 7887, '@zackalltimelow': 7888, '^.^': 7889, 'aaahh': 7890, 'aawww': 7891, 'ab': 7892, 'abba': 7893, 'aber': 7894, 'abroad': 7895, 'academy': 7896, 'accents': 7897, 'adams': 7898, 'addy': 7899, 'adopt': 7900, 'adrian': 7901, 'advertise': 7902, 'ady': 7903, 'affordable': 7904, 'aged': 7905, 'agh': 7906, 'ahmadinejad': 7907, 'aimee': 7908, 'aired': 7909, 'aires': 7910, 'airplane': 7911, 'alam': 7912, 'alexa': 7913, 'alexis': 7914, 'all&quot': 7915, 'alley': 7916, 'alll': 7917, 'aloud': 7918, 'alt': 7919, 'altho': 7920, 'amd': 7921, 'americans': 7922, 'amounts': 7923, 'angeles': 7924, 'angst': 7925, 'annoy': 7926, 'antibiotics': 7927, 'antonio': 7928, 'apa': 7929, 'apparent': 7930, 'appealing': 7931, 'appearance': 7932, 'appetite': 7933, 'arena': 7934, 'arghhh': 7935, 'arguing': 7936, 'arrested': 7937, 'arrow': 7938, 'arsenal': 7939, 'arthur': 7940, 'ashes': 7941, 'assholes': 7942, 'assumption': 7943, 'atheist': 7944, 'att': 7945, 'au': 7946, 'auckland': 7947, 'aug': 7948, 'auntie': 7949, 'aunts': 7950, 'aussies': 7951, 'authentic': 7952, 'autumn': 7953, 'ave': 7954, 'avid': 7955, 'awee': 7956, 'awesomely': 7957, 'awfully': 7958, 'awwh': 7959, 'azz': 7960, 'babysitter': 7961, 'badminton': 7962, 'bagels': 7963, 'bake': 7964, 'baltimore': 7965, 'bamboozle': 7966, 'bananas': 7967, 'barbie': 7968, 'bash': 7969, 'basic': 7970, 'bat': 7971, 'batch': 7972, 'bball': 7973, 'beaches': 7974, 'beads': 7975, 'belive': 7976, 'bells': 7977, 'bend': 7978, 'bestest': 7979, 'bev': 7980, 'beverly': 7981, 'bg': 7982, 'biology': 7983, 'biting': 7984, 'bittersweet': 7985, 'bj': 7986, 'blahh': 7987, 'bling': 7988, 'blogged': 7989, 'blogger': 7990, 'bloom': 7991, 'blowing': 7992, 'blueberry': 7993, 'blushing': 7994, 'bnp': 7995, 'boats': 7996, 'bone': 7997, 'bonjour': 7998, 'bonnie': 7999, 'boobs': 8000, 'borders': 8001, 'bots': 8002, 'breakdown': 8003, 'brighten': 8004, 'brooks': 8005, 'brownie': 8006, 'bulb': 8007, 'bump': 8008, 'bumper': 8009, 'bums': 8010, 'bunnies': 8011, 'business&quot': 8012, 'candles': 8013, 'canï¿½t': 8014, 'caramel': 8015, 'cardboard': 8016, 'carl': 8017, 'carlisle': 8018, 'carolina': 8019, 'carpet': 8020, 'carpool': 8021, 'carrot': 8022, 'carrots': 8023, 'castle': 8024, 'causes': 8025, 'cba': 8026, 'certificate': 8027, 'charges': 8028, 'charmed': 8029, 'chart': 8030, 'chase': 8031, 'chased': 8032, 'chaz': 8033, 'cheated': 8034, 'cheesy': 8035, 'chic': 8036, 'chilly': 8037, 'choco': 8038, 'choke': 8039, 'choosing': 8040, 'christine': 8041, 'chuckle': 8042, 'chuffed': 8043, 'chunky': 8044, 'ci': 8045, 'cider': 8046, 'cigarette': 8047, 'citizen': 8048, 'cjbaran&lt;3': 8049, 'clapping': 8050, 'clarkson': 8051, 'cld': 8052, 'climate': 8053, 'climbing': 8054, 'clinic': 8055, 'closure': 8056, 'clubs': 8057, 'clues': 8058, 'coconut': 8059, 'cod': 8060, 'coding': 8061, 'colder': 8062, 'comedian': 8063, 'comet': 8064, 'commented': 8065, 'compared': 8066, 'compatible': 8067, 'competitive': 8068, 'completly': 8069, 'cone': 8070, 'congratulate': 8071, 'congratulation': 8072, 'congratz': 8073, 'cons': 8074, 'conspiracy': 8075, 'construction': 8076, 'controller': 8077, 'convenient': 8078, 'cooks': 8079, 'cougar': 8080, 'county': 8081, 'couture': 8082, 'crackin': 8083, 'cracking': 8084, 'crave': 8085, 'crawl': 8086, 'creation': 8087, 'cred': 8088, 'credits': 8089, 'creeps': 8090, 'creme': 8091, 'crowded': 8092, 'cucumber': 8093, 'cultural': 8094, 'cuppa': 8095, \"d'oh\": 8096, 'daisies': 8097, 'daisy': 8098, 'damit': 8099, 'dancer': 8100, 'danke': 8101, 'dannygokeyislove': 8102, 'davis': 8103, 'dawg': 8104, 'daytona': 8105, 'debut': 8106, 'decorating': 8107, 'deets': 8108, 'definite': 8109, 'delightful': 8110, 'delongeday': 8111, 'denial': 8112, 'deprived': 8113, 'derby': 8114, 'designing': 8115, 'desire': 8116, 'destiny': 8117, 'destroyed': 8118, 'detail': 8119, 'developed': 8120, 'developers': 8121, 'dey': 8122, 'diabetes': 8123, 'diamond': 8124, 'dire': 8125, 'director': 8126, 'disabled': 8127, 'discussing': 8128, 'disneyland': 8129, 'distract': 8130, 'distracting': 8131, 'distractions': 8132, 'ditch': 8133, 'ditched': 8134, 'djing': 8135, 'dmb': 8136, 'do&quot': 8137, 'dodgers': 8138, 'doggy': 8139, 'dollface': 8140, 'donnie': 8141, 'doomed': 8142, 'douchebag': 8143, 'dough': 8144, 'dover': 8145, 'down&quot': 8146, 'downstairs': 8147, 'doyourememberwhen': 8148, 'dozen': 8149, 'drinker': 8150, 'driveway': 8151, 'drools': 8152, 'drowning': 8153, 'drummer': 8154, 'drumming': 8155, 'dryer': 8156, 'dsi': 8157, 'dt': 8158, 'ducks': 8159, 'dx': 8160, 'dye': 8161, 'e71': 8162, 'eager': 8163, 'eagerly': 8164, 'echelonday': 8165, 'economy': 8166, 'eeee': 8167, 'elections': 8168, 'eli': 8169, 'eliminated': 8170, 'elizabeth': 8171, 'emailing': 8172, 'emotionally': 8173, 'employee': 8174, 'enjoyin': 8175, 'entrance': 8176, 'erin': 8177, 'errands': 8178, 'errors': 8179, 'eu09': 8180, 'evidence': 8181, 'executive': 8182, 'experts': 8183, 'expired': 8184, 'explaining': 8185, 'exploring': 8186, 'expo': 8187, 'extended': 8188, 'f*ck': 8189, 'faced': 8190, 'faithful': 8191, 'falls': 8192, 'familyforce5': 8193, 'fatal': 8194, 'feat': 8195, 'feb': 8196, 'february': 8197, 'feck': 8198, 'fedex': 8199, 'fee': 8200, 'feeds': 8201, 'fees': 8202, 'fellas': 8203, 'fetish': 8204, 'fewer': 8205, 'fictional': 8206, 'fields': 8207, 'fifth': 8208, 'filter': 8209, 'firm': 8210, 'fitting': 8211, 'flop': 8212, 'fob': 8213, 'foo': 8214, 'forcing': 8215, 'forwarding': 8216, 'foundation': 8217, 'frankie': 8218, 'freelance': 8219, 'freeze': 8220, 'friend&quot': 8221, 'fro': 8222, 'froze': 8223, 'fs': 8224, 'functional': 8225, 'funding': 8226, 'funk': 8227, 'gabe': 8228, 'gain': 8229, 'garbage': 8230, 'gem': 8231, 'generation': 8232, 'gh': 8233, 'ghostbusters': 8234, 'giants': 8235, 'girlies': 8236, 'givin': 8237, 'gl': 8238, 'glow': 8239, 'gnome': 8240, 'goals': 8241, \"goin'\": 8242, 'gokey': 8243, 'gooey': 8244, 'goooo': 8245, 'gooooood': 8246, 'goose': 8247, 'gota': 8248, 'goth': 8249, 'goto': 8250, 'grabe': 8251, 'gracias': 8252, 'graham': 8253, 'grandfather': 8254, 'granny': 8255, 'grats': 8256, 'gravel': 8257, 'groove': 8258, 'grumpy': 8259, 'gt;.&gt': 8260, 'gtalk': 8261, 'gucci': 8262, 'gues': 8263, 'guild': 8264, 'gutter': 8265, 'guyz': 8266, 'haa': 8267, 'habits': 8268, 'hahahaa': 8269, 'hahahahahaha': 8270, 'hairdresser': 8271, 'handles': 8272, 'handwriting': 8273, 'happybdaykrisallen': 8274, 'hardy': 8275, 'harlem': 8276, 'hatin': 8277, \"havn't\": 8278, 'haz': 8279, 'headin': 8280, 'heart&quot': 8281, 'heartbeat': 8282, 'hebrew': 8283, 'helluva': 8284, 'heyyyyy': 8285, 'hid': 8286, 'hidden': 8287, 'hihihi': 8288, 'hiii': 8289, 'hobbit': 8290, 'holdin': 8291, 'holes': 8292, 'holler': 8293, 'homer': 8294, 'honour': 8295, 'hopeful': 8296, 'horror': 8297, 'horses': 8298, 'http://bit.ly/h01jg': 8299, 'http://tweet.sg': 8300, 'http://twitpic.com/5f798': 8301, 'hu': 8302, 'hub': 8303, 'huggles': 8304, 'hump': 8305, 'hunger': 8306, 'hurrah': 8307, 'hysterical': 8308, \"i'mma\": 8309, 'ich': 8310, 'ike': 8311, 'ilove': 8312, 'imagined': 8313, 'immense': 8314, 'improvement': 8315, 'imy': 8316, 'income': 8317, 'independent': 8318, 'indoors': 8319, 'insects': 8320, 'inspires': 8321, 'instance': 8322, 'instrument': 8323, 'insult': 8324, 'int': 8325, 'intelligence': 8326, 'interact': 8327, 'interface': 8328, 'intern': 8329, 'interviewed': 8330, 'intriguing': 8331, 'introducing': 8332, 'invent': 8333, 'invitation': 8334, 'ir': 8335, 'ironic': 8336, 'irony': 8337, 'isle': 8338, 'isp': 8339, 'israel': 8340, 'it`s': 8341, 'ivy': 8342, 'jai': 8343, 'jailbroken': 8344, 'jamaica': 8345, 'jammin': 8346, 'jams': 8347, 'jan': 8348, 'jenna': 8349, 'jerry': 8350, 'joel': 8351, 'johns': 8352, 'jonathan': 8353, 'journal': 8354, 'journalist': 8355, 'jp': 8356, 'jt': 8357, 'juan': 8358, 'jungle': 8359, 'jury': 8360, 'juz': 8361, 'kathy': 8362, 'keen': 8363, 'ken': 8364, 'kfc': 8365, 'kidnapped': 8366, 'kidney': 8367, 'kindness': 8368, 'kita': 8369, 'kl': 8370, 'knackered': 8371, 'knife': 8372, 'knoow': 8373, 'know&quot': 8374, 'kreme': 8375, 'ktbspa': 8376, 'ky': 8377, 'kyte': 8378, 'l8': 8379, 'l8r': 8380, 'labor': 8381, 'lad': 8382, 'lag': 8383, 'lahore': 8384, 'lambert': 8385, 'lancaster': 8386, 'landlord': 8387, 'lane': 8388, 'larry': 8389, 'lastfm': 8390, 'lastnight': 8391, 'laura': 8392, 'lawrence': 8393, 'lea': 8394, 'leads': 8395, 'lectures': 8396, 'lemonade': 8397, 'lex': 8398, 'li': 8399, 'lick': 8400, 'lightening': 8401, 'lighting': 8402, 'lilly': 8403, 'lining': 8404, 'lit': 8405, 'livin': 8406, 'lk': 8407, 'locally': 8408, 'locals': 8409, 'lola': 8410, 'lollll': 8411, 'lone': 8412, 'lookout': 8413, 'lor': 8414, 'lori': 8415, 'losers': 8416, 'lotta': 8417, 'lou': 8418, 'lov': 8419, 'loverly': 8420, \"lovin'\": 8421, 'loyal': 8422, 'lr': 8423, 'lucas': 8424, 'lungs': 8425, 'luvs': 8426, 'maddie': 8427, 'maintain': 8428, 'manhattan': 8429, 'maple': 8430, 'marco': 8431, 'margaret': 8432, 'mars': 8433, 'marvelous': 8434, 'matching': 8435, 'md': 8436, 'mellow': 8437, 'melody': 8438, 'membership': 8439, 'memphis': 8440, 'mentally': 8441, 'mermaid': 8442, 'messaged': 8443, 'messaging': 8444, 'messes': 8445, 'micro': 8446, 'microwave': 8447, 'mii': 8448, 'milan': 8449, 'milkshake': 8450, 'mill': 8451, 'mint': 8452, 'mis': 8453, 'mistaken': 8454, 'mixtape': 8455, 'mn': 8456, 'mob': 8457, 'mobiles': 8458, 'mocha': 8459, 'moi': 8460, 'mommas': 8461, 'monty': 8462, 'moo': 8463, 'mop': 8464, 'morgan': 8465, 'morgen': 8466, 'mortgage': 8467, 'motorcycle': 8468, 'motto': 8469, 'mu': 8470, 'muggy': 8471, 'mumbai': 8472, 'murder': 8473, 'naming': 8474, 'nancy': 8475, 'naptime': 8476, 'nashville': 8477, 'navigation': 8478, 'naww': 8479, 'nest': 8480, 'nevr': 8481, 'nhl': 8482, 'nicest': 8483, 'nicky': 8484, 'niiice': 8485, 'nm': 8486, 'no.1': 8487, 'nonsense': 8488, 'noob': 8489, 'noodle': 8490, 'noooooooooo': 8491, 'nowww': 8492, 'nude': 8493, 'nuff': 8494, 'nuttin': 8495, 'nvr': 8496, 'obnoxious': 8497, 'obsession': 8498, 'octopus': 8499, 'oddly': 8500, 'offend': 8501, 'officer': 8502, 'ohnotheydidnt': 8503, 'olivia': 8504, 'omd': 8505, 'omgg': 8506, 'omgggg': 8507, 'onions': 8508, 'oohh': 8509, 'opportunities': 8510, 'opps': 8511, 'ordinary': 8512, 'osx': 8513, 'outa': 8514, 'outcome': 8515, 'outdoors': 8516, 'outt': 8517, 'overcome': 8518, 'overdue': 8519, 'owww': 8520, 'painkillers': 8521, 'paintings': 8522, 'pala': 8523, 'pam': 8524, 'pandas': 8525, 'paparazzi': 8526, 'paradise': 8527, 'parang': 8528, 'paranormal': 8529, 'passengers': 8530, 'pat': 8531, 'paycheck': 8532, 'paypal': 8533, 'pea': 8534, 'pedi': 8535, 'pencil': 8536, 'permission': 8537, 'persuade': 8538, 'photoshoot': 8539, 'phx': 8540, 'pier': 8541, 'pine': 8542, 'pinkberry': 8543, 'pittsburgh': 8544, 'pj': 8545, 'pjs': 8546, 'placed': 8547, 'platform': 8548, 'pleaseee': 8549, 'plugins': 8550, 'pms': 8551, 'poh': 8552, 'pokes': 8553, 'political': 8554, 'pollution': 8555, 'pooh': 8556, 'poorly': 8557, 'popping': 8558, 'poppy': 8559, 'popularity': 8560, 'popup': 8561, 'porch': 8562, 'possibility': 8563, 'postman': 8564, 'potato': 8565, 'pp': 8566, 'pressed': 8567, 'pressing': 8568, 'pretending': 8569, 'pricks': 8570, 'priest': 8571, 'procedure': 8572, 'procrastinating': 8573, 'profiles': 8574, 'promises': 8575, 'promising': 8576, 'promoted': 8577, 'promotion': 8578, 'provider': 8579, 'ps2': 8580, 'psycho': 8581, 'puerto': 8582, 'pump': 8583, 'pumpkin': 8584, 'purdy': 8585, 'python': 8586, 'queens': 8587, 'quicker': 8588, 'quot;as': 8589, 'quot;drag': 8590, 'quot;hello&quot': 8591, 'quot;not': 8592, 'quoting': 8593, 'r.i.p.': 8594, 'racing': 8595, 'radiohead': 8596, 'randy': 8597, 'razor': 8598, 'rear': 8599, 'rebuild': 8600, 'rec': 8601, 'recall': 8602, 'recieved': 8603, 'recognized': 8604, 'recommending': 8605, 'recon': 8606, 'redbull': 8607, 'refund': 8608, 'registration': 8609, 'reinstall': 8610, 'reinstalling': 8611, 'relatives': 8612, 'relaxed': 8613, 'relay': 8614, 'releases': 8615, 'remembering': 8616, 'reminiscing': 8617, 'remote': 8618, 'remove': 8619, 'renting': 8620, 'repeating': 8621, 'represent': 8622, 'republic': 8623, 'resolution': 8624, 'retreat': 8625, 'returning': 8626, 'retweeting': 8627, 'reviewed': 8628, 'reward': 8629, 'rhubarb': 8630, 'rhymes': 8631, 'richard': 8632, 'ricky': 8633, 'rico': 8634, 'ringing': 8635, 'rivers': 8636, 'rocket': 8637, 'rolled': 8638, 'roman': 8639, 'ron': 8640, 'rubber': 8641, 'ruby': 8642, 'rum': 8643, 'rumors': 8644, 'runnin': 8645, 'russell': 8646, 'sakit': 8647, 'samsung': 8648, 'sandy': 8649, 'sass': 8650, 'satellite': 8651, 'scanning': 8652, 'scooby': 8653, 'scroll': 8654, 'sed': 8655, 'sega': 8656, 'seniors': 8657, 'senses': 8658, 'sept': 8659, 'sesh': 8660, 'sh*t': 8661, 'shampoo': 8662, 'sheep': 8663, 'shitting': 8664, 'shiz': 8665, 'shorty': 8666, 'shoulders': 8667, 'showered': 8668, 'shush': 8669, 'shuttle': 8670, 'sideways': 8671, 'sig': 8672, 'sight': 8673, 'sih': 8674, 'silent': 8675, 'silk': 8676, 'simpler': 8677, 'simpsons': 8678, 'sincere': 8679, 'sinus': 8680, 'sits': 8681, 'sketch': 8682, 'sla2009': 8683, 'slam': 8684, 'sleepover': 8685, 'sleeve': 8686, 'slides': 8687, 'slower': 8688, 'sly': 8689, 'smelly': 8690, 'smoothies': 8691, 'snuggles': 8692, 'socal': 8693, 'sock': 8694, 'solve': 8695, 'sooooooo': 8696, 'soothing': 8697, 'sorryyy': 8698, 'sorts': 8699, 'sour': 8700, 'sources': 8701, 'southern': 8702, 'sowwy': 8703, 'sp': 8704, 'specialist': 8705, 'speeding': 8706, 'spencer': 8707, 'spill': 8708, 'spinning': 8709, 'splash': 8710, 'spoilt': 8711, 'spontaneous': 8712, 'sporting': 8713, 'squad': 8714, 'squid': 8715, 'stalked': 8716, 'steel': 8717, 'stella': 8718, 'stephanie': 8719, 'stephen': 8720, 'sticker': 8721, 'stiff': 8722, 'sting': 8723, 'stoopid': 8724, 'strangely': 8725, 'strangers': 8726, 'string': 8727, 'strings': 8728, 'stupidly': 8729, 'stylist': 8730, 'sub': 8731, 'subscription': 8732, 'summers': 8733, 'summertime': 8734, 'sumthin': 8735, 'superb': 8736, 'surprising': 8737, 'surprisingly': 8738, 'svu': 8739, 'sweep': 8740, 'sympathies': 8741, 't20': 8742, 'tabby': 8743, 'taco': 8744, 'tail': 8745, 'tak': 8746, 'talaga': 8747, 'tango': 8748, 'tanks': 8749, 'tasking': 8750, 'tattooed': 8751, 'taurus': 8752, 'taxes': 8753, 'telstra': 8754, 'temperature': 8755, 'terrified': 8756, 'terrifying': 8757, 'thankss': 8758, 'thas': 8759, 'that&quot': 8760, 'theaters': 8761, 'theree': 8762, 'thighs': 8763, 'thirsty': 8764, 'thn': 8765, 'thrilling': 8766, 'thumb': 8767, 'thunderstorms': 8768, 'tia': 8769, 'tights': 8770, 'tissues': 8771, 'tmw': 8772, 'todo': 8773, 'tomm': 8774, 'tonights': 8775, 'toooooo': 8776, 'toothache': 8777, 'trained': 8778, 'transition': 8779, 'travelling': 8780, 'tricked': 8781, 'tries': 8782, 'trophy': 8783, 'troubles': 8784, 'truffles': 8785, 'tshirt': 8786, 'tuning': 8787, 'twins': 8788, 'twitterers': 8789, 'twitterfox': 8790, 'twugs': 8791, 'tyler': 8792, 'tym': 8793, 'typo': 8794, 'u.s': 8795, 'ultra': 8796, 'understatement': 8797, 'unfollowing': 8798, 'unlocked': 8799, 'unloved': 8800, 'unwell': 8801, 'upbeat': 8802, 'upgraded': 8803, 'upgrades': 8804, 'upper': 8805, 'upside': 8806, 'uu': 8807, 'variety': 8808, 'vegetables': 8809, 'vent': 8810, 'victims': 8811, 'viewing': 8812, 'vinyl': 8813, 'violent': 8814, 'vocal': 8815, 'vocals': 8816, 'vodafone': 8817, 'vs.': 8818, 'waffle': 8819, 'waist': 8820, 'wal': 8821, 'walks': 8822, 'wan': 8823, 'watering': 8824, 'wayyyy': 8825, 'wbu': 8826, 'weakness': 8827, 'webinar': 8828, 'weddings': 8829, 'weds': 8830, 'weep': 8831, 'weigh': 8832, 'wells': 8833, 'wer': 8834, 'wha': 8835, 'whatevs': 8836, 'wheel': 8837, 'whining': 8838, 'whipped': 8839, 'whisky': 8840, 'whoot': 8841, 'wipe': 8842, 'witch': 8843, 'wiv': 8844, 'woe': 8845, 'woooo': 8846, 'wooooo': 8847, 'wordcamp': 8848, 'worker': 8849, 'workshop': 8850, 'world&quot': 8851, 'worms': 8852, 'wrapped': 8853, 'writechat': 8854, 'wth': 8855, 'wuv': 8856, 'xxxxxxx': 8857, \"y'all\": 8858, \"y'know\": 8859, 'yaaaay': 8860, 'yan': 8861, 'yarn': 8862, 'yearbook': 8863, 'youuuuu': 8864, 'yuh': 8865, 'yupp': 8866, 'ê': 8867, 'ì': 8868, 'ï¿½25': 8869, 'ð·ð': 8870, 'ð½ð¾': 8871}\n"
          ],
          "name": "stdout"
        }
      ]
    },
    {
      "cell_type": "markdown",
      "metadata": {
        "id": "lkqBO139cHsI",
        "colab_type": "text"
      },
      "source": [
        "#### Testing the `Iterator` and vizualizing batch"
      ]
    },
    {
      "cell_type": "code",
      "metadata": {
        "id": "B4KRqwjJWXth",
        "colab_type": "code",
        "outputId": "ee64511b-279c-4112-fe9b-b6d617656d75",
        "colab": {
          "base_uri": "https://localhost:8080/",
          "height": 187
        }
      },
      "source": [
        "train_iterator = Iterator(train_data, batch_size=32)\n",
        "train_iterator = iter(train_iterator)\n",
        "\n",
        "batch1 = next(train_iterator)\n",
        "batch2 = next(train_iterator)\n",
        "\n",
        "batch_input1 = batch1.input\n",
        "batch_input2 = batch2.input\n",
        "\n",
        "batch_label1 = batch1.label\n",
        "\n",
        "print(batch_input1.shape)\n",
        "print(batch_input2.shape)\n",
        "print(batch_label1.shape)\n",
        "\n",
        "print(batch_input1[0])\n",
        "print(batch_input2[0])"
      ],
      "execution_count": 0,
      "outputs": [
        {
          "output_type": "stream",
          "text": [
            "torch.Size([32, 42])\n",
            "torch.Size([32, 42])\n",
            "torch.Size([32])\n",
            "tensor([  0, 138,   7,   5,  95,   7,  98,  12,  41, 336,  18,  56, 185,  86,\n",
            "         77,   3,   3,   1,   1,   1,   1,   1,   1,   1,   1,   1,   1,   1,\n",
            "          1,   1,   1,   1,   1,   1,   1,   1,   1,   1,   1,   1,   1,   1])\n",
            "tensor([   0,    2,   84, 2224,    9,  198,   14,    5,   75,   17,   81, 8291,\n",
            "          54,   10,   10,    1,    1,    1,    1,    1,    1,    1,    1,    1,\n",
            "           1,    1,    1,    1,    1,    1,    1,    1,    1,    1,    1,    1,\n",
            "           1,    1,    1,    1,    1,    1])\n"
          ],
          "name": "stdout"
        }
      ]
    },
    {
      "cell_type": "markdown",
      "metadata": {
        "id": "6jCEtrK6wBET",
        "colab_type": "text"
      },
      "source": [
        "## Dense embedding"
      ]
    },
    {
      "cell_type": "code",
      "metadata": {
        "id": "otM4CrviwAa9",
        "colab_type": "code",
        "outputId": "7884c5af-d463-495f-d417-d80647d7c78c",
        "colab": {
          "base_uri": "https://localhost:8080/",
          "height": 221
        }
      },
      "source": [
        "tokens_twit = tokenizer(fake_twit)\n",
        "fake_vocab = set(tokens_twit)\n",
        "\n",
        "word2index = {w: i for i, w in enumerate(fake_vocab)}\n",
        "print(word2index)\n",
        "\n",
        "fake_twit_index = [word2index[w] for w in tokens_twit]\n",
        "\n",
        "fake_twit_index = torch.LongTensor(fake_twit_index)\n",
        "\n",
        "print(fake_twit_index)\n",
        "\n",
        "embed = nn.Embedding(len(fake_vocab), 5)\n",
        "\n",
        "embedding_matrix = embed.weight.data\n",
        "print(embedding_matrix)\n",
        "\n",
        "def get_embedding(word):\n",
        "    index = word2index[word]\n",
        "    tensor = torch.LongTensor([index])\n",
        "    return embed(tensor)\n",
        "\n",
        "get_embedding('GOT')"
      ],
      "execution_count": 0,
      "outputs": [
        {
          "output_type": "stream",
          "text": [
            "{'GOT': 0, '...': 1, 'kind': 2, 'this': 3, 'is': 4, 'of': 5, 'weird': 6, 'year': 7}\n",
            "tensor([0, 4, 2, 5, 6, 3, 7, 1])\n",
            "tensor([[-1.5256, -0.7502, -0.6540, -1.6095, -0.1002],\n",
            "        [-0.6092, -0.9798, -1.6091, -0.7121,  0.3037],\n",
            "        [-0.7773, -0.2515, -0.2223,  1.6871,  0.2284],\n",
            "        [ 0.4676, -0.6970, -1.1608,  0.6995,  0.1991],\n",
            "        [ 0.8657,  0.2444, -0.6629,  0.8073, -1.8821],\n",
            "        [-0.7765,  2.0242, -0.0865,  0.0981, -1.2150],\n",
            "        [ 0.7312,  1.1718,  2.4070,  0.2786,  0.2468],\n",
            "        [ 1.1843, -0.7282,  1.1633, -0.0091, -0.8425]])\n"
          ],
          "name": "stdout"
        },
        {
          "output_type": "execute_result",
          "data": {
            "text/plain": [
              "tensor([[-1.5256, -0.7502, -0.6540, -1.6095, -0.1002]],\n",
              "       grad_fn=<EmbeddingBackward>)"
            ]
          },
          "metadata": {
            "tags": []
          },
          "execution_count": 26
        }
      ]
    },
    {
      "cell_type": "markdown",
      "metadata": {
        "id": "BV8a-52tbGbc",
        "colab_type": "text"
      },
      "source": [
        "### Building the logistic regression classifier"
      ]
    },
    {
      "cell_type": "code",
      "metadata": {
        "id": "KXL_i4-Va53V",
        "colab_type": "code",
        "colab": {}
      },
      "source": [
        "class LR(nn.Module):\n",
        "\n",
        "    def __init__(self, num_embeddings, seq_len, embedding_dim):\n",
        "        super(LR, self).__init__()\n",
        "        self.embedding_dim = embedding_dim\n",
        "        self.embed = nn.Embedding(num_embeddings, embedding_dim)\n",
        "        \n",
        "        self.classifier = nn.Sequential(\n",
        "            nn.Linear(seq_len * embedding_dim, 1),\n",
        "            nn.Sigmoid()\n",
        "        )\n",
        "\n",
        "    def forward(self, inputs):\n",
        "        batch_size, seq_len = inputs.shape\n",
        "        embedded = self.embed(inputs).view(batch_size, seq_len * self.embedding_dim)\n",
        "        proba = self.classifier(embedded).squeeze()\n",
        "        return proba"
      ],
      "execution_count": 0,
      "outputs": []
    },
    {
      "cell_type": "code",
      "metadata": {
        "id": "V9XvwVZOleQA",
        "colab_type": "code",
        "colab": {}
      },
      "source": [
        "def evaluate(model, iterator, criterion, device):\n",
        "    \n",
        "    model.eval()\n",
        "    \n",
        "    targets, predictions = [], []\n",
        "    epoch_loss = 0\n",
        "    \n",
        "    with torch.no_grad():\n",
        "    \n",
        "        for batch in iterator:\n",
        "\n",
        "            batch_input = batch.input.to(device)\n",
        "            batch_label = batch.label.to(device)\n",
        "\n",
        "            batch_proba = model(batch_input)\n",
        "            assert batch_label.shape == batch_proba.shape, f'{batch_label.shape} != {output.shape}'\n",
        "            \n",
        "            # compute and store batch predictions\n",
        "            batch_prediction = batch_proba.cpu().numpy()\n",
        "            batch_prediction[batch_prediction < 0.5] = 0\n",
        "            batch_prediction[batch_prediction > 0.5] = 1\n",
        "            batch_prediction[batch_prediction == 0.5] = random.randint(0, 1)\n",
        "            \n",
        "            predictions.extend([y for y in batch_prediction])\n",
        "            targets.extend([y for y in batch_label.cpu().numpy()])\n",
        "            \n",
        "            loss = criterion(batch_proba, batch_label.float())\n",
        "            epoch_loss += loss.item()\n",
        "    \n",
        "    epoch_loss = epoch_loss / len(iterator)\n",
        "    epoch_acc = accuracy_score(targets, predictions)\n",
        "    \n",
        "    return epoch_loss, epoch_acc"
      ],
      "execution_count": 0,
      "outputs": []
    },
    {
      "cell_type": "code",
      "metadata": {
        "id": "SxM89TN5mSMj",
        "colab_type": "code",
        "colab": {}
      },
      "source": [
        "def train_iteration(model, iterator, optimizer, criterion, device):\n",
        "    \n",
        "    model.train()\n",
        "    \n",
        "    for i, batch in enumerate(iterator):\n",
        "        \n",
        "        optimizer.zero_grad()\n",
        "        \n",
        "        batch_input = batch.input.to(device)\n",
        "        batch_label = batch.label.to(device)\n",
        "        \n",
        "        output = model(batch_input).squeeze()\n",
        "        \n",
        "        assert batch_label.shape == output.shape, f'{batch_label.shape} != {output.shape}'\n",
        "        \n",
        "        loss = criterion(output, batch_label)\n",
        "        \n",
        "        loss.backward()\n",
        "        \n",
        "        optimizer.step()"
      ],
      "execution_count": 0,
      "outputs": []
    },
    {
      "cell_type": "code",
      "metadata": {
        "id": "Q_iOa0jEsd5m",
        "colab_type": "code",
        "colab": {}
      },
      "source": [
        "def epoch_time(start_time, end_time):\n",
        "    elapsed_time = end_time - start_time\n",
        "    elapsed_mins = int(elapsed_time / 60)\n",
        "    elapsed_secs = int(elapsed_time - (elapsed_mins * 60))\n",
        "    return elapsed_mins, elapsed_secs"
      ],
      "execution_count": 0,
      "outputs": []
    },
    {
      "cell_type": "code",
      "metadata": {
        "id": "Nts4b-I7cZ98",
        "colab_type": "code",
        "colab": {}
      },
      "source": [
        "EMB_DIM = 8\n",
        "SEQ_LEN = 32\n",
        "N_EPOCHS = 100"
      ],
      "execution_count": 0,
      "outputs": []
    },
    {
      "cell_type": "code",
      "metadata": {
        "id": "vToq7WVNz0gQ",
        "colab_type": "code",
        "colab": {}
      },
      "source": [
        "input_field = Field(sequential=True, tokenize=tokenizer, lower=True, batch_first=True, fix_length=SEQ_LEN)\n",
        "label_field = Field(sequential=False, use_vocab=False, is_target=True, unk_token=None, batch_first=True, dtype=torch.float32)\n",
        "\n",
        "fields = {'SentimentText': ('input', input_field), 'Sentiment': ('label', label_field)}\n",
        "\n",
        "train_data = TabularDataset(path=constants.TRAIN_PATH, format='csv', fields=fields)\n",
        "valid_data = TabularDataset(path=constants.VALID_PATH, format='csv', fields=fields)\n",
        "\n",
        "input_field.build_vocab(train_data, min_freq=5)\n",
        "\n",
        "train_iterator = Iterator(train_data, batch_size=256)\n",
        "valid_iterator = Iterator(valid_data, batch_size=1024)\n",
        "\n",
        "SRC_DIM = len(input_field.vocab)"
      ],
      "execution_count": 0,
      "outputs": []
    },
    {
      "cell_type": "code",
      "metadata": {
        "id": "haLOhmJ-0zYG",
        "colab_type": "code",
        "colab": {}
      },
      "source": [
        "model = LR(SRC_DIM, SEQ_LEN, EMB_DIM)\n",
        "model = model.to(constants.DEVICE)\n",
        "\n",
        "optimizer = optim.SGD(model.parameters(), lr=0.1, momentum=0.9)\n",
        "criterion = nn.BCELoss()"
      ],
      "execution_count": 0,
      "outputs": []
    },
    {
      "cell_type": "code",
      "metadata": {
        "id": "bUP95DHgroJX",
        "colab_type": "code",
        "colab": {}
      },
      "source": [
        "best_valid_loss = float('Inf')\n",
        "\n",
        "start_time = time.time()\n",
        "\n",
        "for epoch in range(N_EPOCHS):\n",
        "    \n",
        "    train_iteration(model, train_iterator, optimizer, criterion, constants.DEVICE)\n",
        "    \n",
        "    if (epoch + 1) % 1 == 0:  \n",
        "        train_loss, train_acc = evaluate(model, train_iterator, criterion, constants.DEVICE)\n",
        "        valid_loss, valid_acc = evaluate(model, valid_iterator, criterion, constants.DEVICE)\n",
        "\n",
        "        end_time = time.time()\n",
        "\n",
        "        epoch_mins, epoch_secs = epoch_time(start_time, end_time)\n",
        "\n",
        "        if valid_loss < best_valid_loss:\n",
        "            best_valid_loss = valid_loss\n",
        "            torch.save(model.state_dict(), 'tut1-model.pt')\n",
        "\n",
        "        print(f'Epoch: {epoch+1:02} | Time: {epoch_mins}m {epoch_secs}s | Train Loss: {train_loss:.3f} | Train Acc.: {train_acc:.2f} | Val. Loss: {valid_loss:.3f} |  Val. Acc.: {valid_acc:.2f}')"
      ],
      "execution_count": 0,
      "outputs": []
    }
  ]
}