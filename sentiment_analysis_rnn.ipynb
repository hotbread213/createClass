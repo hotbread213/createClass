{
  "nbformat": 4,
  "nbformat_minor": 0,
  "metadata": {
    "colab": {
      "name": "sentiment_analysis_rnn.ipynb",
      "version": "0.3.2",
      "provenance": [],
      "collapsed_sections": [],
      "include_colab_link": true
    },
    "kernelspec": {
      "name": "python3",
      "display_name": "Python 3"
    },
    "accelerator": "GPU"
  },
  "cells": [
    {
      "cell_type": "markdown",
      "metadata": {
        "id": "view-in-github",
        "colab_type": "text"
      },
      "source": [
        "<a href=\"https://colab.research.google.com/github/hotbread213/createClass/blob/master/sentiment_analysis_rnn.ipynb\" target=\"_parent\"><img src=\"https://colab.research.google.com/assets/colab-badge.svg\" alt=\"Open In Colab\"/></a>"
      ]
    },
    {
      "cell_type": "markdown",
      "metadata": {
        "id": "sqwjKm6u8RDD",
        "colab_type": "text"
      },
      "source": [
        "# Introductions to embedding with sentiment analysis"
      ]
    },
    {
      "cell_type": "markdown",
      "metadata": {
        "id": "qPr9Vp6QEDw3",
        "colab_type": "text"
      },
      "source": [
        "## Getting Started"
      ]
    },
    {
      "cell_type": "markdown",
      "metadata": {
        "id": "_E7EyzzC8Wij",
        "colab_type": "text"
      },
      "source": [
        "### Dataset and task\n",
        "\n",
        "- The [Twitter sentiment analysis](https://www.kaggle.com/c/twitter-sentiment-analysis2/overview) is an open source dataset available on Kaggle. It contains 100000 twits labeled as either negative (0) or positive (1). \n",
        "\n",
        "- The task consist in writing a model that takes a twits as input and output 1 if the sentiment is positive or 0 if the sentiment is negative."
      ]
    },
    {
      "cell_type": "markdown",
      "metadata": {
        "id": "RQFWBZ478aG8",
        "colab_type": "text"
      },
      "source": [
        "### Import required libraries"
      ]
    },
    {
      "cell_type": "code",
      "metadata": {
        "id": "54gJlXOp8MbH",
        "colab_type": "code",
        "colab": {}
      },
      "source": [
        "import time\n",
        "import random\n",
        "import os\n",
        "import pandas\n",
        "import numpy\n",
        "import zipfile\n",
        "\n",
        "from sklearn.feature_extraction.text import CountVectorizer\n",
        "from sklearn.linear_model import LogisticRegression\n",
        "from sklearn.metrics import accuracy_score\n",
        "\n",
        "import torch\n",
        "import torch.nn as nn\n",
        "import torch.optim as optim\n",
        "from torch.nn import functional as F\n",
        "from torchtext.data import Field, TabularDataset, Iterator\n",
        "\n",
        "from google_drive_downloader import GoogleDriveDownloader\n",
        "\n",
        "import spacy\n",
        "\n",
        "spacy_en = spacy.load('en')"
      ],
      "execution_count": 0,
      "outputs": []
    },
    {
      "cell_type": "markdown",
      "metadata": {
        "id": "Ak39Q00cD9Yx",
        "colab_type": "text"
      },
      "source": [
        "### Define some constants"
      ]
    },
    {
      "cell_type": "code",
      "metadata": {
        "id": "nyOhKQoIEMeI",
        "colab_type": "code",
        "colab": {}
      },
      "source": [
        "class Constants:\n",
        "    \n",
        "    DATA_FILE_ID = '1wrfQmCShiTmbIsr7LpZhEiYw7dhuaOhk'                     # Google drive id to be able to download from drive\n",
        "    \n",
        "    SEED = 1                                                               # random seed for reproductability\n",
        "    \n",
        "    DATA_DIR = 'data/twitter/'                                                     # path to the csv data\n",
        "    DATA_ZIP_FILE = f'{DATA_DIR}data.zip'                                        # path where to dowload the zipped data\n",
        "    DATA_PATH = '{}data.csv'.format(DATA_DIR)                # path to the news data\n",
        "    TRAIN_PATH = '{}train.csv'.format(DATA_DIR)\n",
        "    VALID_PATH = '{}valid.csv'.format(DATA_DIR)\n",
        "    TEST_PATH = '{}test.csv'.format(DATA_DIR)\n",
        "    \n",
        "    DEVICE = torch.device(\"cuda\" if torch.cuda.is_available() else \"cpu\")  # set device to GPU if availale\n",
        "\n",
        "constants = Constants"
      ],
      "execution_count": 0,
      "outputs": []
    },
    {
      "cell_type": "markdown",
      "metadata": {
        "id": "_mK-xikbpfz-",
        "colab_type": "text"
      },
      "source": [
        "### Fix random seed for reproductability"
      ]
    },
    {
      "cell_type": "code",
      "metadata": {
        "id": "Zby9fXxOpK2M",
        "colab_type": "code",
        "colab": {}
      },
      "source": [
        "numpy.random.seed(constants.SEED)\n",
        "random.seed(constants.SEED)\n",
        "torch.manual_seed(constants.SEED)\n",
        "torch.backends.cudnn.deterministic = True"
      ],
      "execution_count": 0,
      "outputs": []
    },
    {
      "cell_type": "markdown",
      "metadata": {
        "id": "8vsIB-qL8fW7",
        "colab_type": "text"
      },
      "source": [
        "### Download the data on your local server"
      ]
    },
    {
      "cell_type": "code",
      "metadata": {
        "id": "MoTKIkm8pnmr",
        "colab_type": "code",
        "outputId": "084f66b1-ff89-4687-cb78-1107a88be5ce",
        "colab": {
          "base_uri": "https://localhost:8080/",
          "height": 34
        }
      },
      "source": [
        "GoogleDriveDownloader.download_file_from_google_drive(file_id=constants.DATA_FILE_ID, dest_path=constants.DATA_ZIP_FILE, unzip=False)\n",
        "\n",
        "zip_ref = zipfile.ZipFile(constants.DATA_ZIP_FILE, 'r')\n",
        "zip_ref.extractall(constants.DATA_DIR)\n",
        "zip_ref.close()\n",
        "\n",
        "os.rename(f'{constants.DATA_DIR}train.csv', f'{constants.DATA_DIR}data.csv')\n",
        "!rm data/twitter/test.csv\n",
        "\n",
        "!ls data/twitter"
      ],
      "execution_count": 0,
      "outputs": [
        {
          "output_type": "stream",
          "text": [
            "data.csv  data.zip  valid.csv\n"
          ],
          "name": "stdout"
        }
      ]
    },
    {
      "cell_type": "markdown",
      "metadata": {
        "id": "RrVhiYEbrIDV",
        "colab_type": "text"
      },
      "source": [
        "### Visualize the data with `pandas.DataFrame`"
      ]
    },
    {
      "cell_type": "code",
      "metadata": {
        "id": "6OAaVzzJ8Q2U",
        "colab_type": "code",
        "outputId": "dab263bf-5e5e-4d41-a29f-89bb372cb624",
        "colab": {
          "base_uri": "https://localhost:8080/",
          "height": 204
        }
      },
      "source": [
        "data = pandas.read_csv(constants.DATA_PATH, encoding=\"ISO-8859-1\") # weird encoding: https://stackoverflow.com/questions/18171739/unicodedecodeerror-when-reading-csv-file-in-pandas-with-python\n",
        "data.head()"
      ],
      "execution_count": 0,
      "outputs": [
        {
          "output_type": "execute_result",
          "data": {
            "text/html": [
              "<div>\n",
              "<style scoped>\n",
              "    .dataframe tbody tr th:only-of-type {\n",
              "        vertical-align: middle;\n",
              "    }\n",
              "\n",
              "    .dataframe tbody tr th {\n",
              "        vertical-align: top;\n",
              "    }\n",
              "\n",
              "    .dataframe thead th {\n",
              "        text-align: right;\n",
              "    }\n",
              "</style>\n",
              "<table border=\"1\" class=\"dataframe\">\n",
              "  <thead>\n",
              "    <tr style=\"text-align: right;\">\n",
              "      <th></th>\n",
              "      <th>ItemID</th>\n",
              "      <th>Sentiment</th>\n",
              "      <th>SentimentText</th>\n",
              "    </tr>\n",
              "  </thead>\n",
              "  <tbody>\n",
              "    <tr>\n",
              "      <th>0</th>\n",
              "      <td>1</td>\n",
              "      <td>0</td>\n",
              "      <td>is so sad for my APL frie...</td>\n",
              "    </tr>\n",
              "    <tr>\n",
              "      <th>1</th>\n",
              "      <td>2</td>\n",
              "      <td>0</td>\n",
              "      <td>I missed the New Moon trail...</td>\n",
              "    </tr>\n",
              "    <tr>\n",
              "      <th>2</th>\n",
              "      <td>3</td>\n",
              "      <td>1</td>\n",
              "      <td>omg its already 7:30 :O</td>\n",
              "    </tr>\n",
              "    <tr>\n",
              "      <th>3</th>\n",
              "      <td>4</td>\n",
              "      <td>0</td>\n",
              "      <td>.. Omgaga. Im sooo  im gunna CRy. I'...</td>\n",
              "    </tr>\n",
              "    <tr>\n",
              "      <th>4</th>\n",
              "      <td>5</td>\n",
              "      <td>0</td>\n",
              "      <td>i think mi bf is cheating on me!!!   ...</td>\n",
              "    </tr>\n",
              "  </tbody>\n",
              "</table>\n",
              "</div>"
            ],
            "text/plain": [
              "   ItemID  Sentiment                                      SentimentText\n",
              "0       1          0                       is so sad for my APL frie...\n",
              "1       2          0                     I missed the New Moon trail...\n",
              "2       3          1                            omg its already 7:30 :O\n",
              "3       4          0            .. Omgaga. Im sooo  im gunna CRy. I'...\n",
              "4       5          0           i think mi bf is cheating on me!!!   ..."
            ]
          },
          "metadata": {
            "tags": []
          },
          "execution_count": 5
        }
      ]
    },
    {
      "cell_type": "markdown",
      "metadata": {
        "id": "An7nB7uEyOB8",
        "colab_type": "text"
      },
      "source": [
        "## Methodology\n",
        "\n",
        "- Validate the data (number of examples, number of features, label distribution, number of `nan`, etc)\n",
        "- Choose a good metric that you will use for deciding the best model\n",
        "- Split the data into train/valid/test\n",
        "- Implement the simplest classifier and evaluate the performance on the train and the validation set\n",
        "- Data exploration + model exploration (e.g. small litterature review)\n",
        "- Base on data exploration and litterature, decide on a set of model to test with range of architecture (this includes preprocessing)\n",
        "- Select hyperparameters based on the performance on the validation set\n",
        "- Test your model on the test set and decide if it's good enough for production; else you need a new test set"
      ]
    },
    {
      "cell_type": "markdown",
      "metadata": {
        "id": "J_a2D59Lz8iy",
        "colab_type": "text"
      },
      "source": [
        "### Dataset validation"
      ]
    },
    {
      "cell_type": "code",
      "metadata": {
        "id": "TJbC7koxyLVG",
        "colab_type": "code",
        "colab": {}
      },
      "source": [
        "N_OBS = len(data)\n",
        "\n",
        "assert N_OBS == 99989\n",
        "\n",
        "N_POSITIVE_LABEL = len(data[data.Sentiment == 1])\n",
        "N_NEGATIVE_LABEL = len(data[data.Sentiment == 0])\n",
        "\n",
        "assert N_POSITIVE_LABEL == 56457\n",
        "assert N_NEGATIVE_LABEL == 43532\n",
        "assert N_POSITIVE_LABEL + N_NEGATIVE_LABEL == N_OBS\n",
        "\n",
        "assert len(data.dropna()) == N_OBS  # Make sure there is no nan"
      ],
      "execution_count": 0,
      "outputs": []
    },
    {
      "cell_type": "markdown",
      "metadata": {
        "id": "R__F-itRriUy",
        "colab_type": "text"
      },
      "source": [
        "### Split the data into a train and a validation set and print some informations (split percentage, class distribution)"
      ]
    },
    {
      "cell_type": "code",
      "metadata": {
        "id": "1pCOJ7IFz5CW",
        "colab_type": "code",
        "colab": {}
      },
      "source": [
        "TRAIN_SIZE = round(0.7 * N_OBS)\n",
        "VALID_SIZE = round(0.15 * N_OBS) + 1\n",
        "TEST_SIZE = round(0.15 * N_OBS)\n",
        "assert TRAIN_SIZE + VALID_SIZE + TEST_SIZE == N_OBS, f'{TRAIN_SIZE + VALID_SIZE + TEST_SIZE} != {N_OBS}'"
      ],
      "execution_count": 0,
      "outputs": []
    },
    {
      "cell_type": "code",
      "metadata": {
        "id": "v4V4ktvjrsCz",
        "colab_type": "code",
        "colab": {}
      },
      "source": [
        "# shuffle the indices\n",
        "examples = set(range(N_OBS))\n",
        "train_indices = set(random.sample(examples, TRAIN_SIZE))\n",
        "examples = set(i for i in examples if i not in train_indices)\n",
        "valid_indices = set(random.sample(examples, VALID_SIZE))\n",
        "test_indices = [i for i in examples if i not in valid_indices]"
      ],
      "execution_count": 0,
      "outputs": []
    },
    {
      "cell_type": "code",
      "metadata": {
        "id": "OUexVVWS1lNz",
        "colab_type": "code",
        "colab": {}
      },
      "source": [
        "# Split the data\n",
        "train_df = data.iloc[list(train_indices)]\n",
        "valid_df = data.iloc[list(valid_indices)]\n",
        "test_df = data.iloc[list(test_indices)]"
      ],
      "execution_count": 0,
      "outputs": []
    },
    {
      "cell_type": "code",
      "metadata": {
        "id": "tI-RFbD5vdj9",
        "colab_type": "code",
        "outputId": "4c8bfc0d-a9bb-4a15-c934-92a4b8a2fd59",
        "colab": {
          "base_uri": "https://localhost:8080/",
          "height": 68
        }
      },
      "source": [
        "n_train = len(train_df)\n",
        "n_train_positive = len(train_df[train_df.Sentiment == 1])\n",
        "\n",
        "n_valid = len(valid_df)\n",
        "n_valid_positive = len(valid_df[valid_df.Sentiment == 1])\n",
        "\n",
        "n_test = len(test_df)\n",
        "n_test_positive = len(test_df[test_df.Sentiment == 1])\n",
        "\n",
        "print('# train example: {} ({:.2f} %) | positive: {:.2f} % | negative: {:.2f} %'.format(n_train, n_train / N_OBS * 100, n_train_positive / n_train * 100, 100 - n_train_positive / n_train * 100))\n",
        "print('# valid example: {} ({:.2f} %) | positive: {:.2f} % | negative: {:.2f} %'.format(n_valid, n_valid / N_OBS * 100, n_valid_positive / n_valid * 100, 100 - n_valid_positive / n_valid * 100))\n",
        "print('# test example: {} ({:.2f} %) | positive: {:.2f} % | negative: {:.2f} %'.format(n_test, n_test / N_OBS * 100, n_test_positive / n_test * 100, 100 - n_test_positive / n_test * 100))"
      ],
      "execution_count": 0,
      "outputs": [
        {
          "output_type": "stream",
          "text": [
            "# train example: 69992 (70.00 %) | positive: 56.50 % | negative: 43.50 %\n",
            "# valid example: 14999 (15.00 %) | positive: 56.06 % | negative: 43.94 %\n",
            "# test example: 14998 (15.00 %) | positive: 56.69 % | negative: 43.31 %\n"
          ],
          "name": "stdout"
        }
      ]
    },
    {
      "cell_type": "code",
      "metadata": {
        "id": "2LIA_AanvjRF",
        "colab_type": "code",
        "outputId": "a6a3dae9-faf7-4344-e291-c9b60cd00175",
        "colab": {
          "base_uri": "https://localhost:8080/",
          "height": 34
        }
      },
      "source": [
        "train_df.to_csv(constants.TRAIN_PATH, encoding='utf-8')\n",
        "valid_df.to_csv(constants.VALID_PATH, encoding='utf-8')\n",
        "test_df.to_csv(constants.TEST_PATH, encoding='utf-8')\n",
        "\n",
        "!ls data/twitter"
      ],
      "execution_count": 0,
      "outputs": [
        {
          "output_type": "stream",
          "text": [
            "data.csv  data.zip  test.csv  train.csv  valid.csv\n"
          ],
          "name": "stdout"
        }
      ]
    },
    {
      "cell_type": "markdown",
      "metadata": {
        "id": "xwVJ4gSnwINq",
        "colab_type": "text"
      },
      "source": [
        "## Representing words with one-hot encoding"
      ]
    },
    {
      "cell_type": "code",
      "metadata": {
        "id": "_z3gDd0awf3t",
        "colab_type": "code",
        "colab": {}
      },
      "source": [
        "train_inputs = train_df.SentimentText\n",
        "train_labels = train_df.Sentiment\n",
        "\n",
        "valid_inputs = valid_df.SentimentText\n",
        "valid_labels = valid_df.Sentiment"
      ],
      "execution_count": 0,
      "outputs": []
    },
    {
      "cell_type": "markdown",
      "metadata": {
        "id": "YtvTfny1wZOt",
        "colab_type": "text"
      },
      "source": [
        "#### Vectorizing the features with `CountVecoctorizer` [[docs]](https://scikit-learn.org/stable/modules/generated/sklearn.feature_extraction.text.CountVectorizer.html)"
      ]
    },
    {
      "cell_type": "code",
      "metadata": {
        "id": "perQKuRaF88u",
        "colab_type": "code",
        "colab": {}
      },
      "source": [
        "vectorizer = CountVectorizer()\n",
        "vectorizer.fit(train_inputs)\n",
        "train_bow = vectorizer.transform(train_inputs)\n",
        "valid_bow = vectorizer.transform(valid_inputs)"
      ],
      "execution_count": 0,
      "outputs": []
    },
    {
      "cell_type": "markdown",
      "metadata": {
        "id": "vK-YcLUpNG_w",
        "colab_type": "text"
      },
      "source": [
        "#### Classifying twits with logistic regression [[docs]](https://scikit-learn.org/stable/modules/generated/sklearn.linear_model.LogisticRegression.html)"
      ]
    },
    {
      "cell_type": "code",
      "metadata": {
        "id": "DSx3YoOw6nqV",
        "colab_type": "code",
        "colab": {}
      },
      "source": [
        "# Initialize the classifier. `lbfgs` is the default optimizer. \n",
        "# Set `max_iter` to 1000 to avoid annoying convergence warning\n",
        "lr = LogisticRegression(solver='lbfgs', max_iter=1000)"
      ],
      "execution_count": 0,
      "outputs": []
    },
    {
      "cell_type": "code",
      "metadata": {
        "id": "1P_sxXVLNPzA",
        "colab_type": "code",
        "colab": {}
      },
      "source": [
        "# optimize the parameters of the classifier\n",
        "lr = lr.fit(train_bow, train_labels)"
      ],
      "execution_count": 0,
      "outputs": []
    },
    {
      "cell_type": "code",
      "metadata": {
        "id": "eWFsTfJ069Y9",
        "colab_type": "code",
        "outputId": "636500a7-fb77-4787-9add-b4c0941183ce",
        "colab": {
          "base_uri": "https://localhost:8080/",
          "height": 51
        }
      },
      "source": [
        "# Evaluate the accuracy of our baseline model\n",
        "train_predictions = lr.predict(train_bow)\n",
        "valid_predictions = lr.predict(valid_bow)\n",
        "\n",
        "print('Train accuracy: {:.2f} %'.format(accuracy_score(train_predictions, train_labels) * 100))\n",
        "print('Valid accuracy: {:.2f} %'.format(accuracy_score(valid_predictions, valid_labels) * 100))"
      ],
      "execution_count": 0,
      "outputs": [
        {
          "output_type": "stream",
          "text": [
            "Train accuracy: 90.63 %\n",
            "Valid accuracy: 76.64 %\n"
          ],
          "name": "stdout"
        }
      ]
    },
    {
      "cell_type": "markdown",
      "metadata": {
        "id": "OqcCHlUK78m-",
        "colab_type": "text"
      },
      "source": [
        "### Data exploration + model exploration (e.g. small litterature review)\n",
        "\n",
        "- Things to consider in your research\n",
        " - The task: \"sentiment classification\" < \"text classification\" < \"classification\"\n",
        " - Preprocessing and feature representation\n",
        " - ...\n",
        "\n",
        "- Where to look:\n",
        " - [Google scholar](https://scholar.google.ca/schhp?hl=en&as_sdt=0,5)\n",
        " - Forums and blogs (e.g. Reddit, Medium)\n",
        " - [NLP progress](http://nlpprogress.com/)\n",
        " - ..."
      ]
    },
    {
      "cell_type": "markdown",
      "metadata": {
        "id": "NJ8Au6haQrhQ",
        "colab_type": "text"
      },
      "source": [
        "## Representing words with *embeddings*"
      ]
    },
    {
      "cell_type": "markdown",
      "metadata": {
        "id": "HVZniHekSHDo",
        "colab_type": "text"
      },
      "source": [
        "### Tokenization"
      ]
    },
    {
      "cell_type": "code",
      "metadata": {
        "id": "cO9h73aT_038",
        "colab_type": "code",
        "colab": {}
      },
      "source": [
        "STOPWORDS = ['a', 'an', 'the', 'and', 'or', 'to', 'it', 'for', 'is']\n",
        "\n",
        "def tokenizer(text):\n",
        "    \"\"\"\n",
        "    Tokenizes English text from a string into a list of strings (tokens)\n",
        "    \"\"\"\n",
        "    tokens = [tok.text for tok in spacy_en.tokenizer(text) if tok.text not in STOPWORDS]\n",
        "    \n",
        "    return tokens"
      ],
      "execution_count": 0,
      "outputs": []
    },
    {
      "cell_type": "markdown",
      "metadata": {
        "id": "abgAuPTUTdbd",
        "colab_type": "text"
      },
      "source": [
        "#### Loading and preprocessing `csv` file with `torchtext.data.TabularDataset`"
      ]
    },
    {
      "cell_type": "code",
      "metadata": {
        "id": "BtrgwdEnSYqX",
        "colab_type": "code",
        "colab": {}
      },
      "source": [
        "input_field = Field(sequential=True, tokenize=tokenizer, pad_token='<pad>', unk_token='<unk>', lower=True, batch_first=True)\n",
        "label_field = Field(sequential=False, use_vocab=False, is_target=True, unk_token=None, batch_first=True, dtype=torch.float32)\n",
        "\n",
        "fields = {\n",
        "    'SentimentText': ('input', input_field),\n",
        "    'Sentiment': ('label', label_field)\n",
        "}\n",
        "\n",
        "train_data = TabularDataset(path=constants.TRAIN_PATH, format='csv', fields=fields)\n",
        "valid_data = TabularDataset(path=constants.VALID_PATH, format='csv', fields=fields)"
      ],
      "execution_count": 0,
      "outputs": []
    },
    {
      "cell_type": "code",
      "metadata": {
        "id": "mNG23puHUWFN",
        "colab_type": "code",
        "outputId": "1a740d8b-dd36-431c-9233-bbc522a9125d",
        "colab": {
          "base_uri": "https://localhost:8080/",
          "height": 51
        }
      },
      "source": [
        "print(train_df.SentimentText.iloc[4])\n",
        "print(vars(train_data.examples[4]))"
      ],
      "execution_count": 0,
      "outputs": [
        {
          "output_type": "stream",
          "text": [
            "       Sunny Again        Work Tomorrow  :-|       TV Tonight\n",
            "{'input': ['       ', 'sunny', 'again', '       ', 'work', 'tomorrow', ' ', ':-|', '      ', 'tv', 'tonight'], 'label': '0'}\n"
          ],
          "name": "stdout"
        }
      ]
    },
    {
      "cell_type": "markdown",
      "metadata": {
        "id": "yTinbEY6acPC",
        "colab_type": "text"
      },
      "source": [
        "#### `Field.build_vocab`\n",
        "\n",
        "- `min_freq`: The minimum frequency needed to include a token in the vocabulary. Values less than 1 will be set to 1. Default: 1."
      ]
    },
    {
      "cell_type": "code",
      "metadata": {
        "id": "HvAQlv4hV6lO",
        "colab_type": "code",
        "outputId": "bce9fdc6-cd8c-4eec-aef0-7c47a250f643",
        "colab": {
          "base_uri": "https://localhost:8080/",
          "height": 54
        }
      },
      "source": [
        "input_field.build_vocab(train_data, min_freq=5)\n",
        "print(dict(input_field.vocab.stoi))"
      ],
      "execution_count": 0,
      "outputs": [
        {
          "output_type": "stream",
          "text": [
            "{'<unk>': 0, '<pad>': 1, 'i': 2, '!': 3, '.': 4, ' ': 5, ',': 6, 'you': 7, '?': 8, 'that': 9, '...': 10, 'my': 11, 'in': 12, \"'s\": 13, \"n't\": 14, 'me': 15, 'have': 16, 'of': 17, 'on': 18, 'do': 19, 'so': 20, 'but': 21, '&': 22, ';': 23, \"'m\": 24, '-': 25, 'was': 26, 'be': 27, '#': 28, 'not': 29, 'just': 30, '..': 31, 'your': 32, 'are': 33, 'good': 34, 'with': 35, 'like': 36, 'no': 37, 'get': 38, 'lol': 39, 'at': 40, 'we': 41, 'too': 42, 'u': 43, '*': 44, 'all': 45, 'up': 46, 'now': 47, 'this': 48, 'know': 49, 'what': 50, 'love': 51, 'out': 52, 'did': 53, 'thanks': 54, 'will': 55, 'nt': 56, 'one': 57, 'can': 58, 'there': 59, 'go': 60, 'if': 61, ':': 62, 'got': 63, 'they': 64, '  ': 65, 'day': 66, 'ca': 67, 'how': 68, 'about': 69, 'well': 70, 'see': 71, \"'ll\": 72, 'when': 73, 'he': 74, ')': 75, 'time': 76, '(': 77, 'am': 78, 'm': 79, 'as': 80, 'oh': 81, 'think': 82, \"'re\": 83, 'from': 84, 'haha': 85, 'it': 86, 'really': 87, 'going': 88, 'hope': 89, 'had': 90, 'would': 91, 'work': 92, 'amp': 93, 'here': 94, 'sorry': 95, 'its': 96, 'some': 97, 'still': 98, 'back': 99, 'want': 100, '....': 101, 'yeah': 102, 'much': 103, 'more': 104, 'today': 105, 'been': 106, 'great': 107, \"'\": 108, 'need': 109, 'them': 110, 'miss': 111, '2': 112, '_': 113, 'she': 114, 'could': 115, \"'ve\": 116, 'then': 117, 'right': 118, 'only': 119, 'new': 120, 'yes': 121, 'night': 122, 'twitter': 123, 'very': 124, '@': 125, 's': 126, 'though': 127, 'should': 128, 'fun': 129, 'thank': 130, 'come': 131, 'make': 132, 'better': 133, 'her': 134, 'last': 135, 'why': 136, 'wish': 137, 'has': 138, 'hey': 139, 'feel': 140, 'the': 141, 'does': 142, 'sad': 143, 'were': 144, 'nice': 145, 'by': 146, 'off': 147, 'bad': 148, 'way': 149, '/': 150, 'again': 151, 'and': 152, 'home': 153, 'morning': 154, 'happy': 155, 'say': 156, 'never': 157, 'sure': 158, 'awesome': 159, 'him': 160, 'ur': 161, 'na': 162, 'always': 163, 'even': 164, 'people': 165, 'wait': 166, 'ok': 167, 'who': 168, 'us': 169, 'tomorrow': 170, 'gon': 171, 'soon': 172, 'let': 173, 'over': 174, 'next': 175, 'take': 176, 'cool': 177, 'please': 178, 'any': 179, 'week': 180, 'show': 181, 'thing': 182, \"'d\": 183, 'follow': 184, 'where': 185, 'look': 186, 'doing': 187, 'something': 188, 'down': 189, 'guys': 190, 'tonight': 191, 'wo': 192, 'hear': 193, 'same': 194, 'getting': 195, 'our': 196, 'than': 197, 'tell': 198, 'find': 199, 'best': 200, 'because': 201, 'ya': 202, 'after': 203, 'man': 204, 'yet': 205, 'maybe': 206, 'glad': 207, '4': 208, 'little': 209, '   ': 210, 'thought': 211, 'x': 212, 'wanna': 213, 'hate': 214, 'being': 215, 'already': 216, 'sounds': 217, 'sleep': 218, 'days': 219, 'long': 220, 'pretty': 221, 'his': 222, 'first': 223, '3': 224, 'keep': 225, 'watch': 226, 'help': 227, 'said': 228, 'try': 229, 'made': 230, 'tweet': 231, 'hi': 232, 'girl': 233, 'having': 234, 'those': 235, 'aww': 236, 'ever': 237, 'weekend': 238, 'life': 239, 'actually': 240, 'welcome': 241, 'other': 242, 'sucks': 243, 'lt;3': 244, 'things': 245, 'before': 246, 'working': 247, 'lot': 248, 'looking': 249, 'done': 250, 'guess': 251, 'everyone': 252, 'also': 253, 'live': 254, 'give': 255, 'went': 256, 'away': 257, 'missed': 258, 'might': 259, 'phone': 260, 'friend': 261, 'omg': 262, 'luck': 263, 'stuff': 264, 'looks': 265, 'makes': 266, ';)': 267, 'into': 268, 'mean': 269, 'song': 270, 'big': 271, 'someone': 272, 'saw': 273, 'wow': 274, 'bit': 275, 'a': 276, 'year': 277, 'nothing': 278, 'amazing': 279, 'old': 280, 'followfriday': 281, 'school': 282, 'yay': 283, 'bed': 284, 'hahaha': 285, 'coming': 286, 'must': 287, 'anything': 288, '1': 289, 'few': 290, 'movie': 291, 'least': 292, 'around': 293, 'lost': 294, 'another': 295, 'talk': 296, 'check': 297, 'ha': 298, 'call': 299, '.....': 300, 'use': 301, 'cute': 302, 'enjoy': 303, 'their': 304, 'since': 305, 'trying': 306, 'wanted': 307, 'friends': 308, 'mine': 309, 'left': 310, 'many': 311, '=': 312, 'hard': 313, 'may': 314, 'n': 315, 'damn': 316, 'r': 317, 'read': 318, 'tho': 319, 'funny': 320, 'sick': 321, 'awww': 322, 'feeling': 323, 'myself': 324, 'following': 325, 'while': 326, 'most': 327, 'house': 328, 'poor': 329, 'put': 330, 'watching': 331, 'start': 332, 'two': 333, 'later': 334, 'okay': 335, 'birthday': 336, 'either': 337, '$': 338, 'once': 339, 'free': 340, 'music': 341, 'totally': 342, 'play': 343, 'real': 344, 'true': 345, 'everything': 346, 'baby': 347, 'such': 348, 'b': 349, 'name': 350, 'summer': 351, 'friday': 352, 'until': 353, 'is': 354, 'which': 355, 'both': 356, 'followers': 357, 'late': 358, 'sweet': 359, 'ta': 360, 'job': 361, 'seen': 362, 'wrong': 363, 'yesterday': 364, 'far': 365, 'hehe': 366, 'tweets': 367, 'hot': 368, 'probably': 369, 'these': 370, 'send': 371, 'early': 372, 'found': 373, 'mom': 374, 'excited': 375, 'video': 376, 'hours': 377, 'times': 378, 'pic': 379, 'enough': 380, 'party': 381, 'world': 382, 'without': 383, 'xx': 384, 'every': 385, 'stop': 386, 'win': 387, '@aplusk': 388, 'iphone': 389, 'game': 390, 'heard': 391, 'btw': 392, 'leave': 393, '5': 394, 'beautiful': 395, 'cause': 396, 'dude': 397, 'end': 398, 'fine': 399, 'god': 400, 'head': 401, 'used': 402, 'thinking': 403, 'idea': 404, 'ill': 405, 'lucky': 406, 'jealous': 407, 'congrats': 408, 'link': 409, 'buy': 410, 'using': 411, 'years': 412, 'stay': 413, 'add': 414, 'anymore': 415, 'course': 416, 'd': 417, 're': 418, 'sigh': 419, 'lmao': 420, 'tired': 421, 'gone': 422, 'hello': 423, 'remember': 424, 'yea': 425, '--': 426, 'forward': 427, 'place': 428, 'shit': 429, 'till': 430, 'making': 431, 'to': 432, 'ah': 433, 'tried': 434, 'weather': 435, 'kind': 436, 'money': 437, '10': 438, 'waiting': 439, 'lovely': 440, 'able': 441, 'post': 442, 'through': 443, 'almost': 444, 'aw': 445, 'anyway': 446, 'believe': 447, 'busy': 448, 'told': 449, 'ago': 450, 'quite': 451, 'pay': 452, 'finally': 453, 'yep': 454, 'meet': 455, 'care': 456, 'seems': 457, 'kinda': 458, 'rain': 459, 'person': 460, 'xd': 461, 'food': 462, 'guy': 463, 'sun': 464, 'eat': 465, 'hair': 466, 'problem': 467, 'sunday': 468, 'fan': 469, 'hopefully': 470, 'mind': 471, 'news': 472, 'car': 473, 'cuz': 474, 'crazy': 475, 'weeks': 476, 'else': 477, 'heart': 478, 'picture': 479, 'own': 480, 'lots': 481, 'ready': 482, 'ugh': 483, 'definitely': 484, 'coffee': 485, 'bring': 486, 'missing': 487, 'talking': 488, 'family': 489, 'pics': 490, 'ask': 491, 'bored': 492, 'called': 493, '°': 494, 'agree': 495, 'face': 496, 'part': 497, 'online': 498, 'stupid': 499, 'blog': 500, 'monday': 501, 'reply': 502, 'anyone': 503, 'came': 504, 'seeing': 505, 'hugs': 506, 'c': 507, 'playing': 508, 'site': 509, 'book': 510, 'email': 511, 'kids': 512, 'says': 513, 'started': 514, 'train': 515, '100': 516, 'loved': 517, 'super': 518, 'tv': 519, '@alexalltimelow': 520, 'story': 521, 'sometimes': 522, 'boo': 523, 'gets': 524, 'ones': 525, 'whole': 526, 'cold': 527, 'happen': 528, 'thx': 529, 'happened': 530, 'rest': 531, 'room': 532, '6': 533, 'sound': 534, 'forgot': 535, 'goes': 536, 've': 537, 'change': 538, 'seriously': 539, 'knew': 540, 'w/': 541, 'full': 542, 'trip': 543, 'together': 544, 'took': 545, 'dm': 546, 'word': 547, '+': 548, 'run': 549, 'unfortunately': 550, 'means': 551, 'rock': 552, 'hour': 553, 'list': 554, '@ashleytisdale': 555, 'hang': 556, 'listen': 557, 'w': 558, 'girls': 559, 'ass': 560, 'dad': 561, 'lunch': 562, 'sooo': 563, 'works': 564, 'facebook': 565, 'nope': 566, 'suck': 567, 'reading': 568, 'taking': 569, 'y': 570, 'hurt': 571, 'sent': 572, 'ai': 573, 'hell': 574, 'favorite': 575, 'internet': 576, 'boy': 577, 'cry': 578, 'message': 579, 'reason': 580, 'xxx': 581, ']': 582, 'ppl': 583, 'dear': 584, 'month': 585, 'saturday': 586, 'til': 587, 'wonderful': 588, 'soo': 589, 'stuck': 590, 'for': 591, 'top': 592, '@alyssa_milano': 593, 'computer': 594, 'indeed': 595, 'quot;i': 596, 'update': 597, 'watched': 598, 'album': 599, 'bet': 600, 'open': 601, 'text': 602, 'write': 603, 'fail': 604, 'hit': 605, 'office': 606, 'supposed': 607, 'comes': 608, 'crap': 609, 'dog': 610, 'half': 611, 'meant': 612, 'season': 613, 'understand': 614, 'visit': 615, 'worth': 616, 'o': 617, 'pain': 618, 'ff': 619, 'finished': 620, 'listening': 621, 'page': 622, 'saying': 623, 'words': 624, 'worry': 625, 'break': 626, 'drink': 627, 'interesting': 628, 'needs': 629, 'alone': 630, 'boys': 631, 'couple': 632, 'june': 633, 'mad': 634, 'point': 635, 'chance': 636, 'drive': 637, 'forget': 638, 'hug': 639, 'less': 640, 'goodnight': 641, 'la': 642, 'smile': 643, 'hurts': 644, 'liked': 645, 'dinner': 646, 'exactly': 647, 'fuck': 648, 'bout': 649, \"i'm\": 650, 'minutes': 651, 'move': 652, 'sadly': 653, 'close': 654, 'plan': 655, 'yup': 656, '@andyclemmensen': 657, 'hoping': 658, 'idk': 659, 'luv': 660, 'perfect': 661, 'high': 662, 'vip': 663, 'class': 664, 'turn': 665, 'yourself': 666, 'catch': 667, 'youtube': 668, 'join': 669, ':o': 670, 'chocolate': 671, 'gave': 672, 'laugh': 673, 'ahh': 674, 'black': 675, 'outside': 676, 'side': 677, '[': 678, 'babe': 679, 'looked': 680, 'or': 681, 'sister': 682, 'concert': 683, 'dance': 684, 'died': 685, 'hmm': 686, 'water': 687, '7': 688, 'answer': 689, 'during': 690, 'musicmonday': 691, 'set': 692, 'weird': 693, '......': 694, 'different': 695, 'leaving': 696, 'line': 697, 'months': 698, 'seem': 699, 'tickets': 700, 'city': 701, 'hun': 702, 'instead': 703, 'moment': 704, 'quot': 705, 'photo': 706, 'red': 707, 'earlier': 708, 'songs': 709, 'yours': 710, 'huh': 711, 'running': 712, 'town': 713, '&quot': 714, '1st': 715, 'bought': 716, 'iremember': 717, 'movies': 718, 'pick': 719, 'soooo': 720, '8': 721, 'account': 722, 'each': 723, 'shows': 724, '    ': 725, 'easy': 726, 'fucking': 727, 'hungry': 728, 'mate': 729, 'myweakness': 730, 'chris': 731, 'e': 732, 'special': 733, 'yo': 734, 'eating': 735, 'fair': 736, 'number': 737, 'plus': 738, 'woke': 739, 'wonder': 740, 'broke': 741, 'second': 742, 'walk': 743, 'although': 744, 'awwww': 745, 'date': 746, 'pm': 747, 'under': 748, '@backstreetboys': 749, 'lets': 750, ':/': 751, 'especially': 752, 'ice': 753, 'quot;the': 754, 'worked': 755, '%': 756, 'chat': 757, 'dead': 758, 'raining': 759, 'self': 760, 'short': 761, 'wants': 762, 'beach': 763, 'fans': 764, 'july': 765, 'london': 766, 'moving': 767, 'past': 768, 'ride': 769, 'share': 770, 'store': 771, 'support': 772, 'google': 773, 'question': 774, 'updates': 775, 'cut': 776, 'da': 777, 'im': 778, 'lil': 779, 'met': 780, 't': 781, 'worse': 782, 'hahah': 783, 'safe': 784, 'team': 785, 'tour': 786, 'version': 787, 'eh': 788, 'exam': 789, 'huge': 790, 'shopping': 791, '@babygirlparis': 792, 'apparently': 793, 'fast': 794, 'gt': 795, 'mac': 796, 'uk': 797, 'dream': 798, 'eyes': 799, 'g': 800, 'k': 801, 'meeting': 802, 'tea': 803, 'tweeting': 804, 'website': 805, '20': 806, 'alright': 807, 'brother': 808, 'dreams': 809, 'lady': 810, 'silly': 811, 'afternoon': 812, 'beer': 813, 'cream': 814, 'lame': 815, 'whatever': 816, 'asleep': 817, 'cat': 818, 'fall': 819, 'slow': 820, 'usually': 821, 'vote': 822, 'case': 823, 'mail': 824, 'starting': 825, 'tuesday': 826, '@30secondstomars': 827, 'pictures': 828, 'proud': 829, 'sign': 830, 'white': 831, 'gorgeous': 832, 'ipod': 833, 'kid': 834, 'random': 835, 'shirt': 836, 'apple': 837, 'cos': 838, 'em': 839, 'evening': 840, 'hand': 841, 'horrible': 842, 'mother': 843, 'small': 844, 'sunny': 845, 'won': 846, 'comment': 847, 'english': 848, 'longer': 849, 'sitting': 850, 'three': 851, 'worst': 852, 'alot': 853, 'def': 854, 'enjoying': 855, 'feels': 856, 'hold': 857, 'l': 858, 'mention': 859, 'near': 860, 'order': 861, 'posted': 862, 'xoxo': 863, 'books': 864, 'learn': 865, 'ooh': 866, 'star': 867, 'wake': 868, 'annoying': 869, 'bday': 870, 'deal': 871, 'dunno': 872, 'kill': 873, 'needed': 874, 'parents': 875, 'photos': 876, 'shall': 877, 'shame': 878, 'shut': 879, 'via': 880, 'writing': 881, 'along': 882, 'bb': 883, 'die': 884, 'except': 885, 'happens': 886, 'knows': 887, 'loves': 888, 'mum': 889, 'myspace': 890, 'absolutely': 891, 'appreciate': 892, 'band': 893, 'breakfast': 894, 'fell': 895, 'nite': 896, 'save': 897, 'squarespace': 898, '30': 899, 'boring': 900, 'club': 901, 'fb': 902, 'green': 903, 'loving': 904, 'nah': 905, 'scared': 906, 'air': 907, 'plans': 908, 'sleeping': 909, 'wear': 910, '9': 911, \":'(\": 912, 'app': 913, 'bitch': 914, 'clean': 915, 'congratulations': 916, 'due': 917, 'etc': 918, 'fix': 919, 'laptop': 920, 'lately': 921, 'matter': 922, 'others': 923, '12': 924, 'exciting': 925, 'note': 926, 'sexy': 927, 'single': 928, 'type': 929, 'vegas': 930, 'voice': 931, '@bradiewebbstack': 932, 'blue': 933, 'inaperfectworld': 934, 'rather': 935, 'beat': 936, 'country': 937, 'exams': 938, 'pass': 939, 'radio': 940, 'sat': 941, 'sis': 942, 'son': 943, 'finish': 944, 'info': 945, 'business': 946, 'camera': 947, 'power': 948, 'sold': 949, 'broken': 950, 'extra': 951, 'eye': 952, 'fly': 953, 'forever': 954, 'hahahaha': 955, 'living': 956, 'ohh': 957, 'ouch': 958, 'wit': 959, 'wtf': 960, '@billyraycyrus': 961, 'behind': 962, 'bro': 963, 'bye': 964, 'figure': 965, 'film': 966, 'goin': 967, 'hmmm': 968, '11': 969, 'closed': 970, 'coz': 971, 'study': 972, 'upset': 973, 'yr': 974, 'flu': 975, 'prob': 976, 'ate': 977, 'awake': 978, 'between': 979, 'crying': 980, 'flight': 981, 'front': 982, 'hands': 983, 'keeps': 984, 'minute': 985, 'pool': 986, 'sharing': 987, 'thursday': 988, 'wedding': 989, 'cheers': 990, 'pleasure': 991, 'taken': 992, 'terrible': 993, 'test': 994, 'unless': 995, 'ahhh': 996, 'bgt': 997, 'body': 998, 'experience': 999, 'felt': 1000, 'future': 1001, 'lose': 1002, 'mr': 1003, 'ps': 1004, 'sense': 1005, 'touch': 1006, 'wednesday': 1007, 'wine': 1008, '~': 1009, 'cd': 1010, 'decided': 1011, 'event': 1012, 'fantastic': 1013, 'hilarious': 1014, 'kidding': 1015, 'p': 1016, 'played': 1017, 'sending': 1018, 'serious': 1019, 'web': 1020, 'giving': 1021, 'group': 1022, 'invite': 1023, 'quick': 1024, 'sort': 1025, 'warm': 1026, ':p': 1027, 'awful': 1028, 'fact': 1029, 'haveyouever': 1030, 'park': 1031, 'shot': 1032, 'sir': 1033, 'woman': 1034, 'honey': 1035, 'mood': 1036, '(:': 1037, '15': 1038, 'cake': 1039, 'dress': 1040, 'sing': 1041, '2nd': 1042, ';-)': 1043, 'art': 1044, 'bsb': 1045, 'episode': 1046, 'fat': 1047, 'games': 1048, 'kick': 1049, 'profile': 1050, 'service': 1051, 'takes': 1052, 'yummy': 1053, '@1capplegate': 1054, 'anytime': 1055, 'quot;you': 1056, 'somewhere': 1057, 'spend': 1058, '2day': 1059, 'alex': 1060, 'asked': 1061, 'caught': 1062, 'choice': 1063, 'download': 1064, 'drunk': 1065, 'enjoyed': 1066, 'hah': 1067, 'jonas': 1068, 'light': 1069, 'miley': 1070, 'thanx': 1071, 'wondering': 1072, 'xo': 1073, 'young': 1074, '@buckhollywood': 1075, 'afraid': 1076, 'asking': 1077, 'box': 1078, 'college': 1079, 'doubt': 1080, 'jus': 1081, 'possible': 1082, 'problems': 1083, 'promise': 1084, 'sweetie': 1085, 'australia': 1086, 'daughter': 1087, 'driving': 1088, 'final': 1089, 'germany': 1090, 'helps': 1091, 'ny': 1092, 'project': 1093, 'studying': 1094, 'sunshine': 1095, 'telling': 1096, '@_crc': 1097, 'chicken': 1098, 'fav': 1099, 'fingers': 1100, 'holiday': 1101, 'imagine': 1102, 'itunes': 1103, 'likes': 1104, 'nobody': 1105, 'pizza': 1106, 'round': 1107, 'scary': 1108, 'turned': 1109, 'tweetdeck': 1110, 'worried': 1111, 'adam': 1112, 'background': 1113, 'company': 1114, 'inside': 1115, 'kno': 1116, 'passed': 1117, 'series': 1118, 'area': 1119, 'buddy': 1120, 'completely': 1121, 'often': 1122, 'speak': 1123, 'anywhere': 1124, 'bummer': 1125, 'calling': 1126, 'ladies': 1127, 'lazy': 1128, 'loads': 1129, 'low': 1130, 'record': 1131, 'search': 1132, 'spent': 1133, 'vid': 1134, 'videos': 1135, 'wat': 1136, 'comments': 1137, 'david': 1138, 'design': 1139, 'door': 1140, 'double': 1141, 'gay': 1142, 'hanging': 1143, 'hehehe': 1144, 'joke': 1145, 'oooh': 1146, 'screen': 1147, 'singing': 1148, 'vacation': 1149, 'anyways': 1150, 'card': 1151, 'figured': 1152, 'interview': 1153, 'shower': 1154, 'smart': 1155, 'ticket': 1156, 'uh': 1157, 'cup': 1158, 'dancing': 1159, 'dark': 1160, 'excellent': 1161, 'fave': 1162, 'fit': 1163, 'husband': 1164, 'jk': 1165, 'middle': 1166, 'road': 1167, 'shoes': 1168, 'um': 1169, 'worries': 1170, 'agreed': 1171, 'bless': 1172, 'brilliant': 1173, 'changed': 1174, 'disappointed': 1175, 'drinking': 1176, 'fish': 1177, 'heading': 1178, 'ideas': 1179, 'men': 1180, 'sell': 1181, 'state': 1182, 'thru': 1183, 'trending': 1184, 'usual': 1185, 'wife': 1186, 'www.tweeteradder.com': 1187, 'yum': 1188, '@aubreyoday': 1189, 'brain': 1190, 'cheese': 1191, 'dnt': 1192, 'gosh': 1193, 'interested': 1194, 'moon': 1195, 'nap': 1196, 'paper': 1197, 'pc': 1198, 'pls': 1199, 'sex': 1200, 'sometime': 1201, 'french': 1202, 'happening': 1203, 'planning': 1204, 'sit': 1205, 'trust': 1206, 'cough': 1207, 'cover': 1208, 'doin': 1209, 'followed': 1210, 'kept': 1211, 'lonely': 1212, 'magic': 1213, 'normal': 1214, 'rainy': 1215, 'shop': 1216, 'stand': 1217, 'staying': 1218, 'thinks': 1219, 'thoughts': 1220, 'www.tweeterfollow.com': 1221, 'against': 1222, 'awards': 1223, 'canada': 1224, 'checked': 1225, 'checking': 1226, 'copy': 1227, 'currently': 1228, 'ended': 1229, 'everyday': 1230, 'expensive': 1231, 'fixed': 1232, 'gettin': 1233, 'heh': 1234, 'hospital': 1235, 'nyc': 1236, 'paid': 1237, 'quiet': 1238, 'sleepy': 1239, '24': 1240, 'act': 1241, 'andy': 1242, 'ashley': 1243, 'boyfriend': 1244, 'cats': 1245, 'deserve': 1246, 'kiss': 1247, 'lmfao': 1248, 'ma': 1249, 'min': 1250, 'msn': 1251, 'none': 1252, 'replied': 1253, 'rocks': 1254, 'sims': 1255, 'sore': 1256, 'straight': 1257, 'taste': 1258, 'trouble': 1259, 'upload': 1260, 'view': 1261, 'age': 1262, 'ahead': 1263, 'church': 1264, 'feed': 1265, 'gym': 1266, 'local': 1267, 'mo': 1268, 'ohhh': 1269, 'perhaps': 1270, 'spot': 1271, 'starts': 1272, 'tweeted': 1273, '©': 1274, 'available': 1275, 'become': 1276, 'bummed': 1277, 'bus': 1278, 'chicago': 1279, 'cookies': 1280, 'dc': 1281, 'easier': 1282, 'epic': 1283, 'failed': 1284, 'gift': 1285, 'hubby': 1286, 'issues': 1287, 'nick': 1288, 'peace': 1289, 'shoot': 1290, 'south': 1291, 'stomach': 1292, 'windows': 1293, 'â\\x99¥': 1294, 'american': 1295, 'cheap': 1296, 'click': 1297, 'dvd': 1298, 'fake': 1299, 'fresh': 1300, 'headache': 1301, 'neither': 1302, 'shout': 1303, 'space': 1304, 'step': 1305, 'suppose': 1306, 'bag': 1307, 'bar': 1308, 'bf': 1309, 'deep': 1310, 'delicious': 1311, 'direct': 1312, 'dumb': 1313, 'favourite': 1314, 'fight': 1315, 'gives': 1316, 'guitar': 1317, 'keeping': 1318, 'nights': 1319, 'noticed': 1320, 'offer': 1321, 'posting': 1322, 'release': 1323, 'simple': 1324, 'twice': 1325, 'twilight': 1326, 'window': 1327, 'woo': 1328, '.......': 1329, '50': 1330, 'amp;&amp': 1331, 'blame': 1332, 'classes': 1333, 'dontyouhate': 1334, 'drop': 1335, 'everywhere': 1336, 'gotten': 1337, 'iranelection': 1338, 'john': 1339, 'mama': 1340, 'mark': 1341, 'married': 1342, 'mins': 1343, 'prefer': 1344, 'public': 1345, 'return': 1346, 'sa': 1347, 'stopped': 1348, 'street': 1349, 'turns': 1350, '@alancarr': 1351, '@chrisdjmoyles': 1352, 'adorable': 1353, 'bloody': 1354, 'dang': 1355, 'de': 1356, 'fml': 1357, 'hav': 1358, 'ily': 1359, 'lives': 1360, 'non': 1361, 'otherwise': 1362, 'pink': 1363, 'pop': 1364, 'pre': 1365, 'stick': 1366, 'talked': 1367, 'throw': 1368, '«': 1369, 'â\\x99': 1370, 'allowed': 1371, 'article': 1372, 'awe': 1373, 'clothes': 1374, 'confused': 1375, 'dogs': 1376, 'finals': 1377, 'gutted': 1378, 'hates': 1379, 'homework': 1380, 'hrs': 1381, 'kitty': 1382, 'mess': 1383, 'mostly': 1384, 'paying': 1385, 'realize': 1386, 'strong': 1387, 'tom': 1388, 'ty': 1389, 'walking': 1390, 'wall': 1391, '     ': 1392, 'added': 1393, 'amy': 1394, 'chill': 1395, 'cook': 1396, 'death': 1397, 'fabulous': 1398, 'freaking': 1399, 'joe': 1400, 'mmm': 1401, 'moved': 1402, 'roll': 1403, 'sale': 1404, 'showing': 1405, 'stress': 1406, '@amandapalmer': 1407, 'bike': 1408, 'block': 1409, 'boat': 1410, 'calls': 1411, 'count': 1412, 'cried': 1413, 'falling': 1414, 'hotel': 1415, 'issue': 1416, 'loss': 1417, 'media': 1418, 'notice': 1419, 'obviously': 1420, 'original': 1421, 'quote': 1422, 'spam': 1423, 'spanish': 1424, 'system': 1425, '\\xa0': 1426, '140': 1427, 'alive': 1428, 'b4': 1429, 'cancelled': 1430, 'cheer': 1431, 'color': 1432, 'cousin': 1433, 'credit': 1434, 'current': 1435, 'given': 1436, 'goodsex': 1437, 'harry': 1438, 'heyy': 1439, 'however': 1440, 'important': 1441, 'lakers': 1442, 'major': 1443, 'milk': 1444, 'mommy': 1445, 'personal': 1446, 'pro': 1447, 'slept': 1448, 'somehow': 1449, 'twittering': 1450, 'wrote': 1451, 'youu': 1452, ':|': 1453, 'admit': 1454, 'august': 1455, 'bbq': 1456, 'blood': 1457, 'bunch': 1458, 'depressing': 1459, 'difference': 1460, 'everybody': 1461, 'floor': 1462, 'garden': 1463, 'helped': 1464, 'known': 1465, 'lived': 1466, 'miles': 1467, 'nearly': 1468, 'officially': 1469, 'oops': 1470, 'questions': 1471, 'ring': 1472, 'san': 1473, 'sniff': 1474, 'sooooo': 1475, 'style': 1476, 'women': 1477, '3rd': 1478, 'abt': 1479, 'bc': 1480, 'brothers': 1481, 'buying': 1482, 'choose': 1483, 'clear': 1484, 'dat': 1485, 'five': 1486, 'hearing': 1487, 'load': 1488, 'midnight': 1489, 'north': 1490, 'pa': 1491, 'paris': 1492, 'peeps': 1493, 'plane': 1494, 'recently': 1495, 'relaxing': 1496, 'track': 1497, 'uni': 1498, 'yeh': 1499, 'yrs': 1500, 'aha': 1501, 'airport': 1502, 'appreciated': 1503, 'attention': 1504, 'ball': 1505, 'cell': 1506, 'daddy': 1507, 'england': 1508, 'fault': 1509, 'form': 1510, 'holy': 1511, 'lt': 1512, 'marsiscoming': 1513, 'mobile': 1514, 'mouth': 1515, 'pants': 1516, 'piece': 1517, 'pissed': 1518, 'positive': 1519, 'putting': 1520, 'ran': 1521, 'recommend': 1522, 'retweet': 1523, 'sam': 1524, 'shortstack': 1525, 'smh': 1526, 'stayed': 1527, 'strange': 1528, 'throat': 1529, 'travel': 1530, '@ashleyltmsyf': 1531, 'access': 1532, 'afford': 1533, 'barely': 1534, 'blackberry': 1535, 'certainly': 1536, 'closer': 1537, 'cost': 1538, 'dying': 1539, 'evil': 1540, 'fab': 1541, 'father': 1542, 'lack': 1543, 'learning': 1544, 'letting': 1545, 'limit': 1546, 'nooo': 1547, 'outta': 1548, 'plz': 1549, 'probs': 1550, 'remind': 1551, 'results': 1552, 'review': 1553, 'rip': 1554, 'status': 1555, 'sushi': 1556, 'taylor': 1557, 'topic': 1558, 'twitpic': 1559, 'umm': 1560, '@colorblindfish': 1561, 'advice': 1562, 'ben': 1563, 'blocked': 1564, 'code': 1565, \"don't\": 1566, 'europe': 1567, 'explain': 1568, 'helping': 1569, 'key': 1570, 'kisses': 1571, 'mr.': 1572, 'sum': 1573, 'tha': 1574, 'tough': 1575, 'trek': 1576, '@alyankovic': 1577, 'al': 1578, 'america': 1579, 'bread': 1580, 'connection': 1581, 'entire': 1582, 'fam': 1583, 'finding': 1584, 'flying': 1585, 'history': 1586, 'j': 1587, 'killing': 1588, 'links': 1589, 'lookin': 1590, 'machine': 1591, 'nervous': 1592, 'realized': 1593, 'response': 1594, 'rofl': 1595, 'tummy': 1596, 'twit': 1597, 'wishes': 1598, '18': 1599, '=d': 1600, 'across': 1601, 'address': 1602, 'ages': 1603, 'apps': 1604, 'badly': 1605, 'besides': 1606, 'bug': 1607, 'cali': 1608, 'complete': 1609, 'contest': 1610, 'disney': 1611, 'expect': 1612, 'feet': 1613, 'fire': 1614, 'france': 1615, 'hee': 1616, 'laundry': 1617, 'law': 1618, 'likely': 1619, 'planned': 1620, 'posts': 1621, 'pull': 1622, 'puppy': 1623, 'secret': 1624, 'several': 1625, 'swear': 1626, 'tooo': 1627, 'updated': 1628, 'wearing': 1629, 'weekends': 1630, 'yu': 1631, '@bobbyllew': 1632, 'ahaha': 1633, 'argh': 1634, 'bill': 1635, 'blast': 1636, 'burn': 1637, 'darn': 1638, 'drinks': 1639, 'feelin': 1640, 'jack': 1641, 'jon': 1642, 'joy': 1643, 'knowing': 1644, 'legs': 1645, 'mcfly': 1646, 'nose': 1647, 'quit': 1648, \"quot;i'm\": 1649, 'report': 1650, 'rough': 1651, 'schedule': 1652, 'signed': 1653, 'situation': 1654, 'slightly': 1655, 'soul': 1656, 'station': 1657, 'talented': 1658, 'teacher': 1659, '@anoopdoggdesai': 1660, '@bowwow614': 1661, 'camp': 1662, 'chick': 1663, 'crappy': 1664, 'daily': 1665, 'difficult': 1666, 'e3': 1667, 'famous': 1668, 'grand': 1669, 'heat': 1670, 'kate': 1671, 'killed': 1672, 'king': 1673, 'main': 1674, 'messages': 1675, 'million': 1676, 'mix': 1677, 'noooo': 1678, 'orange': 1679, 'performance': 1680, 'price': 1681, 'program': 1682, 'soup': 1683, 'stage': 1684, 'tears': 1685, 'tix': 1686, 'tons': 1687, 'traffic': 1688, 'yah': 1689, 'york': 1690, '........': 1691, '16': 1692, '4th': 1693, '@amanda_holden': 1694, '^^': 1695, 'acting': 1696, 'boss': 1697, 'brown': 1698, 'cable': 1699, 'chinese': 1700, 'chuck': 1701, 'darling': 1702, 'decide': 1703, 'depends': 1704, 'depressed': 1705, 'details': 1706, 'episodes': 1707, 'freakin': 1708, 'gig': 1709, 'grab': 1710, 'grow': 1711, 'imma': 1712, 'laughing': 1713, 'model': 1714, 'official': 1715, 'onto': 1716, 'proper': 1717, 'que': 1718, 'rob': 1719, 'row': 1720, 'server': 1721, 'session': 1722, 'someday': 1723, 'stories': 1724, 'studio': 1725, 'thankyou': 1726, 'thnx': 1727, 'wet': 1728, 'wishing': 1729, 'woot': 1730, '21': 1731, 'actual': 1732, 'apart': 1733, 'ash': 1734, 'atm': 1735, 'bank': 1736, 'bigger': 1737, 'bottle': 1738, 'brought': 1739, 'chillin': 1740, 'cleaning': 1741, 'conference': 1742, 'drama': 1743, 'dropped': 1744, 'ftw': 1745, 'goodbye': 1746, 'gunna': 1747, 'hella': 1748, 'jokes': 1749, 'learned': 1750, 'memory': 1751, 'odd': 1752, 'places': 1753, 'quickly': 1754, 'related': 1755, 'somebody': 1756, 'spread': 1757, 'tht': 1758, 'tip': 1759, 'tonite': 1760, 'trailer': 1761, 'truth': 1762, 'ugly': 1763, 'whenever': 1764, 'winter': 1765, '25': 1766, '@amandabynes': 1767, '@amber_benson': 1768, '@coldplay': 1769, 'bright': 1770, 'character': 1771, 'child': 1772, 'children': 1773, 'comp': 1774, 'contact': 1775, 'deleted': 1776, 'doctor': 1777, 'envy': 1778, 'fear': 1779, 'four': 1780, 'girlfriend': 1781, 'jam': 1782, 'loud': 1783, 'match': 1784, 'memories': 1785, 'names': 1786, 'nasty': 1787, 'practice': 1788, 'race': 1789, 'storm': 1790, 'teeth': 1791, 'third': 1792, 'tiny': 1793, 'written': 1794, '200': 1795, '3.0': 1796, 'ac': 1797, 'atl': 1798, 'avatar': 1799, 'bear': 1800, 'biggest': 1801, 'board': 1802, 'bottom': 1803, 'button': 1804, 'channel': 1805, 'danny': 1806, 'desk': 1807, 'excuse': 1808, 'florida': 1809, 'foot': 1810, 'gr8': 1811, 'hat': 1812, 'health': 1813, 'invited': 1814, 'island': 1815, 'lolz': 1816, 'mornin': 1817, 'mtv': 1818, 'noo': 1819, 'possibly': 1820, 'praying': 1821, 'present': 1822, 'princess': 1823, 'quot;if': 1824, 'replies': 1825, 'similar': 1826, 'sky': 1827, 'smell': 1828, 'social': 1829, 'speed': 1830, 'stream': 1831, 'sweetheart': 1832, 'v': 1833, 'wanting': 1834, 'weight': 1835, 'wud': 1836, 'yawn': 1837, '\\x85': 1838, \"'em\": 1839, ';d': 1840, '@coollike': 1841, 'animals': 1842, 'boston': 1843, 'breaking': 1844, 'build': 1845, 'curious': 1846, 'ears': 1847, 'fellow': 1848, 'focus': 1849, 'fully': 1850, 'hero': 1851, 'install': 1852, 'latest': 1853, 'leg': 1854, 'lord': 1855, 'mall': 1856, 'neck': 1857, 'os': 1858, 'points': 1859, 'quot;it': 1860, 'ryan': 1861, 'shaundiviney': 1862, 'size': 1863, 'speaking': 1864, 'swine': 1865, 'tan': 1866, 'tear': 1867, 'upgrade': 1868, 'waste': 1869, 'west': 1870, 'xxxx': 1871, '@chris_daughtry': 1872, 'above': 1873, 'action': 1874, 'ang': 1875, 'awwwww': 1876, \"can't\": 1877, 'community': 1878, 'ep': 1879, 'error': 1880, 'f': 1881, 'faith': 1882, 'folks': 1883, 'follower': 1884, 'goodness': 1885, 'graduation': 1886, 'heads': 1887, 'heck': 1888, 'holding': 1889, 'human': 1890, 'italy': 1891, 'level': 1892, 'library': 1893, 'lie': 1894, 'losing': 1895, 'managed': 1896, 'mothers': 1897, 'ordered': 1898, 'picked': 1899, 'player': 1900, 'plenty': 1901, 'private': 1902, 'reality': 1903, 'reminds': 1904, 'student': 1905, 'switch': 1906, 'thurs': 1907, 'tight': 1908, 'toronto': 1909, 'voted': 1910, 'waking': 1911, 'woohoo': 1912, 'workin': 1913, 'you&quot': 1914, '14': 1915, '@19fischi75': 1916, '@alexandramusic': 1917, '@britneyspears': 1918, 'arms': 1919, 'asap': 1920, 'asot400': 1921, 'awh': 1922, 'awhile': 1923, 'based': 1924, 'basically': 1925, 'beauty': 1926, 'beta': 1927, 'britney': 1928, 'correct': 1929, 'crashed': 1930, 'creative': 1931, 'dr': 1932, 'ed': 1933, 'ending': 1934, 'er': 1935, 'everytime': 1936, 'fancy': 1937, 'fuckin': 1938, 'handle': 1939, 'himself': 1940, 'holidays': 1941, \"i'll\": 1942, 'james': 1943, 'market': 1944, 'nerd': 1945, 'ooo': 1946, 'pet': 1947, 'potter': 1948, 'properly': 1949, 'released': 1950, 'rude': 1951, 'sayin': 1952, 'skin': 1953, 'steal': 1954, 'sux': 1955, 'talent': 1956, 'total': 1957, 'u.': 1958, 'xbox': 1959, '2009': 1960, '@_supernatural': 1961, '@adrienne_bailon': 1962, '@b_club': 1963, '@charlieskies': 1964, '@crystalchappell': 1965, 'ahhhh': 1966, 'an': 1967, 'anna': 1968, 'babies': 1969, 'california': 1970, 'charge': 1971, 'coast': 1972, 'control': 1973, 'crash': 1974, 'diet': 1975, 'dirty': 1976, 'dry': 1977, 'earth': 1978, 'east': 1979, 'eggs': 1980, 'fever': 1981, 'football': 1982, 'fruit': 1983, 'geek': 1984, 'german': 1985, 'gf': 1986, 'grey': 1987, 'honestly': 1988, 'jb': 1989, 'joined': 1990, 'kitchen': 1991, 'lesson': 1992, 'maths': 1993, 'meh': 1994, 'ooc': 1995, 'opinion': 1996, 'option': 1997, 'request': 1998, 'revision': 1999, 'rite': 2000, 'rule': 2001, 'saved': 2002, 'scene': 2003, 'surprise': 2004, 'sydney': 2005, 'teach': 2006, 'topics': 2007, 'training': 2008, 'treat': 2009, 'tryin': 2010, 'tweeps': 2011, 'writer': 2012, 'yeahh': 2013, '13': 2014, ':-p': 2015, '@anz_rocks19': 2016, '@comedyqueen': 2017, 'andrew': 2018, 'blah': 2019, 'bts': 2020, 'cancer': 2021, 'challenge': 2022, 'classic': 2023, 'considering': 2024, 'continue': 2025, 'crossed': 2026, 'decent': 2027, 'empty': 2028, 'esp': 2029, 'expected': 2030, 'flowers': 2031, 'glass': 2032, 'gross': 2033, 'grr': 2034, 'guessing': 2035, 'healthy': 2036, 'heavy': 2037, 'ii': 2038, 'included': 2039, 'iran': 2040, 'jeans': 2041, 'marketing': 2042, 'me&quot': 2043, 'mentioned': 2044, 'moms': 2045, 'naked': 2046, 'ontd': 2047, 'p.s': 2048, 'pray': 2049, 'pressure': 2050, 'recommendation': 2051, 'regular': 2052, 'relax': 2053, 'runs': 2054, 'saving': 2055, 'seats': 2056, 'smiles': 2057, 'snow': 2058, 'starbucks': 2059, 'texas': 2060, 'vids': 2061, 'virtual': 2062, 'visiting': 2063, 'voting': 2064, 'vs': 2065, '80': 2066, '90': 2067, '=(': 2068, '@b50': 2069, '@crunchyk': 2070, '\\\\': 2071, 'aim': 2072, 'amanda': 2073, 'arrived': 2074, 'billy': 2075, 'bird': 2076, 'blonde': 2077, 'blow': 2078, 'boom': 2079, 'bunny': 2080, 'certain': 2081, 'cooking': 2082, 'craving': 2083, 'create': 2084, 'customer': 2085, 'emails': 2086, 'events': 2087, 'exist': 2088, 'gah': 2089, 'gold': 2090, 'grandma': 2091, 'hahahah': 2092, 'helpful': 2093, 'hills': 2094, 'hon': 2095, 'hook': 2096, 'impressed': 2097, 'ireland': 2098, 'jobs': 2099, 'mi': 2100, 'michael': 2101, 'mike': 2102, 'mini': 2103, 'nightmare': 2104, 'nuts': 2105, 'pack': 2106, 'packing': 2107, 'picking': 2108, 'quality': 2109, 'recording': 2110, 'result': 2111, 'rules': 2112, 'shift': 2113, 'singapore': 2114, 'smiling': 2115, 'stars': 2116, 'sucked': 2117, 'ten': 2118, 'tis': 2119, 'watchin': 2120, 'wave': 2121, 'whose': 2122, 'wicked': 2123, \"y'\": 2124, 'yellow': 2125, '19': 2126, '2morrow': 2127, '40': 2128, '@comeagainjen': 2129, 'anybody': 2130, 'arm': 2131, 'aswell': 2132, 'bob': 2133, 'booo': 2134, 'cam': 2135, 'cavs': 2136, 'changes': 2137, 'chelsea': 2138, 'clue': 2139, 'confusing': 2140, 'dan': 2141, 'doll': 2142, 'effect': 2143, 'f1': 2144, 'feelings': 2145, 'fi': 2146, 'flat': 2147, 'fo': 2148, 'friendly': 2149, 'growing': 2150, 'headed': 2151, 'knee': 2152, 'manage': 2153, 'ms': 2154, 'msg': 2155, 'naw': 2156, 'notes': 2157, 'opening': 2158, 'process': 2159, 'rid': 2160, 'se': 2161, 'seattle': 2162, 'skype': 2163, 'spelling': 2164, 'spending': 2165, 'table': 2166, 'texts': 2167, 'trick': 2168, 'tweetie': 2169, 'txt': 2170, 'ways': 2171, 'wen': 2172, 'within': 2173, \"ya'll\": 2174, '3d': 2175, ':]': 2176, '@boy_kill_boy': 2177, 'accident': 2178, 'ad': 2179, 'bay': 2180, 'brazil': 2181, 'butt': 2182, 'cards': 2183, 'careful': 2184, 'cash': 2185, 'clearly': 2186, 'clever': 2187, 'consider': 2188, 'conversation': 2189, 'cross': 2190, 'dates': 2191, 'doc': 2192, 'drag': 2193, 'ear': 2194, 'ends': 2195, 'energy': 2196, 'enter': 2197, 'fill': 2198, 'forum': 2199, 'fucked': 2200, \"g'night\": 2201, 'glasses': 2202, 'happiness': 2203, 'hardly': 2204, 'highly': 2205, 'hitting': 2206, 'hurry': 2207, 'inspiration': 2208, 'involved': 2209, 'jump': 2210, 'lines': 2211, 'literally': 2212, 'mexican': 2213, 'mistake': 2214, 'net': 2215, 'nom': 2216, 'older': 2217, 'per': 2218, 'philly': 2219, 'pie': 2220, 'prayers': 2221, 'queen': 2222, 'science': 2223, 'screwed': 2224, 'sea': 2225, 'signing': 2226, 'sings': 2227, 'success': 2228, 'tech': 2229, 'testing': 2230, 'ummm': 2231, 'universe': 2232, 'useful': 2233, 'ð': 2234, '//': 2235, ';-': 2236, '@agent_m': 2237, '@amysav83': 2238, '@csi_printchick': 2239, 'ace': 2240, 'ali': 2241, 'ashton': 2242, 'becoming': 2243, 'beginning': 2244, 'bff': 2245, 'bing': 2246, 'bits': 2247, 'bradie': 2248, 'butter': 2249, 'characters': 2250, 'connect': 2251, 'demi': 2252, 'di': 2253, 'faster': 2254, 'flylady': 2255, 'guilty': 2256, 'hahahahaha': 2257, 'hd': 2258, 'hm': 2259, 'honest': 2260, 'impossible': 2261, 'ish': 2262, 'japan': 2263, 'kevin': 2264, 'keyboard': 2265, 'ko': 2266, 'lay': 2267, 'll': 2268, 'marathon': 2269, 'nowhere': 2270, 'painful': 2271, 'poo': 2272, 'purple': 2273, 'quot;no': 2274, 'reach': 2275, 'received': 2276, 'ruin': 2277, 'ruined': 2278, 'score': 2279, 'seat': 2280, 'sighs': 2281, 'somethin': 2282, 'sorted': 2283, 'spirit': 2284, 'standing': 2285, 'states': 2286, 'stoked': 2287, 'surgery': 2288, 'susan': 2289, 'thunder': 2290, 'toy': 2291, 'tune': 2292, 'yikes': 2293, \"you're\": 2294, \"''\": 2295, \"'cause\": 2296, '0': 2297, '@1critic': 2298, '@aceybongos': 2299, '@adammshankman': 2300, '@blokeslib': 2301, '@brodyjenner': 2302, 'adding': 2303, 'alan': 2304, 'annoyed': 2305, 'apartment': 2306, 'atleast': 2307, 'attack': 2308, 'attempt': 2309, 'baseball': 2310, 'battery': 2311, 'bio': 2312, 'center': 2313, 'changing': 2314, 'common': 2315, 'content': 2316, 'crashing': 2317, 'data': 2318, 'delayed': 2319, 'delete': 2320, 'deserved': 2321, 'dun': 2322, 'easily': 2323, 'entertaining': 2324, 'finger': 2325, 'flash': 2326, 'freak': 2327, 'general': 2328, 'hangover': 2329, 'hannah': 2330, 'jerk': 2331, 'jess': 2332, 'land': 2333, 'listened': 2334, 'math': 2335, 'meaning': 2336, 'miami': 2337, 'misses': 2338, 'mmmm': 2339, 'mode': 2340, 'nicely': 2341, 'owe': 2342, 'pages': 2343, 'pair': 2344, 'pity': 2345, 'porn': 2346, 'reckon': 2347, 'seconds': 2348, 'sf': 2349, 'shiny': 2350, 'shitty': 2351, 'sisters': 2352, 'slowly': 2353, 'spell': 2354, 'sry': 2355, 'steve': 2356, 'swimming': 2357, 'tattoo': 2358, 'threw': 2359, 'truly': 2360, 'twitters': 2361, 'typing': 2362, 'usa': 2363, 'walked': 2364, 'war': 2365, 'waves': 2366, 'wee': 2367, '22': 2368, '@1sweetwhirl': 2369, '@4everbrandy': 2370, '@aianna21': 2371, '@ak618': 2372, '@ali_sweeney': 2373, '@amazingphoebe': 2374, '@applecored': 2375, '@beverleyknight': 2376, 'angry': 2377, 'bah': 2378, 'bbc': 2379, 'beyond': 2380, 'blessed': 2381, 'born': 2382, 'brand': 2383, 'breaks': 2384, 'brian': 2385, 'candy': 2386, 'cars': 2387, 'catching': 2388, 'clip': 2389, 'cloudy': 2390, 'comic': 2391, 'comin': 2392, 'conan': 2393, 'crew': 2394, 'dating': 2395, 'dig': 2396, 'diversity': 2397, 'dollars': 2398, 'ex': 2399, 'exhausted': 2400, 'field': 2401, 'follows': 2402, 'further': 2403, 'grade': 2404, 'hill': 2405, 'hint': 2406, 'hole': 2407, 'ignore': 2408, 'interest': 2409, 'itself': 2410, 'jimmy': 2411, 'leaves': 2412, 'log': 2413, 'macbook': 2414, 'mental': 2415, 'messed': 2416, 'named': 2417, 'oil': 2418, 'personally': 2419, 'plug': 2420, 'podcast': 2421, 'poem': 2422, 'popular': 2423, 'press': 2424, 'reasons': 2425, 'replying': 2426, 'respond': 2427, 'section': 2428, 'september': 2429, 'settings': 2430, 'shake': 2431, 'shoulda': 2432, 'sms': 2433, 'snap': 2434, 'software': 2435, 'spymaster': 2436, 'stock': 2437, 'sugar': 2438, 'suggestion': 2439, 'surprised': 2440, 'tmrw': 2441, 'truck': 2442, 'typical': 2443, 'un': 2444, 'updating': 2445, 'wash': 2446, 'wii': 2447, 'ï¿½': 2448, '---': 2449, '@brianmcnugget': 2450, '@calvinharris': 2451, '@crazytwism': 2452, 'addicted': 2453, 'alcohol': 2454, 'amen': 2455, 'angel': 2456, 'animal': 2457, 'april': 2458, 'aye': 2459, 'bt': 2460, 'charlie': 2461, 'competition': 2462, 'concerts': 2463, 'couch': 2464, 'crack': 2465, 'dave': 2466, 'dis': 2467, 'effort': 2468, 'eventually': 2469, 'ew': 2470, 'example': 2471, 'feedback': 2472, 'file': 2473, 'firefox': 2474, 'fri': 2475, 'gb': 2476, 'girlie': 2477, 'golf': 2478, 'grass': 2479, 'hahaa': 2480, 'harder': 2481, 'heaven': 2482, 'homie': 2483, 'hv': 2484, 'image': 2485, 'jersey': 2486, 'launch': 2487, 'lead': 2488, 'luckily': 2489, 'lying': 2490, 'meat': 2491, 'musical': 2492, 'nooooo': 2493, 'numbers': 2494, 'orlando': 2495, 'paul': 2496, 'pub': 2497, 'pure': 2498, 'repeat': 2499, 'sarah': 2500, 'sauce': 2501, 'seb': 2502, 'selling': 2503, 'ship': 2504, 'si': 2505, 'simply': 2506, 'six': 2507, 'smoke': 2508, 'soccer': 2509, 'spare': 2510, 'sports': 2511, 'stole': 2512, 'sway': 2513, 'swim': 2514, 'tag': 2515, 'thai': 2516, 'title': 2517, 'ups': 2518, 'wings': 2519, 'xp': 2520, 'yer': 2521, '{': 2522, '60': 2523, '@aka55': 2524, '@architeuth1s': 2525, '@chriscornell': 2526, 'alas': 2527, 'allergies': 2528, 'alyssa': 2529, 'artist': 2530, 'attend': 2531, 'babes': 2532, 'banana': 2533, 'bath': 2534, 'bitches': 2535, 'british': 2536, 'client': 2537, 'clouds': 2538, 'collection': 2539, 'covered': 2540, 'cries': 2541, 'crowd': 2542, 'dads': 2543, 'decision': 2544, 'fashion': 2545, 'feature': 2546, 'fighting': 2547, 'grown': 2548, 'hence': 2549, 'heyyy': 2550, 'hoo': 2551, 'hurting': 2552, 'idol': 2553, 'il': 2554, 'juice': 2555, 'lang': 2556, 'language': 2557, 'lights': 2558, 'loser': 2559, 'lt;--': 2560, 'max': 2561, 'mee': 2562, 'microsoft': 2563, 'national': 2564, 'nxt': 2565, 'ohhhh': 2566, 'oooo': 2567, 'ours': 2568, 'painting': 2569, 'previous': 2570, 'quot;how': 2571, 'quot;we': 2572, 'rich': 2573, 'salad': 2574, 'shirts': 2575, 'shots': 2576, 'showed': 2577, 'sites': 2578, 'sooner': 2579, 'sounded': 2580, 'spring': 2581, 'suggest': 2582, 'tax': 2583, 'teh': 2584, 'texting': 2585, 'thats': 2586, 'uncle': 2587, 'unfollow': 2588, 'url': 2589, 'wars': 2590, '}': 2591, '      ': 2592, '1000': 2593, '17': 2594, '2010': 2595, '30secondstomars': 2596, '45': 2597, '5th': 2598, ':-d': 2599, '@aaroncarter7': 2600, '@amazingphil': 2601, '@andrewdearling': 2602, '@crucifire': 2603, 'accept': 2604, 'andyclemmensen': 2605, 'appear': 2606, 'apply': 2607, 'apt': 2608, 'balls': 2609, 'belly': 2610, 'bite': 2611, 'boots': 2612, 'bother': 2613, 'building': 2614, 'chips': 2615, 'christmas': 2616, 'con': 2617, 'corner': 2618, 'dammit': 2619, 'dare': 2620, 'dentist': 2621, 'dont': 2622, 'dope': 2623, 'downloaded': 2624, 'drawing': 2625, 'duh': 2626, 'ebay': 2627, 'essay': 2628, 'festival': 2629, 'files': 2630, 'filled': 2631, 'geez': 2632, 'genius': 2633, 'hawaii': 2634, 'hollywood': 2635, 'houston': 2636, 'hung': 2637, 'including': 2638, 'incredible': 2639, 'information': 2640, 'international': 2641, 'items': 2642, 'jesus': 2643, 'joining': 2644, 'joking': 2645, 'ka': 2646, 'knowledge': 2647, 'large': 2648, 'love&quot': 2649, 'massive': 2650, 'melbourne': 2651, 'member': 2652, 'minds': 2653, 'miserable': 2654, 'mms': 2655, 'mondays': 2656, 'mrs': 2657, 'mw2': 2658, 'nd': 2659, 'normally': 2660, 'nothin': 2661, 'obama': 2662, 'offline': 2663, 'ooooh': 2664, 'outfit': 2665, 'ow': 2666, 'period': 2667, 'phones': 2668, 'photography': 2669, 'plays': 2670, 'poster': 2671, 'preview': 2672, 'purchase': 2673, 'push': 2674, 'quot;': 2675, 'quot;and': 2676, 'rate': 2677, 'regret': 2678, 'respect': 2679, 'rice': 2680, 'ridiculous': 2681, 'sandwich': 2682, 'shoulder': 2683, 'singer': 2684, 'spain': 2685, 'talkin': 2686, 'thin': 2687, 'thinkin': 2688, 'tool': 2689, 'trade': 2690, 'turning': 2691, 'useless': 2692, 'wa': 2693, 'whilst': 2694, 'wut': 2695, 'yess': 2696, '..........': 2697, '3turnoffwords': 2698, '@1omarion': 2699, '@_hayles': 2700, '@androidtomato': 2701, '@billbeckett': 2702, '@chelsea_playboy': 2703, '@chiniehdiaz': 2704, 'aaron': 2705, 'ache': 2706, 'alarm': 2707, 'allow': 2708, 'answering': 2709, 'asian': 2710, 'audio': 2711, 'bacon': 2712, 'bands': 2713, 'blink': 2714, 'blip': 2715, 'blogs': 2716, 'bones': 2717, 'breathe': 2718, 'brings': 2719, 'calm': 2720, 'cancel': 2721, 'ch': 2722, 'chatting': 2723, 'cheaper': 2724, 'chesterday': 2725, 'clock': 2726, 'complain': 2727, 'creepy': 2728, 'crush': 2729, 'cupcakes': 2730, 'cyrus': 2731, 'dallas': 2732, 'diego': 2733, 'dislike': 2734, 'dj': 2735, 'excitement': 2736, 'exercise': 2737, 'fox': 2738, 'gas': 2739, 'greatest': 2740, 'heaps': 2741, 'hmmmm': 2742, 'hr': 2743, 'humor': 2744, 'insane': 2745, 'insurance': 2746, 'italian': 2747, 'japanese': 2748, 'killer': 2749, 'knock': 2750, 'kris': 2751, 'lake': 2752, 'laughed': 2753, 'le': 2754, 'legal': 2755, 'lemme': 2756, 'letter': 2757, 'longest': 2758, 'loose': 2759, 'matt': 2760, 'network': 2761, 'nigga': 2762, 'opera': 2763, 'options': 2764, 'paint': 2765, 'particular': 2766, 'parties': 2767, 'pens': 2768, 'philippines': 2769, 'productive': 2770, 'products': 2771, 'progress': 2772, 'prolly': 2773, 'quot;up&quot': 2774, 'recipe': 2775, 'riding': 2776, 'seemed': 2777, 'skills': 2778, 'solution': 2779, 'steak': 2780, 'stressed': 2781, 'tend': 2782, 'term': 2783, 'th': 2784, 'theme': 2785, 'toast': 2786, 'tony': 2787, 'toooo': 2788, 'tree': 2789, 'tues': 2790, 'tunes': 2791, 'users': 2792, 'w/o': 2793, 'weak': 2794, 'whoa': 2795, 'wide': 2796, 'wild': 2797, 'wins': 2798, 'youuu': 2799, '-&gt': 2800, '1/2': 2801, '2nite': 2802, '3hotwords': 2803, '@30stmluva': 2804, '@andyroddick': 2805, '@aussiemcflyfan': 2806, '@bobbyedner': 2807, '@boyislost': 2808, 'accent': 2809, 'ahah': 2810, 'amount': 2811, 'award': 2812, 'awkward': 2813, 'awsome': 2814, 'begin': 2815, 'bella': 2816, 'bills': 2817, 'birds': 2818, 'blows': 2819, 'breath': 2820, 'celebrate': 2821, 'chip': 2822, 'cinema': 2823, 'cooked': 2824, 'devil': 2825, 'dick': 2826, 'din': 2827, 'disappeared': 2828, 'dressed': 2829, 'driver': 2830, 'emo': 2831, 'en': 2832, 'finishing': 2833, 'george': 2834, 'grrr': 2835, 'gud': 2836, 'hated': 2837, 'hide': 2838, 'higher': 2839, 'hiya': 2840, 'ho': 2841, 'holly': 2842, 'idiot': 2843, 'ikr': 2844, 'iv': 2845, 'jacket': 2846, 'jake': 2847, 'jim': 2848, 'kicked': 2849, 'liking': 2850, 'location': 2851, 'logo': 2852, 'lt;333': 2853, 'magazine': 2854, 'male': 2855, 'mexico': 2856, 'mia': 2857, 'mon': 2858, 'nails': 2859, 'nevermind': 2860, 'nicer': 2861, 'noise': 2862, 'nor': 2863, 'noundiessunday': 2864, 'obsessed': 2865, 'oo': 2866, 'packed': 2867, 'passing': 2868, 'patience': 2869, 'pets': 2870, 'players': 2871, 'pleased': 2872, 'presentation': 2873, 'punch': 2874, 'puts': 2875, 'quot;he': 2876, 'quot;my': 2877, 'quot;oh': 2878, 'quot;so': 2879, 'quot;there': 2880, 'quot;what': 2881, 'ray': 2882, 'reference': 2883, 'role': 2884, 'rubbish': 2885, 'settle': 2886, 'st': 2887, 'stores': 2888, 'storms': 2889, 'suit': 2890, 'tennis': 2891, 'tips': 2892, 'tryna': 2893, 'twin': 2894, 'uses': 2895, 'wah': 2896, 'walls': 2897, 'whatsmysection': 2898, 'whether': 2899, 'wht': 2900, 'wooo': 2901, ':-/': 2902, '@5tosucceed': 2903, '@_j_a_m_e_s': 2904, '@alandavies1': 2905, '@aloliver': 2906, '@amieewhitney': 2907, '@ashsimpsonwentz': 2908, '@aussiecynic': 2909, '@azlen': 2910, '@butadream': 2911, '@buzzedition': 2912, '@chrishasboobs': 2913, 'anniversary': 2914, 'atlanta': 2915, 'aunt': 2916, 'aussie': 2917, 'avoid': 2918, 'az': 2919, 'beans': 2920, 'bee': 2921, 'bell': 2922, 'berlin': 2923, 'beth': 2924, 'brad': 2925, 'built': 2926, 'bull': 2927, 'burnt': 2928, 'cafe': 2929, 'camping': 2930, 'cares': 2931, 'celebrating': 2932, 'chest': 2933, 'chi': 2934, 'colour': 2935, 'cont': 2936, 'convince': 2937, 'counting': 2938, 'cousins': 2939, 'coverage': 2940, 'day&quot': 2941, 'dd': 2942, 'dean': 2943, 'degrees': 2944, 'demand': 2945, 'dies': 2946, 'disappointing': 2947, 'doctors': 2948, 'downloading': 2949, 'drove': 2950, 'dull': 2951, 'extremely': 2952, 'eyed': 2953, 'fed': 2954, 'finale': 2955, 'fl': 2956, 'flickr': 2957, 'force': 2958, 'frm': 2959, 'grad': 2960, 'gt;.&lt': 2961, 'hai': 2962, 'hashtag': 2963, 'havin': 2964, 'horny': 2965, 'host': 2966, 'i.': 2967, 'images': 2968, 'judge': 2969, 'katie': 2970, 'kicking': 2971, 'kings': 2972, 'medicine': 2973, 'museum': 2974, 'naughty': 2975, 'ng': 2976, 'nowadays': 2977, 'palm': 2978, 'panic': 2979, 'papers': 2980, 'parking': 2981, 'peanut': 2982, 'pocket': 2983, 'police': 2984, 'precious': 2985, 'ps3': 2986, 'quot;this': 2987, 'range': 2988, 'realise': 2989, 'reminded': 2990, 'removed': 2991, 'restaurant': 2992, 'retarded': 2993, 'revise': 2994, 'robert': 2995, 'sadness': 2996, 'sorta': 2997, 'tape': 2998, 'tastes': 2999, 'tells': 3000, 'tempted': 3001, 'tests': 3002, 'timing': 3003, 'toilet': 3004, 'tooth': 3005, 'tweetup': 3006, 'wind': 3007, 'winning': 3008, 'wise': 3009, 'wished': 3010, 'wondered': 3011, 'workout': 3012, 'ye': 3013, '.........': 3014, '/me': 3015, '18th': 3016, '@1045chumfm': 3017, '@aileen2u2': 3018, '@alauderdale': 3019, '@alohaarleen': 3020, '@amalinaaa': 3021, '@ammarvellous': 3022, '@ankita_gaba': 3023, '@archuphils': 3024, '@ariaajaeger': 3025, '@astynes': 3026, '@atebits': 3027, '@ceggs': 3028, 'ako': 3029, 'angela': 3030, 'answers': 3031, 'arrive': 3032, 'assignment': 3033, 'burning': 3034, 'career': 3035, 'computers': 3036, 'contacts': 3037, 'convo': 3038, 'cooler': 3039, 'cruel': 3040, 'crystal': 3041, 'cutting': 3042, 'deck': 3043, 'definately': 3044, 'detroit': 3045, 'drops': 3046, 'el': 3047, 'emailed': 3048, 'entry': 3049, 'escape': 3050, 'eu': 3051, 'female': 3052, 'fest': 3053, 'goal': 3054, 'gona': 3055, 'grace': 3056, 'grew': 3057, 'ground': 3058, 'guest': 3059, 'gurl': 3060, 'heels': 3061, 'ie': 3062, 'ignoring': 3063, 'ja': 3064, 'kay': 3065, 'kool': 3066, 'lauren': 3067, 'lightning': 3068, 'lt;---': 3069, 'lyrics': 3070, 'mass': 3071, 'meal': 3072, 'monster': 3073, 'nc': 3074, \"ol'\": 3075, 'omfg': 3076, 'opportunity': 3077, 'pancakes': 3078, 'partying': 3079, 'perfectly': 3080, 'phoenix': 3081, 'pieces': 3082, 'position': 3083, 'prayer': 3084, 'promote': 3085, 'pushing': 3086, 'quiz': 3087, \"quot;don't\": 3088, 'quot;hey': 3089, 'quot;your': 3090, 'rains': 3091, 'realised': 3092, 'receive': 3093, 'recent': 3094, 'referring': 3095, 'relationship': 3096, 'reminding': 3097, 'rent': 3098, 'rise': 3099, 'rockin': 3100, 'rose': 3101, 'rub': 3102, 'sales': 3103, 'sd': 3104, 'searching': 3105, 'shaun': 3106, 'shooting': 3107, 'smiley': 3108, 'soft': 3109, 'soooooo': 3110, 'spoke': 3111, 'square': 3112, 'srry': 3113, 'stalk': 3114, 'stalking': 3115, 'strawberry': 3116, 'students': 3117, 'survive': 3118, 'suspect': 3119, 'sweets': 3120, 'te': 3121, 'teaching': 3122, 'terminator': 3123, 'texted': 3124, 'theatre': 3125, 'themselves': 3126, 'tiger': 3127, 'trend': 3128, 'uploaded': 3129, 'upon': 3130, 'ure': 3131, 'van': 3132, 'venue': 3133, 'warning': 3134, 'washing': 3135, 'wasted': 3136, 'whore': 3137, 'winner': 3138, 'wisdom': 3139, 'yawns': 3140, 'yesss': 3141, '|': 3142, 'ñ': 3143, '09': 3144, '11th': 3145, '23': 3146, '3gs': 3147, '8th': 3148, '@_corruptedangel': 3149, '@acemas21': 3150, '@akelaa': 3151, '@andysowards': 3152, '@anime81': 3153, '@babblingbrookie': 3154, '@banksyart2': 3155, '@cadistra': 3156, '@calebftsk': 3157, '@carole29': 3158, '@chrisbrogan': 3159, '@coldhearted19': 3160, 'according': 3161, 'accounts': 3162, 'actress': 3163, 'artists': 3164, 'attitude': 3165, 'bathroom': 3166, 'beating': 3167, 'beats': 3168, 'bedtime': 3169, 'belong': 3170, 'bobby': 3171, 'booked': 3172, 'bothered': 3173, 'boxes': 3174, 'bringing': 3175, 'bs': 3176, 'bugs': 3177, 'burned': 3178, 'cant': 3179, 'cast': 3180, 'china': 3181, 'clients': 3182, 'colors': 3183, 'comfort': 3184, 'contract': 3185, 'cookie': 3186, 'costs': 3187, 'cricket': 3188, 'culture': 3189, 'dam': 3190, 'discuss': 3191, 'drank': 3192, 'drew': 3193, 'emily': 3194, 'erm': 3195, 'es': 3196, 'exact': 3197, 'failing': 3198, 'failure': 3199, 'films': 3200, 'forgotten': 3201, 'funniest': 3202, 'girly': 3203, 'greetings': 3204, 'handed': 3205, 'havnt': 3206, 'hola': 3207, 'inspiring': 3208, 'jay': 3209, 'jeff': 3210, 'jst': 3211, 'kelly': 3212, 'keys': 3213, 'kim': 3214, 'layout': 3215, 'lemon': 3216, 'license': 3217, 'lo': 3218, 'mary': 3219, 'massage': 3220, 'meds': 3221, 'members': 3222, 'metal': 3223, 'mid': 3224, 'mines': 3225, 'motivation': 3226, 'mountain': 3227, 'mouse': 3228, 'multi': 3229, 'naman': 3230, 'nature': 3231, 'negative': 3232, 'o.o': 3233, 'o_o': 3234, 'ocean': 3235, 'october': 3236, 'offended': 3237, 'package': 3238, 'parade': 3239, 'passes': 3240, 'perform': 3241, 'pillow': 3242, 'pit': 3243, 'pix': 3244, 'product': 3245, 'professional': 3246, 'props': 3247, 'rare': 3248, 'relate': 3249, 'remembered': 3250, 'reminder': 3251, 'replace': 3252, 'resist': 3253, 'sausages': 3254, 'screaming': 3255, 'seasons': 3256, 'setting': 3257, 'shape': 3258, 'shorter': 3259, 'shortly': 3260, 'shoutout': 3261, 'silver': 3262, 'slice': 3263, 'smoking': 3264, 'sneak': 3265, 'soda': 3266, 'split': 3267, 'spoilers': 3268, 'srsly': 3269, 'st.': 3270, 'subject': 3271, 'suggestions': 3272, 'surely': 3273, 'swollen': 3274, 'technology': 3275, 'thee': 3276, 'thingy': 3277, 'throwing': 3278, 'tu': 3279, 'tumblr': 3280, 'unfortunate': 3281, 'user': 3282, 'vodka': 3283, 'woah': 3284, 'yahoo': 3285, 'younger': 3286, 'zero': 3287, '16th': 3288, '27': 3289, '300': 3290, '@16_mileycyrus': 3291, '@__mares': 3292, '@_flik': 3293, '@aalaap': 3294, '@ambercadabra': 3295, '@amykate': 3296, '@amyyvee': 3297, '@aulia': 3298, '@bass': 3299, '@cazp09': 3300, '@cookiedorksx3': 3301, '@jonasbrothers': 3302, 'accepted': 3303, 'actor': 3304, 'adore': 3305, 'ahahaha': 3306, 'aka': 3307, 'alice': 3308, 'allergic': 3309, 'amber': 3310, 'andrea': 3311, 'application': 3312, 'assume': 3313, 'at&amp;t': 3314, 'backup': 3315, 'basketball': 3316, 'blank': 3317, 'blew': 3318, 'borrow': 3319, 'bucks': 3320, \"c'mon\": 3321, 'canceled': 3322, 'celeb': 3323, 'cha': 3324, 'chair': 3325, 'cnt': 3326, 'co': 3327, 'coke': 3328, 'combination': 3329, 'combo': 3330, 'considered': 3331, 'craig': 3332, 'curse': 3333, 'customers': 3334, 'delivery': 3335, 'desktop': 3336, 'diff': 3337, 'downtown': 3338, 'draw': 3339, 'edit': 3340, 'edward': 3341, 'exchange': 3342, 'expecting': 3343, 'fails': 3344, 'flower': 3345, 'fool': 3346, 'freezing': 3347, 'frozen': 3348, 'garage': 3349, 'gd': 3350, 'gear': 3351, 'golden': 3352, 'haircut': 3353, 'hearts': 3354, 'held': 3355, 'herself': 3356, 'hits': 3357, 'hockey': 3358, 'hoped': 3359, 'hopes': 3360, 'hoppusday': 3361, 'impressive': 3362, 'ing': 3363, 'interviews': 3364, 'irish': 3365, 'jackson': 3366, 'jet': 3367, 'journey': 3368, 'laughs': 3369, 'laying': 3370, 'lessons': 3371, 'lisa': 3372, 'looove': 3373, 'lover': 3374, 'lovin': 3375, 'mag': 3376, 'mainly': 3377, 'mel': 3378, 'minus': 3379, 'mixed': 3380, 'mm': 3381, 'moments': 3382, 'momma': 3383, 'montreal': 3384, 'nicole': 3385, 'nokia': 3386, 'oi': 3387, 'oz': 3388, 'paramore': 3389, 'parts': 3390, 'passion': 3391, 'photoshop': 3392, 'piano': 3393, 'plain': 3394, 'poop': 3395, 'pork': 3396, 'pouring': 3397, 'prepare': 3398, 'prom': 3399, 'promised': 3400, 'pulled': 3401, 'q': 3402, 'quot;when': 3403, 'recovery': 3404, 'remix': 3405, 'romantic': 3406, 'rt': 3407, 'scotland': 3408, 'screw': 3409, 'semi': 3410, 'services': 3411, 'shine': 3412, 'sho': 3413, 'signal': 3414, 'skool': 3415, 'society': 3416, 'source': 3417, 'stack': 3418, 'stalker': 3419, 'sunburn': 3420, 'tad': 3421, 'tease': 3422, 'theory': 3423, 'therapy': 3424, 'thou': 3425, 'thread': 3426, 'thumbs': 3427, 'tomorow': 3428, 'towards': 3429, 'treating': 3430, 'tsk': 3431, 'twits': 3432, \"u're\": 3433, 'username': 3434, 'wifi': 3435, 'www.iamsoannoyed.com': 3436, 'xox': 3437, 'yard': 3438, 'yur': 3439, 'z': 3440, 'zealand': 3441, 'zone': 3442, '¦': 3443, 'ð½ð': 3444, '):': 3445, '-_-': 3446, '3wordsaftersex': 3447, '9th': 3448, \":')\": 3449, ':*': 3450, '@1indienation': 3451, '@abacab1975': 3452, '@agingbackwards': 3453, '@ahj': 3454, '@alittlebit': 3455, '@allthatglitrs21': 3456, '@americanwomannn': 3457, '@amiemccarron': 3458, '@anaggh': 3459, '@arsenalsarah': 3460, '@artfanatic411': 3461, '@avalanchelynn': 3462, '@banksyart': 3463, '@basantam': 3464, '@beckybuckwild': 3465, '@bimbler': 3466, '@bobbythomas1': 3467, '@boogaloo1': 3468, '@brentspiner': 3469, '@caldjr': 3470, '@caseysevenfold': 3471, '@chesterbe': 3472, '@courtneysit': 3473, '@crusaderz4life': 3474, 'ads': 3475, 'afterwards': 3476, 'aj': 3477, 'alike': 3478, 'allison': 3479, 'andyhurleyday': 3480, 'ankle': 3481, 'ann': 3482, 'anne': 3483, 'answered': 3484, 'appears': 3485, 'ashamed': 3486, 'awwwwww': 3487, 'bags': 3488, 'bang': 3489, 'bass': 3490, 'beers': 3491, 'below': 3492, 'bk': 3493, 'boyle': 3494, 'brandon': 3495, 'browser': 3496, 'bud': 3497, 'budget': 3498, 'burger': 3499, 'central': 3500, 'charging': 3501, 'cherry': 3502, 'compare': 3503, 'cruise': 3504, 'damage': 3505, 'dealing': 3506, 'despite': 3507, 'donuts': 3508, 'dork': 3509, 'dr.': 3510, 'dutch': 3511, 'eachother': 3512, 'edge': 3513, 'editing': 3514, 'eric': 3515, 'et': 3516, 'everyones': 3517, 'followin': 3518, 'frustrating': 3519, 'gee': 3520, 'gonna': 3521, 'goodluck': 3522, 'goodmorning': 3523, 'goood': 3524, 'gotcha': 3525, 'graduate': 3526, 'gun': 3527, 'h': 3528, 'haters': 3529, 'hay': 3530, 'headphones': 3531, 'heroes': 3532, 'hiding': 3533, 'hood': 3534, 'hooked': 3535, \"i've\": 3536, 'icecream': 3537, 'improve': 3538, 'india': 3539, 'infection': 3540, 'instant': 3541, 'jeez': 3542, 'josh': 3543, 'knw': 3544, 'kobe': 3545, 'levels': 3546, 'linux': 3547, 'lips': 3548, 'lt;&lt': 3549, 'lt;----': 3550, 'manager': 3551, 'manila': 3552, 'map': 3553, 'matters': 3554, 'messing': 3555, 'metro': 3556, 'mission': 3557, 'mornings': 3558, 'ne': 3559, 'noes': 3560, 'np': 3561, 'ourselves': 3562, 'pen': 3563, 'peter': 3564, 'pg': 3565, 'phew': 3566, 'pills': 3567, 'piss': 3568, 'politics': 3569, 'popcorn': 3570, 'pot': 3571, 'prices': 3572, 'prince': 3573, 'print': 3574, 'projects': 3575, 'pulling': 3576, 'quot;why': 3577, 'rarely': 3578, 'recommendations': 3579, 'refreshing': 3580, 'regardless': 3581, 'research': 3582, 'river': 3583, 'rolling': 3584, 'rooting': 3585, 'rush': 3586, 'scratch': 3587, 'security': 3588, 'semester': 3589, 'servers': 3590, 'shucks': 3591, 'shud': 3592, 'skinny': 3593, 'smells': 3594, 'smooth': 3595, 'somewhat': 3596, 'specific': 3597, 'stolen': 3598, 'strawberries': 3599, 'suddenly': 3600, 'suffer': 3601, 'swap': 3602, 'sweden': 3603, 'sytycd': 3604, 'target': 3605, 'tasty': 3606, 'taught': 3607, 'tbh': 3608, 'tee': 3609, 'tooooo': 3610, 'tracks': 3611, 'traveling': 3612, 'tweeter': 3613, 'unfair': 3614, 'unique': 3615, 'views': 3616, 'wallet': 3617, 'warped': 3618, 'wats': 3619, 'whyitweet': 3620, 'willing': 3621, 'wknd': 3622, 'wot': 3623, 'wrk': 3624, 'youth': 3625, 'zombie': 3626, '\\xa0 ': 3627, '¡': 3628, '»': 3629, '29': 3630, '2moro': 3631, '32': 3632, '35': 3633, '7th': 3634, '@420thoughts': 3635, '@_enigma': 3636, '@_mikenewton': 3637, '@aceconcierge': 3638, '@afinefrenzy': 3639, '@alexarpd': 3640, '@amazondotjon': 3641, '@aral': 3642, '@aravindkumar': 3643, '@arunbasillal': 3644, '@askaaronlee': 3645, '@azandiamjbb': 3646, '@bill_archie': 3647, '@brightondoll': 3648, '@cassieventura': 3649, '@cazob': 3650, '@cleaninggirl': 3651, 'active': 3652, 'advantage': 3653, 'ahhhhh': 3654, 'allen': 3655, 'amazon': 3656, 'anti': 3657, 'anxiety': 3658, 'apprentice': 3659, 'auto': 3660, 'ba': 3661, 'bars': 3662, 'bby': 3663, 'beside': 3664, 'bestie': 3665, 'beyonce': 3666, 'blocks': 3667, 'blogging': 3668, 'boooo': 3669, 'booth': 3670, 'brave': 3671, 'brooke': 3672, 'caffeine': 3673, 'cakes': 3674, 'campaign': 3675, 'celebration': 3676, 'cereal': 3677, 'chances': 3678, 'chilling': 3679, 'claire': 3680, 'commercial': 3681, 'complaining': 3682, 'complicated': 3683, 'confirmed': 3684, 'coolest': 3685, 'coulda': 3686, 'court': 3687, 'cud': 3688, 'cupcake': 3689, 'cycle': 3690, 'damnit': 3691, 'darlin': 3692, 'delay': 3693, 'designer': 3694, 'dh': 3695, 'disgusting': 3696, 'dishes': 3697, 'distracted': 3698, 'dresses': 3699, 'duty': 3700, 'earn': 3701, 'eaten': 3702, 'edition': 3703, 'ewww': 3704, 'fa': 3705, 'fairly': 3706, 'favorites': 3707, 'folk': 3708, 'forced': 3709, 'fridge': 3710, 'funds': 3711, 'furniture': 3712, 'ga': 3713, 'gen': 3714, 'ghost': 3715, 'giant': 3716, 'gigs': 3717, 'heeey': 3718, 'hire': 3719, 'holla': 3720, 'hop': 3721, 'hosting': 3722, 'hunting': 3723, 'hw': 3724, 'i`m': 3725, 'incredibly': 3726, 'insomnia': 3727, 'inspired': 3728, 'it&quot': 3729, 'iâ´m': 3730, 'jordan': 3731, 'kills': 3732, 'kitten': 3733, 'knocked': 3734, 'lab': 3735, 'league': 3736, 'legit': 3737, 'lily': 3738, 'lmaoo': 3739, 'loading': 3740, 'loop': 3741, 'lush': 3742, 'makeup': 3743, 'march': 3744, 'marry': 3745, 'missin': 3746, 'mistakes': 3747, 'montana': 3748, 'morn': 3749, 'muah': 3750, 'mwah': 3751, 'nw': 3752, 'nz': 3753, 'ol': 3754, 'opened': 3755, 'oven': 3756, 'pad': 3757, 'pains': 3758, 'pan': 3759, 'panda': 3760, 'pathetic': 3761, 'pee': 3762, 'peoples': 3763, 'pig': 3764, 'planet': 3765, 'pops': 3766, 'prize': 3767, 'production': 3768, 'published': 3769, 'pup': 3770, 'purpose': 3771, 'quot;a': 3772, 'quot;who': 3773, 'rained': 3774, 'raised': 3775, 'reader': 3776, 'records': 3777, 'replaced': 3778, 'reviews': 3779, 'roast': 3780, 'sanctuarysunday': 3781, 'scare': 3782, 'sets': 3783, 'shining': 3784, 'shocked': 3785, 'sim': 3786, 'sm': 3787, 'smaller': 3788, 'socks': 3789, 'solo': 3790, 'spoiled': 3791, 'stats': 3792, 'stopping': 3793, 'stranger': 3794, 'stunning': 3795, 'suffering': 3796, 'switched': 3797, 'tat': 3798, 'tgif': 3799, 'toe': 3800, 'tommorow': 3801, 'ton': 3802, 'tools': 3803, 'tuned': 3804, \"u'll\": 3805, 'unlimited': 3806, 'uploading': 3807, 'urgh': 3808, 'urself': 3809, 'vet': 3810, 'votes': 3811, 'wk': 3812, 'wordpress': 3813, 'yayy': 3814, 'yeahhh': 3815, 'yey': 3816, 'yous': 3817, 'yuck': 3818, '´': 3819, '--&gt': 3820, '-.-': 3821, '21st': 3822, ';--': 3823, '@106andpark': 3824, '@1jaredpadalecki': 3825, '@2niteboy': 3826, '@adamsconsulting': 3827, '@agentbooth': 3828, '@ahoova': 3829, '@ajrafael': 3830, '@amypalko': 3831, '@amyshell': 3832, '@analystalterego': 3833, '@angelajames': 3834, '@ashleeadams': 3835, '@ashleigh92': 3836, '@ashley_eastwest': 3837, '@awaisnaseer': 3838, '@blindcripple': 3839, '@blowhornoz': 3840, '@brainstuck': 3841, '@broooooke': 3842, '@cocabeenslinky': 3843, '@cookiemonster82': 3844, '`': 3845, 'abit': 3846, 'addiction': 3847, 'advance': 3848, 'adventure': 3849, 'advertising': 3850, 'amazingly': 3851, 'amusing': 3852, 'approve': 3853, 'asshole': 3854, 'assuming': 3855, 'asylm': 3856, 'audition': 3857, 'average': 3858, 'awesomeness': 3859, 'beast': 3860, 'became': 3861, 'beef': 3862, 'bg': 3863, 'birth': 3864, 'blind': 3865, 'bold': 3866, 'bonus': 3867, 'bot': 3868, 'bow': 3869, 'brooklyn': 3870, 'bueno': 3871, 'bum': 3872, 'cab': 3873, 'carry': 3874, 'cds': 3875, 'chuckmemondays': 3876, 'cloud': 3877, 'comedy': 3878, 'compliment': 3879, 'concern': 3880, 'counter': 3881, 'cow': 3882, 'csi': 3883, 'cuddle': 3884, 'dawn': 3885, 'december': 3886, 'deliver': 3887, 'determined': 3888, 'dev': 3889, \"didn't\": 3890, 'discount': 3891, 'discovered': 3892, 'display': 3893, 'distance': 3894, 'ditto': 3895, 'dollar': 3896, 'ds': 3897, 'dudes': 3898, 'dvr': 3899, 'eatin': 3900, 'eff': 3901, 'effing': 3902, 'entertainment': 3903, 'eurovision': 3904, 'faces': 3905, 'flip': 3906, 'fone': 3907, 'forgetting': 3908, 'forgive': 3909, 'fried': 3910, 'function': 3911, 'fyi': 3912, 'gal': 3913, 'gasp': 3914, 'gooood': 3915, 'grocery': 3916, 'grrrr': 3917, 'gw': 3918, 'habit': 3919, 'hack': 3920, 'handy': 3921, 'heey': 3922, 'heheh': 3923, 'hii': 3924, 'honor': 3925, 'hotter': 3926, 'hp': 3927, 'humans': 3928, 'hype': 3929, 'inbox': 3930, 'indian': 3931, 'injured': 3932, 'installed': 3933, 'iï¿½m': 3934, 'jacob': 3935, 'jelly': 3936, 'jumped': 3937, 'justin': 3938, 'kicks': 3939, 'lamb': 3940, 'lee': 3941, 'lies': 3942, 'limited': 3943, 'lock': 3944, 'locked': 3945, 'madness': 3946, 'maine': 3947, 'maintenance': 3948, 'makin': 3949, 'mandy': 3950, 'meee': 3951, 'michelle': 3952, 'mile': 3953, 'mmmmm': 3954, 'models': 3955, 'monitor': 3956, 'monkey': 3957, 'multiple': 3958, 'nail': 3959, 'natural': 3960, 'neat': 3961, 'necessary': 3962, 'neon': 3963, 'newcastle': 3964, 'nine': 3965, 'obvious': 3966, 'one&quot': 3967, 'p.s.': 3968, 'papa': 3969, 'paranoid': 3970, 'patrick': 3971, 'pete': 3972, 'phil': 3973, 'plant': 3974, 'plate': 3975, 'plugin': 3976, 'pounds': 3977, 'pr': 3978, 'prepared': 3979, 'pretend': 3980, 'quot;but': 3981, 'quot;do': 3982, 'quot;that': 3983, 'quotes': 3984, 'raw': 3985, 'reaction': 3986, 'responding': 3987, 'returned': 3988, 'reunion': 3989, 'rolls': 3990, 'royal': 3991, 'safely': 3992, 'sci': 3993, 'scream': 3994, 'searched': 3995, 'sec': 3996, 'senior': 3997, 'sessions': 3998, 'seven': 3999, 'sheet': 4000, 'shipping': 4001, 'shorts': 4002, 'shy': 4003, 'smith': 4004, 'sonic': 4005, 'spelled': 4006, 'starving': 4007, 'stays': 4008, 'stone': 4009, 'storage': 4010, 'streaming': 4011, 'strength': 4012, 'stressful': 4013, 'subway': 4014, 'successful': 4015, 'sundays': 4016, 'sunglasses': 4017, 'teddy': 4018, 'teen': 4019, 'terms': 4020, 'theater': 4021, 'tie': 4022, 'toys': 4023, 'trackle': 4024, 'tragic': 4025, 'transformers': 4026, 'triple': 4027, 'tube': 4028, 'ughhh': 4029, 'ultimate': 4030, 'united': 4031, 'va': 4032, 'value': 4033, 'wana': 4034, 'woop': 4035, 'yayyy': 4036, 'zoo': 4037, '...........': 4038, '26': 4039, '400': 4040, '6th': 4041, '70': 4042, '@1cloudstrife': 4043, '@__missb': 4044, '@_santi': 4045, '@aditya': 4046, '@afrobella': 4047, '@agesthegreat': 4048, '@aherne148': 4049, '@ahmednaguib': 4050, '@aimeelady': 4051, '@alex_mauricio': 4052, '@alexcashcash': 4053, '@allconsoffun': 4054, '@amalari': 4055, '@anca_foster': 4056, '@andrewgoldstein': 4057, '@anncurry': 4058, '@annettestatus': 4059, '@annyo84': 4060, '@aprilyim': 4061, '@arbonneteam': 4062, '@aristeia': 4063, '@arjbarker': 4064, '@asfaq': 4065, '@asos_julia': 4066, '@astro_mike': 4067, '@audrey_o': 4068, '@babenatasha': 4069, '@bball4life': 4070, '@bebiv': 4071, '@beckinelson': 4072, '@beckykingston': 4073, '@beingnobody': 4074, '@benshephard': 4075, '@brendonuriesays': 4076, '@butterflykate': 4077, '@cari_tx': 4078, '@cathy_cochina40': 4079, '@chantiparnell': 4080, '@chriscuzzy': 4081, '@christft': 4082, '@citygirl912': 4083, '@cosmicmother': 4084, '@countingcrows': 4085, '@craigeryowens': 4086, '^': 4087, 'a.m.': 4088, 'aah': 4089, 'abby': 4090, 'abc': 4091, 'ada': 4092, 'aight': 4093, 'ana': 4094, 'angels': 4095, 'anime': 4096, 'appointment': 4097, 'arizona': 4098, 'austin': 4099, 'author': 4100, 'bahaha': 4101, 'berry': 4102, 'bites': 4103, 'blair': 4104, 'bomb': 4105, 'boot': 4106, 'booze': 4107, 'bound': 4108, 'bowl': 4109, 'bradiewebb': 4110, 'breathing': 4111, 'brit': 4112, 'brownies': 4113, 'bryan': 4114, 'buddies': 4115, 'bugger': 4116, 'cap': 4117, 'caps': 4118, 'carrie': 4119, 'cc': 4120, 'celebrity': 4121, 'centre': 4122, 'channels': 4123, 'chapter': 4124, 'char': 4125, 'chose': 4126, 'chrome': 4127, 'circle': 4128, 'clicked': 4129, 'coincidence': 4130, 'concerned': 4131, 'conversations': 4132, 'covers': 4133, 'created': 4134, 'cutest': 4135, 'cuts': 4136, 'damned': 4137, 'degree': 4138, 'delish': 4139, 'demo': 4140, 'den': 4141, 'depending': 4142, 'development': 4143, 'direction': 4144, 'dropping': 4145, 'drums': 4146, 'effects': 4147, 'eminem': 4148, 'emma': 4149, 'engine': 4150, 'eva': 4151, 'eww': 4152, 'fantasy': 4153, 'farrah': 4154, 'fixing': 4155, 'fortune': 4156, 'freedom': 4157, 'fridays': 4158, 'fries': 4159, 'ft': 4160, 'gaga': 4161, 'generally': 4162, 'generous': 4163, 'georgia': 4164, 'gimme': 4165, 'glasgow': 4166, 'gm': 4167, 'graduated': 4168, 'graduating': 4169, 'greatly': 4170, 'greek': 4171, 'hacked': 4172, 'handsome': 4173, 'happend': 4174, 'hardcore': 4175, 'hating': 4176, 'heya': 4177, 'hooray': 4178, 'horse': 4179, 'huhu': 4180, 'hunny': 4181, 'ian': 4182, 'impression': 4183, 'include': 4184, 'indiana': 4185, 'ink': 4186, 'iron': 4187, 'item': 4188, 'jason': 4189, 'java': 4190, 'jo': 4191, 'jumping': 4192, 'junk': 4193, 'kat': 4194, 'kindle': 4195, 'laid': 4196, 'las': 4197, 'lasted': 4198, 'leak': 4199, 'lebron': 4200, 'legally': 4201, 'lens': 4202, 'lj': 4203, 'lolol': 4204, 'lt;-': 4205, 'lt;33': 4206, 'ly': 4207, \"ma'am\": 4208, 'management': 4209, 'mas': 4210, 'mc': 4211, 'mister': 4212, 'mountains': 4213, 'nadal': 4214, 'nba': 4215, 'neighborhood': 4216, 'neva': 4217, 'newest': 4218, 'nga': 4219, 'nickname': 4220, 'nightmares': 4221, 'nighty': 4222, 'niley': 4223, 'noodles': 4224, 'noone': 4225, 'northern': 4226, 'nu': 4227, 'ot': 4228, 'owl': 4229, 'parent': 4230, 'password': 4231, 'pe': 4232, 'pero': 4233, 'photographer': 4234, 'picks': 4235, 'pilot': 4236, 'ping': 4237, 'plastic': 4238, 'port': 4239, 'pour': 4240, 'powers': 4241, 'pt': 4242, 'pun': 4243, 'puppies': 4244, 'purse': 4245, 'quot;all': 4246, 'rainbow': 4247, 'relief': 4248, 'relieve': 4249, 'replacement': 4250, 'revenge': 4251, 'rings': 4252, 'rlly': 4253, 'rocked': 4254, 'rocking': 4255, 'roof': 4256, 'ross': 4257, 'route': 4258, 'rss': 4259, 'sake': 4260, 'sausage': 4261, 'schools': 4262, 'secrets': 4263, 'shakes': 4264, 'sheesh': 4265, 'shock': 4266, 'sickness': 4267, 'simon': 4268, 'sober': 4269, 'solid': 4270, 'speakers': 4271, 'speech': 4272, 'spoil': 4273, 'staff': 4274, 'steps': 4275, 'survived': 4276, 'sweat': 4277, 'tap': 4278, 'tempting': 4279, 'terribly': 4280, 'thus': 4281, 'time&quot': 4282, 'tmr': 4283, 'toes': 4284, 'trash': 4285, 'trips': 4286, 'umbrella': 4287, 'unable': 4288, 'unfollowed': 4289, 'unlike': 4290, 'w.': 4291, 'waitin': 4292, 'washington': 4293, 'welll': 4294, 'whoever': 4295, 'witty': 4296, 'womp': 4297, 'wore': 4298, 'www': 4299, 'xoxox': 4300, 'yaa': 4301, 'yoga': 4302, 'yogurt': 4303, 'you.&quot': 4304, 'youuuu': 4305, 'yucky': 4306, '\\x85 ': 4307, '       ': 4308, '&amp': 4309, '500': 4310, ':-o': 4311, ':3': 4312, '=/': 4313, '@0mie': 4314, '@211me': 4315, '@3cb': 4316, '@3sixty5days': 4317, '@_amberlovely': 4318, '@a_simple_girl': 4319, '@aclockworktoad': 4320, '@adese': 4321, '@adlyman': 4322, '@akomuzikera': 4323, '@al_ice': 4324, '@alancostello': 4325, '@alitherunner': 4326, '@alydenisof': 4327, '@anima': 4328, '@aparajuli': 4329, '@asexiness': 4330, '@aussie_ali': 4331, '@azeleen': 4332, '@babygirlsomajor': 4333, '@bananasmel': 4334, '@barefoot_exec': 4335, '@baxiabhishek': 4336, '@bb517': 4337, '@bigassbadger': 4338, '@bmolko': 4339, '@bobbinrob': 4340, '@brigwyn': 4341, '@brittgoosie': 4342, '@cascandar': 4343, '@catep36': 4344, '@charlestrippy': 4345, '@cheth': 4346, '@collective_soul': 4347, '@combustiblesong': 4348, 'absolute': 4349, 'acoustic': 4350, 'alaska': 4351, 'albums': 4352, 'ale': 4353, 'ally': 4354, 'angie': 4355, 'anoop': 4356, 'apologies': 4357, 'appt': 4358, 'argentina': 4359, 'articles': 4360, 'attached': 4361, 'aus': 4362, 'aware': 4363, 'backwards': 4364, 'banned': 4365, 'barakatday': 4366, 'battle': 4367, 'becuz': 4368, 'bedroom': 4369, 'begins': 4370, 'belated': 4371, 'benefit': 4372, 'betta': 4373, 'betty': 4374, 'birthdays': 4375, 'blessings': 4376, 'blues': 4377, 'boohoo': 4378, 'boredom': 4379, 'brunch': 4380, 'buzz': 4381, 'canadian': 4382, 'captain': 4383, 'caused': 4384, 'causing': 4385, 'charger': 4386, 'charity': 4387, 'chef': 4388, 'chicks': 4389, 'childhood': 4390, 'coach': 4391, 'colours': 4392, 'concept': 4393, 'confirm': 4394, 'constant': 4395, 'constantly': 4396, 'continues': 4397, 'countries': 4398, 'cramps': 4399, 'cutie': 4400, 'dangerous': 4401, 'daniel': 4402, 'db': 4403, 'default': 4404, 'defo': 4405, 'deleting': 4406, 'delhi': 4407, 'desert': 4408, 'deserves': 4409, 'didnt': 4410, 'dissapointed': 4411, 'dolls': 4412, 'doo': 4413, 'doors': 4414, 'dreaming': 4415, 'drives': 4416, 'dubai': 4417, 'duck': 4418, 'dvds': 4419, 'easter': 4420, 'edinburgh': 4421, 'encouraging': 4422, 'entered': 4423, 'entirely': 4424, 'enuf': 4425, 'factor': 4426, 'fallen': 4427, 'faves': 4428, 'favor': 4429, 'fella': 4430, 'figuring': 4431, 'flawless': 4432, 'foods': 4433, 'forecast': 4434, 'friendship': 4435, 'frog': 4436, 'gahh': 4437, 'gaming': 4438, 'giggle': 4439, 'giveaway': 4440, 'graphic': 4441, 'grill': 4442, 'guessed': 4443, 'guide': 4444, 'gum': 4445, 'guns': 4446, 'hahahahah': 4447, 'halo': 4448, 'happier': 4449, 'hardware': 4450, 'headaches': 4451, 'hip': 4452, 'hiring': 4453, 'hmph': 4454, 'holds': 4455, 'humour': 4456, 'iced': 4457, 'icon': 4458, 'iconfess': 4459, 'idiots': 4460, 'imisscath': 4461, 'installing': 4462, 'intended': 4463, 'intense': 4464, 'iowa': 4465, 'irl': 4466, 'it.&quot': 4467, 'iz': 4468, 'jail': 4469, 'jazz': 4470, 'jelous': 4471, 'jessica': 4472, 'julian': 4473, 'ke': 4474, 'kittens': 4475, 'knoww': 4476, 'knowww': 4477, 'l.a.': 4478, 'legend': 4479, 'lip': 4480, 'liverpool': 4481, 'los': 4482, 'lovee': 4483, 'lt;/3': 4484, 'lvatt': 4485, 'meeee': 4486, 'mileymonday': 4487, 'missy': 4488, 'mixing': 4489, 'mj': 4490, 'moves': 4491, 'mummy': 4492, 'neighbor': 4493, 'neighbors': 4494, 'ness': 4495, 'networking': 4496, 'niece': 4497, 'nj': 4498, 'november': 4499, 'nuggets': 4500, 'ofcourse': 4501, 'offered': 4502, 'otalia': 4503, 'owned': 4504, 'pal': 4505, 'peaceful': 4506, 'penny': 4507, 'personality': 4508, 'perspective': 4509, 'physics': 4510, 'pitch': 4511, 'playlist': 4512, 'pleasant': 4513, 'po': 4514, 'practically': 4515, 'praise': 4516, 'proof': 4517, 'pumped': 4518, 'quarter': 4519, 'quot;in': 4520, 'quot;its': 4521, 'quot;just': 4522, 'rachel': 4523, 'rap': 4524, 'rated': 4525, 'reached': 4526, 'reads': 4527, 'recovering': 4528, 'rep': 4529, 'requests': 4530, 'rescue': 4531, 'rides': 4532, 'rights': 4533, 'robin': 4534, 'root': 4535, 'ruins': 4536, 'rumours': 4537, 'safari': 4538, 'sang': 4539, 'saturdays': 4540, 'scottish': 4541, 'script': 4542, 'selfish': 4543, 'seo': 4544, 'shown': 4545, 'sista': 4546, 'skip': 4547, 'slap': 4548, 'slide': 4549, 'sniffle': 4550, 'soap': 4551, 'softball': 4552, 'sony': 4553, 'spoken': 4554, 'stairs': 4555, 'stavros': 4556, 'stealing': 4557, 'strictly': 4558, 'sue': 4559, 'supernatural': 4560, 'supporting': 4561, 'swift': 4562, 'tacos': 4563, 'tcot': 4564, 'teasing': 4565, 'technically': 4566, 'temporarily': 4567, 'tent': 4568, 'thankfully': 4569, 'thomas': 4570, 'thrown': 4571, 'trial': 4572, 'tricks': 4573, 'ttyl': 4574, 'tweeple': 4575, 'tweeters': 4576, 'twitterberry': 4577, 'tx': 4578, 'uhm': 4579, 'understanding': 4580, 'understood': 4581, 'unfortunatly': 4582, 'unhappy': 4583, 'upsetting': 4584, 'urs': 4585, 'v.': 4586, 'vampire': 4587, 'vancouver': 4588, 'vegan': 4589, 'versions': 4590, 'visited': 4591, 'vista': 4592, 'wakes': 4593, 'walmart': 4594, 'webcam': 4595, 'wi': 4596, 'wierd': 4597, 'wifey': 4598, 'windy': 4599, 'wolverine': 4600, 'wood': 4601, 'yessss': 4602, 'ym': 4603, 'yt': 4604, 'ð½ðµ': 4605, '12th': 4606, '13th': 4607, '15th': 4608, '2.5': 4609, '28': 4610, '6:30': 4611, '8)': 4612, '99': 4613, '@18percentgrey': 4614, '@_maxwell': 4615, '@absolutelytrue': 4616, '@adnamay': 4617, '@agentsullivan': 4618, '@ahmnohere': 4619, '@ajm1030': 4620, '@akr93': 4621, '@alittletrendy': 4622, '@allisonnazarian': 4623, '@alroker': 4624, '@alyandaj': 4625, '@amazing_grace13': 4626, '@amberausten': 4627, '@amomtwoboys': 4628, '@amous': 4629, '@amp451': 4630, '@amypaffrath': 4631, '@anneliesch26': 4632, '@anntrs': 4633, '@apercheddove': 4634, '@artemisrex': 4635, '@asiabrands': 4636, '@axelsrose': 4637, '@bad_housewife': 4638, '@bassyc': 4639, '@ben_jarelbo': 4640, '@bevysmith': 4641, '@bexiclepop': 4642, '@bigwormy': 4643, '@butterflywheel': 4644, '@chargerjenn': 4645, '@chevale': 4646, '@choley': 4647, '@chris_gorham': 4648, '@chrisluvssixxam': 4649, '@christophermoy': 4650, '@ciaobella50': 4651, '@cinnamoncloud': 4652, '@claireboyles': 4653, '@clarasdiary': 4654, '@claudekelly': 4655, '@comcastbonnie': 4656, '@coy0te': 4657, '@ctham': 4658, '@mileycyrus': 4659, '\\\\o/': 4660, 'ability': 4661, 'abuse': 4662, 'accidentally': 4663, 'adult': 4664, 'africa': 4665, 'aku': 4666, 'alltimelow': 4667, 'amsterdam': 4668, 'announced': 4669, 'anyhow': 4670, 'apologize': 4671, 'archie': 4672, 'asia': 4673, 'assistant': 4674, 'attacked': 4675, 'auch': 4676, 'australian': 4677, 'babysit': 4678, 'badass': 4679, 'baking': 4680, 'ban': 4681, 'banks': 4682, 'bastard': 4683, 'beatles': 4684, 'becomes': 4685, 'bein': 4686, 'bible': 4687, 'bin': 4688, 'blown': 4689, 'bon': 4690, 'bottles': 4691, 'brandy': 4692, 'bride': 4693, 'brisbane': 4694, 'bubble': 4695, 'burns': 4696, 'busted': 4697, 'c.': 4698, 'calories': 4699, 'canon': 4700, 'casey': 4701, 'catchy': 4702, 'century': 4703, 'charged': 4704, 'chica': 4705, 'chile': 4706, 'chin': 4707, 'christ': 4708, 'circumstances': 4709, 'climb': 4710, 'closest': 4711, 'colin': 4712, 'comics': 4713, 'connected': 4714, 'core': 4715, 'coughing': 4716, 'crashes': 4717, 'ct': 4718, 'cu': 4719, 'cum': 4720, 'custom': 4721, 'cya': 4722, 'dats': 4723, 'daughters': 4724, 'del': 4725, 'desperate': 4726, 'dia': 4727, 'digital': 4728, 'ding': 4729, 'disappointment': 4730, 'disconnected': 4731, 'discussion': 4732, 'divorce': 4733, 'don': 4734, 'dot': 4735, 'drake': 4736, 'drivers': 4737, 'drunken': 4738, 'dublin': 4739, 'dw': 4740, 'egg': 4741, 'electric': 4742, 'embarrassed': 4743, 'embarrassing': 4744, 'encourage': 4745, 'entertain': 4746, 'equally': 4747, 'err': 4748, 'everton': 4749, 'fade': 4750, 'false': 4751, 'familiar': 4752, 'favs': 4753, 'features': 4754, 'feeding': 4755, 'fired': 4756, 'flow': 4757, 'forourhero': 4758, 'fr': 4759, 'francisco': 4760, 'frank': 4761, 'frustrated': 4762, 'funeral': 4763, 'funky': 4764, 'fuzzy': 4765, 'gate': 4766, 'genuine': 4767, 'gg': 4768, 'gmail': 4769, 'government': 4770, 'grin': 4771, 'grounded': 4772, 'groups': 4773, 'gue': 4774, 'hall': 4775, 'hittin': 4776, 'homies': 4777, 'honored': 4778, 'hugh': 4779, 'hunt': 4780, 'ia': 4781, 'ignored': 4782, 'ik': 4783, 'inch': 4784, 'indonesia': 4785, \"ink'd\": 4786, 'intelligent': 4787, 'interests': 4788, 'jakarta': 4789, 'jared': 4790, 'joey': 4791, 'jones': 4792, 'kissed': 4793, 'kit': 4794, 'knight': 4795, 'kyle': 4796, 'lah': 4797, 'latin': 4798, 'lawn': 4799, 'lb': 4800, 'lg': 4801, 'liz': 4802, 'louis': 4803, 'lounge': 4804, 'lovers': 4805, 'lower': 4806, 'lt;&lt;&lt': 4807, 'mah': 4808, 'maria': 4809, 'marks': 4810, 'martin': 4811, 'matches': 4812, 'material': 4813, 'mayb': 4814, 'mb': 4815, 'me.&quot': 4816, 'megan': 4817, 'mighty': 4818, 'mikey': 4819, 'mirror': 4820, 'motivated': 4821, 'muffins': 4822, 'nearest': 4823, 'ni': 4824, 'nin': 4825, 'noe': 4826, 'noon': 4827, 'nyt': 4828, 'ole': 4829, 'om': 4830, 'overall': 4831, 'panel': 4832, 'particularly': 4833, 'paste': 4834, 'pcd': 4835, 'pixar': 4836, 'pointless': 4837, 'poisoning': 4838, 'poker': 4839, 'poll': 4840, 'potatoes': 4841, 'potential': 4842, 'powerful': 4843, 'president': 4844, 'pride': 4845, 'promo': 4846, 'psp': 4847, 'publish': 4848, 'punk': 4849, 'quot;she': 4850, 'racist': 4851, 'raise': 4852, 'raising': 4853, 'rang': 4854, 'recognize': 4855, 'recorded': 4856, 'recover': 4857, 'refresh': 4858, 'regarding': 4859, 'repair': 4860, 'reports': 4861, 'required': 4862, 'revising': 4863, 'risk': 4864, 'router': 4865, 'rugby': 4866, 'sayang': 4867, 'scott': 4868, 'sees': 4869, 'serve': 4870, 'shades': 4871, 'shared': 4872, 'shattered': 4873, 'shed': 4874, 'shelf': 4875, 'shifts': 4876, 'shoe': 4877, 'signs': 4878, 'silence': 4879, 'skies': 4880, 'smack': 4881, 'sneezing': 4882, 'snuggle': 4883, 'sob': 4884, 'some1': 4885, 'sox': 4886, 'spammers': 4887, 'spider': 4888, 'spray': 4889, 'spreading': 4890, 'standard': 4891, 'statement': 4892, 'steven': 4893, 'sticks': 4894, 'stil': 4895, 'stops': 4896, 'strip': 4897, 'sucky': 4898, 'sunrise': 4899, 'sync': 4900, 'talks': 4901, 'tall': 4902, 'teehee': 4903, 'thankful': 4904, 'therefore': 4905, 'thnks': 4906, 'thts': 4907, 'tied': 4908, 'tiring': 4909, 'tomoz': 4910, 'torture': 4911, 'tragedy': 4912, 'trance': 4913, 'transfer': 4914, 'treasure': 4915, 'uber': 4916, 'ubuntu': 4917, 'udah': 4918, 'ughh': 4919, 'uhh': 4920, 'unknown': 4921, 'untill': 4922, 'upcoming': 4923, 'vacay': 4924, 'valley': 4925, 'verizon': 4926, 'virgin': 4927, 'waited': 4928, 'washed': 4929, 'wendy': 4930, 'wherever': 4931, 'whocangetit': 4932, 'wid': 4933, 'wif': 4934, 'wire': 4935, 'wireless': 4936, 'witness': 4937, 'wkend': 4938, 'woken': 4939, 'wrap': 4940, 'writes': 4941, 'xdd': 4942, 'xxxxx': 4943, 'yaaay': 4944, 'yeaa': 4945, 'yw': 4946, 'zac': 4947, 'ðºð': 4948, '---&gt': 4949, '14th': 4950, '2008': 4951, '33': 4952, '360': 4953, '95': 4954, ':0': 4955, '@2kutekreations': 4956, '@_chelsea_marie': 4957, '@_rachaelll': 4958, '@_shannon1234': 4959, '@_spell': 4960, '@_xotashhh': 4961, '@aaliyahlove69': 4962, '@abbiefletcher': 4963, '@adamsevani': 4964, '@aerobic247': 4965, '@akarra': 4966, '@alanjlee': 4967, '@alegrya': 4968, '@alexalbrecht': 4969, '@alexsheppard': 4970, '@alivicwil': 4971, '@allisonmack': 4972, '@allyxwebb': 4973, '@alyssanoelled': 4974, '@amandafortier': 4975, '@amandalaur': 4976, '@ambermatson': 4977, '@amystar92': 4978, '@ancillatilia': 4979, '@andrea_r': 4980, '@andydick': 4981, '@andyqsmith': 4982, '@aned': 4983, '@anjeebaby': 4984, '@anniedafg': 4985, '@antzpantz': 4986, '@archangelmaggie': 4987, '@asinisterduck': 4988, '@atlantisjackson': 4989, '@austinslide': 4990, '@averygoodyear': 4991, '@babymakinmachin': 4992, '@bbgeekchic': 4993, '@bbrriittttyy': 4994, '@beaniebanks': 4995, '@beardoctor': 4996, '@becabear': 4997, '@belle_lulu': 4998, '@bethanymcflyx': 4999, '@bfheroes': 5000, '@bing': 5001, '@blasha': 5002, '@blondebydesign': 5003, '@boddingtons': 5004, '@bonniebrown': 5005, '@brian_littrell': 5006, '@calbo': 5007, '@cameronreilly': 5008, '@camiknickers': 5009, '@candicekei': 5010, '@cashstwit': 5011, '@cezza_b': 5012, '@chad_lad': 5013, '@cherrythegreat': 5014, '@cherylh77': 5015, '@chrisgarrett': 5016, '@ciaobella6': 5017, '@cookleta': 5018, '@ddlovato': 5019, 'aaah': 5020, 'abs': 5021, 'aches': 5022, 'aching': 5023, 'addict': 5024, 'adopted': 5025, 'aja': 5026, 'alien': 5027, 'alternative': 5028, 'announcement': 5029, 'anxious': 5030, 'approach': 5031, 'appropriate': 5032, 'arse': 5033, 'aubrey': 5034, 'audience': 5035, 'ay': 5036, 'b.': 5037, 'backed': 5038, 'ballet': 5039, 'bb10': 5040, 'bea': 5041, 'bean': 5042, 'bears': 5043, 'becca': 5044, 'becky': 5045, 'beijing': 5046, 'bikini': 5047, 'bitter': 5048, 'bleeding': 5049, 'bliss': 5050, 'blushes': 5051, 'bond': 5052, 'booooo': 5053, 'brazilian': 5054, 'bros': 5055, 'bruce': 5056, 'brutal': 5057, 'bucket': 5058, 'byee': 5059, 'cage': 5060, 'calendar': 5061, 'carl': 5062, 'carrying': 5063, 'cartoons': 5064, 'cases': 5065, 'chad': 5066, 'charles': 5067, 'charlotte': 5068, 'chats': 5069, 'cheating': 5070, 'checkin': 5071, 'cheering': 5072, 'christian': 5073, 'cleaned': 5074, 'cleared': 5075, 'cleveland': 5076, 'clothdiapers': 5077, 'cn': 5078, 'coco': 5079, 'coldplay': 5080, 'colorado': 5081, 'comfortable': 5082, 'compared': 5083, 'condition': 5084, 'condolences': 5085, 'confident': 5086, 'cops': 5087, 'countdown': 5088, 'cowboy': 5089, 'cp': 5090, 'crossing': 5091, 'curry': 5092, 'cus': 5093, 'deadline': 5094, 'description': 5095, 'designs': 5096, 'desperately': 5097, 'destroy': 5098, 'diary': 5099, 'directions': 5100, 'dirt': 5101, 'disc': 5102, 'dl': 5103, 'dms': 5104, 'docs': 5105, 'dodgy': 5106, 'dong': 5107, 'donut': 5108, 'downside': 5109, 'dramatic': 5110, 'driven': 5111, 'drugs': 5112, 'dust': 5113, 'editor': 5114, 'eek': 5115, 'effin': 5116, 'ego': 5117, 'ehh': 5118, 'ellen': 5119, 'emotional': 5120, 'engagement': 5121, 'envious': 5122, 'estate': 5123, 'etsy': 5124, 'exception': 5125, 'exited': 5126, 'expression': 5127, 'factory': 5128, 'fatty': 5129, 'featured': 5130, 'federer': 5131, 'fic': 5132, 'fiction': 5133, 'fil': 5134, 'filling': 5135, 'firstrecord': 5136, 'fishing': 5137, 'flavor': 5138, 'flew': 5139, 'folder': 5140, 'footy': 5141, 'format': 5142, 'freaky': 5143, 'friggin': 5144, 'fuel': 5145, 'gallery': 5146, 'geeks': 5147, 'git': 5148, 'glasto': 5149, 'glorious': 5150, 'goooood': 5151, 'gossip': 5152, 'gots': 5153, 'gps': 5154, 'grammar': 5155, 'grateful': 5156, 'grease': 5157, 'greet': 5158, 'gt;&gt': 5159, 'gt;&lt': 5160, 'gt;_&lt': 5161, 'gut': 5162, 'hahha': 5163, 'hangin': 5164, 'har': 5165, 'hardest': 5166, 'harsh': 5167, 'hater': 5168, 'hbo': 5169, 'hbu': 5170, 'heather': 5171, 'highest': 5172, 'homemade': 5173, 'homes': 5174, 'homo': 5175, 'hott': 5176, 'howdy': 5177, 'hs': 5178, 'hungover': 5179, 'id': 5180, 'ihop': 5181, 'iloveyou': 5182, 'industry': 5183, 'indy': 5184, 'informed': 5185, 'introduced': 5186, 'invented': 5187, 'involve': 5188, 'jane': 5189, 'january': 5190, 'jen': 5191, 'jonaskevin': 5192, 'judging': 5193, 'kitties': 5194, 'kudos': 5195, 'laker': 5196, 'landed': 5197, 'lasts': 5198, 'lbs': 5199, 'lease': 5200, 'lesbian': 5201, 'lifetime': 5202, 'lighter': 5203, 'linked': 5204, 'liquid': 5205, 'listed': 5206, 'lobster': 5207, 'loll': 5208, 'lool': 5209, 'loveee': 5210, 'manchester': 5211, 'mann': 5212, 'maps': 5213, 'mario': 5214, 'master': 5215, 'masterchef': 5216, 'mates': 5217, 'mcdonalds': 5218, 'med': 5219, 'meetings': 5220, 'mega': 5221, 'melt': 5222, 'melted': 5223, 'memorial': 5224, 'menu': 5225, 'messy': 5226, 'misss': 5227, 'mmmmmm': 5228, 'monica': 5229, 'monkeys': 5230, 'motion': 5231, 'ms.': 5232, 'mucho': 5233, 'mums': 5234, 'nana': 5235, 'nation': 5236, 'necklace': 5237, 'neil': 5238, 'nephew': 5239, 'netflix': 5240, 'notebook': 5241, 'nurse': 5242, 'oc': 5243, 'odds': 5244, 'opposite': 5245, 'oscar': 5246, 'ou': 5247, 'owner': 5248, 'painted': 5249, 'partner': 5250, 'pasta': 5251, 'pattinson': 5252, 'performing': 5253, 'perks': 5254, 'perth': 5255, 'pi': 5256, 'picnic': 5257, 'pigs': 5258, 'pile': 5259, 'poetry': 5260, 'poison': 5261, 'popped': 5262, 'prescription': 5263, 'presents': 5264, 'printed': 5265, 'prison': 5266, 'prove': 5267, 'pushed': 5268, 'quot;come': 5269, 'quot;is': 5270, 'quot;let': 5271, 'quot;love': 5272, \"quot;you're\": 5273, 'reduce': 5274, 'rejected': 5275, 'relieved': 5276, 'require': 5277, 'retail': 5278, 'ribs': 5279, 'roller': 5280, 'romance': 5281, 'rome': 5282, 'saddest': 5283, 'salt': 5284, 'samantha': 5285, 'sample': 5286, 'sanity': 5287, 'sara': 5288, 'sc': 5289, 'screens': 5290, 'sean': 5291, 'selena': 5292, 'sexual': 5293, 'shhh': 5294, 'shocking': 5295, 'sized': 5296, 'smoothie': 5297, 'sophie': 5298, 'spears': 5299, 'specially': 5300, 'spiders': 5301, 'spoon': 5302, 'spotify': 5303, 'spots': 5304, 'springs': 5305, 'squirrel': 5306, 'stayin': 5307, 'stinks': 5308, 'stroll': 5309, 'stuffed': 5310, 'suits': 5311, 'sum1': 5312, 'sup': 5313, 'tanning': 5314, 'techno': 5315, 'tequila': 5316, 'thousand': 5317, 'thrilled': 5318, 'tire': 5319, 'tn': 5320, 'tnx': 5321, 'touched': 5322, 'touring': 5323, 'tp': 5324, 'translate': 5325, 'trees': 5326, 'turkey': 5327, 'twitpics': 5328, 'twittered': 5329, 'twitterfon': 5330, 'ubertwitter': 5331, 'ui': 5332, 'unbelievable': 5333, 'unemployed': 5334, 'unfollowdiddy': 5335, 'unit': 5336, 'university': 5337, 'unlucky': 5338, 'up&quot': 5339, 'vanilla': 5340, 'virus': 5341, 'waaay': 5342, 'wala': 5343, 'wassup': 5344, 'waving': 5345, 'whale': 5346, 'whoo': 5347, 'wink': 5348, 'winners': 5349, 'wonders': 5350, 'woods': 5351, 'xboxe3': 5352, 'xmas': 5353, 'yall': 5354, 'youngest': 5355, 'zombies': 5356, '\\n': 5357, \"'bout\": 5358, '...............': 5359, '.i': 5360, '1.5': 5361, '150': 5362, '1500': 5363, '17th': 5364, '2.0': 5365, '20th': 5366, '2night': 5367, '48': 5368, '4get': 5369, '70s': 5370, '8:30': 5371, '@007peter': 5372, '@10thedoctor10': 5373, '@4aplin': 5374, '@7angela7': 5375, '@_erica': 5376, '@_ophelia': 5377, '@_stephhh': 5378, '@aal17': 5379, '@abbafan69': 5380, '@abcdefglynis': 5381, '@abduzeedo': 5382, '@abramsandbettes': 5383, '@abrowngirl': 5384, '@absolutspacegrl': 5385, '@abtony': 5386, '@acryfromthesoul': 5387, '@adamgoldston': 5388, '@adriannecurry': 5389, '@afsoon': 5390, '@ainz90': 5391, '@aion_ayase': 5392, '@alexandrastack': 5393, '@alexroots': 5394, '@alexthefob1991': 5395, '@alievans719': 5396, '@alisonhaislip': 5397, '@aloemilk': 5398, '@amara_m': 5399, '@ammaryasir': 5400, '@ananyah': 5401, '@anastaciakayray': 5402, '@andrevr': 5403, '@andrewpycroft': 5404, '@andy_lamb': 5405, '@angmogirl': 5406, '@annhawkins': 5407, '@annjj': 5408, '@anotherjulia': 5409, '@anotorias': 5410, '@arancinibaby': 5411, '@arianneross': 5412, '@ariherzog': 5413, '@asherroth': 5414, '@ashleyolsen7': 5415, '@aspieteach': 5416, '@astrowebgirl': 5417, '@aureliom': 5418, '@azmomofmanyhats': 5419, '@beaugiles': 5420, '@beezan': 5421, '@belllareow': 5422, '@bgirlshorty': 5423, '@billy_burke': 5424, '@billyscallywag': 5425, '@bisante': 5426, '@bkgirlfriday': 5427, '@bluenscottish': 5428, '@brandyandice': 5429, '@brandywandlover': 5430, '@breeolson9': 5431, '@brittanyasnow': 5432, '@brookehaskins': 5433, '@btcare': 5434, '@candymaize': 5435, '@capitaln': 5436, '@cavorting': 5437, '@charltonbrooker': 5438, '@chemicalzombie': 5439, '@chet_cannon': 5440, '@chicogarcia': 5441, '@ciararyandreams': 5442, '@cmoz': 5443, '@coachdeb': 5444, '@cocolee117': 5445, '@cody_k': 5446, '@commonsense4': 5447, '@courtney_s': 5448, '@courtneycummz': 5449, '@crazeegeekchick': 5450, 'acct': 5451, 'accurate': 5452, 'ack': 5453, 'addictive': 5454, 'admire': 5455, 'ahem': 5456, 'aid': 5457, 'aiden': 5458, 'alert': 5459, 'allll': 5460, 'amandapalmer': 5461, 'amazed': 5462, 'annie': 5463, 'announce': 5464, 'ant': 5465, 'api': 5466, 'apples': 5467, 'applied': 5468, 'approved': 5469, 'archuleta': 5470, 'army': 5471, 'backyard': 5472, 'bahahaha': 5473, 'bake': 5474, 'baked': 5475, 'balance': 5476, 'barbara': 5477, 'barry': 5478, 'batman': 5479, 'beg': 5480, 'begging': 5481, 'belt': 5482, 'benefits': 5483, 'bffs': 5484, 'blasting': 5485, 'bleh': 5486, 'blocking': 5487, 'blond': 5488, 'bo': 5489, 'bore': 5490, 'bowling': 5491, 'bridge': 5492, 'brittany': 5493, 'buck': 5494, 'burgers': 5495, 'bust': 5496, 'buttons': 5497, 'carbs': 5498, 'carol': 5499, 'carolina': 5500, 'caroline': 5501, 'cathy': 5502, 'celebs': 5503, 'ceremony': 5504, 'chain': 5505, 'champions': 5506, 'cheeky': 5507, 'chem': 5508, 'cho': 5509, 'choices': 5510, 'circles': 5511, 'cj': 5512, 'closes': 5513, 'closet': 5514, 'clown': 5515, 'cnn': 5516, 'cock': 5517, 'codes': 5518, 'columbus': 5519, 'comeback': 5520, 'companies': 5521, 'completed': 5522, 'concentrate': 5523, 'confirmation': 5524, 'contemplating': 5525, 'convention': 5526, 'coool': 5527, 'corn': 5528, 'costume': 5529, 'counts': 5530, 'cracked': 5531, 'crunch': 5532, 'crushed': 5533, 'cubs': 5534, 'cure': 5535, 'curly': 5536, 'curve': 5537, 'deaf': 5538, 'debate': 5539, 'deeply': 5540, 'definition': 5541, 'delivered': 5542, 'dell': 5543, 'dessert': 5544, 'dfizzy': 5545, 'digg': 5546, 'digging': 5547, 'directly': 5548, 'disagree': 5549, 'dish': 5550, 'disneyland': 5551, 'disturbing': 5552, 'dividends': 5553, 'document': 5554, 'doggie': 5555, 'doh': 5556, 'donate': 5557, 'dougie': 5558, 'dreading': 5559, 'drinkin': 5560, 'du': 5561, 'ea': 5562, 'earl': 5563, 'eats': 5564, 'eight': 5565, 'emergency': 5566, 'emotions': 5567, 'eps': 5568, 'european': 5569, 'every1': 5570, 'everythings': 5571, 'experiment': 5572, 'expert': 5573, 'explains': 5574, 'explore': 5575, 'extreme': 5576, 'falls': 5577, 'fame': 5578, 'families': 5579, 'farewell': 5580, 'farm': 5581, 'fawcett': 5582, 'fitness': 5583, 'flags': 5584, 'flights': 5585, 'fold': 5586, 'forums': 5587, 'frenchieb': 5588, 'fringe': 5589, 'fry': 5590, 'gained': 5591, 'gamer': 5592, 'gifts': 5593, 'giggles': 5594, 'gin': 5595, 'global': 5596, 'gna': 5597, 'gods': 5598, 'gotta': 5599, 'grandpa': 5600, 'grind': 5601, 'gt;&gt;&gt': 5602, 'guilt': 5603, 'guna': 5604, 'guten': 5605, 'happily': 5606, 'harm': 5607, 'hassle': 5608, 'heehee': 5609, 'hehehehe': 5610, 'highlight': 5611, 'highschool': 5612, 'hihi': 5613, 'hiiii': 5614, 'hmmmmm': 5615, 'hobby': 5616, 'hols': 5617, 'hopeless': 5618, 'hottest': 5619, 'http://ustre.am/1qrf': 5620, 'huhuhu': 5621, 'hundred': 5622, 'hyper': 5623, 'iam': 5624, 'icky': 5625, 'ikea': 5626, 'immediately': 5627, 'imo': 5628, 'impatient': 5629, 'infamous': 5630, 'injury': 5631, 'innocent': 5632, 'internship': 5633, 'invites': 5634, 'jamie': 5635, 'jeep': 5636, 'johnny': 5637, 'jquery': 5638, 'julia': 5639, 'kanye': 5640, 'karma': 5641, 'kasi': 5642, 'killers': 5643, 'kindly': 5644, 'kung': 5645, 'laws': 5646, 'leading': 5647, 'learnt': 5648, 'leeds': 5649, 'legendary': 5650, 'leon': 5651, 'letters': 5652, 'liar': 5653, 'lift': 5654, 'lion': 5655, 'login': 5656, 'lolll': 5657, 'loosing': 5658, 'lotsa': 5659, 'luggage': 5660, 'luke': 5661, 'magical': 5662, 'maker': 5663, 'mami': 5664, 'mango': 5665, 'meantime': 5666, 'medium': 5667, 'mentions': 5668, 'migraine': 5669, 'milo': 5670, 'moore': 5671, 'mp3': 5672, 'mrtweet': 5673, 'mutual': 5674, 'nada': 5675, 'nasa': 5676, 'needing': 5677, 'needle': 5678, 'neighbours': 5679, 'nerve': 5680, 'newsletter': 5681, 'nighter': 5682, 'ninja': 5683, 'nintendo': 5684, 'nkotb': 5685, 'noooooo': 5686, 'nooooooooo': 5687, 'novel': 5688, 'nut': 5689, 'od': 5690, 'ohio': 5691, 'oldest': 5692, 'olive': 5693, 'ontario': 5694, 'oooooh': 5695, 'orders': 5696, 'organization': 5697, 'oth': 5698, 'outlet': 5699, 'overnight': 5700, 'p90x': 5701, 'pala': 5702, 'participate': 5703, 'patch': 5704, 'path': 5705, 'pattern': 5706, 'pause': 5707, 'pearl': 5708, 'peas': 5709, 'pepper': 5710, 'pepsi': 5711, 'permanent': 5712, 'perry': 5713, 'php': 5714, 'picky': 5715, 'pissing': 5716, 'pointed': 5717, 'pointing': 5718, 'policy': 5719, 'pow': 5720, 'premiere': 5721, 'presence': 5722, 'printer': 5723, 'priority': 5724, 'protein': 5725, 'provided': 5726, 'punishment': 5727, 'quest': 5728, 'quot;are': 5729, 'quot;good': 5730, 'quot;life': 5731, 'quot;one': 5732, 'quot;they': 5733, 'r.i.p': 5734, 'rad': 5735, 'ram': 5736, 'reception': 5737, 'recommends': 5738, 'recovered': 5739, 'register': 5740, 'regularly': 5741, 'remembers': 5742, 'remove': 5743, 'restart': 5744, 'rick': 5745, 'rider': 5746, 'rl': 5747, 'rocky': 5748, 'roommate': 5749, 'ruby': 5750, 'rumor': 5751, 'russian': 5752, 'salon': 5753, 'salsa': 5754, 'sandwiches': 5755, 'scares': 5756, 'scored': 5757, 'scrubs': 5758, 'secretly': 5759, 'sends': 5760, 'sentence': 5761, 'sequel': 5762, 'serving': 5763, 'shadow': 5764, 'shaking': 5765, 'shark': 5766, 'sharp': 5767, 'sheep': 5768, 'shld': 5769, 'shuffle': 5770, 'sides': 5771, 'sight': 5772, 'skipping': 5773, 'skittles': 5774, 'sleepin': 5775, 'snoring': 5776, 'solar': 5777, 'sorrry': 5778, 'spectacular': 5779, 'speechless': 5780, 'spelt': 5781, 'spill': 5782, 'spin': 5783, 'stickers': 5784, 'stood': 5785, 'stressing': 5786, 'stretch': 5787, 'strike': 5788, 'studies': 5789, 'suggested': 5790, 'summit': 5791, 'sunscreen': 5792, 'surrounded': 5793, 'survivors': 5794, 'sw': 5795, 'sweaty': 5796, 'sweety': 5797, 'swing': 5798, 'sympathy': 5799, 'syrup': 5800, 'systems': 5801, 'tab': 5802, 'taco': 5803, 'takin': 5804, 'tampa': 5805, 'tank': 5806, 'tb': 5807, 'tc': 5808, 'teachers': 5809, 'technical': 5810, 'ted': 5811, 'telly': 5812, 'temp': 5813, 'tesco': 5814, 'thailand': 5815, 'ther': 5816, 'thingsmummysaid': 5817, 'throws': 5818, 'tim': 5819, 'timeline': 5820, 'tks': 5821, 'tomato': 5822, 'tops': 5823, 'toss': 5824, 'touching': 5825, 'tournament': 5826, 'trains': 5827, 'trampoline': 5828, 'translation': 5829, 'transport': 5830, 'treats': 5831, 'tub': 5832, 'tweetin': 5833, 'typed': 5834, 'types': 5835, 'ughhhh': 5836, 'unavailable': 5837, 'utterly': 5838, 'vacations': 5839, 'veggies': 5840, 'volume': 5841, 'w00': 5842, 'wack': 5843, 'waffle': 5844, 'websites': 5845, 'wel': 5846, 'wellll': 5847, 'western': 5848, 'whatcha': 5849, 'whip': 5850, 'wld': 5851, 'wolf': 5852, 'worm': 5853, 'worn': 5854, 'worthy': 5855, 'writers': 5856, 'yankees': 5857, 'yell': 5858, 'yg': 5859, 'yoo': 5860, 'yorkshire': 5861, '®': 5862, 'ð²': 5863, 'ð¸': 5864, '.@boddingtons': 5865, '110': 5866, '120': 5867, '182': 5868, '2000': 5869, '23rd': 5870, '25th': 5871, '29th': 5872, '30th': 5873, '31': 5874, '4:30': 5875, '4got': 5876, '4ward': 5877, '55': 5878, '75': 5879, '80s': 5880, ';---': 5881, '@1vs100xboxlive': 5882, '@4boys4now': 5883, '@9_6': 5884, '@_dappy': 5885, '@_everaldo': 5886, '@_huny': 5887, '@_moisesarias': 5888, '@_natearchibald': 5889, '@_robin_sharma': 5890, '@_writersblock': 5891, '@a_web_designer': 5892, '@a_willow': 5893, '@aaronob': 5894, '@abeautifulmind1': 5895, '@abiban': 5896, '@acepower': 5897, '@acidicice': 5898, '@adcharlie': 5899, '@adrence': 5900, '@afwife08': 5901, '@ahmedzainal': 5902, '@akojen': 5903, '@alexderossi': 5904, '@alexisamore': 5905, '@alexlj': 5906, '@alibee16': 5907, '@alithered77': 5908, '@allangoesdmb': 5909, '@allieandra': 5910, '@allycupcake': 5911, '@ambee789': 5912, '@ames1103': 5913, '@amilya': 5914, '@amy__xx': 5915, '@amyriadfthings': 5916, '@anamariecox': 5917, '@anberlin': 5918, '@andrewbarnett': 5919, '@andrewbravener': 5920, '@andrewhuntre': 5921, '@andrewmoore24': 5922, '@aneehan': 5923, '@angel42579': 5924, '@angelayee': 5925, '@anitasetio': 5926, '@ann_aguirre': 5927, '@anna8687': 5928, '@annaantell': 5929, '@annaaralar': 5930, '@annasaccone': 5931, '@annlinny': 5932, '@anthony_y_tony': 5933, '@anthonycallea': 5934, '@anthonyjohnston': 5935, '@aquietmadness': 5936, '@archism': 5937, '@arianesherine': 5938, '@arielemoonfire': 5939, '@aschernathan': 5940, '@asher_book': 5941, '@ashfoo': 5942, '@ashjolliffe': 5943, '@astroboyisgay': 5944, '@atexasattitude': 5945, '@audaciousgloop': 5946, '@auditiondanny': 5947, '@aussie_matelc': 5948, '@avinio': 5949, '@aweekes': 5950, '@babyjew': 5951, '@bannedagain': 5952, '@barryzito': 5953, '@bash': 5954, '@bbrathwaite': 5955, '@beachmomof2': 5956, '@beamarqz': 5957, '@beartwinsmom': 5958, '@beckie0': 5959, '@becomingbella': 5960, '@bemeaningful': 5961, '@bern_morley': 5962, '@bethbrittbrand': 5963, '@bethenny': 5964, '@bethmcgrath': 5965, '@billy3': 5966, '@bkbap': 5967, '@blackkat1979': 5968, '@bogwhoppit': 5969, '@bonedwarf': 5970, '@breagrant': 5971, '@britttnicole': 5972, '@bryangwin': 5973, '@bt': 5974, '@bubblegarm': 5975, '@c2s': 5976, '@c_joy': 5977, '@carinak': 5978, '@caroljs': 5979, '@cartphotography': 5980, '@casual_intruder': 5981, '@cause4conceit': 5982, '@chadmichmurray': 5983, '@change_for_iran': 5984, '@changibedsheets': 5985, '@chantelleaustin': 5986, '@charlotteis': 5987, '@chelseasms': 5988, '@chibialfa': 5989, '@chillybreck': 5990, '@chriscuomo': 5991, '@chrissyisms': 5992, '@chrys73': 5993, '@clarissasays': 5994, '@collin_wolfboy': 5995, '@crochetgal': 5996, '@jackalltimelow': 5997, '@marginatasnaily': 5998, '^.^': 5999, 'a.': 6000, 'aaw': 6001, 'aboard': 6002, 'addicting': 6003, 'addition': 6004, 'adobe': 6005, 'adrian': 6006, 'adventures': 6007, 'affect': 6008, 'affected': 6009, 'african': 6010, 'agenda': 6011, 'ahhhhhh': 6012, 'ak': 6013, 'alrighty': 6014, 'alto': 6015, 'americans': 6016, 'android': 6017, 'ani': 6018, 'ap': 6019, 'appreciation': 6020, 'ar': 6021, 'areas': 6022, 'attacks': 6023, 'attempting': 6024, 'attractive': 6025, 'auction': 6026, 'autograph': 6027, 'automatically': 6028, 'avoiding': 6029, 'awaiting': 6030, 'azz': 6031, 'babysitting': 6032, 'badge': 6033, 'bald': 6034, 'bananas': 6035, 'banner': 6036, 'base': 6037, 'basement': 6038, 'bebo': 6039, 'begun': 6040, 'belgium': 6041, 'beloved': 6042, 'bestest': 6043, 'besties': 6044, 'bicycle': 6045, 'blessing': 6046, 'blogger': 6047, 'blogtv': 6048, 'blowing': 6049, 'booty': 6050, 'bounce': 6051, 'bravo': 6052, 'brenda': 6053, 'brokeback': 6054, 'buenos': 6055, 'buffalo': 6056, 'canberra': 6057, 'caring': 6058, 'carmen': 6059, 'catherine': 6060, 'celebrities': 6061, 'cents': 6062, 'cept': 6063, 'chai': 6064, 'challenges': 6065, 'championship': 6066, 'cheered': 6067, 'chemistry': 6068, 'chester': 6069, 'chili': 6070, 'chillen': 6071, 'chk': 6072, 'christopher': 6073, 'chu': 6074, 'chuckle': 6075, 'clicking': 6076, 'clips': 6077, 'clumsy': 6078, 'coaching': 6079, 'coat': 6080, 'com': 6081, 'comcast': 6082, 'comfy': 6083, 'commentary': 6084, 'commercials': 6085, 'comparison': 6086, 'compliments': 6087, 'connecting': 6088, 'converted': 6089, 'convinced': 6090, 'cop': 6091, 'cord': 6092, 'correctly': 6093, 'county': 6094, 'coursework': 6095, 'cows': 6096, 'cranky': 6097, 'crawl': 6098, 'crib': 6099, 'crime': 6100, 'crisp': 6101, 'croissant': 6102, 'crown': 6103, 'css': 6104, 'cups': 6105, 'cycling': 6106, 'danced': 6107, 'dances': 6108, 'deals': 6109, 'dec': 6110, 'dee': 6111, 'deff': 6112, 'denver': 6113, 'deny': 6114, 'derek': 6115, 'describe': 6116, 'device': 6117, 'dew': 6118, 'dice': 6119, 'disappear': 6120, 'disco': 6121, 'discovery': 6122, 'disease': 6123, 'dizzy': 6124, 'domain': 6125, 'don`t': 6126, 'dosent': 6127, 'dragging': 6128, 'dressing': 6129, 'dryer': 6130, 'echelon': 6131, 'economy': 6132, 'education': 6133, 'effective': 6134, 'elementary': 6135, 'elle': 6136, 'encouragement': 6137, 'enjoyable': 6138, 'entertained': 6139, 'enthusiasm': 6140, 'errors': 6141, 'espn': 6142, 'expectations': 6143, 'explanation': 6144, 'expo': 6145, 'external': 6146, 'facing': 6147, 'fathers': 6148, 'females': 6149, 'filipino': 6150, 'filming': 6151, 'fist': 6152, 'flippin': 6153, 'flirting': 6154, 'foster': 6155, 'frankie': 6156, 'g2': 6157, 'gap': 6158, 'gary': 6159, 'gel': 6160, 'generation': 6161, 'genuinely': 6162, 'geography': 6163, 'ginger': 6164, 'gnight': 6165, 'govt': 6166, 'grades': 6167, 'grandmother': 6168, 'grant': 6169, 'gravity': 6170, 'greater': 6171, 'groovy': 6172, 'guarantee': 6173, 'guard': 6174, 'haa': 6175, 'ham': 6176, 'hammer': 6177, 'hangs': 6178, 'harper': 6179, 'harris': 6180, 'hayfever': 6181, 'haze': 6182, 'helmet': 6183, 'hike': 6184, 'hilton': 6185, 'hoe': 6186, 'holland': 6187, 'homeless': 6188, 'honesty': 6189, 'horribly': 6190, 'hotness': 6191, 'houses': 6192, 'housework': 6193, 'howarewe': 6194, 'http://twitpic.com/6ercx': 6195, 'humidity': 6196, 'hunger': 6197, 'hurricane': 6198, 'hve': 6199, 'imagination': 6200, 'imax': 6201, 'improvement': 6202, 'improving': 6203, 'index': 6204, 'inner': 6205, 'insanely': 6206, 'inspirational': 6207, 'invitation': 6208, 'iphones': 6209, 'iranian': 6210, 'ironing': 6211, 'irony': 6212, 'ist': 6213, 'itchy': 6214, 'itt': 6215, 'itâ´s': 6216, 'ivy': 6217, 'jackie': 6218, 'jailbreak': 6219, 'jaw': 6220, 'jean': 6221, 'jesse': 6222, 'joint': 6223, 'joys': 6224, 'kansas': 6225, 'kewl': 6226, 'ki': 6227, 'kinds': 6228, 'kl': 6229, 'lap': 6230, 'lautner': 6231, 'leads': 6232, 'lean': 6233, 'lemonade': 6234, 'length': 6235, 'liam': 6236, 'lied': 6237, 'life&quot': 6238, 'likey': 6239, 'lindsay': 6240, 'lions': 6241, 'liquor': 6242, 'listenin': 6243, 'lists': 6244, 'lls': 6245, 'lols': 6246, 'loooove': 6247, 'loses': 6248, 'lt;3&lt;3&lt;3': 6249, 'lucy': 6250, 'machines': 6251, 'macs': 6252, 'maggie': 6253, 'mailing': 6254, 'mails': 6255, 'mam': 6256, 'manual': 6257, 'mariah': 6258, 'marie': 6259, 'marriage': 6260, 'mars': 6261, 'mayer': 6262, 'md': 6263, 'meetup': 6264, 'meme': 6265, 'memo': 6266, 'minor': 6267, 'mitchel': 6268, 'monthly': 6269, 'moods': 6270, 'mowing': 6271, 'mug': 6272, 'muscle': 6273, 'muse': 6274, 'mystery': 6275, 'nahh': 6276, 'nashville': 6277, 'natal': 6278, 'needa': 6279, 'netball': 6280, 'nikon': 6281, 'nina': 6282, 'nm': 6283, 'nods': 6284, 'nonetheless': 6285, 'norway': 6286, 'nowww': 6287, \"o'clock\": 6288, 'o2': 6289, 'offense': 6290, 'offers': 6291, 'okayy': 6292, 'okey': 6293, 'okie': 6294, 'okies': 6295, 'omggg': 6296, 'ooohhh': 6297, 'op': 6298, 'opens': 6299, 'oregon': 6300, 'originally': 6301, 'out&quot': 6302, 'outdoor': 6303, 'outlook': 6304, 'ova': 6305, 'overseas': 6306, 'oxford': 6307, 'pairs': 6308, 'parked': 6309, 'passport': 6310, 'patron': 6311, 'paula': 6312, 'payment': 6313, 'peak': 6314, 'pfft': 6315, 'phrase': 6316, 'pickle': 6317, 'pierced': 6318, 'pint': 6319, 'pirate': 6320, 'playin': 6321, 'plugged': 6322, 'pman': 6323, 'pockets': 6324, 'poet': 6325, 'pokemon': 6326, 'polar': 6327, 'popping': 6328, 'portable': 6329, 'portuguese': 6330, 'postcards': 6331, 'posters': 6332, 'postponed': 6333, 'potato': 6334, 'precisely': 6335, 'pregnant': 6336, 'preparing': 6337, 'presume': 6338, 'pretending': 6339, 'prime': 6340, 'probly': 6341, 'procrastinating': 6342, 'produce': 6343, 'pronounced': 6344, 'provide': 6345, 'pussy': 6346, 'queue': 6347, 'quot;im': 6348, 'quot;to': 6349, 'quot;twitter': 6350, 'quot;well': 6351, 'rage': 6352, 'rally': 6353, 'randomly': 6354, 'rat': 6355, 'rebecca': 6356, 'recital': 6357, 'recommended': 6358, 'refund': 6359, 'reg': 6360, 'regards': 6361, 'rejects': 6362, 'relatives': 6363, 'religion': 6364, 'remain': 6365, 'rested': 6366, 'resting': 6367, 'resume': 6368, 'retired': 6369, 'retweeting': 6370, 'retweets': 6371, 'revolution': 6372, 'roads': 6373, 'robot': 6374, 'roger': 6375, 'rogers': 6376, 'roots': 6377, 'rove': 6378, 'runner': 6379, 'sadface': 6380, 'sammy': 6381, 'sana': 6382, 'satisfied': 6383, 'screamed': 6384, 'seein': 6385, 'sem': 6386, 'sept': 6387, 'setup': 6388, 'shareholder': 6389, 'shares': 6390, 'shaunjumpnow': 6391, 'sheets': 6392, 'shell': 6393, 'shipped': 6394, 'shite': 6395, 'sin': 6396, 'sip': 6397, 'slip': 6398, 'smashed': 6399, 'snacks': 6400, 'sniffs': 6401, 'snl': 6402, 'soaked': 6403, 'soggy': 6404, 'sorts': 6405, 'sounding': 6406, 'soy': 6407, 'sp': 6408, 'sparks': 6409, 'speaks': 6410, 'spy': 6411, 'ss': 6412, 'staring': 6413, 'stephen': 6414, 'stepped': 6415, 'sth': 6416, 'sticking': 6417, 'stitches': 6418, 'streets': 6419, 'struggle': 6420, 'struggling': 6421, 'stuffs': 6422, 'sub': 6423, 'submit': 6424, 'subs': 6425, 'sunburnt': 6426, 'supported': 6427, 'tail': 6428, 'teams': 6429, 'television': 6430, 'thang': 6431, 'thesis': 6432, \"they're\": 6433, 'thick': 6434, 'thn': 6435, 'thoroughly': 6436, 'threat': 6437, 'thy': 6438, 'tongue': 6439, 'tonys': 6440, 'tracking': 6441, 'treated': 6442, 'tricky': 6443, 'tropical': 6444, 'troubles': 6445, 'tru': 6446, 'tt': 6447, 'tuna': 6448, 'twitterific': 6449, 'twitterverse': 6450, 'u2': 6451, 'uncomfortable': 6452, 'uniform': 6453, 'usawantsmcfly': 6454, 'usb': 6455, 'utah': 6456, 'vanessa': 6457, 'variety': 6458, 'vegetarian': 6459, 'venezuela': 6460, 'violence': 6461, 'virginia': 6462, 'visual': 6463, 'volunteer': 6464, 'votemcfly': 6465, 'wales': 6466, 'walks': 6467, 'warned': 6468, 'webcast': 6469, 'weekly': 6470, 'weirdo': 6471, 'whats': 6472, 'wheels': 6473, 'whew': 6474, 'whyy': 6475, 'wikipedia': 6476, 'wildlife': 6477, 'william': 6478, 'wimbledon': 6479, 'wines': 6480, 'wks': 6481, 'worlds': 6482, 'woulda': 6483, 'wth': 6484, 'www.m2e.asia': 6485, 'yaay': 6486, 'yaya': 6487, 'yesssss': 6488, 'you!&quot': 6489, 'yumm': 6490, 'zomg': 6491, '¿': 6492, 'ðº': 6493, 'ù': 6494, '          ': 6495, \"'coz\": 6496, '(=': 6497, '._.': 6498, '19th': 6499, '2007': 6500, '24/7': 6501, '2b': 6502, '2gether': 6503, '38': 6504, '5:30': 6505, '600': 6506, '97': 6507, '@09casper': 6508, '@14eleven': 6509, '@1cutechicwitfm': 6510, '@23graeme23': 6511, '@5dollardinners': 6512, '@_freya': 6513, '@_lauren_mallory': 6514, '@_micster': 6515, '@_nanu': 6516, '@_slamma': 6517, '@abcmsaj': 6518, '@abs1399': 6519, '@ac_1': 6520, '@accessories_uk': 6521, '@acummings': 6522, '@adapaavi': 6523, '@adbert': 6524, '@addie_c': 6525, '@addiiee': 6526, '@adri_mane': 6527, '@adventuregirl': 6528, '@adychou': 6529, '@aeriagames': 6530, '@aha_com': 6531, '@ahisme': 6532, '@aimeej16': 6533, '@airbase': 6534, '@airrun': 6535, '@aiyerchitra': 6536, '@aiysha': 6537, '@akashathekitty': 6538, '@akiralove': 6539, '@alanbleiweiss': 6540, '@aleshabell': 6541, '@alexanderrybak': 6542, '@alexiskn': 6543, '@alexjreid': 6544, '@alexrk': 6545, '@alextrup': 6546, '@allieloves': 6547, '@allyayr': 6548, '@allyheartsbb': 6549, '@allymcfly': 6550, '@alonis': 6551, '@alysheeapm': 6552, '@amandacolbert': 6553, '@ambienteer': 6554, '@amf7': 6555, '@amiestuart': 6556, '@amoir': 6557, '@amyelectro': 6558, '@amykachurak': 6559, '@amykant': 6560, '@amylovesoliver': 6561, '@anastasialoxley': 6562, '@aneezd': 6563, '@angelibarra': 6564, '@angiebeyince': 6565, '@angiecas': 6566, '@angpang': 6567, '@angryaussie': 6568, '@angryfeet': 6569, '@anikoheartsjon': 6570, '@annatl': 6571, '@anneaam': 6572, '@annettedubow': 6573, '@annhesketh': 6574, '@antonycotton': 6575, '@ap4a': 6576, '@appletartlet': 6577, '@april_miss': 6578, '@ardenkhan': 6579, '@arianna_skye': 6580, '@arikhanson': 6581, '@arjunghosh': 6582, '@armano': 6583, '@arnaudjacobs': 6584, '@ashleybella': 6585, '@ashleyluvsjbvfc': 6586, '@askajanything': 6587, '@askseesmic': 6588, '@aspaphoto': 6589, '@aspo1': 6590, '@atraz': 6591, '@aussiegal999': 6592, '@austincarlile': 6593, '@authenticstyle': 6594, '@avrilchan': 6595, '@awesomefrank': 6596, '@ayumi_rollan': 6597, '@azuritetalk': 6598, '@b0rr15': 6599, '@babydollniki': 6600, '@babyrabies': 6601, '@badastronomer': 6602, '@balance510': 6603, '@bananza': 6604, '@banerji1': 6605, '@banjoist123': 6606, '@barackobama': 6607, '@barbiechick3004': 6608, '@basedmagazine': 6609, '@basseyworld': 6610, '@bawldguy': 6611, '@bbl0ve': 6612, '@beckyhope': 6613, '@beejiveim': 6614, '@belindaang': 6615, '@bendyystrawz': 6616, '@bentriderro': 6617, '@bersheba': 6618, '@bex_1210': 6619, '@billingtonart': 6620, '@bizziefan': 6621, '@bleakey': 6622, '@blobyblo': 6623, '@blueeyedgirl18': 6624, '@bmthofficial': 6625, '@bradhfh': 6626, '@brampitoyo': 6627, '@brandystrippers': 6628, '@brinshannara': 6629, '@brucel': 6630, '@bryanricard': 6631, '@bullyinguk': 6632, '@butchtastickyle': 6633, '@c_dig': 6634, '@canadasmichelle': 6635, '@candice_jo': 6636, '@carepathways': 6637, '@carlamedina': 6638, '@carlos_teran': 6639, '@carolinejjordan': 6640, '@carsonjdaly': 6641, '@casanovajsandy': 6642, '@catawu': 6643, '@centerpet': 6644, '@cfdj71': 6645, '@champagnerdub': 6646, '@charleneortiz': 6647, '@chasingangel82': 6648, '@chavie101': 6649, '@chelseaparadiso': 6650, '@cherrim': 6651, '@cherrytreerec': 6652, '@childrensjewell': 6653, '@chipcoffey': 6654, '@chrisandcal': 6655, '@chrissy89': 6656, '@chubbygayman': 6657, '@cindicupcaking': 6658, '@cityrat59': 6659, '@claire_cordon': 6660, '@clostar14': 6661, '@cloverdash': 6662, '@cocotteloup': 6663, '@cognoscento': 6664, '@colleenlindsay': 6665, '@colocelt': 6666, '@courageous_one': 6667, '@creattica': 6668, '@creaturecomfort': 6669, '@crystaljordan': 6670, '@cterry1985': 6671, '@davidarchie': 6672, '@tomfelton': 6673, '@tommcfly': 6674, 'aa': 6675, 'aahhh': 6676, 'abandoned': 6677, 'adjust': 6678, 'advert': 6679, 'agency': 6680, 'agent': 6681, 'agrees': 6682, 'aidan': 6683, 'aimee': 6684, 'aliens': 6685, 'alison': 6686, 'alll': 6687, 'altho': 6688, 'amongst': 6689, 'amused': 6690, 'angeles': 6691, 'annoy': 6692, 'annual': 6693, 'antonio': 6694, 'ants': 6695, 'apparent': 6696, 'approval': 6697, 'arena': 6698, 'argument': 6699, 'ari': 6700, 'arriving': 6701, 'arrow': 6702, 'arts': 6703, 'assignments': 6704, 'atlantic': 6705, 'au': 6706, 'austria': 6707, 'avail': 6708, 'awwwwwww': 6709, \"b'day\": 6710, 'backing': 6711, 'backstreet': 6712, 'bagels': 6713, 'bak': 6714, 'balloon': 6715, 'bam': 6716, 'bangs': 6717, 'batch': 6718, 'bball': 6719, 'bbm': 6720, 'beck': 6721, 'behave': 6722, 'believing': 6723, 'belive': 6724, 'bells': 6725, 'bend': 6726, 'bev': 6727, 'bid': 6728, 'biking': 6729, 'biscuits': 6730, 'blanket': 6731, 'blip.fm': 6732, 'bloggers': 6733, 'bloke': 6734, 'blueberry': 6735, 'bluetooth': 6736, 'blush': 6737, 'bom': 6738, 'bone': 6739, 'boobs': 6740, 'borrowed': 6741, 'boyfriends': 6742, 'bra': 6743, 'bracelet': 6744, 'braces': 6745, 'brandi': 6746, 'breakdown': 6747, 'brewing': 6748, 'bri': 6749, 'brighten': 6750, 'bristol': 6751, 'britain': 6752, 'britt': 6753, 'broadband': 6754, 'bron': 6755, 'bruised': 6756, 'brush': 6757, 'bubbles': 6758, 'buffet': 6759, 'bump': 6760, 'bush': 6761, 'butterfly': 6762, 'buys': 6763, 'callin': 6764, 'calvin': 6765, 'camper': 6766, 'capacity': 6767, 'caramel': 6768, 'causes': 6769, 'cellphone': 6770, 'champagne': 6771, 'chan': 6772, 'chasing': 6773, 'chatty': 6774, 'cheated': 6775, 'cheek': 6776, 'cheryl': 6777, 'chilly': 6778, 'chipotle': 6779, 'choc': 6780, 'chocolates': 6781, 'chores': 6782, 'christina': 6783, 'christine': 6784, 'cindy': 6785, 'circus': 6786, 'cities': 6787, 'claim': 6788, 'claims': 6789, 'cm': 6790, 'cmd': 6791, 'coding': 6792, 'cole': 6793, 'collaboration': 6794, 'collect': 6795, 'collecting': 6796, 'cologne': 6797, 'combine': 6798, 'comet': 6799, 'comming': 6800, 'communication': 6801, 'compatible': 6802, 'conclusion': 6803, 'connections': 6804, 'console': 6805, 'convenient': 6806, 'coolness': 6807, 'cope': 6808, 'copyright': 6809, 'corny': 6810, 'corrected': 6811, 'correction': 6812, 'cougar': 6813, 'coupons': 6814, 'crackers': 6815, 'crave': 6816, 'creating': 6817, 'cred': 6818, 'cuddles': 6819, 'cultural': 6820, 'curl': 6821, 'damit': 6822, 'danity': 6823, 'dar': 6824, 'das': 6825, 'deffo': 6826, 'definite': 6827, 'delongeday': 6828, 'dem': 6829, 'demons': 6830, 'denmark': 6831, 'der': 6832, 'designed': 6833, 'designing': 6834, 'desire': 6835, 'destiny': 6836, 'developing': 6837, 'dexter': 6838, 'diabetes': 6839, 'dial': 6840, 'differently': 6841, 'diggin': 6842, 'dilemma': 6843, 'dock': 6844, 'dodgers': 6845, \"doin'\": 6846, 'dollhouse': 6847, 'donnie': 6848, 'dose': 6849, 'douche': 6850, 'drain': 6851, 'drown': 6852, 'drug': 6853, 'dt': 6854, 'ducks': 6855, 'dumped': 6856, 'dx': 6857, 'dylan': 6858, 'e.': 6859, 'eager': 6860, 'earned': 6861, 'ease': 6862, 'eep': 6863, 'elections': 6864, 'electricity': 6865, 'elmo': 6866, 'engaged': 6867, 'enuff': 6868, 'era': 6869, 'essays': 6870, 'euro': 6871, 'exclusive': 6872, 'existence': 6873, 'experiencing': 6874, 'exposure': 6875, 'express': 6876, 'fabric': 6877, 'faint': 6878, 'fairy': 6879, 'fare': 6880, 'fascinating': 6881, 'favour': 6882, 'favourites': 6883, 'fee': 6884, 'fer': 6885, 'filmed': 6886, 'financial': 6887, 'finds': 6888, 'finland': 6889, 'fir': 6890, 'fireworks': 6891, 'firmware': 6892, 'fishy': 6893, 'flock': 6894, 'fluffy': 6895, 'fm': 6896, 'fond': 6897, 'footage': 6898, 'foreign': 6899, 'forgiven': 6900, 'formal': 6901, 'former': 6902, 'fred': 6903, 'frost': 6904, 'frosting': 6905, 'fs': 6906, 'fund': 6907, 'fwd': 6908, 'gadget': 6909, 'gals': 6910, 'gates': 6911, 'geeky': 6912, 'gene': 6913, 'germs': 6914, 'girlies': 6915, 'glimpse': 6916, 'gloomy': 6917, 'glue': 6918, 'goodie': 6919, 'goods': 6920, 'goofy': 6921, 'goto': 6922, 'grabs': 6923, 'gray': 6924, 'greece': 6925, 'greedy': 6926, 'greeting': 6927, 'greg': 6928, 'guild': 6929, 'guru': 6930, 'gutter': 6931, 'habits': 6932, 'hahahha': 6933, 'hairy': 6934, 'halfway': 6935, 'hamster': 6936, 'hats': 6937, 'hawt': 6938, 'hayley': 6939, 'header': 6940, 'heal': 6941, 'heater': 6942, 'herd': 6943, 'heyyyy': 6944, 'hhrs': 6945, 'hiatus': 6946, 'hips': 6947, 'homepage': 6948, 'homesick': 6949, 'honour': 6950, 'horror': 6951, 'horses': 6952, 'howard': 6953, 'howz': 6954, 'http://bit.ly/votetom': 6955, 'http://twitpic.com/5f798': 6956, 'humid': 6957, 'hut': 6958, 'hyped': 6959, \"i'd\": 6960, 'ich': 6961, 'icons': 6962, 'ignorant': 6963, 'ihate': 6964, 'illegal': 6965, 'impact': 6966, 'improved': 6967, 'imy': 6968, 'includes': 6969, 'independent': 6970, 'indie': 6971, 'infected': 6972, 'influence': 6973, 'instrument': 6974, 'intelligence': 6975, 'intro': 6976, 'introducing': 6977, 'ip': 6978, 'itouch': 6979, 'itz': 6980, 'itï¿½s': 6981, 'jaljeera': 6982, 'javaone': 6983, 'je': 6984, 'jenny': 6985, 'jill': 6986, 'johns': 6987, 'journalism': 6988, 'jr': 6989, 'julie': 6990, 'justice': 6991, 'k.': 6992, 'kan': 6993, 'kane': 6994, 'karen': 6995, 'kc': 6996, 'kindness': 6997, 'kingdom': 6998, 'kk': 6999, 'knackered': 7000, 'knitting': 7001, 'kong': 7002, 'korea': 7003, 'korean': 7004, 'kristen': 7005, 'l0l': 7006, 'lala': 7007, 'lambert': 7008, 'lappy': 7009, 'laps': 7010, 'laptops': 7011, 'larry': 7012, 'lashes': 7013, 'last.fm': 7014, 'latte': 7015, 'leader': 7016, 'leadership': 7017, 'leaked': 7018, 'leno': 7019, 'lewis': 7020, 'lex': 7021, 'lick': 7022, 'likewise': 7023, 'locations': 7024, 'lofnotc': 7025, 'logged': 7026, 'lollll': 7027, 'loool': 7028, 'lor': 7029, 'lt;3333': 7030, 'lunchtime': 7031, 'm&amp;g': 7032, 'majority': 7033, 'marcus': 7034, 'margarita': 7035, 'marvelous': 7036, 'maryland': 7037, 'matey': 7038, 'mbp': 7039, 'meow': 7040, 'messenger': 7041, 'method': 7042, 'mic': 7043, 'michigan': 7044, 'midwest': 7045, 'milkshake': 7046, 'minimal': 7047, 'miracle': 7048, 'mk': 7049, 'module': 7050, 'molly': 7051, 'monitors': 7052, 'moody': 7053, 'muack': 7054, 'muchly': 7055, 'muffin': 7056, 'mush': 7057, 'nao': 7058, 'nat': 7059, 'naww': 7060, 'ncis': 7061, 'neighbour': 7062, 'nerds': 7063, 'netherlands': 7064, 'newbie': 7065, 'nicest': 7066, 'nih': 7067, 'nk': 7068, 'no1': 7069, 'noob': 7070, 'nooooooo': 7071, 'noooooooooo': 7072, 'noted': 7073, 'nothingpersonal': 7074, 'notifications': 7075, 'nov': 7076, 'nudge': 7077, 'oatmeal': 7078, 'ohhhhh': 7079, 'oj': 7080, 'oliver': 7081, 'olivia': 7082, 'onions': 7083, 'ooooo': 7084, 'operating': 7085, 'oprah': 7086, 'oracle': 7087, 'ordinary': 7088, 'oreos': 7089, 'organic': 7090, 'organize': 7091, 'owners': 7092, 'oyster': 7093, 'p2': 7094, 'pac': 7095, 'packet': 7096, 'pakcricket': 7097, 'par': 7098, 'passionate': 7099, 'patient': 7100, 'pays': 7101, 'pea': 7102, 'peer': 7103, 'penis': 7104, 'perez': 7105, 'performed': 7106, 'permit': 7107, 'petition': 7108, 'phase': 7109, 'physical': 7110, 'pill': 7111, 'pineapple': 7112, 'pitched': 7113, 'pleasee': 7114, 'plot': 7115, 'pod': 7116, 'poke': 7117, 'poppin': 7118, 'portland': 7119, 'possibility': 7120, 'programming': 7121, 'property': 7122, 'protection': 7123, 'psh': 7124, 'psyched': 7125, 'pune': 7126, 'quitting': 7127, 'quot;can': 7128, \"quot;can't\": 7129, 'quot;did': 7130, 'quot;for': 7131, 'quot;get': 7132, 'quot;hi': 7133, 'quot;hi&quot': 7134, 'quot;never': 7135, 'quot;real': 7136, 'quot;shut': 7137, \"quot;we're\": 7138, 'quot;welcome': 7139, 'quot;yeah': 7140, 'quoting': 7141, 'rabbit': 7142, 'rach': 7143, 'rant': 7144, 'rape': 7145, 'rats': 7146, 'recession': 7147, 'recognise': 7148, 'refer': 7149, 'refuse': 7150, 'relaxed': 7151, 'relay': 7152, 'relevant': 7153, 'remaining': 7154, 'remains': 7155, 'repost': 7156, 'requested': 7157, 'requires': 7158, 'responded': 7159, 'responsibility': 7160, 'responsible': 7161, 'richard': 7162, 'ridiculously': 7163, 'rio': 7164, 'ripped': 7165, 'roadtrip': 7166, 'robotpickuplines': 7167, 'rocket': 7168, 'rollin': 7169, 'roomie': 7170, 'routine': 7171, 'ru': 7172, 'russ': 7173, 'rusty': 7174, 'sac': 7175, 'safety': 7176, 'sand': 7177, 'santa': 7178, 'sarcasm': 7179, 'sb': 7180, 'scam': 7181, 'scenes': 7182, 'schedules': 7183, 'scrabble': 7184, 'screams': 7185, 'seal': 7186, 'sed': 7187, 'seek': 7188, 'separate': 7189, 'sewing': 7190, 'sg': 7191, 'sh': 7192, 'shade': 7193, 'shaheen': 7194, 'shaving': 7195, 'shoulders': 7196, 'shouted': 7197, 'shrimp': 7198, 'sidebar': 7199, 'sih': 7200, 'sims3': 7201, 'sink': 7202, 'sizes': 7203, 'skill': 7204, 'slash': 7205, 'sleepover': 7206, 'slower': 7207, 'smelling': 7208, 'smelly': 7209, 'snack': 7210, 'sniffles': 7211, 'sod': 7212, 'solve': 7213, 'solved': 7214, 'soundtrack': 7215, 'southern': 7216, 'spamming': 7217, 'speaker': 7218, 'speedy': 7219, 'spicy': 7220, 'sprint': 7221, 'squee': 7222, 'squeeze': 7223, 'squid': 7224, 'stadium': 7225, 'standards': 7226, 'stat': 7227, 'steph': 7228, 'sticky': 7229, 'stroke': 7230, 'stronger': 7231, 'struck': 7232, 'submission': 7233, 'suicide': 7234, 'suitcase': 7235, 'summertime': 7236, 'suns': 7237, 'surfing': 7238, 'surprisingly': 7239, 'suspended': 7240, 'swan': 7241, 'swedish': 7242, 'sweetest': 7243, 'swell': 7244, 'taiwan': 7245, 'tanks': 7246, 'tasks': 7247, 'tasted': 7248, 'tay': 7249, 'teary': 7250, 'teenage': 7251, 'temptation': 7252, 'terrier': 7253, 'tested': 7254, 'tetris': 7255, 'themes': 7256, 'thousands': 7257, 'thunderstorms': 7258, 'tidy': 7259, 'tissues': 7260, 'tits': 7261, 'tmw': 7262, 'todays': 7263, 'tokyo': 7264, 'tone': 7265, 'tot': 7266, 'towel': 7267, 'tower': 7268, 'trippin': 7269, 'twins': 7270, 'twist': 7271, 'twitter&quot': 7272, 'twitterers': 7273, 'twitting': 7274, 'tylenol': 7275, 'tyvm': 7276, 'underneath': 7277, 'unexpected': 7278, 'union': 7279, 'unlocked': 7280, 'unreal': 7281, 'upgraded': 7282, 'upside': 7283, 'upstairs': 7284, 'uve': 7285, 'vagina': 7286, 'val': 7287, 'valuable': 7288, 'vibes': 7289, 'viewing': 7290, 'village': 7291, 'vines': 7292, 'visa': 7293, 'waffles': 7294, 'waist': 7295, 'wallpaper': 7296, 'warmer': 7297, 'warming': 7298, 'wayne': 7299, 'wbu': 7300, \"we're\": 7301, 'weakness': 7302, 'weed': 7303, 'wer': 7304, 'wheel': 7305, 'whine': 7306, 'whiskey': 7307, 'whoops': 7308, 'wig': 7309, 'wil': 7310, 'williams': 7311, 'wing': 7312, 'winks': 7313, 'wipe': 7314, 'wiv': 7315, 'woof': 7316, 'worker': 7317, 'wp': 7318, 'xml': 7319, 'xoxoxo': 7320, 'xxxxxxx': 7321, 'yaaaay': 7322, 'yang': 7323, 'yeaah': 7324, 'yeap': 7325, 'yew': 7326, 'yip': 7327, 'you?&quot': 7328, 'zach': 7329, 'zack': 7330, '||': 7331, 'ì': 7332, '        ': 7333, \"'cos\": 7334, '-i': 7335, '1030': 7336, '10th': 7337, '11:11': 7338, '140conf': 7339, '2.2.1': 7340, '2006': 7341, '22nd': 7342, '250': 7343, '2:30': 7344, '2mrw': 7345, '30stm': 7346, '42': 7347, '47': 7348, '62': 7349, '7:30': 7350, '800': 7351, '900': 7352, '90210': 7353, '90s': 7354, '9:30': 7355, ':-|': 7356, ':x': 7357, '@0mgiitzree': 7358, '@1_pink_fan': 7359, '@1ele': 7360, '@1rick': 7361, '@254mochacharlie': 7362, '@30stmwithjared': 7363, '@3heelshigh': 7364, '@3minds': 7365, '@3oh3pfr': 7366, '@3thbi': 7367, '@4evaurgirl': 7368, '@4goggas': 7369, '@4rustedhorses': 7370, '@9er': 7371, '@__kizzle': 7372, '@_callmecourt': 7373, '@_dznr': 7374, '@_idance19': 7375, '@_iwade': 7376, '@_janet': 7377, '@_jayytee': 7378, '@_rosiecakes': 7379, '@_tranquilize': 7380, '@_wren': 7381, '@_xbianca': 7382, '@a7x_bat_angel': 7383, '@a_spastic_tiger': 7384, '@aafreen': 7385, '@aaronrgillespie': 7386, '@abbyyyy': 7387, '@abiface': 7388, '@abigaelettuce': 7389, '@abigaill': 7390, '@abiteofsanity': 7391, '@absturbation': 7392, '@abzquine': 7393, '@actionchick': 7394, '@adam9344': 7395, '@adam_lambert': 7396, '@adambusch': 7397, '@adamcoomes': 7398, '@adamrphoto': 7399, '@adamtylerx': 7400, '@adamwc': 7401, '@adiejonas': 7402, '@admance': 7403, '@adrianna': 7404, '@adrianpesebre': 7405, '@adriarichards': 7406, '@adriwadri': 7407, '@adzada': 7408, '@afficionados_hh': 7409, '@afreshmusic': 7410, '@africanabc': 7411, '@aftashok': 7412, '@agent_x': 7413, '@aimizubouken': 7414, '@ajaedandridge': 7415, '@ajuonline': 7416, '@akavirtualpa': 7417, '@akgovsarahpalin': 7418, '@alabamawhirly': 7419, '@alandistro': 7420, '@aldorisolvo': 7421, '@aleenia': 7422, '@alethe': 7423, '@algebraoverdose': 7424, '@alicecullen4': 7425, '@aliciawag': 7426, '@aliyoopah': 7427, '@all': 7428, '@allan1850': 7429, '@allanasaur': 7430, '@alliecobra': 7431, '@alliewayfilms': 7432, '@allstaralice': 7433, '@allyeatscat': 7434, '@allysonalfonso': 7435, '@almienova': 7436, '@almostlikesushi': 7437, '@alohabruce': 7438, '@alpacafarmgirl': 7439, '@alsharptongue': 7440, '@altepper': 7441, '@alwaysloveu_ci': 7442, '@am13er': 7443, '@amberlinam': 7444, '@amberwhiting': 7445, '@amelia_grace': 7446, '@ameym21': 7447, '@amiesc': 7448, '@amileegrant': 7449, '@ammiisaurusrexx': 7450, '@amon91': 7451, '@amongststars': 7452, '@amyalltimelow': 7453, '@amyjade': 7454, '@anacristina78': 7455, '@andersoncooper': 7456, '@andieliz15': 7457, '@anditisliz': 7458, '@andreakoeln': 7459, '@andreaurbanfox': 7460, '@andrewghayes': 7461, '@andrewschof': 7462, '@andy_bloch': 7463, '@andy_watt': 7464, '@andygriffwozere': 7465, '@andytaylorsonic': 7466, '@angela_webber': 7467, '@angelakeen': 7468, '@angelashushan': 7469, '@angelkiss283': 7470, '@angesbiz': 7471, '@angielala': 7472, '@angrybritain': 7473, '@anne_a4l': 7474, '@annieqpr': 7475, '@annreywil': 7476, '@annwhit': 7477, '@antiuse': 7478, '@antsmoove': 7479, '@anyidiot': 7480, '@appstoremod': 7481, '@aprilfilms': 7482, '@aprilshotyou': 7483, '@arabsodmg': 7484, '@arctic_penguin': 7485, '@ariestotle': 7486, '@arminvanbuuren': 7487, '@arnteriksen': 7488, '@artyjill': 7489, '@ashemischief': 7490, '@ashleyymiller': 7491, '@ashumittal': 7492, '@ashwinn': 7493, '@aslanwrp': 7494, '@astheniarocks': 7495, '@astridaml': 7496, '@astrogirl426': 7497, '@atg': 7498, '@atheistium': 7499, '@atomicpoet': 7500, '@atubanos': 7501, '@auchentrae': 7502, '@audreygiselle': 7503, '@ausi1': 7504, '@aussieboby': 7505, '@austin_irl': 7506, '@avl94': 7507, '@awaltzforanight': 7508, '@awdawno': 7509, '@ayeashleigh': 7510, '@ayende': 7511, '@ayudevina': 7512, '@ayyaya': 7513, '@azaxacavabanama': 7514, '@azrillunatic': 7515, '@azsunshinegirl7': 7516, '@babyphat': 7517, '@badandy_kitykat': 7518, '@baditz17': 7519, '@badpony': 7520, '@baldeggie': 7521, '@bang2write': 7522, '@barbsrad': 7523, '@barker_g': 7524, '@bartelme': 7525, '@bashywah': 7526, '@battleborne': 7527, '@bbum': 7528, '@bbunderground': 7529, '@bcberrie': 7530, '@bealove': 7531, '@beatbutcha': 7532, '@beautiifulgirl': 7533, '@bebezed': 7534, '@beckym1985': 7535, '@bellaclara': 7536, '@bellacullenrpg': 7537, '@ben_hall': 7538, '@bengeeb': 7539, '@benjamin_cook': 7540, '@bentoset': 7541, '@bertawooster': 7542, '@bethie138': 7543, '@bethofalltrades': 7544, '@betsyweber': 7545, '@bews': 7546, '@bhbaddest': 7547, '@bibs4drips': 7548, '@biffgriff': 7549, '@bigdaws': 7550, '@billharper': 7551, '@billpalmer': 7552, '@billt': 7553, '@billythekid': 7554, '@bitchnotaperson': 7555, '@bizarre57': 7556, '@bkmacdaddy': 7557, '@blackoutsbox': 7558, '@blacksocialite': 7559, '@blakehealy': 7560, '@blakelewis': 7561, '@blatzliquor': 7562, '@bloodzillabilly': 7563, '@blueholly': 7564, '@blueparrot2': 7565, '@bndesign': 7566, '@bngr': 7567, '@boagworld': 7568, '@bobbryar': 7569, '@boltclock': 7570, '@bonesfan021': 7571, '@bourach': 7572, '@boygenius': 7573, '@bradhart': 7574, '@bradsabbath': 7575, '@brandiheyy': 7576, '@branhead4lyfe': 7577, '@brawngp_fanblog': 7578, '@brentlauren': 7579, '@brianangelday26': 7580, '@britruxpin': 7581, '@britt_mxgirl': 7582, '@brittanitaylor': 7583, '@brittanytastic': 7584, '@brittdeezy': 7585, '@brokensadly': 7586, '@bronte_saurus': 7587, '@bubzbeauty': 7588, '@bunnybridget': 7589, '@bustyrockets': 7590, '@buttercupd': 7591, '@bythekilowatt': 7592, '@bytor2112': 7593, '@caitlinaudrey': 7594, '@cakey': 7595, '@calypsominerals': 7596, '@canageek': 7597, '@candicotton': 7598, '@car4dave': 7599, '@caraandclo': 7600, '@carliecarrcrash': 7601, '@carlmayer': 7602, '@carlonicora': 7603, '@carmr': 7604, '@carpesomediem': 7605, '@carterronson': 7606, '@catatoniccat': 7607, '@cathybaron': 7608, '@cc_starr': 7609, '@cdlowell': 7610, '@ceetee': 7611, '@celticgirl1913': 7612, '@ceslsu': 7613, '@chamillionaire': 7614, '@charlii1': 7615, '@charmmydoll': 7616, '@chazdrums': 7617, '@chelseachan': 7618, '@chemicalbullets': 7619, '@chiacy': 7620, '@chicklet7': 7621, '@chipmunkartist': 7622, '@chods70': 7623, '@choebe': 7624, '@chold1': 7625, '@chrisblake': 7626, '@chrisefs': 7627, '@chrismibacache': 7628, '@ciaoamalfi': 7629, '@cidermaker': 7630, '@cimota': 7631, '@cjs_3': 7632, '@claireyjonesy': 7633, '@claudiamcfly': 7634, '@clumsyxheart': 7635, '@cnnbrk': 7636, '@cocoy': 7637, '@colbertobsessed': 7638, '@colbsi': 7639, '@coliwilso': 7640, '@collectormaniac': 7641, '@comcastcares': 7642, '@commnsensemoney': 7643, '@corie_michele': 7644, '@cortnee4christ': 7645, '@countroshculla': 7646, '@coyotetoo': 7647, '@craigyd': 7648, '@crazy_moon': 7649, '@crisbrown': 7650, '@crisilouise': 7651, '@crissangel': 7652, '@csquaredsmiles': 7653, '@hammer32': 7654, '@jonathanrknight': 7655, '@mitchelmusso': 7656, '@peterfacinelli': 7657, '@riandawson': 7658, '^-^': 7659, 'ab': 7660, 'aber': 7661, 'abis': 7662, 'academy': 7663, 'accents': 7664, 'achieve': 7665, 'acts': 7666, 'adds': 7667, 'addy': 7668, 'adopt': 7669, 'affair': 7670, 'affordable': 7671, 'ahha': 7672, 'ahhaha': 7673, 'aids': 7674, 'aiming': 7675, 'airlines': 7676, 'airplane': 7677, 'alam': 7678, 'alexa': 7679, 'all&quot': 7680, 'allows': 7681, 'aloe': 7682, 'aloud': 7683, 'alpha': 7684, 'amelia': 7685, 'among': 7686, 'amounts': 7687, 'anger': 7688, 'angle': 7689, 'animation': 7690, 'anthony': 7691, 'anticipating': 7692, 'apa': 7693, 'apology': 7694, 'appealing': 7695, 'appearance': 7696, 'appeared': 7697, 'applications': 7698, 'applying': 7699, 'arabic': 7700, 'aree': 7701, 'arguing': 7702, 'arrested': 7703, 'arrives': 7704, 'arsenal': 7705, 'arthur': 7706, 'artwork': 7707, 'asthma': 7708, 'atcha': 7709, 'atheist': 7710, 'attacking': 7711, 'attempts': 7712, 'auckland': 7713, 'authentic': 7714, 'authors': 7715, 'av': 7716, 'awee': 7717, 'awesomely': 7718, 'awwh': 7719, 'babysitter': 7720, 'back&quot': 7721, 'backpack': 7722, 'backstage': 7723, 'baha': 7724, 'balcony': 7725, 'baltimore': 7726, 'bamboo': 7727, 'barbie': 7728, 'barcelona': 7729, 'bare': 7730, 'basic': 7731, 'basket': 7732, 'bat': 7733, 'bbl': 7734, 'beaches': 7735, 'beaten': 7736, 'bebe': 7737, 'behalf': 7738, 'behavior': 7739, 'betas': 7740, 'bets': 7741, 'betting': 7742, 'biology': 7743, 'biting': 7744, 'bittersweet': 7745, 'bling': 7746, 'bnp': 7747, 'boats': 7748, 'bodies': 7749, 'boiled': 7750, 'bollocks': 7751, 'bonnie': 7752, 'bookmarked': 7753, 'bots': 7754, 'boxers': 7755, 'brazilwillmissmcfly': 7756, 'breast': 7757, 'breed': 7758, 'breeze': 7759, 'brett': 7760, 'brew': 7761, 'brief': 7762, 'broadcast': 7763, 'brownie': 7764, 'bulb': 7765, 'bullet': 7766, 'bullshit': 7767, 'bun': 7768, 'buses': 7769, 'buster': 7770, 'cal': 7771, 'cameras': 7772, 'campus': 7773, 'candle': 7774, 'candles': 7775, 'capital': 7776, 'carlisle': 7777, 'carlos': 7778, 'carly': 7779, 'castle': 7780, 'cba': 7781, 'chapters': 7782, 'charliecuntskies': 7783, 'charmed': 7784, 'che': 7785, 'cheat': 7786, 'cheesy': 7787, 'chet': 7788, 'chic': 7789, 'chickens': 7790, 'chief': 7791, 'chit': 7792, 'choke': 7793, 'chops': 7794, 'chuffed': 7795, 'cider': 7796, 'cinderella': 7797, 'cinnamon': 7798, 'clare': 7799, 'clarify': 7800, 'clarkson': 7801, 'classy': 7802, 'clay': 7803, 'clearing': 7804, 'climbing': 7805, 'clinic': 7806, 'closing': 7807, 'clothing': 7808, 'clubs': 7809, 'cocoa': 7810, 'coconut': 7811, 'cod': 7812, 'cola': 7813, 'colder': 7814, 'collapse': 7815, 'column': 7816, 'commented': 7817, 'commenting': 7818, 'commit': 7819, 'commitment': 7820, 'complex': 7821, 'confusion': 7822, 'congratulate': 7823, 'congratz': 7824, 'connor': 7825, 'construction': 7826, 'continued': 7827, 'cooks': 7828, 'cotton': 7829, 'courtney': 7830, 'cracking': 7831, 'cracks': 7832, 'crawling': 7833, 'creation': 7834, 'creativity': 7835, 'creek': 7836, 'cucumber': 7837, 'cult': 7838, 'cv': 7839, 'dairy': 7840, 'daisies': 7841, 'daisy': 7842, 'dancin': 7843, 'danger': 7844, 'darkness': 7845, 'database': 7846, 'dated': 7847, 'dawg': 7848, 'ddub': 7849, 'deciding': 7850, 'dedicated': 7851, 'deed': 7852, 'department': 7853, 'deprived': 7854, 'develop': 7855, 'diaper': 7856, 'diner': 7857, 'dint': 7858, 'dip': 7859, 'director': 7860, 'disappoint': 7861, 'discover': 7862, 'distraction': 7863, 'distractions': 7864, 'ditch': 7865, 'diva': 7866, 'dk': 7867, 'doggy': 7868, 'domestic': 7869, 'dorky': 7870, 'douchebag': 7871, 'doug': 7872, 'doughnuts': 7873, 'down&quot': 7874, 'downstairs': 7875, 'doyourememberwhen': 7876, 'dp': 7877, 'dq': 7878, 'dragged': 7879, 'dreadful': 7880, 'drowning': 7881, 'drummer': 7882, 'duran': 7883, 'dye': 7884, 'e71': 7885, 'earthquake': 7886, 'economics': 7887, 'eeek': 7888, 'efforts': 7889, 'ek': 7890, 'elderly': 7891, 'ele': 7892, 'elevator': 7893, 'eli': 7894, 'emailing': 7895, 'employee': 7896, 'entrance': 7897, 'equal': 7898, 'equivalent': 7899, 'erin': 7900, 'eu09': 7901, 'eve': 7902, 'existed': 7903, 'explode': 7904, 'explorer': 7905, 'exploring': 7906, 'faithful': 7907, 'familyforce5': 7908, 'fc': 7909, 'feat': 7910, 'feb': 7911, 'feck': 7912, 'fedex': 7913, 'feeds': 7914, 'fees': 7915, 'festivities': 7916, 'fewer': 7917, 'fights': 7918, 'filing': 7919, 'filter': 7920, 'fitting': 7921, 'flatley': 7922, 'flick': 7923, 'flops': 7924, 'fob': 7925, 'focused': 7926, 'fog': 7927, 'font': 7928, 'foo': 7929, 'fools': 7930, 'forehead': 7931, 'forms': 7932, 'fort': 7933, 'forth': 7934, 'foul': 7935, 'foundation': 7936, 'fountain': 7937, 'foward': 7938, 'freaked': 7939, 'freeze': 7940, 'frickin': 7941, 'fro': 7942, 'frogs': 7943, 'fruits': 7944, 'fu': 7945, 'fudge': 7946, 'functional': 7947, 'funn': 7948, 'fuqtwitter': 7949, 'fur': 7950, 'gabe': 7951, 'gahhh': 7952, 'gain': 7953, 'gaining': 7954, 'garbage': 7955, 'garlic': 7956, 'girl&quot': 7957, 'gl': 7958, 'gladly': 7959, 'globe': 7960, 'glory': 7961, 'glow': 7962, 'gnite': 7963, 'gokey': 7964, 'goodies': 7965, 'goooo': 7966, 'gooooood': 7967, 'graham': 7968, 'grandfather': 7969, 'grandparents': 7970, 'granted': 7971, 'graphics': 7972, 'gravy': 7973, 'greens': 7974, 'greys': 7975, 'grrrrr': 7976, 'grumpy': 7977, 'gues': 7978, 'guests': 7979, 'gummy': 7980, 'h8': 7981, 'hacking': 7982, 'hail': 7983, 'hairs': 7984, 'harold': 7985, \"havn't\": 7986, 'hawaiian': 7987, 'haz': 7988, 'heartbreaking': 7989, 'heartbroken': 7990, 'height': 7991, 'hellooo': 7992, 'henry': 7993, 'hid': 7994, 'hidden': 7995, 'hiii': 7996, 'himym': 7997, 'hippie': 7998, 'hk': 7999, 'hobbit': 8000, 'hoes': 8001, 'hoot': 8002, 'hopin': 8003, 'hopping': 8004, 'horrid': 8005, 'hosted': 8006, 'housewives': 8007, 'hq': 8008, 'htc': 8009, 'html': 8010, 'http://tweet.sg': 8011, 'hu': 8012, 'hub': 8013, 'hulk': 8014, 'hump': 8015, 'hunter': 8016, 'hurrah': 8017, 'hysterical': 8018, 'ick': 8019, 'ilove': 8020, 'imagined': 8021, 'immense': 8022, 'importantly': 8023, 'incident': 8024, 'increase': 8025, 'indoors': 8026, 'infinity': 8027, 'input': 8028, 'insert': 8029, 'insist': 8030, 'instance': 8031, 'insult': 8032, 'interact': 8033, 'interface': 8034, 'interrupted': 8035, 'invalid': 8036, 'involves': 8037, 'iraq': 8038, 'ironic': 8039, 'iya': 8040, 'jailbroken': 8041, 'jaime': 8042, 'jammin': 8043, 'jams': 8044, 'jan': 8045, 'jasper': 8046, 'jealousy': 8047, 'jennifer': 8048, 'jeremy': 8049, 'jerry': 8050, 'jewelry': 8051, 'joseph': 8052, 'journalist': 8053, 'jp': 8054, 'jungle': 8055, 'juz': 8056, 'karaoke': 8057, 'kathy': 8058, 'kb': 8059, 'keen': 8060, 'kevinjonas': 8061, 'kiddin': 8062, 'kiddos': 8063, 'kidnapped': 8064, 'kimmel': 8065, 'km': 8066, 'knees': 8067, 'knife': 8068, 'knocking': 8069, 'know&quot': 8070, 'krispy': 8071, 'labour': 8072, 'languages': 8073, 'lastfm': 8074, 'latter': 8075, 'laughter': 8076, 'leah': 8077, 'leather': 8078, 'lend': 8079, 'liars': 8080, 'liberal': 8081, 'liesgirlstell': 8082, 'lifes': 8083, 'lighting': 8084, 'lining': 8085, 'lit': 8086, 'livin': 8087, 'lk': 8088, 'llama': 8089, 'lng': 8090, 'loaded': 8091, 'loans': 8092, 'logging': 8093, 'looong': 8094, 'loove': 8095, 'losers': 8096, 'lottery': 8097, 'lotus': 8098, 'lovato': 8099, 'lucas': 8100, 'lung': 8101, 'maddie': 8102, 'mai': 8103, 'maintain': 8104, 'manhattan': 8105, 'marrying': 8106, 'mart': 8107, 'masters': 8108, 'mature': 8109, 'mau': 8110, 'mcd': 8111, 'mcflyforgermany': 8112, 'mcmahon': 8113, 'mcrchat': 8114, 'meaningful': 8115, 'melissa': 8116, 'messaged': 8117, 'messin': 8118, 'methinks': 8119, 'mice': 8120, 'microwave': 8121, 'milan': 8122, 'mimi': 8123, 'mir': 8124, 'miranda': 8125, 'misunderstanding': 8126, 'moan': 8127, 'mob': 8128, 'modern': 8129, 'moi': 8130, 'morgan': 8131, 'morgen': 8132, 'mortgage': 8133, 'mosquitos': 8134, 'moths': 8135, 'movement': 8136, 'muggy': 8137, 'murder': 8138, 'musta': 8139, 'nambu': 8140, 'naming': 8141, 'nascar': 8142, 'native': 8143, 'nearby': 8144, 'nerves': 8145, 'nest': 8146, 'netprophet': 8147, 'nhl': 8148, 'noah': 8149, 'norwegian': 8150, 'nuff': 8151, 'nursing': 8152, 'nvr': 8153, 'occupied': 8154, 'occurred': 8155, 'oddly': 8156, 'ohnotheydidnt': 8157, 'omgggg': 8158, 'oohh': 8159, 'opportunities': 8160, 'optimistic': 8161, 'ost': 8162, 'ought': 8163, 'outcome': 8164, 'outing': 8165, 'overcast': 8166, 'owen': 8167, 'owning': 8168, 'painkillers': 8169, 'paparazzi': 8170, 'paradise': 8171, 'partial': 8172, 'pat': 8173, 'patiently': 8174, 'paycheck': 8175, 'paypal': 8176, 'pb': 8177, 'peach': 8178, 'pencil': 8179, 'perfection': 8180, 'performer': 8181, 'phillies': 8182, 'phish': 8183, 'photog': 8184, 'photoshoot': 8185, 'pier': 8186, 'pin': 8187, 'pittsburgh': 8188, 'pjs': 8189, 'placed': 8190, 'planes': 8191, 'plants': 8192, 'platform': 8193, 'pleaseee': 8194, 'plugins': 8195, 'pms': 8196, 'poh': 8197, 'polish': 8198, 'pollution': 8199, 'poppy': 8200, 'popularity': 8201, 'popup': 8202, 'portfolio': 8203, 'positivity': 8204, 'poured': 8205, 'preferably': 8206, 'preferred': 8207, 'premium': 8208, 'pressing': 8209, 'priest': 8210, 'printing': 8211, 'prior': 8212, 'producer': 8213, 'profit': 8214, 'protest': 8215, 'ps2': 8216, 'psst': 8217, 'psycho': 8218, 'puerto': 8219, 'pump': 8220, 'python': 8221, 'qld': 8222, 'qualify': 8223, 'quot;as': 8224, 'quot;everyone': 8225, 'quot;god': 8226, 'quot;little': 8227, 'quot;not': 8228, 'quot;take': 8229, 'racing': 8230, 'rainbows': 8231, 'randy': 8232, 'rangers': 8233, 'rank': 8234, 'rates': 8235, 'rawr': 8236, 'realy': 8237, 'rebel': 8238, 'recall': 8239, 'recharge': 8240, 'recieved': 8241, 'recommending': 8242, 'registered': 8243, 'registration': 8244, 'rehearsal': 8245, 'rely': 8246, 'remembering': 8247, 'removing': 8248, 'repeating': 8249, 'resources': 8250, 'retreat': 8251, 'returning': 8252, 'rhubarb': 8253, 'rico': 8254, 'ringtone': 8255, 'rivers': 8256, 'rly': 8257, 'rotten': 8258, 'rpattz': 8259, 'rubber': 8260, 'rubbing': 8261, 'russell': 8262, 'sailor': 8263, 'samples': 8264, 'sandals': 8265, 'sassy': 8266, 'scan': 8267, 'scaring': 8268, 'scheduled': 8269, 'scooby': 8270, 'scores': 8271, 'scroll': 8272, 'secs': 8273, 'segment': 8274, 'sells': 8275, 'senses': 8276, 'sensitive': 8277, 'settled': 8278, 'severe': 8279, 'sexiest': 8280, 'sh*t': 8281, 'shave': 8282, 'shet': 8283, 'shhhh': 8284, 'shiz': 8285, 'shorty': 8286, 'shouting': 8287, 'showers': 8288, 'sidekick': 8289, 'sike': 8290, 'sinus': 8291, 'sits': 8292, 'sittin': 8293, 'sketch': 8294, 'skint': 8295, 'skipped': 8296, 'skirt': 8297, 'sleeve': 8298, 'sly': 8299, 'smoked': 8300, 'smokin': 8301, 'smoothies': 8302, 'snooze': 8303, 'snuggles': 8304, 'sobs': 8305, 'socal': 8306, 'sonny': 8307, 'soothing': 8308, 'sour': 8309, 'sources': 8310, 'sowwy': 8311, 'speeding': 8312, 'spencer': 8313, 'spontaneous': 8314, 'sporting': 8315, 'spose': 8316, 'sprinkles': 8317, 'spurs': 8318, 'stands': 8319, 'startrek': 8320, 'stella': 8321, 'stephanie': 8322, 'sticker': 8323, 'strangely': 8324, 'strangers': 8325, 'streak': 8326, 'string': 8327, 'studied': 8328, 'submitted': 8329, 'sucker': 8330, 'sucking': 8331, 'suggesting': 8332, 'suitable': 8333, 'summers': 8334, 'sumthin': 8335, 'sunburned': 8336, 'superb': 8337, 'supplies': 8338, 'supportive': 8339, 'supposedly': 8340, 'suprise': 8341, 'surf': 8342, 'surprising': 8343, 'svu': 8344, 'swearing': 8345, 'swineflu': 8346, 'switching': 8347, 'sympathies': 8348, 'symptoms': 8349, 'syndrome': 8350, 'sã': 8351, 'tables': 8352, 'tagging': 8353, 'talaga': 8354, 'talents': 8355, 'tango': 8356, 'task': 8357, 'tattoos': 8358, 'taxi': 8359, 'tbs': 8360, 'teens': 8361, 'tehe': 8362, 'terrifying': 8363, 'tethering': 8364, 'thas': 8365, 'theree': 8366, 'thirsty': 8367, 'thks': 8368, 'thnk': 8369, 'thumb': 8370, 'ti': 8371, 'tick': 8372, 'tin': 8373, 'tisdale': 8374, 'tmobile': 8375, 'tokiohotel': 8376, 'tomm': 8377, 'tomorrows': 8378, 'toms': 8379, 'toooooo': 8380, 'torrent': 8381, 'trail': 8382, 'trained': 8383, 'transition': 8384, 'transplant': 8385, 'travelling': 8386, 'treatment': 8387, 'trendy': 8388, 'triangle': 8389, 'tricked': 8390, 'tries': 8391, 'trophy': 8392, 'tuning': 8393, 'twenty': 8394, 'twitt': 8395, 'twitterer': 8396, 'twitterfox': 8397, 'tyler': 8398, 'typo': 8399, \"u've\": 8400, 'uhhh': 8401, 'ull': 8402, 'unlikely': 8403, 'unloved': 8404, 'upper': 8405, 'ustream': 8406, 'ut': 8407, 'uu': 8408, 'vaca': 8409, 'valid': 8410, 'velvet': 8411, 'vent': 8412, 'victims': 8413, 'victoria': 8414, 'victory': 8415, 'vinyl': 8416, 'visible': 8417, 'vomit': 8418, 'vs.': 8419, 'waits': 8420, 'wan': 8421, 'wardrobe': 8422, 'watering': 8423, 'wayy': 8424, \"we'll\": 8425, 'wearin': 8426, 'wears': 8427, 'webinar': 8428, 'webpage': 8429, 'weigh': 8430, 'weights': 8431, 'welcomed': 8432, 'wells': 8433, 'whining': 8434, 'whipped': 8435, 'whom': 8436, 'whoop': 8437, 'willy': 8438, 'witch': 8439, 'withdrawal': 8440, 'woe': 8441, 'wonderfully': 8442, 'wordcamp': 8443, 'workers': 8444, 'workshop': 8445, 'world&quot': 8446, 'worrying': 8447, 'worship': 8448, 'wuv': 8449, 'wwdc': 8450, \"y'day\": 8451, 'yarn': 8452, 'yayyyy': 8453, 'yehh': 8454, 'yelled': 8455, 'yelling': 8456, 'yepp': 8457, 'yh': 8458, \"you'll\": 8459, 'yuh': 8460, 'yuk': 8461, 'yung': 8462, 'ze': 8463, 'zune': 8464, 'â': 8465, 'â\\x80\\x94': 8466, 'ê': 8467, 'ê³': 8468, 'ð·ð': 8469, '..............': 8470, '.@blowhornoz': 8471, '.com': 8472, '02': 8473, '1000th': 8474, '100th': 8475, '10mins': 8476, '1999': 8477, '1k': 8478, '3breakupwords': 8479, '3oh!3': 8480, '43': 8481, '69': 8482, '78': 8483, '98': 8484, ':-*': 8485, ':o)': 8486, '@0boy': 8487, '@0summerbreeze0': 8488, '@1938media': 8489, '@1stladyel': 8490, '@24k': 8491, '@2serenity': 8492, '@31b4': 8493, '@3eg': 8494, '@3fingaz': 8495, '@3nalicious': 8496, '@4_idiots': 8497, '@5livef1': 8498, '@7726': 8499, '@80smusicthebest': 8500, '@__greer': 8501, '@__parasite': 8502, '@_aislinntighee': 8503, '@_alexajordan': 8504, '@_andrew_g': 8505, '@_angeline': 8506, '@_annee': 8507, '@_annie2': 8508, '@_bellacullen18': 8509, '@_dcnadii3': 8510, '@_dearangel_x': 8511, '@_designprincess': 8512, '@_elliee': 8513, '@_esquiva': 8514, '@_fatdad': 8515, '@_harrykim': 8516, '@_irene_adler': 8517, '@_jadelakeasha': 8518, '@_justmitch': 8519, '@_laertesgirl': 8520, '@_lenchen': 8521, '@_mikal': 8522, '@_nathy': 8523, '@_robpattinson': 8524, '@_sandbox': 8525, '@_smay': 8526, '@_veritas': 8527, '@a1o': 8528, '@a_c81': 8529, '@aah1981': 8530, '@aamyhaanson': 8531, '@aaronfuller': 8532, '@ab_p': 8533, '@abba_ks': 8534, '@abby105': 8535, '@abbybradz': 8536, '@abbyharenberg': 8537, '@abcdude': 8538, '@ableandgame': 8539, '@abooth202': 8540, '@abstractg': 8541, '@achitnis': 8542, '@achtungmusic': 8543, '@acowboyswife': 8544, '@adam_wr': 8545, '@adamjackson': 8546, '@adamleber': 8547, '@adamschwabe': 8548, '@adamtherealidol': 8549, '@addersop': 8550, '@adelgabot': 8551, '@adellecharles': 8552, '@adii': 8553, '@adiktusnine': 8554, '@adrenalynntoao': 8555, '@adrianhiggs': 8556, '@adrianlynch': 8557, '@adrianspencer': 8558, '@adrielhampton': 8559, '@aerocles': 8560, '@affirmingspirit': 8561, '@agthekid': 8562, '@ahsatanseesmcr': 8563, '@aiki14': 8564, '@aikku': 8565, '@aimecain': 8566, '@ainojonas': 8567, '@aish_star': 8568, '@ajibahajibah': 8569, '@ajmclean_team': 8570, '@ajsouthern': 8571, '@ajvampie': 8572, '@akianastasiou': 8573, '@akirarhymes': 8574, '@al3x': 8575, '@alaerys': 8576, '@alaina': 8577, '@alanajoy': 8578, '@alannahjc': 8579, '@alansheppard': 8580, '@albeitludicrous': 8581, '@albynomonk': 8582, '@alexandrakor': 8583, '@alexdscott': 8584, '@alexgisforme3': 8585, '@alexismarie23': 8586, '@alexisstar22': 8587, '@aleyrose': 8588, '@alfinahawaii': 8589, '@aliasgrace': 8590, '@alibalijeweller': 8591, '@alice_cullen53': 8592, '@aliceinnyc': 8593, '@aliciastacy3522': 8594, '@alithealien': 8595, '@alix_says': 8596, '@alliecine': 8597, '@allievalder13': 8598, '@allikatetor': 8599, '@allison': 8600, '@alllacqueredup': 8601, '@alltime_love': 8602, '@allybingham': 8603, '@allyeezy': 8604, '@alow8111': 8605, '@alpew': 8606, '@altimet': 8607, '@alwaysmiley': 8608, '@alysiabeard': 8609, '@alyssabarlow': 8610, '@amandaseyfried': 8611, '@amaren88': 8612, '@amarita77': 8613, '@amazingcircus': 8614, '@ambduckett': 8615, '@amberkissesx3': 8616, '@ambershine29': 8617, '@ameeface': 8618, '@amethystgurl07': 8619, '@amineb': 8620, '@ammadz': 8621, '@ampersandrea': 8622, '@amprgroup': 8623, '@amrosario': 8624, '@amu311bd': 8625, '@amykayodt': 8626, '@amylong': 8627, '@amys_bus_ticket': 8628, '@amysfinerthings': 8629, '@amyypee': 8630, '@an_other': 8631, '@ana_xo': 8632, '@anaalove': 8633, '@anaizz': 8634, '@anambanana': 8635, '@andiraa': 8636, '@andreayager': 8637, '@andrewsayer': 8638, '@andy065': 8639, '@andycrash': 8640, '@andygoulding': 8641, '@andypiper': 8642, '@andysc': 8643, '@anefallarme': 8644, '@angelic_rebel2': 8645, '@angelistic': 8646, '@angelivxxx': 8647, '@angelonfire': 8648, '@angieg75': 8649, '@angieodt': 8650, '@angiewarren': 8651, '@anhicaluvsjonas': 8652, '@animadi': 8653, '@animoenzo': 8654, '@ann_donnelly': 8655, '@annabadtzmaru': 8656, '@annabellamalone': 8657, '@annaliese_sarah': 8658, '@annamariapdt': 8659, '@annekinla': 8660, '@anniemacdj': 8661, '@anniething1': 8662, '@anoela1336': 8663, '@anoopan': 8664, '@anothera': 8665, '@antdeshawn': 8666, '@antsrants': 8667, '@anyamanda': 8668, '@aparthotel': 8669, '@apothecaryjeri': 8670, '@applexlove': 8671, '@aprilknob': 8672, '@aquaruby': 8673, '@arabidopsis': 8674, '@aravindjose': 8675, '@ardeming': 8676, '@areucrazy': 8677, '@ariixarii': 8678, '@armywife515': 8679, '@art_news': 8680, '@artagnon': 8681, '@artfirejohn': 8682, '@artistiquemeg': 8683, '@arturclancy': 8684, '@artythecat': 8685, '@artywah': 8686, '@asaakira': 8687, '@asdavis10': 8688, '@ash_riot': 8689, '@ashesborn': 8690, '@ashlarr': 8691, '@ashley_nk': 8692, '@ashleyemma': 8693, '@ashthebeliever': 8694, '@ashyjonas': 8695, '@asilverdream': 8696, '@asos_efe': 8697, '@astridcallista': 8698, '@atlprincess': 8699, '@atrak': 8700, '@atrocity79': 8701, '@atslady': 8702, '@audio_rush': 8703, '@audnumber': 8704, '@aur1': 8705, '@aurik': 8706, '@aurorajo': 8707, '@aussie__chick': 8708, '@aussie_at_heart': 8709, '@austin_butler': 8710, '@avidbookreader': 8711, '@awalliewall': 8712, '@awesomeful': 8713, '@ayeshabilqis': 8714, '@ayliya': 8715, '@ayubella': 8716, '@ayvii': 8717, '@azblueeyes': 8718, '@azizansari': 8719, '@azzyheartsw': 8720, '@b1ng0bang0': 8721, '@b_jizzle': 8722, '@babyharoldk': 8723, '@babypatches': 8724, '@babystray': 8725, '@badassyella': 8726, '@baddestnla': 8727, '@badsuperhero': 8728, '@bagussoo': 8729, '@bagwaa': 8730, '@baileemarshall': 8731, '@baileyboo93': 8732, '@balaji_dutt': 8733, '@balderkongen': 8734, '@balebabe66': 8735, '@balmeras': 8736, '@bamaisme': 8737, '@bambiblue': 8738, '@bambosh': 8739, '@baneen': 8740, '@banilla_face': 8741, '@barney21': 8742, '@barneybaby': 8743, '@barrysnedden': 8744, '@batmannn': 8745, '@batteredhaggis': 8746, '@batyasmusic': 8747, '@beanz4life': 8748, '@beateveronica': 8749, '@beauche': 8750, '@bebeld': 8751, '@beela_arg': 8752, '@beilaq_sodmq': 8753, '@bella456': 8754, '@bellabellini': 8755, '@belladonna20': 8756, '@bellakavner98': 8757, '@ben_stiller': 8758, '@benjaminellis': 8759, '@benjibrum': 8760, '@benlimphoto': 8761, '@bet33': 8762, '@bethanpie': 8763, '@bethanyinfl': 8764, '@betterislittle': 8765, '@bevclement': 8766, '@big_tone': 8767, '@bigenya': 8768, '@biggc': 8769, '@binarylife': 8770, '@binncheol': 8771, '@binnsy': 8772, '@bioncaaa': 8773, '@bisforbecca': 8774, '@bjblyth': 8775, '@blackdarkness51': 8776, '@blak4ever': 8777, '@blanquis26': 8778, '@blcsfo': 8779, '@blipfish': 8780, '@blue_cupcakes': 8781, '@blue_rose': 8782, '@bluntnate': 8783, '@blwbyrd': 8784, '@bograma': 8785, '@boilerfan_98': 8786, '@bonbbyjess': 8787, '@bones_fans': 8788, '@bonniestwit': 8789, '@boomboombetty': 8790, '@boomdelirium': 8791, '@boomstone': 8792, '@boomx17': 8793, '@booshtukka': 8794, '@bosintobin': 8795, '@bpdinokc': 8796, '@bradjward': 8797, '@bradleyf81': 8798, '@brajana': 8799, '@brantanamo': 8800, '@braveheart133': 8801, '@breatheheavycom': 8802, '@breeawnuhh': 8803, '@brendajos': 8804, '@brentbolthouse': 8805, '@brianwelburn': 8806, '@britneezy': 8807, '@brittanya69': 8808, '@brittkay': 8809, '@brittoncampbell': 8810, '@brokepimpstyles': 8811, '@bronte1068': 8812, '@brookebanx': 8813, '@brucehoult': 8814, '@bryceavary': 8815, '@brypie': 8816, '@bsbsavedmylife': 8817, '@bt1914': 8818, '@bubble_gum_xox': 8819, '@buddalunch': 8820, '@buddinggenius': 8821, '@buildabear96': 8822, '@burninup4ubabyy': 8823, '@bw101': 8824, '@cabbiepat': 8825, '@caffeinesparks': 8826, '@caitlin182': 8827, '@caitliness': 8828, '@caliblondie': 8829, '@caliszfinest': 8830, '@cambie': 8831, '@cameo1172': 8832, '@camera_obscura': 8833, '@cameronolivier': 8834, '@camilleprats': 8835, '@candy156sweet': 8836, '@candyland3': 8837, '@candypants2': 8838, '@candysnap': 8839, '@captainjack63': 8840, '@captainkazz': 8841, '@carissagrace': 8842, '@carlacharisse': 8843, '@carlohilton': 8844, '@carocat': 8845, '@carousella': 8846, '@carriehartford': 8847, '@carrotmadman6': 8848, '@casiestewart': 8849, '@cassiduncan': 8850, '@cassiefx': 8851, '@catdog03': 8852, '@catherineld': 8853, '@cathrynmarie': 8854, '@catiams': 8855, '@catwmn13': 8856, '@cazashton': 8857, '@celinehlbk': 8858, '@cessii': 8859, '@chactingnyc': 8860, '@challyzatb': 8861, '@char_sos': 8862, '@char_x3': 8863, '@charavel': 8864, '@charchaos': 8865, '@charlenebx': 8866, '@charleypearson': 8867, '@chattyman': 8868, '@chelzmae': 8869, '@chemerf': 8870, '@cherrybun': 8871, '@cherye101': 8872, '@cheryltheartist': 8873, '@cheryltiu': 8874, '@chickenstudios': 8875, '@chicrunner': 8876, '@childhood': 8877, '@chilvia': 8878, '@chinablue79': 8879, '@chioma': 8880, '@chrisbosh': 8881, '@chriseyb': 8882, '@chrisryanmusic': 8883, '@christay0102': 8884, '@christian0386': 8885, '@christinaxobaby': 8886, '@christyxcore': 8887, '@chromasia': 8888, '@chrystalljane': 8889, '@chunkofplastic': 8890, '@ciararenee': 8891, '@cincauhangus': 8892, '@cindyoyo': 8893, '@cinemabizarre': 8894, '@claireeee09': 8895, '@claudia10': 8896, '@claudiagmodel': 8897, '@claudiajordan': 8898, '@clicktokill': 8899, '@clintonsparks': 8900, '@cloudconnected': 8901, '@coachcharrise': 8902, '@codelust': 8903, '@colesprouse1': 8904, '@comfypaws': 8905, '@complexity': 8906, '@contendo': 8907, '@cookiiemonstaar': 8908, '@coonassdotcom': 8909, '@corinh': 8910, '@costavidafred': 8911, '@costus': 8912, '@couchsurfingori': 8913, '@counternotions': 8914, '@courtcosmetics': 8915, '@cow_grrrl': 8916, '@craftymamaof4': 8917, '@craziixlovee': 8918, '@creativewolf': 8919, '@cresh182': 8920, '@crimpomatic': 8921, '@crisr': 8922, '@cristalthegreat': 8923, '@crixlee': 8924, '@crossstitcher': 8925, '@cryswinchester': 8926, '@donniewahlberg': 8927, '@feliciaday': 8928, '@fossiloflife': 8929, '@oprah': 8930, '@retrorewind': 8931, '@zackalltimelow': 8932, 'aaahh': 8933, 'aaww': 8934, 'aawww': 8935, 'abba': 8936, 'abroad': 8937, 'ach': 8938, 'activated': 8939, 'actors': 8940, 'adams': 8941, 'addresses': 8942, 'adelaide': 8943, 'admin': 8944, 'administration': 8945, 'advertise': 8946, 'ady': 8947, 'affiliate': 8948, 'again&quot': 8949, 'aged': 8950, 'agh': 8951, 'agreement': 8952, 'ahmadinejad': 8953, 'ahold': 8954, 'aion': 8955, 'aired': 8956, 'aires': 8957, 'airing': 8958, 'airports': 8959, 'alexis': 8960, 'alicia': 8961, 'alley': 8962, 'allie': 8963, 'aloha': 8964, 'alt': 8965, 'aly': 8966, 'amd': 8967, 'analysis': 8968, 'anatomy': 8969, 'andre': 8970, 'angst': 8971, 'angus': 8972, 'aniko': 8973, 'ano': 8974, 'antibiotics': 8975, 'anyhoo': 8976, 'anythin': 8977, 'appeal': 8978, 'appetite': 8979, 'applies': 8980, 'aquarium': 8981, 'arghhh': 8982, 'asher': 8983, 'ashes': 8984, 'assholes': 8985, 'assistance': 8986, 'assumed': 8987, 'assumption': 8988, 'att': 8989, 'attended': 8990, 'attending': 8991, 'aug': 8992, 'auntie': 8993, 'aunts': 8994, 'aussies': 8995, 'autumn': 8996, 'ava': 8997, 'ave': 8998, 'avid': 8999, 'awesomee': 9000, 'awfully': 9001, 'awwwwwwwww': 9002, 'baaad': 9003, 'bachelorette': 9004, 'badger': 9005, 'badminton': 9006, 'bamboozle': 9007, 'bandwidth': 9008, 'bash': 9009, 'bashing': 9010, 'bathing': 9011, 'batter': 9012, 'bcoz': 9013, 'bcuz': 9014, 'beads': 9015, 'beard': 9016, 'beatwittyparty': 9017, 'bees': 9018, 'believed': 9019, 'belle': 9020, 'beverly': 9021, 'biscuit': 9022, 'biz': 9023, 'bj': 9024, 'blahh': 9025, 'blender': 9026, 'blockbuster': 9027, 'blogged': 9028, 'bloom': 9029, 'bloopers': 9030, 'blunt': 9031, 'blushing': 9032, 'bmore': 9033, 'bonjour': 9034, 'bonkers': 9035, 'boob': 9036, 'boost': 9037, 'borders': 9038, 'bouncy': 9039, 'br': 9040, 'brains': 9041, 'brb': 9042, 'bree': 9043, 'bribe': 9044, 'brick': 9045, 'brill': 9046, 'broadway': 9047, 'brooks': 9048, 'browse': 9049, 'browsers': 9050, 'browsing': 9051, 'buh': 9052, 'bulls': 9053, 'bumper': 9054, 'bums': 9055, 'bunnies': 9056, 'business&quot': 9057, 'buttercup': 9058, 'cambridge': 9059, 'camden': 9060, 'can`t': 9061, 'candid': 9062, 'cannot': 9063, 'canï¿½t': 9064, 'capped': 9065, 'cardboard': 9066, 'carpet': 9067, 'carpool': 9068, 'carrot': 9069, 'carrots': 9070, 'carson': 9071, 'casa': 9072, 'cassie': 9073, 'casting': 9074, 'category': 9075, 'caved': 9076, 'cebu': 9077, 'certificate': 9078, 'charges': 9079, 'charm': 9080, 'chart': 9081, 'chase': 9082, 'chased': 9083, 'chaz': 9084, 'chilled': 9085, 'chloe': 9086, 'choco': 9087, 'choosing': 9088, 'chopped': 9089, 'choreography': 9090, 'chunky': 9091, 'ci': 9092, 'ciara': 9093, 'cigarette': 9094, 'citizen': 9095, 'cjbaran&lt;3': 9096, 'clapping': 9097, 'cld': 9098, 'climate': 9099, 'closely': 9100, 'closure': 9101, 'clubbing': 9102, 'clues': 9103, 'coaches': 9104, 'cobra': 9105, 'cocktail': 9106, 'colleague': 9107, 'colleagues': 9108, 'colored': 9109, 'comedian': 9110, 'competitive': 9111, 'complaints': 9112, 'completly': 9113, 'compose': 9114, 'conditioner': 9115, 'cone': 9116, 'confession': 9117, 'confessions': 9118, 'confidence': 9119, 'congratulation': 9120, 'cons': 9121, 'consolation': 9122, 'conspiracy': 9123, 'contribute': 9124, 'controller': 9125, 'convert': 9126, 'cottage': 9127, 'council': 9128, 'coupon': 9129, 'couture': 9130, 'crab': 9131, 'cracker': 9132, 'crackin': 9133, 'craziest': 9134, 'craziness': 9135, 'credits': 9136, 'creeps': 9137, 'creme': 9138, 'crisis': 9139, 'crotch': 9140, 'crowded': 9141, 'cuddly': 9142, 'cullen': 9143, 'cunt': 9144, 'cuppa': 9145, 'curls': 9146, \"d'oh\": 9147, 'damaged': 9148, 'dancer': 9149, 'danke': 9150, 'dannygokeyislove': 9151, 'davis': 9152, 'daycare': 9153, 'daytona': 9154, 'debut': 9155, 'decline': 9156, 'decorating': 9157, 'deets': 9158, 'defense': 9159, 'delightful': 9160, 'denial': 9161, 'dental': 9162, 'derby': 9163, 'des': 9164, 'designers': 9165, 'destroyed': 9166, 'detail': 9167, 'developed': 9168, 'developer': 9169, 'developers': 9170, 'dey': 9171, 'diamond': 9172, 'diapers': 9173, 'dire': 9174, 'directed': 9175, 'disabled': 9176, 'discussing': 9177, 'dishwasher': 9178, 'disk': 9179, 'disorder': 9180, 'disrespect': 9181, 'distract': 9182, 'distracting': 9183, 'distraught': 9184, 'ditched': 9185, 'dive': 9186, 'divine': 9187, 'diy': 9188, 'djing': 9189, 'dmb': 9190, 'do&quot': 9191, 'doggies': 9192, 'dollface': 9193, 'dood': 9194, 'doomed': 9195, 'dough': 9196, 'dover': 9197, 'downloads': 9198, 'downtime': 9199, 'dozen': 9200, 'dragons': 9201, 'dre': 9202, 'dreamer': 9203, 'drift': 9204, 'drill': 9205, 'drinker': 9206, 'driveway': 9207, 'drivin': 9208, 'drools': 9209, 'drumming': 9210, 'dsi': 9211, 'dumbass': 9212, 'dunkin': 9213, 'dwight': 9214, 'dwn': 9215, 'eagerly': 9216, 'earrings': 9217, 'echelonday': 9218, 'eclipse': 9219, 'eeee': 9220, 'elephant': 9221, 'elephants': 9222, 'eliminated': 9223, 'elizabeth': 9224, 'ellie': 9225, 'elsewhere': 9226, 'elvis': 9227, 'emotionally': 9228, 'empire': 9229, 'enjoyin': 9230, 'entering': 9231, 'entitled': 9232, 'environment': 9233, 'equipment': 9234, 'erase': 9235, 'erased': 9236, 'erica': 9237, 'errands': 9238, 'est': 9239, 'evidence': 9240, 'ewwww': 9241, 'excuses': 9242, 'executive': 9243, 'exotic': 9244, 'experts': 9245, 'expired': 9246, 'explaining': 9247, 'extend': 9248, 'extended': 9249, 'ey': 9250, 'f*ck': 9251, 'face&quot': 9252, 'faced': 9253, 'fakes': 9254, 'fanclub': 9255, 'farmer': 9256, 'fart': 9257, 'fatal': 9258, 'featuring': 9259, 'february': 9260, 'fellas': 9261, 'fetish': 9262, 'ffs': 9263, 'fiber': 9264, 'fictional': 9265, 'fields': 9266, 'fifa': 9267, 'fifth': 9268, 'fighter': 9269, 'figures': 9270, 'fios': 9271, 'firm': 9272, 'fives': 9273, 'flexible': 9274, 'flood': 9275, 'flooding': 9276, 'flop': 9277, 'foolish': 9278, 'forbid': 9279, 'forcing': 9280, 'forreal': 9281, 'forwarding': 9282, 'fourth': 9283, 'frame': 9284, 'freaks': 9285, 'freelance': 9286, 'frequently': 9287, 'friend&quot': 9288, 'friendfeed': 9289, 'frown': 9290, 'froze': 9291, 'frustration': 9292, 'fucker': 9293, 'funding': 9294, 'funk': 9295, \"g'nite\": 9296, 'gardening': 9297, 'gateway': 9298, 'gawd': 9299, 'gem': 9300, 'gentle': 9301, 'gentlemen': 9302, 'gh': 9303, 'ghetto': 9304, 'ghostbusters': 9305, 'gi': 9306, 'giants': 9307, 'gibson': 9308, 'gifted': 9309, 'gina': 9310, 'giveaways': 9311, 'givin': 9312, 'gk': 9313, 'glee': 9314, 'glitch': 9315, 'gluten': 9316, 'gma': 9317, 'gnome': 9318, 'goals': 9319, \"goin'\": 9320, 'goodnights': 9321, 'gooey': 9322, 'goof': 9323, 'goose': 9324, 'gordon': 9325, 'gota': 9326, 'goth': 9327, 'gpa': 9328, 'grabe': 9329, 'gracias': 9330, 'graffiti': 9331, 'granny': 9332, 'grapes': 9333, 'grats': 9334, 'gravel': 9335, 'griffin': 9336, 'groceries': 9337, 'groove': 9338, 'grounds': 9339, 'grove': 9340, 'gt;.&gt': 9341, 'gtalk': 9342, 'gucci': 9343, 'guyz': 9344, 'h&amp;m': 9345, 'hahahaa': 9346, 'hahahahahaha': 9347, 'haiku': 9348, 'hairdresser': 9349, 'hallelujah': 9350, 'hallo': 9351, 'hamilton': 9352, 'han': 9353, 'handles': 9354, 'handwriting': 9355, 'hangout': 9356, 'happybdaykrisallen': 9357, 'hardy': 9358, 'harlem': 9359, 'hatin': 9360, 'haunted': 9361, 'havent': 9362, 'headin': 9363, 'heart&quot': 9364, 'heartbeat': 9365, 'heartburn': 9366, 'hebrew': 9367, 'hectic': 9368, 'heeeey': 9369, 'helluva': 9370, 'here&quot': 9371, 'hers': 9372, 'heyyyyy': 9373, 'hhaha': 9374, 'hideous': 9375, 'hihihi': 9376, 'hindi': 9377, 'holdin': 9378, 'holes': 9379, 'holler': 9380, 'homer': 9381, 'hong': 9382, 'hooo': 9383, 'hopeful': 9384, 'horizon': 9385, 'horn': 9386, 'http://bit.ly/h01jg': 9387, 'http://promotion.itagg.com': 9388, 'http://twitpic.com/675s8': 9389, 'huggles': 9390, 'hulu': 9391, 'hush': 9392, \"i'mma\": 9393, 'ideal': 9394, 'ike': 9395, 'imac': 9396, 'immature': 9397, 'in&quot': 9398, 'income': 9399, 'ini': 9400, 'innit': 9401, 'insects': 9402, 'inspire': 9403, 'inspires': 9404, 'int': 9405, 'intend': 9406, 'intention': 9407, 'intern': 9408, 'internets': 9409, 'interviewed': 9410, 'intrigued': 9411, 'intriguing': 9412, 'invent': 9413, 'investment': 9414, 'ir': 9415, 'irritated': 9416, 'is&quot': 9417, 'isle': 9418, 'isp': 9419, 'israel': 9420, 'it`s': 9421, 'iâ\\x80\\x99m': 9422, 'jai': 9423, 'jamaica': 9424, 'jasmine': 9425, 'jenn': 9426, 'jenna': 9427, 'jensen': 9428, 'jerks': 9429, 'joel': 9430, 'jonathan': 9431, 'jose': 9432, 'journal': 9433, 'jt': 9434, 'juan': 9435, 'jumps': 9436, 'junior': 9437, 'jupiter': 9438, 'jury': 9439, 'kami': 9440, 'katy': 9441, 'keith': 9442, 'ken': 9443, 'kenny': 9444, 'keri': 9445, 'kfc': 9446, 'khamenei': 9447, 'kidney': 9448, 'kinky': 9449, 'kita': 9450, 'knooow': 9451, 'knoow': 9452, 'kreme': 9453, 'ktbspa': 9454, 'ky': 9455, 'kyte': 9456, 'l8': 9457, 'l8r': 9458, 'labor': 9459, 'lacking': 9460, 'lad': 9461, 'lag': 9462, 'lahore': 9463, 'lancaster': 9464, 'landlord': 9465, 'lane': 9466, 'larger': 9467, 'lastnight': 9468, 'laters': 9469, 'laura': 9470, 'lawrence': 9471, 'lea': 9472, 'lectures': 9473, 'led': 9474, 'lego': 9475, 'lesser': 9476, 'li': 9477, 'lifted': 9478, 'lifting': 9479, 'lightening': 9480, 'lilly': 9481, 'linda': 9482, 'linkedin': 9483, 'locally': 9484, 'locals': 9485, 'lola': 9486, 'lololol': 9487, 'lone': 9488, 'lookout': 9489, 'looool': 9490, 'loooong': 9491, 'loooool': 9492, 'lori': 9493, 'lotta': 9494, 'lotto': 9495, 'lou': 9496, 'lov': 9497, 'loverly': 9498, 'loveyou': 9499, \"lovin'\": 9500, 'loyal': 9501, 'lr': 9502, 'lungs': 9503, 'luvs': 9504, 'lvl': 9505, 'lyk': 9506, 'mafia': 9507, 'manly': 9508, 'manners': 9509, 'maple': 9510, 'marco': 9511, 'margaret': 9512, 'margaritas': 9513, 'marilyn': 9514, 'matching': 9515, 'maui': 9516, 'mayo': 9517, 'me-': 9518, 'melb': 9519, 'mellow': 9520, 'melody': 9521, 'membership': 9522, 'memphis': 9523, 'mentally': 9524, 'mermaid': 9525, 'messaging': 9526, 'messes': 9527, 'metabolism': 9528, 'micro': 9529, 'mii': 9530, 'mill': 9531, 'millions': 9532, 'milwaukee': 9533, 'mint': 9534, 'mis': 9535, 'mistaken': 9536, 'mitchell': 9537, 'mixtape': 9538, 'mn': 9539, 'moar': 9540, 'mobiles': 9541, 'mocha': 9542, 'mojo': 9543, 'mommas': 9544, 'monty': 9545, 'moo': 9546, 'mop': 9547, 'moral': 9548, 'mos': 9549, 'motorcycle': 9550, 'motto': 9551, 'mow': 9552, 'mp': 9553, 'mt': 9554, 'mu': 9555, 'mumbai': 9556, 'muscles': 9557, 'musicmondays': 9558, 'musso': 9559, 'mustache': 9560, 'naa': 9561, 'naah': 9562, 'nancy': 9563, 'naptime': 9564, 'naturally': 9565, 'navigation': 9566, 'nawww': 9567, 'nemo': 9568, 'nevr': 9569, 'nicky': 9570, 'night&quot': 9571, 'niiice': 9572, 'no.1': 9573, 'nomore': 9574, 'nonsense': 9575, 'noodle': 9576, \"nothin'\": 9577, 'nova': 9578, 'nsfw': 9579, 'nsw': 9580, 'nude': 9581, 'nuthin': 9582, 'nuttin': 9583, 'oak': 9584, 'obnoxious': 9585, 'obsession': 9586, 'obv': 9587, 'octopus': 9588, 'offend': 9589, 'officer': 9590, 'offices': 9591, 'ohyeswedid': 9592, 'oldies': 9593, 'omd': 9594, 'omgg': 9595, 'operation': 9596, 'opps': 9597, 'opt': 9598, 'oreo': 9599, 'osx': 9600, 'outa': 9601, 'outdoors': 9602, 'outt': 9603, 'overcome': 9604, 'overdue': 9605, 'overload': 9606, 'overtime': 9607, 'overworked': 9608, 'owww': 9609, 'oxygen': 9610, 'paige': 9611, 'paintings': 9612, 'palette': 9613, 'pals': 9614, 'pam': 9615, 'panama': 9616, 'pandas': 9617, 'paperwork': 9618, 'para': 9619, 'parang': 9620, 'paranormal': 9621, 'parliament': 9622, 'partners': 9623, 'paso': 9624, 'passengers': 9625, 'pdf': 9626, 'pedi': 9627, 'penguin': 9628, 'permission': 9629, 'permits': 9630, 'persuade': 9631, 'pff': 9632, 'phrases': 9633, 'phx': 9634, 'pimpin': 9635, 'pine': 9636, 'pinkberry': 9637, 'pj': 9638, 'plaza': 9639, 'pmsl': 9640, 'pokes': 9641, 'political': 9642, 'pond': 9643, 'pony': 9644, 'pooh': 9645, 'poorly': 9646, 'porch': 9647, 'portraits': 9648, 'portugal': 9649, 'pose': 9650, 'postman': 9651, 'pp': 9652, 'practical': 9653, 'premier': 9654, 'preordered': 9655, 'pressed': 9656, 'previews': 9657, 'pricey': 9658, 'pricks': 9659, 'prints': 9660, 'procedure': 9661, 'prof': 9662, 'profiles': 9663, 'prog': 9664, 'programs': 9665, 'promises': 9666, 'promising': 9667, 'promoted': 9668, 'promotion': 9669, 'pronto': 9670, 'proposal': 9671, 'provider': 9672, 'pst': 9673, 'psychology': 9674, 'publishing': 9675, 'pudding': 9676, 'pumpkin': 9677, 'purdy': 9678, 'pyramid': 9679, 'qs': 9680, 'queens': 9681, 'quicker': 9682, 'quot;dont': 9683, 'quot;drag': 9684, 'quot;find': 9685, 'quot;hello&quot': 9686, \"quot;i'll\": 9687, 'quot;lost&quot': 9688, 'quot;only': 9689, 'quot;today': 9690, 'r.i.p.': 9691, 'ra': 9692, 'radiohead': 9693, 'rae': 9694, 'raid': 9695, 'ralph': 9696, 'ratio': 9697, 'rays': 9698, 'razor': 9699, 'rc': 9700, 'realistic': 9701, 'reallly': 9702, 'reals': 9703, 'rear': 9704, 'rebuild': 9705, 'rec': 9706, 'reco': 9707, 'recognized': 9708, 'recon': 9709, 'redbull': 9710, 'refuses': 9711, 'reinstall': 9712, 'reinstalling': 9713, 'reject': 9714, 'releases': 9715, 'religious': 9716, 'reminiscing': 9717, 'remote': 9718, 'renting': 9719, 'replacing': 9720, 'replay': 9721, 'reporting': 9722, 'represent': 9723, 'reps': 9724, 'republic': 9725, 'reruns': 9726, 'rescued': 9727, 'reserve': 9728, 'resident': 9729, 'resolution': 9730, 'resource': 9731, 'responses': 9732, 'retard': 9733, 'retire': 9734, 'reviewed': 9735, 'revised': 9736, 'reward': 9737, 'rhymes': 9738, 'ricky': 9739, 'rihanna': 9740, 'ringing': 9741, 'rn': 9742, 'robots': 9743, 'rochester': 9744, 'rockstar': 9745, 'rod': 9746, 'roflmao': 9747, 'rolled': 9748, 'roman': 9749, 'ron': 9750, 'rooms': 9751, 'ruining': 9752, 'rum': 9753, 'rumors': 9754, 'runnin': 9755, 'sacred': 9756, 'sadd': 9757, 'saint': 9758, 'sakit': 9759, 'samsung': 9760, 'sandy': 9761, 'sane': 9762, 'sass': 9763, 'satellite': 9764, 'saves': 9765, 'scanning': 9766, 'scar': 9767, 'scheme': 9768, 'sega': 9769, 'select': 9770, 'seniors': 9771, 'sentences': 9772, 'sesh': 9773, 'shady': 9774, 'shampoo': 9775, 'shan': 9776, 'shannon': 9777, 'shitting': 9778, 'shoots': 9779, 'shouts': 9780, 'showered': 9781, 'shuld': 9782, 'shush': 9783, 'shuttle': 9784, 'sideways': 9785, 'sig': 9786, 'silent': 9787, 'silk': 9788, 'simpler': 9789, 'simpsons': 9790, 'sincere': 9791, 'sitter': 9792, 'skiing': 9793, 'skins': 9794, 'sla2009': 9795, 'slam': 9796, 'slang': 9797, 'sleeeep': 9798, 'slides': 9799, 'slight': 9800, 'slightest': 9801, 'slipped': 9802, 'slurpee': 9803, 'smokes': 9804, 'snails': 9805, 'sock': 9806, 'sooooon': 9807, 'soooooon': 9808, 'sooooooo': 9809, 'sorryyy': 9810, 'sorting': 9811, 'spammer': 9812, 'span': 9813, 'specialist': 9814, 'spinning': 9815, 'splash': 9816, 'spock': 9817, 'spoilt': 9818, 'spongebob': 9819, 'spoons': 9820, 'sport': 9821, 'spotted': 9822, 'squad': 9823, 'srs': 9824, 'stalked': 9825, 'stations': 9826, 'steals': 9827, 'steel': 9828, 'stevie': 9829, 'stiff': 9830, 'sting': 9831, 'stinky': 9832, 'stoopid': 9833, 'stove': 9834, 'strings': 9835, 'stubborn': 9836, 'stunned': 9837, 'stupidly': 9838, 'stylist': 9839, 'subscribed': 9840, 'subscription': 9841, 'sung': 9842, 'sunset': 9843, 'superstar': 9844, 'supporter': 9845, 'surprises': 9846, 'swallow': 9847, 'swamped': 9848, 'sweatpants': 9849, 'sweep': 9850, 'sweetness': 9851, 'swore': 9852, 'synced': 9853, 't20': 9854, 't4': 9855, 't_t': 9856, 'tabby': 9857, 'tai': 9858, 'tak': 9859, 'tale': 9860, 'tara': 9861, 'tasking': 9862, 'tattooed': 9863, 'taurus': 9864, 'taxes': 9865, 'td': 9866, 'teaser': 9867, 'telstra': 9868, 'temperature': 9869, 'temporary': 9870, 'terrified': 9871, 'terry': 9872, 'thankies': 9873, 'thanking': 9874, 'thankss': 9875, 'that&quot': 9876, 'theaters': 9877, 'thighs': 9878, 'threadless': 9879, 'threatening': 9880, 'thrillbilly': 9881, 'thrilling': 9882, 'tia': 9883, 'tickle': 9884, 'tighter': 9885, 'tights': 9886, 'titles': 9887, 'todo': 9888, 'toll': 9889, 'tomatoes': 9890, 'tomorro': 9891, 'tonights': 9892, 'toothache': 9893, 'tornado': 9894, 'tourists': 9895, 'toward': 9896, 'towers': 9897, 'traumatic': 9898, 'travels': 9899, 'trio': 9900, 'trivia': 9901, 'trueblood': 9902, 'truffles': 9903, 'tshirt': 9904, 'twas': 9905, 'twat': 9906, 'tweeties': 9907, 'twitterland': 9908, 'twitterworld': 9909, 'twitts': 9910, 'twpp': 9911, 'twugs': 9912, 'txts': 9913, 'tym': 9914, 'tyra': 9915, 'u.s': 9916, 'ultra': 9917, 'und': 9918, 'underrated': 9919, 'understatement': 9920, 'unfollowing': 9921, 'unite': 9922, 'unnecessary': 9923, 'unpacking': 9924, 'unsure': 9925, 'unwell': 9926, 'upbeat': 9927, 'upgrades': 9928, 'urge': 9929, 'veg': 9930, 'vegetables': 9931, 'verse': 9932, 'vibe': 9933, 'vic': 9934, 'violent': 9935, 'violin': 9936, 'vocab': 9937, 'vocal': 9938, 'vocals': 9939, 'vodafone': 9940, 'voicemail': 9941, 'vol': 9942, 'w8': 9943, 'waaaay': 9944, 'wade': 9945, 'wal': 9946, 'wayyy': 9947, 'wayyyy': 9948, 'weddings': 9949, 'weds': 9950, 'weep': 9951, 'wembley': 9952, 'wha': 9953, 'whatevs': 9954, 'whisky': 9955, 'whistle': 9956, 'whn': 9957, 'whoot': 9958, 'win7': 9959, 'wired': 9960, 'wisconsin': 9961, 'wkd': 9962, 'woooo': 9963, 'wooooo': 9964, 'wooow': 9965, 'worms': 9966, 'worthless': 9967, 'wrapped': 9968, 'wrist': 9969, 'writechat': 9970, 'wuu2': 9971, 'x3': 9972, 'xxxxxxxxxxx': 9973, \"y'all\": 9974, \"y'know\": 9975, 'yahhh': 9976, 'yan': 9977, 'yap': 9978, 'yas': 9979, 'yeaaaah': 9980, 'yeaaah': 9981, 'yearbook': 9982, 'yeay': 9983, 'youuuuu': 9984, 'youï¿½re': 9985, 'yummm': 9986, 'yummmy': 9987, 'yun': 9988, 'yupp': 9989, 'zurich': 9990, 'ã': 9991, 'ï¿½25': 9992, 'ð½ð¾': 9993}\n"
          ],
          "name": "stdout"
        }
      ]
    },
    {
      "cell_type": "markdown",
      "metadata": {
        "id": "lkqBO139cHsI",
        "colab_type": "text"
      },
      "source": [
        "#### Testing the `Iterator`"
      ]
    },
    {
      "cell_type": "code",
      "metadata": {
        "id": "B4KRqwjJWXth",
        "colab_type": "code",
        "outputId": "f830971f-861a-482d-e186-20caddb9aa22",
        "colab": {
          "base_uri": "https://localhost:8080/",
          "height": 153
        }
      },
      "source": [
        "train_iterator = Iterator(train_data, batch_size=32)\n",
        "train_iterator = iter(train_iterator)\n",
        "\n",
        "batch = next(train_iterator)\n",
        "\n",
        "batch_input = batch.input\n",
        "\n",
        "print(batch_input.shape)\n",
        "\n",
        "print(batch_input)"
      ],
      "execution_count": 0,
      "outputs": [
        {
          "output_type": "stream",
          "text": [
            "torch.Size([32, 34])\n",
            "tensor([[  28,  184,    0,  ...,    1,    1,    1],\n",
            "        [8671,    2,   79,  ...,    1,    1,    1],\n",
            "        [2237,  204,    6,  ...,    1,    1,    1],\n",
            "        ...,\n",
            "        [   0,    2,    0,  ...,    1,    1,    1],\n",
            "        [   0,   97,   22,  ...,    1,    1,    1],\n",
            "        [   0,   85,    2,  ...,    1,    1,    1]])\n"
          ],
          "name": "stdout"
        }
      ]
    },
    {
      "cell_type": "markdown",
      "metadata": {
        "id": "BV8a-52tbGbc",
        "colab_type": "text"
      },
      "source": [
        "### Building the RNN classifier"
      ]
    },
    {
      "cell_type": "code",
      "metadata": {
        "id": "KXL_i4-Va53V",
        "colab_type": "code",
        "colab": {}
      },
      "source": [
        "class SequenceClassifier(nn.Module):\n",
        "    def __init__(self, input_dim, emb_dim, pretrained_emb, hidden_dim, num_layers, bidirectional, dropout, device):\n",
        "        super().__init__()\n",
        "        \n",
        "        self.input_dim = input_dim\n",
        "        self.emb_dim = emb_dim\n",
        "        self.hidden_dim = hidden_dim\n",
        "        self.num_layers = num_layers\n",
        "        self.num_direction = 2 if bidirectional else 1\n",
        "        self.device = device\n",
        "        \n",
        "        self.embedding = nn.Embedding(input_dim, emb_dim)\n",
        "        if pretrained_emb is not None:\n",
        "            self.embedding.weight.data.copy_(pretrained_emb)\n",
        "            self.embedding.weight.requires_grad = False # make embedding non trainable\n",
        "        \n",
        "        self.rnn = nn.LSTM(emb_dim, hidden_dim, num_layers, bidirectional=bidirectional, dropout=dropout, batch_first=True)\n",
        "        \n",
        "        self.classifier = nn.Sequential(\n",
        "            nn.Linear(hidden_dim * 2, 1),\n",
        "            nn.Sigmoid()\n",
        "        )\n",
        "        \n",
        "        self.dropout = nn.Dropout(dropout)\n",
        "        \n",
        "    def forward(self, batch_input):\n",
        "        \"\"\"\n",
        "        :param batch_input: batch of shape (`batch_size`, `sentence_lenght`)\n",
        "        \"\"\"\n",
        "        batch_size = batch_input.shape[0]\n",
        "        sentence_lenght = batch_input.shape[1]\n",
        "        \n",
        "        embedded = self.dropout(self.embedding(batch_input))  # `embedded `shape = (sentence_lenght, batch_size, embedding_dim)\n",
        "        \n",
        "        assert embedded.size() == torch.Size([batch_size, sentence_lenght, self.emb_dim]), \\\n",
        "            f'{embedded.size()} != {torch.Size([batch_size, sentence_lenght, self.emb_dim])}'\n",
        "\n",
        "        outputs, (hidden, cell) = self.rnn(embedded)  # `outputs` shape = (sentence_lenght, batch_size, hidden_dim)\n",
        "                                                      # `hidden` shape = (n_layers, batch_size, hidden_dim)\n",
        "                                                      # `cell` shape = (n_layers, batch_size, hidden_dim)\n",
        "                \n",
        "        assert hidden.size() == torch.Size([self.num_layers * self.num_direction, batch_size, self.hidden_dim]), \\\n",
        "            f'{hidden.size()} != {torch.Size([self.num_layers * self.num_direction, batch_size, self.hidden_dim])}'\n",
        "                \n",
        "        code = torch.cat([hidden[-1], hidden[-2]], 1)\n",
        "        \n",
        "        assert code.size() == torch.Size([batch_size, 2 * self.hidden_dim]), f'{code.size()} != {torch.Size([batch_size, 2 * self.hidden_dim])}'\n",
        "        \n",
        "        code = self.dropout(code)\n",
        "        \n",
        "        outputs = self.classifier(code).squeeze()\n",
        "        \n",
        "        assert outputs.size() == torch.Size([batch_size]), f\"{outputs.size()} != {torch.Size([batch_size])}\"\n",
        "        \n",
        "        return outputs"
      ],
      "execution_count": 0,
      "outputs": []
    },
    {
      "cell_type": "code",
      "metadata": {
        "id": "V9XvwVZOleQA",
        "colab_type": "code",
        "colab": {}
      },
      "source": [
        "def evaluate(model, iterator, criterion, device):\n",
        "    \n",
        "    model.eval()\n",
        "    \n",
        "    targets, predictions = [], []\n",
        "    epoch_loss = 0\n",
        "    \n",
        "    with torch.no_grad():\n",
        "    \n",
        "        for batch in iterator:\n",
        "\n",
        "            batch_input = batch.input.to(device)\n",
        "            batch_label = batch.label.to(device)\n",
        "\n",
        "            batch_proba = model(batch_input)\n",
        "            assert batch_label.shape == batch_proba.shape, f'{batch_label.shape} != {output.shape}'\n",
        "            \n",
        "            # compute and store batch predictions\n",
        "            batch_prediction = batch_proba.cpu().numpy()\n",
        "            batch_prediction[batch_prediction < 0.5] = 0\n",
        "            batch_prediction[batch_prediction > 0.5] = 1\n",
        "            batch_prediction[batch_prediction == 0.5] = random.randint(0, 1)\n",
        "            \n",
        "            predictions.extend([y for y in batch_prediction])\n",
        "            targets.extend([y for y in batch_label.cpu().numpy()])\n",
        "            \n",
        "            loss = criterion(batch_proba, batch_label.float())\n",
        "            epoch_loss += loss.item()\n",
        "    \n",
        "    epoch_loss = epoch_loss / len(iterator)\n",
        "    epoch_acc = accuracy_score(targets, predictions)\n",
        "    \n",
        "    return epoch_loss, epoch_acc"
      ],
      "execution_count": 0,
      "outputs": []
    },
    {
      "cell_type": "code",
      "metadata": {
        "id": "SxM89TN5mSMj",
        "colab_type": "code",
        "colab": {}
      },
      "source": [
        "def train_iteration(model, iterator, optimizer, criterion, device):\n",
        "    \n",
        "    model.train()\n",
        "    \n",
        "    for i, batch in enumerate(iterator):\n",
        "        \n",
        "        optimizer.zero_grad()\n",
        "        \n",
        "        batch_input = batch.input.to(device)\n",
        "        batch_label = batch.label.to(device)\n",
        "        \n",
        "        output = model(batch_input)\n",
        "        \n",
        "        assert batch_label.shape == output.shape, f'{batch_label.shape} != {output.shape}'\n",
        "        \n",
        "        loss = criterion(output, batch_label)\n",
        "        \n",
        "        loss.backward()\n",
        "        \n",
        "        optimizer.step()"
      ],
      "execution_count": 0,
      "outputs": []
    },
    {
      "cell_type": "code",
      "metadata": {
        "id": "Q_iOa0jEsd5m",
        "colab_type": "code",
        "colab": {}
      },
      "source": [
        "def epoch_time(start_time, end_time):\n",
        "    elapsed_time = end_time - start_time\n",
        "    elapsed_mins = int(elapsed_time / 60)\n",
        "    elapsed_secs = int(elapsed_time - (elapsed_mins * 60))\n",
        "    return elapsed_mins, elapsed_secs"
      ],
      "execution_count": 0,
      "outputs": []
    },
    {
      "cell_type": "code",
      "metadata": {
        "id": "JQNDtElYAS3s",
        "colab_type": "code",
        "colab": {}
      },
      "source": [
        "def init_weights(m):\n",
        "    for name, param in m.named_parameters():\n",
        "        nn.init.uniform_(param.data, -0.08, 0.08)"
      ],
      "execution_count": 0,
      "outputs": []
    },
    {
      "cell_type": "code",
      "metadata": {
        "id": "AgSxkGSPA5wb",
        "colab_type": "code",
        "colab": {}
      },
      "source": [
        "def count_parameters(model):\n",
        "    return sum(p.numel() for p in model.parameters() if p.requires_grad)"
      ],
      "execution_count": 0,
      "outputs": []
    },
    {
      "cell_type": "code",
      "metadata": {
        "id": "OOygJUueUjxW",
        "colab_type": "code",
        "colab": {}
      },
      "source": [
        "input_field = Field(sequential=True, tokenize=tokenizer, pad_token='<pad>', unk_token='<unk>', lower=True, batch_first=True)\n",
        "label_field = Field(sequential=False, use_vocab=False, is_target=True, unk_token=None, batch_first=True, dtype=torch.float32)\n",
        "\n",
        "fields = {'SentimentText': ('input', input_field), 'Sentiment': ('label', label_field)}\n",
        "\n",
        "train_data = TabularDataset(path=constants.TRAIN_PATH, format='csv', fields=fields)\n",
        "valid_data = TabularDataset(path=constants.VALID_PATH, format='csv', fields=fields)\n",
        "test_data = TabularDataset(path=constants.TEST_PATH, format='csv', fields=fields)\n",
        "\n",
        "input_field.build_vocab(train_data, min_freq=5, vectors=\"glove.6B.100d\")"
      ],
      "execution_count": 0,
      "outputs": []
    },
    {
      "cell_type": "code",
      "metadata": {
        "id": "Nts4b-I7cZ98",
        "colab_type": "code",
        "outputId": "0affae54-56ec-4f5d-9952-f6e04813a452",
        "colab": {
          "base_uri": "https://localhost:8080/",
          "height": 34
        }
      },
      "source": [
        "INPUT_DIM = len(input_field.vocab)\n",
        "EMB_DIM = 100\n",
        "HID_DIM = 256\n",
        "NUM_LAYERS = 2\n",
        "ENC_DROPOUT = 0.5\n",
        "N_EPOCHS = 10\n",
        "BATCH_SIZE = 32\n",
        "BIDIRECTIONAL = True\n",
        "pretrained_embeddings = input_field.vocab.vectors\n",
        "\n",
        "model = SequenceClassifier(input_dim=INPUT_DIM, \n",
        "                           emb_dim=EMB_DIM, \n",
        "                           pretrained_emb=pretrained_embeddings, \n",
        "                           hidden_dim=HID_DIM, \n",
        "                           num_layers=NUM_LAYERS, \n",
        "                           bidirectional=BIDIRECTIONAL,\n",
        "                           dropout=ENC_DROPOUT, device=constants.DEVICE)\n",
        "model.to(constants.DEVICE)\n",
        "model.apply(init_weights)\n",
        "\n",
        "\n",
        "optimizer = optim.Adam(model.parameters(), lr=0.0005)\n",
        "criterion = nn.BCELoss()\n",
        "\n",
        "print(f'The model has {count_parameters(model):,} trainable parameters')"
      ],
      "execution_count": 0,
      "outputs": [
        {
          "output_type": "stream",
          "text": [
            "The model has 2,310,657 trainable parameters\n"
          ],
          "name": "stdout"
        }
      ]
    },
    {
      "cell_type": "code",
      "metadata": {
        "id": "Zh2nAF-ysJYG",
        "colab_type": "code",
        "colab": {}
      },
      "source": [
        "train_iterator = Iterator(train_data, batch_size=BATCH_SIZE, device=constants.DEVICE)\n",
        "valid_iterator = Iterator(valid_data, batch_size=512, device=constants.DEVICE)\n",
        "test_iterator = Iterator(test_data, batch_size=512)"
      ],
      "execution_count": 0,
      "outputs": []
    },
    {
      "cell_type": "code",
      "metadata": {
        "id": "bUP95DHgroJX",
        "colab_type": "code",
        "outputId": "d2c1baee-6425-40df-c315-e8fc568b6396",
        "colab": {
          "base_uri": "https://localhost:8080/",
          "height": 187
        }
      },
      "source": [
        "best_valid_loss = float('Inf')\n",
        "\n",
        "for epoch in range(N_EPOCHS):\n",
        "    \n",
        "    start_time = time.time()\n",
        "    \n",
        "    train_iteration(model, train_iterator, optimizer, criterion, constants.DEVICE)\n",
        "    \n",
        "    if (epoch + 1) % 1 == 0:  \n",
        "        train_loss, train_acc = evaluate(model, train_iterator, criterion, constants.DEVICE)\n",
        "        valid_loss, valid_acc = evaluate(model, valid_iterator, criterion, constants.DEVICE)\n",
        "\n",
        "        end_time = time.time()\n",
        "\n",
        "        epoch_mins, epoch_secs = epoch_time(start_time, end_time)\n",
        "\n",
        "        if valid_loss < best_valid_loss:\n",
        "            best_valid_loss = valid_loss\n",
        "            torch.save(model.state_dict(), 'tut1-model.pt')\n",
        "\n",
        "        print(f'Epoch: {epoch+1:02} | Time: {epoch_mins}m {epoch_secs}s | Train Loss: {train_loss:.3f} | Train Acc.: {train_acc:.2f} | Val. Loss: {valid_loss:.3f} |  Val. Acc.: {valid_acc:.2f}')"
      ],
      "execution_count": 0,
      "outputs": [
        {
          "output_type": "stream",
          "text": [
            "Epoch: 01 | Time: 0m 35s | Train Loss: 0.627 | Train Acc.: 0.64 | Val. Loss: 0.630 |  Val. Acc.: 0.64\n",
            "Epoch: 02 | Time: 0m 34s | Train Loss: 0.612 | Train Acc.: 0.66 | Val. Loss: 0.615 |  Val. Acc.: 0.66\n",
            "Epoch: 03 | Time: 0m 35s | Train Loss: 0.602 | Train Acc.: 0.68 | Val. Loss: 0.604 |  Val. Acc.: 0.67\n",
            "Epoch: 04 | Time: 0m 35s | Train Loss: 0.595 | Train Acc.: 0.67 | Val. Loss: 0.598 |  Val. Acc.: 0.67\n",
            "Epoch: 05 | Time: 0m 35s | Train Loss: 0.578 | Train Acc.: 0.69 | Val. Loss: 0.584 |  Val. Acc.: 0.69\n",
            "Epoch: 06 | Time: 0m 35s | Train Loss: 0.554 | Train Acc.: 0.71 | Val. Loss: 0.559 |  Val. Acc.: 0.70\n",
            "Epoch: 07 | Time: 0m 35s | Train Loss: 0.550 | Train Acc.: 0.72 | Val. Loss: 0.556 |  Val. Acc.: 0.71\n",
            "Epoch: 08 | Time: 0m 35s | Train Loss: 0.550 | Train Acc.: 0.71 | Val. Loss: 0.555 |  Val. Acc.: 0.71\n",
            "Epoch: 09 | Time: 0m 35s | Train Loss: 0.542 | Train Acc.: 0.71 | Val. Loss: 0.555 |  Val. Acc.: 0.70\n",
            "Epoch: 10 | Time: 0m 35s | Train Loss: 0.531 | Train Acc.: 0.73 | Val. Loss: 0.544 |  Val. Acc.: 0.71\n"
          ],
          "name": "stdout"
        }
      ]
    },
    {
      "cell_type": "code",
      "metadata": {
        "id": "hv2X_4J5Phge",
        "colab_type": "code",
        "colab": {}
      },
      "source": [
        "# DO NOT RUN THIS UNTIL YOU ARE SURE ABOUT YOUR HYPERPARAMETERS; THERE IS NO GOING BACK ;)\n",
        "# model.load_state_dict(torch.load('tut1-model.pt'))\n",
        "# evaluate(model, test_iterator, criterion, constants.DEVICE)"
      ],
      "execution_count": 0,
      "outputs": []
    }
  ]
}